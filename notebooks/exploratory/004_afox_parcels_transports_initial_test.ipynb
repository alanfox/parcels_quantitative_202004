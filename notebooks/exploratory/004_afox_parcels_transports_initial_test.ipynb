{
 "cells": [
  {
   "cell_type": "markdown",
   "metadata": {
    "slideshow": {
     "slide_type": "slide"
    }
   },
   "source": [
    "# Quantify transports across Iceland-Faroe Ridge by source and destination\n",
    "\n",
    "The idea here is to use Lagrangian particle tracks to quantify model volume transports from the North Atlantic into the Arctic seas by source. This is partly motivated by an idea of Stuart's that 'all' the water heading north between Greenland-Iceland-Shetland goes through the Rockall Trough (with the northward transport west of the Rockall Bank circulating in the subpolar gyre).\n",
    "\n",
    "I've started with the Iceland-Faroes Ridge (IFR) section. This is partly just because I have an 'emotional attachment' to the IFR having spent my first postdoc modelling it, and partly because I figured if Stuart is wrong, the transport across the IFR is likely where it will show up.\n",
    "\n",
    "Obviously it is easier to quantify transports across sections from the model just by straight eulerian calculation, but even if this is done over the whole boundary of a closed volume it doesn't give you the pathways through the volume. A 3D streamfunction would be another possibility but that doesn't seem straightforward.\n",
    "\n",
    "The basic idea is that each particle tracked represents a streamtube (I have no diffusion in the tracking). The volume transport along that streamtube is constant at any point along the length and determined by the transport where it crosses IFR. This we get by a simple calculation of cross-sectional area x velocity across the section.\n",
    "\n",
    "Particles are positioned randomly in 2D along a section from Iceland to Faroes, then the same particles are tracked backwards for 2 years for sources and forwards for 6 months for destinations.\n",
    "\n",
    "This is done using OceanParcels tracking software and Viking20x model fields on GEOMAR servers via python Jupyter notebooks. This notebook has the analysis of the tracks, the notebook running Parcels is separate. This is currently just testing the method, how many particles might be needed for robust results, most efficient initial particle distributions, etc.\n",
    "\n",
    "The transport quantities are at the very end. 2000 particles across the section seems to give OK results but ideally might want more - s.d. in total transport across IFR of maybe 10-20% by selecting a different random 2000 particles. Also this is just a snapshot (though using monthly means). With a few (<10) different crossing times I've seen total transports between 2 and 7 Sv, so with 2000 particles sampling errors probably small compared to variability.\n",
    "\n",
    "The results for 2016 shown here suggest that of the 6.5 Sv crossing IFR 0.6 Sv came through Rockall Trough, with most of the rest coming north west of Rockall Bank, and about 0.5 Sv where I haven't identified the source. My initial feeling from other years is that most of the variability is in the flow from W of Rockall Bank with always around 0.5 Sv through Rockall Trough.\n",
    "\n",
    "I haven't looked at Faroe-Shetland Channel yet, so this is only part (and probably the smaller part) of the northward flow in NE Atlantic towards Arctic.\n",
    "\n",
    "So, here we\n",
    "- load lagrangian trajectory data that has been written by OceanParcels from particle tracking in Viking20x model (currently using monthly mean fields for speed)\n",
    "    - particles tracked from a section across IFR\n",
    "    - random release points along section\n",
    "    - tracked forward for 6 months to id destinations\n",
    "    - tracked backwards for 2 years to id sources\n",
    "- plot sections\n",
    "- plot trajectories\n",
    "- subset trajectories based on source and destination\n",
    "- estimate transports\n",
    "\n",
    "Transports associated with different pathways are estimated by assuming that each particle crossing IFR has an associated volume transport, which it maintains throughout its life, given by the \n",
    "                velocity across the section * total cross-sectional area / number of particles\n",
    "So like a streamtube...    "
   ]
  },
  {
   "cell_type": "markdown",
   "metadata": {
    "slideshow": {
     "slide_type": "slide"
    }
   },
   "source": [
    "## To do\n",
    "\n",
    "- calculate section area properly \n",
    "- explore sensitivity to particle numbers and random seed (i.e. do I have enough particles)\n",
    "- calculate true transport across section in model\n",
    "- not selecting ocean particles properly near bed - partial cells\n",
    "- fix time units on track plots"
   ]
  },
  {
   "cell_type": "markdown",
   "metadata": {},
   "source": [
    "## Technical preamble"
   ]
  },
  {
   "cell_type": "code",
   "execution_count": null,
   "metadata": {},
   "outputs": [],
   "source": [
    "%matplotlib inline\n",
    "\n",
    "import matplotlib.colors as colors\n",
    "import numpy as np\n",
    "from pathlib import Path\n",
    "import matplotlib.pyplot as plt\n",
    "import xarray as xr\n",
    "from datetime import datetime, timedelta\n",
    "import seaborn as sns\n",
    "from matplotlib.colors import ListedColormap\n",
    "\n"
   ]
  },
  {
   "cell_type": "code",
   "execution_count": null,
   "metadata": {},
   "outputs": [],
   "source": [
    "plt.rcParams['figure.figsize'] = [20, 7]\n",
    "plt.rcParams.update({'font.size': 17})"
   ]
  },
  {
   "cell_type": "code",
   "execution_count": null,
   "metadata": {},
   "outputs": [],
   "source": [
    "## Parameters\n",
    "# Project path\n",
    "project_path = Path.cwd() / '..' / '..' \n",
    "project_path = project_path.resolve()\n",
    "\n",
    "# project_path = Path(\"C:/Users/sa05af/OneDrive - SAMS/Projects/parcels_quantitative_202004/\")\n",
    "\n",
    "# Parcels track data file\n",
    "path_data_tracks = Path(\"data/processed/tracks/TransportInitialTest/\") \n",
    "filename_FSC = \"test_forward_FSC_2016\"\n",
    "filename_IFR = \"test_forward_IFR_2016\"\n",
    "\n",
    "# model mask file\n",
    "data_path = Path(\"data/external/iAtlantic/\")\n",
    "experiment_name = \"VIKING20X.L46-KKG36107B\"\n",
    "nParticles = 4000.0\n",
    "\n",
    "\n",
    "#velocity conversions on FSC (61N)\n",
    "\n",
    "lat2metres_FSC = 60.0*1852.0\n",
    "lon2metres_FSC = 60.0*1852.0*np.cos(np.radians(61.0))\n",
    "\n",
    "sealandratio_FSC = 5591.0/20000.0\n",
    "sectionAreaEW_FSC = 5.7 * 1500.0 * sealandratio_FSC * lon2metres_FSC  # very approx. mean depth x length between slopes.\n",
    "sectionAreaNS_FSC = 1.87 * 1500.0 * sealandratio_FSC * lat2metres_FSC\n",
    "\n",
    "#velocity conversions on IFR (63.5N)\n",
    "\n",
    "lat2metres_IFR = 60.0*1852.0\n",
    "lon2metres_IFR = 60.0*1852.0*np.cos(np.radians(63.5))\n",
    "\n",
    "sealandratio_IFR = 9308.0/20000.0\n",
    "sectionAreaEW_IFR = 7.0 * 700.0 * sealandratio_IFR * lon2metres_IFR  # very approx. mean depth x length between slopes.\n",
    "sectionAreaNS_IFR = 2.8 * 700.0 * sealandratio_IFR * lat2metres_IFR\n"
   ]
  },
  {
   "cell_type": "markdown",
   "metadata": {},
   "source": [
    "## Load data"
   ]
  },
  {
   "cell_type": "markdown",
   "metadata": {},
   "source": [
    "## Estimate transports through FSC and IFR"
   ]
  },
  {
   "cell_type": "code",
   "execution_count": null,
   "metadata": {},
   "outputs": [],
   "source": [
    "files_tracks_FSC = (project_path / path_data_tracks ).glob(f\"{filename_FSC}*.nc\")\n",
    "files_tracks_FSC = list(files_tracks_FSC)\n",
    "files_tracks_IFR = (project_path / path_data_tracks ).glob(f\"{filename_IFR}*.nc\")\n",
    "files_tracks_IFR = list(files_tracks_IFR)\n",
    "\n"
   ]
  },
  {
   "cell_type": "code",
   "execution_count": null,
   "metadata": {},
   "outputs": [],
   "source": [
    "transports_FSC = np.zeros(12)\n",
    "print(transports_FSC)\n",
    "for i in range(12):\n",
    "    trackfile_FSC = files_tracks_FSC[i]\n",
    "    ds = xr.open_dataset(trackfile_FSC)\n",
    "    transports_FSC[i] = ((sectionAreaEW_FSC*ds.isel(obs=0).vvel*lat2metres_FSC +\n",
    "                            sectionAreaNS_FSC*ds.isel(obs=0).uvel*lon2metres_FSC)/nParticles).sum().data\n",
    "print(transports_FSC)\n",
    "\n",
    "transports_IFR = np.zeros(12)\n",
    "print(transports_IFR)\n",
    "for i in range(12):\n",
    "    trackfile_IFR = files_tracks_IFR[i]\n",
    "    ds = xr.open_dataset(trackfile_IFR)\n",
    "    transports_IFR[i] = ((sectionAreaEW_IFR*ds.isel(obs=0).vvel*lat2metres_IFR +\n",
    "                            sectionAreaNS_IFR*ds.isel(obs=0).uvel*lon2metres_IFR)/nParticles).sum().data\n",
    "print(transports_IFR)\n"
   ]
  },
  {
   "cell_type": "code",
   "execution_count": null,
   "metadata": {},
   "outputs": [],
   "source": [
    "plt.plot((transports_IFR + transports_FSC)/1000000.0,label = 'all')\n",
    "plt.plot(transports_IFR/1000000.0,label = 'IFR')\n",
    "plt.plot(transports_FSC/1000000.0,label = 'FSC')\n",
    "plt.ylabel(\"Northward Volume transport (Sv)\")\n",
    "plt.xlabel(\"Month\")\n",
    "plt.ylim(0,8)\n",
    "plt.legend();\n"
   ]
  },
  {
   "cell_type": "code",
   "execution_count": null,
   "metadata": {},
   "outputs": [],
   "source": []
  }
 ],
 "metadata": {
  "kernelspec": {
   "display_name": "Python 3",
   "language": "python",
   "name": "python3"
  },
  "language_info": {
   "codemirror_mode": {
    "name": "ipython",
    "version": 3
   },
   "file_extension": ".py",
   "mimetype": "text/x-python",
   "name": "python",
   "nbconvert_exporter": "python",
   "pygments_lexer": "ipython3",
   "version": "3.7.6"
  }
 },
 "nbformat": 4,
 "nbformat_minor": 4
}
