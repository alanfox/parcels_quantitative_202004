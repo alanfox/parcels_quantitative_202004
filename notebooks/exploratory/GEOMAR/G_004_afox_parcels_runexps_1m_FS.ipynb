{
 "cells": [
  {
   "cell_type": "markdown",
   "metadata": {},
   "source": [
    "# Parcels Experiment:<br><br>Spawning larvae across the Faroe-Shetland channel\n",
    "\n",
    "_(Based on an experiment originally designed by Christina Schmidt.)_\n",
    "\n",
    "_(Runs on GEOMAR Jupyter Server at https://schulung3.geomar.de/user/workshop007/lab)_"
   ]
  },
  {
   "cell_type": "markdown",
   "metadata": {},
   "source": [
    "## To do\n",
    "\n",
    "- Check/ask how OceanParcels deals with partial cells, if it does.\n",
    "- Shouldn't need to check all of T,u,v to find if particles are in the bed, but I do.\n",
    "- Check/ask about dates on monthly mean fields."
   ]
  },
  {
   "cell_type": "markdown",
   "metadata": {},
   "source": [
    "## Technical preamble"
   ]
  },
  {
   "cell_type": "code",
   "execution_count": 1,
   "metadata": {},
   "outputs": [],
   "source": [
    "%matplotlib inline\n",
    "\n",
    "from parcels import (\n",
    "    AdvectionRK4_3D,\n",
    "    ErrorCode,\n",
    "    FieldSet,\n",
    "    JITParticle,\n",
    "    ParticleSet,\n",
    "    Variable\n",
    ")\n",
    "\n",
    "# from operator import attrgetter\n",
    "from datetime import datetime, timedelta\n",
    "import numpy as np\n",
    "from pathlib import Path\n",
    "import matplotlib.pyplot as plt\n",
    "# import xarray as xr\n"
   ]
  },
  {
   "cell_type": "markdown",
   "metadata": {},
   "source": [
    "## Experiment settings (user input)\n",
    "\n",
    "See [010_Parcels_Release.ipynb](010_Parcels_Release.ipynb) for details on the position of the particles on the ridge."
   ]
  },
  {
   "cell_type": "code",
   "execution_count": 2,
   "metadata": {},
   "outputs": [
    {
     "name": "stdout",
     "output_type": "stream",
     "text": [
      "1_VIKING20X.L46-KKG36107B_1m_201[4-7]*_grid_U.nc\n"
     ]
    }
   ],
   "source": [
    "\n",
    "# Line across Faroe-Sheltland channel\n",
    "\n",
    "west_lat = 62.2\n",
    "east_lat = 60.33\n",
    "west_lon = -7\n",
    "east_lon = -1.3\n",
    "\n",
    "min_release_depth = 0\n",
    "max_release_depth = 1500\n",
    "\n",
    "# release numbers\n",
    "create_number_particles = 20000  # about half will not be ocean points, then take first 2000.\n",
    "use_number_particles = 4000  # about half will not be ocean points, then take first 2000.\n",
    "# number_particles = 500  # about half will not be ocean points, then take first 2000.\n",
    "# release_time_in_days = 5\n",
    "\n",
    "# experiment duration etc\n",
    "runtime_in_days = 2\n",
    "dt_in_minutes = 10\n",
    "# repeatdt = timedelta(days=3)\n",
    "\n",
    "# set base release date and time\n",
    "t_0 = t = datetime(2014,1,16,12,0,0)  # using monthly mean fields. Check dates.\n",
    "t_start = datetime(2016,12,16,12,0,0)\n",
    "\n",
    "# loop over single year of model data\n",
    "time_loop_period = timedelta(days=365)\n",
    "\n",
    "# particle positions are stored every x hours \n",
    "outputdt_in_hours = 24\n",
    "\n",
    "# location of input data\n",
    "data_path = Path('/data/iAtlantic/data/')\n",
    "experiment_name = 'VIKING20X.L46-KKG36107B' \n",
    "data_resolution = '1m'\n",
    "\n",
    "# location of mask data\n",
    "mask_path = Path('/data/iAtlantic/mask/')\n",
    "mesh_mask_filename = '1_mesh_mask.nc_notime_depthw'\n",
    "\n",
    "# names of files to load \n",
    "fname_U = f'1_{experiment_name}_{data_resolution}_201[4-7]*_grid_U.nc'  \n",
    "fname_V = f'1_{experiment_name}_{data_resolution}_201[4-7]*_grid_V.nc'\n",
    "fname_T = f'1_{experiment_name}_{data_resolution}_201[4-7]*_grid_T.nc'\n",
    "fname_W = f'1_{experiment_name}_{data_resolution}_201[4-7]*_grid_W.nc_repaire_depthw_time'\n",
    "\n",
    "print(fname_U)\n",
    "\n",
    "# location of output data\n",
    "outpath = Path('./')\n",
    "# output_filename = 'Parcels_IFFForwards_1m_June2016_2000.nc'\n",
    "output_filename = 'test_forward_FSC_201612.nc'\n",
    "\n",
    "\n",
    "# select subdomain (to decrease needed resources)\n",
    "sd_i1, sd_i2 = 1400, 2404  # western/eastern limit (indices not coordinates)\n",
    "sd_j1, sd_j2 = 1800, 2499  # southern/northern limit (indices not coordinates)\n",
    "sd_z1, sd_z2 = 0, 46\n",
    "\n",
    "# how to initialize the random number generator\n",
    "RNG_seed = 123"
   ]
  },
  {
   "cell_type": "markdown",
   "metadata": {},
   "source": [
    "## Construct input / output paths etc."
   ]
  },
  {
   "cell_type": "code",
   "execution_count": 3,
   "metadata": {},
   "outputs": [],
   "source": [
    "mesh_mask = mask_path / experiment_name / mesh_mask_filename\n",
    "outfile = outpath / output_filename"
   ]
  },
  {
   "cell_type": "markdown",
   "metadata": {},
   "source": [
    "## Load input datasets"
   ]
  },
  {
   "cell_type": "code",
   "execution_count": 4,
   "metadata": {},
   "outputs": [],
   "source": [
    "def fieldset_defintions(\n",
    "    list_of_filenames_U, list_of_filenames_V,\n",
    "    list_of_filenames_W, list_of_filenames_T,\n",
    "    mesh_mask\n",
    "):\n",
    "    \n",
    "    filenames = {'U': {'lon': (mesh_mask),\n",
    "                       'lat': (mesh_mask),\n",
    "                       'depth': list_of_filenames_W[0],\n",
    "                       'data': list_of_filenames_U},\n",
    "                 'V': {'lon': (mesh_mask),\n",
    "                       'lat': (mesh_mask),\n",
    "                       'depth': list_of_filenames_W[0],\n",
    "                       'data': list_of_filenames_V},\n",
    "                 'W': {'lon': (mesh_mask),\n",
    "                       'lat': (mesh_mask),\n",
    "                       'depth': list_of_filenames_W[0],\n",
    "                       'data': list_of_filenames_W},\n",
    "                 'T': {'lon': (mesh_mask),\n",
    "                       'lat': (mesh_mask),\n",
    "                       'depth': list_of_filenames_T[0],\n",
    "                       'data': list_of_filenames_T}\n",
    "                }\n",
    "    \n",
    "    variables = {'U': 'vozocrtx',\n",
    "                 'V': 'vomecrty',\n",
    "                 'W': 'vovecrtz',\n",
    "                 'T': 'votemper'\n",
    "                }\n",
    "        \n",
    "    dimensions = {'U': {'lon': 'glamf', 'lat': 'gphif', 'depth': 'depthw',\n",
    "                        'time': 'time_counter'},  # needs to be on f-nodes\n",
    "                  'V': {'lon': 'glamf', 'lat': 'gphif', 'depth': 'depthw',\n",
    "                        'time': 'time_counter'},  # needs to be on f-nodes\n",
    "                  'W': {'lon': 'glamf', 'lat': 'gphif', 'depth': 'depthw',\n",
    "                        'time': 'time_counter'},  # needs to be on f-nodes\n",
    "                  'T': {'lon': 'glamt', 'lat': 'gphit', 'depth': 'deptht',\n",
    "                        'time': 'time_counter'},  # needs to be on t-nodes\n",
    "                 }\n",
    "    \n",
    "    indices = {\n",
    "        'U': {'depth': range(sd_z1, sd_z2), 'lon': range(sd_i1, sd_i2), 'lat': range(sd_j1, sd_j2)},\n",
    "        'V': {'depth': range(sd_z1, sd_z2), 'lon': range(sd_i1, sd_i2), 'lat': range(sd_j1, sd_j2)},\n",
    "        'W': {'depth': range(sd_z1, sd_z2), 'lon': range(sd_i1, sd_i2), 'lat':range(sd_j1, sd_j2)},\n",
    "        'T': {'depth': range(sd_z1, sd_z2), 'lon': range(sd_i1, sd_i2)}, 'lat':range(sd_j1, sd_j2)\n",
    "    }    \n",
    "    \n",
    "    field_chunksizes = {'U': {'lon': 'auto', 'lat': 'auto', 'depth': 'auto',\n",
    "                        'time': 5},  # needs to be on f-nodes\n",
    "                  'V': {'lon': 'auto', 'lat': 'auto', 'depth': 'auto',\n",
    "                        'time': 5},  # needs to be on f-nodes\n",
    "                  'W': {'lon': 'auto', 'lat': 'auto', 'depth': 'auto',\n",
    "                        'time': 5},  # needs to be on f-nodes\n",
    "                  'T': {'lon': 'auto', 'lat': 'auto', 'depth': 'auto',\n",
    "                        'time': 5},  # needs to be on t-nodes\n",
    "                 }\n",
    "\n",
    "    return FieldSet.from_nemo(\n",
    "        filenames, variables, dimensions, indices=indices,\n",
    "        field_chunksize=False,\n",
    "#         field_chunksize=field_chunksizes,\n",
    "        mesh='spherical',\n",
    "        tracer_interp_method='cgrid_tracer'\n",
    "#         ,time_periodic=time_loop_period\n",
    "#         ,allow_time_extrapolation=True\n",
    "    )"
   ]
  },
  {
   "cell_type": "code",
   "execution_count": 5,
   "metadata": {},
   "outputs": [],
   "source": [
    "def create_fieldset(\n",
    "    data_path=data_path, experiment_name=experiment_name,\n",
    "    fname_U=fname_U, fname_V=fname_V, fname_W=fname_W, fname_T=fname_T,\n",
    "    mesh_mask = mesh_mask\n",
    "):\n",
    "    \n",
    "    files_U = list(sorted((data_path / experiment_name).glob(fname_U)))\n",
    "    files_V = list(sorted((data_path / experiment_name).glob(fname_V)))\n",
    "    files_W = list(sorted((data_path / experiment_name).glob(fname_W)))\n",
    "    files_T = list(sorted((data_path / experiment_name).glob(fname_T)))\n",
    "    \n",
    "    print(files_U)\n",
    "    \n",
    "    fieldset = fieldset_defintions(\n",
    "        files_U, files_V,\n",
    "        files_W, files_T, mesh_mask)\n",
    "\n",
    "    return fieldset"
   ]
  },
  {
   "cell_type": "code",
   "execution_count": 6,
   "metadata": {},
   "outputs": [
    {
     "name": "stderr",
     "output_type": "stream",
     "text": [
      "WARNING: Casting depth data to np.float32\n"
     ]
    },
    {
     "name": "stdout",
     "output_type": "stream",
     "text": [
      "[PosixPath('/data/iAtlantic/data/VIKING20X.L46-KKG36107B/1_VIKING20X.L46-KKG36107B_1m_20140101_20141231_grid_U.nc'), PosixPath('/data/iAtlantic/data/VIKING20X.L46-KKG36107B/1_VIKING20X.L46-KKG36107B_1m_20150101_20151231_grid_U.nc'), PosixPath('/data/iAtlantic/data/VIKING20X.L46-KKG36107B/1_VIKING20X.L46-KKG36107B_1m_20160101_20161231_grid_U.nc'), PosixPath('/data/iAtlantic/data/VIKING20X.L46-KKG36107B/1_VIKING20X.L46-KKG36107B_1m_20170101_20171231_grid_U.nc')]\n"
     ]
    }
   ],
   "source": [
    "fieldset = create_fieldset()"
   ]
  },
  {
   "cell_type": "markdown",
   "metadata": {},
   "source": [
    "## Create Virtual Particles"
   ]
  },
  {
   "cell_type": "code",
   "execution_count": 7,
   "metadata": {},
   "outputs": [],
   "source": [
    "class SampleParticle(JITParticle):\n",
    "    \"\"\"Add variables to the standard particle class.\n",
    "    \n",
    "    Particles will sample temperature and track the age of the particle.\n",
    "    Particles also have a flag `alive` that is 1 if the particle is alive and 0 otherwise.\n",
    "    Furthermore, we have a `speed_param` that scales the velocity with which particles can\n",
    "    swim towards the surface.\n",
    "\n",
    "    Note that we don't initialize temp from the actual data.\n",
    "    This speeds up particle creation, but might render initial data point less useful.\n",
    "    \"\"\"\n",
    "    temp = Variable('temp', dtype=np.float32, initial=-100)\n",
    "    uvel = Variable('uvel', dtype=np.float32, initial=0)\n",
    "    vvel = Variable('vvel', dtype=np.float32, initial=0)\n",
    "    wvel = Variable('wvel', dtype=np.float32, initial=0)\n",
    "#     alive = Variable('alive', dtype=np.int32, initial=1)\n",
    "#     speed_param = Variable('speed_param', dtype=np.float32, initial=1)\n",
    "#     age = Variable('age', dtype=np.int32, initial=0, to_write=True)"
   ]
  },
  {
   "cell_type": "markdown",
   "metadata": {},
   "source": [
    "## Create a set of particles with random initial positions\n",
    "\n",
    "We seed the RNG to be reproducible (and to be able to quickly create a second equivalent experiment with differently chosen compatible initial positions), and create arrays of random starting times, lats, lons, depths, and speed parameters (see kernel definitions below for details).\n",
    "\n",
    "Initially create points on 'rectangle'. Land points are removed later."
   ]
  },
  {
   "cell_type": "code",
   "execution_count": 8,
   "metadata": {},
   "outputs": [],
   "source": [
    "np.random.seed(RNG_seed)\n",
    "\n",
    "# define time of release for each particle relative to t0\n",
    "# can start each particle at a different time if required\n",
    "# here all start at time t_start.\n",
    "\n",
    "time = np.zeros(create_number_particles)\n",
    "\n",
    "time += (t_start - t_0).total_seconds()\n",
    "\n",
    "# start along a line from west to east\n",
    "\n",
    "lon = np.random.uniform(\n",
    "    low=west_lon, high = east_lon,\n",
    "    size=time.shape\n",
    ")\n",
    "\n",
    "lat = west_lat + ((lon - west_lon) * (east_lat - west_lat)/ (east_lon - west_lon))\n",
    "\n",
    "# at depths from surface to max_release_depth\n",
    "\n",
    "depth = np.random.uniform(\n",
    "    low=min_release_depth, high=max_release_depth,\n",
    "    size=time.shape\n",
    ")"
   ]
  },
  {
   "cell_type": "code",
   "execution_count": 9,
   "metadata": {},
   "outputs": [
    {
     "name": "stdout",
     "output_type": "stream",
     "text": [
      "CPU times: user 3.53 s, sys: 36.6 ms, total: 3.56 s\n",
      "Wall time: 3.56 s\n"
     ]
    }
   ],
   "source": [
    "%%time\n",
    "\n",
    "pset = ParticleSet(\n",
    "    fieldset=fieldset,\n",
    "    pclass=SampleParticle,\n",
    "    lat=lat,\n",
    "    lon=lon,\n",
    "#     speed_param=speed_param,\n",
    "    depth=depth,\n",
    "    time=time\n",
    "#    repeatdt = repeatdt\n",
    ")\n"
   ]
  },
  {
   "cell_type": "code",
   "execution_count": 10,
   "metadata": {},
   "outputs": [
    {
     "name": "stdout",
     "output_type": "stream",
     "text": [
      "Created 20000 particles.\n"
     ]
    }
   ],
   "source": [
    "print(f\"Created {len(pset)} particles.\")\n",
    "# display(pset[:5])\n",
    "# display(pset[-5:])"
   ]
  },
  {
   "cell_type": "markdown",
   "metadata": {},
   "source": [
    "## Compose custom kernel\n",
    "\n",
    "We'll create two additional kernels:\n",
    "- One Kernel adds active vertical movement.\n",
    "- One Kernel adds a temperature sensitivity.\n",
    "\n",
    "Then, we combine the builtin `AdvectionRK4_3D` kernel with these additional kernels."
   ]
  },
  {
   "cell_type": "code",
   "execution_count": 11,
   "metadata": {},
   "outputs": [],
   "source": [
    "def movement(particle, fieldset, time):\n",
    "    '''Add active vertical movement.\n",
    "    \n",
    "    Upward movement for 5 days depending on the age of the larvae,\n",
    "    \n",
    "    * Larvae get faster linearly.\n",
    "    * Maximum speed that can be reached is about 0.2 cm/s at 5 days of age.\n",
    "    * Active movement differs between the larvae (scaled by individual speed parameter).\n",
    "    * Raising stops if 100m depth is reached.\n",
    "    \n",
    "    '''\n",
    "    particle.age += particle.dt\n",
    "    \n",
    "    if (particle.age < 5 * 86400) and (particle.depth > 100):\n",
    "        vel = -4e-8 * particle.age * particle.speed_param # in m/s\n",
    "        particle.depth += vel * particle.dt"
   ]
  },
  {
   "cell_type": "code",
   "execution_count": 12,
   "metadata": {},
   "outputs": [],
   "source": [
    "def velocity_sampling(particle, fieldset, time):\n",
    "    '''Sample velocity.'''\n",
    "    \n",
    "    (particle.uvel,particle.vvel,particle.wvel) = fieldset.UVW[time, particle.depth, particle.lat, particle.lon]\n",
    "    "
   ]
  },
  {
   "cell_type": "code",
   "execution_count": 13,
   "metadata": {},
   "outputs": [],
   "source": [
    "def temperature_sampling(particle, fieldset, time):\n",
    "    '''Sample temperature.'''\n",
    "    \n",
    "    particle.temp = fieldset.T[time, particle.depth, particle.lat, particle.lon]"
   ]
  },
  {
   "cell_type": "code",
   "execution_count": 14,
   "metadata": {},
   "outputs": [],
   "source": [
    "def temperature_sensitivity(particle, fieldset, time):\n",
    "    '''Change status of adult larvae if ambient temperature is too low.\n",
    "    \n",
    "    Larvae that are older than 5 days die in water temperatures below 4°C.\n",
    "    \n",
    "    Larvae that are dead will stay dead if temperature increases above 4°C.\n",
    "    '''\n",
    "    \n",
    "    temp = fieldset.T[time, particle.depth, particle.lat, particle.lon]\n",
    "    \n",
    "    if ( (temp < 4.0) and (particle.age > 5.0 * 86400) ) or (particle.alive == 0):\n",
    "        particle.alive = 0"
   ]
  },
  {
   "cell_type": "code",
   "execution_count": 15,
   "metadata": {},
   "outputs": [],
   "source": [
    "custom_kernel = (\n",
    "    pset.Kernel(AdvectionRK4_3D)\n",
    "#     + pset.Kernel(temperature_sensitivity)\n",
    "     + pset.Kernel(temperature_sampling)\n",
    "     + pset.Kernel(velocity_sampling)\n",
    "#     + pset.Kernel(movement)\n",
    ")"
   ]
  },
  {
   "cell_type": "markdown",
   "metadata": {},
   "source": [
    "## Be able to handle errors during integration\n",
    "\n",
    "We have restricted our domain so in principle, particles could reach undefined positions.\n",
    "In that case, we want to just delete the particle (without forgetting its history)."
   ]
  },
  {
   "cell_type": "code",
   "execution_count": 16,
   "metadata": {},
   "outputs": [],
   "source": [
    "def DeleteParticle(particle, fieldset, time):\n",
    "    particle.delete()\n",
    "\n",
    "\n",
    "recovery_cases = {\n",
    "    ErrorCode.ErrorOutOfBounds: DeleteParticle\n",
    "}"
   ]
  },
  {
   "cell_type": "markdown",
   "metadata": {},
   "source": [
    "## Run with runtime=0 to initialise fields"
   ]
  },
  {
   "cell_type": "code",
   "execution_count": 17,
   "metadata": {},
   "outputs": [
    {
     "name": "stderr",
     "output_type": "stream",
     "text": [
      "INFO: Compiled SampleParticleAdvectionRK4_3Dtemperature_samplingvelocity_sampling ==> /tmp/parcels-1013/1a71ba0e8af2f39c34727ebae2690118_0.so\n",
      "WARNING: dt or runtime are zero, or endtime is equal to Particle.time. The kernels will be executed once, without incrementing time\n"
     ]
    }
   ],
   "source": [
    "pset.execute(\n",
    "    custom_kernel,\n",
    "     runtime=0,    \n",
    "     dt=timedelta(minutes=0),      \n",
    "#      output_file=outputfile,\n",
    "     recovery=recovery_cases\n",
    ")"
   ]
  },
  {
   "cell_type": "markdown",
   "metadata": {},
   "source": [
    "## Trim unwanted points from ParticleSet\n",
    "\n",
    "Use initialised fields to remove land points (test `temp * uvel * vvel == 0.0`) and select first `use_number_particles` particles"
   ]
  },
  {
   "cell_type": "code",
   "execution_count": 18,
   "metadata": {},
   "outputs": [
    {
     "name": "stdout",
     "output_type": "stream",
     "text": [
      "5591\n",
      "4000\n"
     ]
    }
   ],
   "source": [
    "x = np.array([p.temp for p in pset])\n",
    "y = np.array([p.uvel for p in pset])\n",
    "z = np.array([p.vvel for p in pset])\n",
    "pset.remove(np.argwhere(x * y * z == 0).flatten())\n",
    "print(len(pset))\n",
    "pset.remove(range(use_number_particles,len(pset)))\n",
    "print(len(pset))"
   ]
  },
  {
   "cell_type": "markdown",
   "metadata": {},
   "source": [
    "## Plot release positions"
   ]
  },
  {
   "cell_type": "code",
   "execution_count": 19,
   "metadata": {},
   "outputs": [
    {
     "data": {
      "image/png": "[encoded data removed]",
      "text/plain": [
       "<Figure size 936x720 with 2 Axes>"
      ]
     },
     "metadata": {
      "needs_background": "light"
     },
     "output_type": "display_data"
    }
   ],
   "source": [
    "plt.figure(figsize=(13,10))\n",
    "\n",
    "plt.scatter(\n",
    "    [p.lon for p in pset],\n",
    "    [p.lat for p in pset],\n",
    "    20,\n",
    "    [p.temp for p in pset]\n",
    ")\n",
    "plt.colorbar(label = \"Temperature [C]\");"
   ]
  },
  {
   "cell_type": "code",
   "execution_count": 20,
   "metadata": {},
   "outputs": [
    {
     "data": {
      "image/png": "[encoded data removed]",
      "text/plain": [
       "<Figure size 720x360 with 2 Axes>"
      ]
     },
     "metadata": {
      "needs_background": "light"
     },
     "output_type": "display_data"
    }
   ],
   "source": [
    "plt.figure(figsize=(10,5))\n",
    "\n",
    "plt.scatter(\n",
    "    [p.lon for p in pset],\n",
    "    [p.depth for p in pset],\n",
    "    20,\n",
    "    [p.temp for p in pset]\n",
    ")\n",
    "plt.ylim(1500,0)\n",
    "plt.colorbar(label = \"Temperature [C]\");\n"
   ]
  },
  {
   "cell_type": "markdown",
   "metadata": {},
   "source": [
    "This is showing steps in topography even though it uses the field values to choose particles. This raises some questions over how OceanParcels deals with shaved cells at bed. I think maybe some of the nearbed particles never move..."
   ]
  },
  {
   "cell_type": "markdown",
   "metadata": {},
   "source": [
    "## Prepare output\n",
    "\n",
    "We define an output file and specify the desired output frequency."
   ]
  },
  {
   "cell_type": "code",
   "execution_count": 21,
   "metadata": {},
   "outputs": [
    {
     "name": "stdout",
     "output_type": "stream",
     "text": [
      "test_forward_FSC_201612.nc\n"
     ]
    }
   ],
   "source": [
    "print(output_filename)\n",
    "\n",
    "outputfile = pset.ParticleFile(\n",
    "    name=output_filename,\n",
    "    outputdt=timedelta(hours=outputdt_in_hours)\n",
    ")"
   ]
  },
  {
   "cell_type": "markdown",
   "metadata": {},
   "source": [
    "## Execute the experiment\n",
    "\n",
    "We'll evolve particles, log their positions and variables to the output buffer and finally export the output to a  the file."
   ]
  },
  {
   "cell_type": "markdown",
   "metadata": {},
   "source": [
    "### Run the experiment"
   ]
  },
  {
   "cell_type": "code",
   "execution_count": 22,
   "metadata": {},
   "outputs": [],
   "source": [
    "pset.execute(\n",
    "    custom_kernel,\n",
    "     runtime=timedelta(days=runtime_in_days),    \n",
    "     dt=timedelta(minutes=dt_in_minutes),      \n",
    "     output_file=outputfile,\n",
    "     recovery=recovery_cases\n",
    ")"
   ]
  },
  {
   "cell_type": "code",
   "execution_count": 23,
   "metadata": {},
   "outputs": [],
   "source": [
    "outputfile.export()"
   ]
  },
  {
   "cell_type": "code",
   "execution_count": 24,
   "metadata": {},
   "outputs": [],
   "source": [
    "# conda list\n"
   ]
  },
  {
   "cell_type": "code",
   "execution_count": 25,
   "metadata": {},
   "outputs": [],
   "source": [
    "# pip list\n"
   ]
  }
 ],
 "metadata": {
  "kernelspec": {
   "display_name": "Python [conda env:py3_lagrange]",
   "language": "python",
   "name": "conda-env-py3_lagrange-py"
  },
  "language_info": {
   "codemirror_mode": {
    "name": "ipython",
    "version": 3
   },
   "file_extension": ".py",
   "mimetype": "text/x-python",
   "name": "python",
   "nbconvert_exporter": "python",
   "pygments_lexer": "ipython3",
   "version": "3.6.7"
  }
 },
 "nbformat": 4,
 "nbformat_minor": 4
}
