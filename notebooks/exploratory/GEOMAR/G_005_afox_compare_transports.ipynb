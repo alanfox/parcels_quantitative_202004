{
 "cells": [
  {
   "cell_type": "markdown",
   "metadata": {
    "slideshow": {
     "slide_type": "slide"
    }
   },
   "source": [
    "# Quantifying volume transports along pathways crossing a section in the VIKING20X model by Lagrangian particle tracking.\n",
    "\n",
    "This fundamentally relies on the idea that we can associate a volume transport with a particle, and that this volume transport remains constant (or changes only slowly) as we follow the particle. So like a streamtube.\n",
    "\n",
    "This assumption is possibly only strictly valid in the absence of mixing, and possibly only for the mean flow. Never mind though, we'll press on and consider the implications further down the line. "
   ]
  },
  {
   "cell_type": "markdown",
   "metadata": {
    "slideshow": {
     "slide_type": "slide"
    }
   },
   "source": [
    "First, consider how to sample the velocity field with particles to accurately estimate the transport across a section, and enable us to track the volume transport upstream and downstream. There are a couple of obvious options:\n",
    "\n",
    "1. Randomly sample the section with particles at time t. Each particle, p, then has an associated volume transport, $V_p$:\n",
    "$$ V_p = \\frac{A}{N}\\boldsymbol{u_p \\cdot n_p}, $$\n",
    "where $A$ is section area, $N$ the number of particles, and $\\boldsymbol{u_p \\cdot n_p}$ the velocity normal to the section at point $p$.\n",
    "\n",
    "2. Sample with particles with local release density proportional to the local velocity normal to the section. Every particle is then associated with the same volume transport.\n",
    "\n",
    "Method 1 is easier to set up so I'll look at that first. Method 2 might be more efficient (better results with fewer particles)."
   ]
  },
  {
   "cell_type": "markdown",
   "metadata": {
    "slideshow": {
     "slide_type": "slide"
    }
   },
   "source": [
    "### Method 1\n",
    "\n",
    "- Select a section (Greenland - Iceland - Shetland - Scotland)\n",
    "\n",
    "- Calculate VIKING20X model volume transport across the section accurately\n",
    "\n",
    "- Estimate volume transport based on N randomly released particles"
   ]
  },
  {
   "cell_type": "markdown",
   "metadata": {
    "slideshow": {
     "slide_type": "skip"
    }
   },
   "source": [
    "## Technical preample"
   ]
  },
  {
   "cell_type": "code",
   "execution_count": null,
   "metadata": {
    "slideshow": {
     "slide_type": "skip"
    }
   },
   "outputs": [],
   "source": [
    "%matplotlib inline\n",
    "from pathlib import Path\n",
    "import xarray as xr\n",
    "import numpy as np\n",
    "import matplotlib.pyplot as plt\n",
    "import xorca_brokenline as bl\n",
    "from xorca_lonlat2ij import get_ij\n",
    "from matplotlib import colors as c\n",
    "import matplotlib.dates as mdates\n",
    "import seaborn as sns\n",
    "import cmocean as co     # for details on this colormap module see https://matplotlib.org/cmocean/"
   ]
  },
  {
   "cell_type": "code",
   "execution_count": null,
   "metadata": {
    "slideshow": {
     "slide_type": "skip"
    }
   },
   "outputs": [],
   "source": [
    "plt.rcParams['figure.figsize'] = [20, 7]\n",
    "plt.rcParams.update({'font.size': 17})\n",
    "years_fmt = mdates.DateFormatter('%Y-%m-%d')\n",
    "sns.set_palette(\"colorblind\")"
   ]
  },
  {
   "cell_type": "code",
   "execution_count": null,
   "metadata": {
    "slideshow": {
     "slide_type": "skip"
    }
   },
   "outputs": [],
   "source": [
    "from dask.distributed import Client"
   ]
  },
  {
   "cell_type": "code",
   "execution_count": null,
   "metadata": {
    "slideshow": {
     "slide_type": "skip"
    }
   },
   "outputs": [],
   "source": [
    "client = Client(n_workers=1, threads_per_worker=8, memory_limit=8e9)\n",
    "client"
   ]
  },
  {
   "cell_type": "markdown",
   "metadata": {
    "slideshow": {
     "slide_type": "skip"
    }
   },
   "source": [
    "_(Click on the link above if you want to see the Dask cluster in action.)_"
   ]
  },
  {
   "cell_type": "markdown",
   "metadata": {
    "slideshow": {
     "slide_type": "skip"
    }
   },
   "source": [
    "## Parameters\n",
    "\n",
    "Let's make it a habit to collect everyting we might want to change at a later point (the parameters of the analysis) in a central place."
   ]
  },
  {
   "cell_type": "code",
   "execution_count": null,
   "metadata": {
    "slideshow": {
     "slide_type": "skip"
    }
   },
   "outputs": [],
   "source": [
    "# paramters\n",
    "\n",
    "global_data_path = Path(\"/data/iAtlantic/\")\n",
    "experiment_id = \"VIKING20X.L46-KKG36107B\"\n",
    "nest_prefix = \"1\"\n",
    "restrict_years = \"201[4-7]\"  # restricts to 2014 to 2017"
   ]
  },
  {
   "cell_type": "markdown",
   "metadata": {
    "slideshow": {
     "slide_type": "skip"
    }
   },
   "source": [
    "## Load VIKING20X data\n",
    "\n",
    "We'll first find all the relevant files and then open them as a virtual contiguous dataset."
   ]
  },
  {
   "cell_type": "code",
   "execution_count": null,
   "metadata": {
    "slideshow": {
     "slide_type": "skip"
    }
   },
   "outputs": [],
   "source": [
    "U_files = (global_data_path / \"data\" / experiment_id).glob(f\"{nest_prefix}_{experiment_id}_1m_{restrict_years}????_{restrict_years}????_grid_U.nc\")\n",
    "U_files = list(sorted(U_files))\n",
    "print(f\"found {len(U_files)} grid-U files\")\n",
    "\n",
    "V_files = (global_data_path / \"data\" / experiment_id).glob(f\"{nest_prefix}_{experiment_id}_1m_{restrict_years}????_{restrict_years}????_grid_V.nc\")\n",
    "V_files = list(sorted(V_files))\n",
    "print(f\"found {len(V_files)} grid-V files\")\n",
    "\n",
    "mesh_hgr_files = (global_data_path / \"mask\" / experiment_id).glob(f\"{nest_prefix}_mesh_hgr*.nc\")\n",
    "mesh_hgr_files = list(sorted(mesh_hgr_files))\n",
    "print(f\"found {len(mesh_hgr_files)} mesh_hgr files\")\n",
    "\n",
    "mesh_zgr_files = (global_data_path / \"mask\" / experiment_id).glob(f\"{nest_prefix}_mesh_zgr*.nc\")\n",
    "mesh_zgr_files = list(sorted(mesh_zgr_files))\n",
    "print(f\"found {len(mesh_zgr_files)} mesh_zgr files\")\n",
    "\n",
    "mask_files = (global_data_path / \"mask\" / experiment_id).glob(f\"{nest_prefix}_mask*.nc\")\n",
    "mask_files = list(sorted(mask_files))\n",
    "print(f\"found {len(mask_files)} mask files\")\n",
    "\n",
    "mesh_mask_files = (global_data_path / \"mask\" / experiment_id).glob(f\"{nest_prefix}_mesh_mask*.nc\")\n",
    "mesh_mask_files = list(sorted(mesh_mask_files))\n",
    "print(f\"found {len(mesh_mask_files)} mesh mask files\")\n"
   ]
  },
  {
   "cell_type": "code",
   "execution_count": null,
   "metadata": {
    "slideshow": {
     "slide_type": "skip"
    }
   },
   "outputs": [],
   "source": [
    "gridU = xr.open_mfdataset(\n",
    "    U_files,\n",
    "    chunks={\n",
    "        \"time_counter\": 1, \"depthu\": 1,\n",
    "        \"y\": None, \"x\": None\n",
    "    },\n",
    "    combine='by_coords'\n",
    ")\n",
    "gridV = xr.open_mfdataset(\n",
    "    V_files,\n",
    "    chunks={\n",
    "        \"time_counter\": 1, \"depthv\": 1,\n",
    "        \"y\": None, \"x\": None\n",
    "    },\n",
    "    combine='by_coords'\n",
    ")\n",
    "# gridU = xr.open_dataset(gridU_files[0])\n",
    "# gridV = xr.open_dataset(gridV_files[0])\n",
    "mesh_hgr = xr.open_dataset(mesh_hgr_files[0])\n",
    "mesh_zgr = xr.open_dataset(mesh_zgr_files[0])\n",
    "mask = xr.open_dataset(mask_files[0])\n",
    "mesh_mask = xr.open_dataset(mesh_mask_files[0])\n",
    "\n",
    "fmask = mask['fmask'].isel(t=0,z=0)\n"
   ]
  },
  {
   "cell_type": "markdown",
   "metadata": {
    "slideshow": {
     "slide_type": "slide"
    }
   },
   "source": [
    "## Define a section and find grid points along the section"
   ]
  },
  {
   "cell_type": "code",
   "execution_count": null,
   "metadata": {
    "slideshow": {
     "slide_type": "fragment"
    }
   },
   "outputs": [],
   "source": [
    "vertices_lat = np.array([68.74,65.8,64.78,65,62.2,60.33,58.99,58.58])\n",
    "vertices_lon = np.array([-28.73,-23,-18.4,-14,-7.0,-1.3,-3.06,-3.21])\n",
    "ll_points = np.vstack((vertices_lat, vertices_lon)).T\n",
    "ll_points"
   ]
  },
  {
   "cell_type": "markdown",
   "metadata": {
    "slideshow": {
     "slide_type": "skip"
    }
   },
   "source": [
    "## Find related indices\n",
    "\n",
    "This takes an inordinate amount of time, because `get_ij` will transform grid points on the (spherical) earth to 3D, and do the nearest-neighbor-lookup there. There are faster ways. Probably more efficient for many points."
   ]
  },
  {
   "cell_type": "code",
   "execution_count": null,
   "metadata": {
    "slideshow": {
     "slide_type": "skip"
    }
   },
   "outputs": [],
   "source": [
    "vertices_ji = get_ij(\n",
    "    mesh_mask,\n",
    "    ll_points,\n",
    "    grid=\"f\",\n",
    "    xgcm=False,\n",
    "    xarray_out=False\n",
    ")"
   ]
  },
  {
   "cell_type": "code",
   "execution_count": null,
   "metadata": {
    "slideshow": {
     "slide_type": "fragment"
    }
   },
   "outputs": [],
   "source": [
    "print(vertices_ji)"
   ]
  },
  {
   "cell_type": "code",
   "execution_count": null,
   "metadata": {
    "slideshow": {
     "slide_type": "skip"
    }
   },
   "outputs": [],
   "source": [
    "ji_pairs = vertices_ji\n",
    "\n",
    "ji = bl.section_indices(ji_pairs=ji_pairs)\n",
    "jj,ii = zip(*ji)\n",
    "\n",
    "def plot_selected_points():\n",
    "    p = plt.figure(figsize=(10,8))\n",
    "    fmask.plot(cmap=c.ListedColormap(['gray','white']),add_colorbar=0)\n",
    "    plt.plot(ii,jj)\n",
    "\n",
    "    plt.ylim(2000,2500)\n",
    "    plt.xlim(1400,2000)\n",
    "\n",
    "    plt.ylabel(\"j\")\n",
    "    plt.xlabel(\"i\")\n",
    "    plt.title('Selected points')\n",
    "    return"
   ]
  },
  {
   "cell_type": "code",
   "execution_count": null,
   "metadata": {
    "slideshow": {
     "slide_type": "slide"
    }
   },
   "outputs": [],
   "source": [
    "plot_selected_points()"
   ]
  },
  {
   "cell_type": "code",
   "execution_count": null,
   "metadata": {
    "slideshow": {
     "slide_type": "skip"
    }
   },
   "outputs": [],
   "source": [
    "ji_pairs = vertices_ji\n",
    "\n",
    "ji = bl.section_indices(ji_pairs=ji_pairs)\n",
    "jj,ii = zip(*ji)\n",
    "\n",
    "def plot_selected_points():\n",
    "    p = plt.figure(figsize=(10,8))\n",
    "    fmask.plot(cmap=c.ListedColormap(['gray','white']),add_colorbar=0)\n",
    "    plt.plot(ii,jj)\n",
    "\n",
    "    plt.ylim(2185,2310)\n",
    "    plt.xlim(1740,1900)\n",
    "\n",
    "    plt.ylabel(\"j\")\n",
    "    plt.xlabel(\"i\")\n",
    "    plt.title('Selected points')\n",
    "    return"
   ]
  },
  {
   "cell_type": "code",
   "execution_count": null,
   "metadata": {
    "slideshow": {
     "slide_type": "slide"
    }
   },
   "outputs": [],
   "source": [
    "plot_selected_points()"
   ]
  },
  {
   "cell_type": "markdown",
   "metadata": {
    "slideshow": {
     "slide_type": "skip"
    }
   },
   "source": [
    "## Extract Section\n",
    "bl.shift_grids() interpolates all variables onto the u- and v-points, drops unnecessary coordinate labels and variables and renames depth dimension. <br>\n",
    "select_section() selects the section defined by ji from gridU_processed and gridV_processed and returns a section.\n"
   ]
  },
  {
   "cell_type": "code",
   "execution_count": null,
   "metadata": {
    "slideshow": {
     "slide_type": "skip"
    }
   },
   "outputs": [],
   "source": [
    "ji = bl.section_indices(ji_pairs=ji_pairs)\n",
    "gridU_processed, gridV_processed = bl.shift_grids(gridU=gridU, gridV=gridV)\n",
    "section = bl.select_section(ji,gridU_processed,gridV_processed,mesh_hgr,mesh_zgr,mask).compute()\n",
    "# reverse direction\n",
    "section['u_normal']=-section['u_normal']"
   ]
  },
  {
   "cell_type": "markdown",
   "metadata": {
    "slideshow": {
     "slide_type": "skip"
    }
   },
   "source": [
    "Section includes the velocity normal to the section (either U or V, depending on the orientation of each segment), the length and depth of each segment and a land-sea mask variable. "
   ]
  },
  {
   "cell_type": "code",
   "execution_count": null,
   "metadata": {
    "slideshow": {
     "slide_type": "skip"
    }
   },
   "outputs": [],
   "source": [
    "section"
   ]
  },
  {
   "cell_type": "markdown",
   "metadata": {
    "slideshow": {
     "slide_type": "slide"
    }
   },
   "source": [
    "## Plot mean velocity normal to section.\n",
    "\n",
    "### Northward, into the page, is positive.\n",
    "\n",
    "### Greenland on the left, Scotland on the right.\n",
    "\n",
    "Section is a zigzag line following grid cell boundaries, so normal to section is either u (on N-S boundaries) or v (on E-W boundaries). This is where the 'vertical' stripes on the plot come from, they are not structure in the velocity field."
   ]
  },
  {
   "cell_type": "code",
   "execution_count": null,
   "metadata": {
    "slideshow": {
     "slide_type": "skip"
    }
   },
   "outputs": [],
   "source": [
    "def plot_section():    \n",
    "    # whole section\n",
    "    section['u_normal'].mean('time_counter').plot(cmap=co.cm.balance)\n",
    "    section['mask'].where(section['mask']==0).plot(cmap=c.ListedColormap(['gray']),add_colorbar=0)\n",
    "    # slice parts of section slice(start,stop,step)\n",
    "    # section.isel(c=slice(740,-1,1))['u_normal'].mean('time_counter').plot()\n",
    "    # section.isel(c=slice(740,-1,1))['mask'].where(section['mask']==0).plot(cmap=c.ListedColormap(['gray']),add_colorbar=0)\n",
    "    plt.ylim(1500,0)\n",
    "    plt.ylabel(\"Depth (m)\")\n",
    "    plt.xlabel(\"Distance (m)\")\n",
    "    plt.title(\"4-year, 2014-2017, mean velocity normal to section. Positive into page.\")\n",
    "    return"
   ]
  },
  {
   "cell_type": "code",
   "execution_count": null,
   "metadata": {
    "slideshow": {
     "slide_type": "subslide"
    }
   },
   "outputs": [],
   "source": [
    "plot_section()"
   ]
  },
  {
   "cell_type": "code",
   "execution_count": null,
   "metadata": {
    "slideshow": {
     "slide_type": "skip"
    }
   },
   "outputs": [],
   "source": []
  },
  {
   "cell_type": "markdown",
   "metadata": {
    "slideshow": {
     "slide_type": "slide"
    }
   },
   "source": [
    "## Monthly mean volume transport"
   ]
  },
  {
   "cell_type": "code",
   "execution_count": null,
   "metadata": {
    "slideshow": {
     "slide_type": "skip"
    }
   },
   "outputs": [],
   "source": [
    "transport_all = bl.calculate_transport(section)\n",
    "transport_GI  = bl.calculate_transport(section.isel(c=slice(200)))\n",
    "transport_IFR = bl.calculate_transport(section.isel(c=slice(380,580,1)))\n",
    "transport_FSC = bl.calculate_transport(section.isel(c=slice(580,740,1)))\n",
    "transport_SS =  bl.calculate_transport(section.isel(c=slice(740,-1,1)))"
   ]
  },
  {
   "cell_type": "code",
   "execution_count": null,
   "metadata": {
    "slideshow": {
     "slide_type": "skip"
    }
   },
   "outputs": [],
   "source": [
    "plot_transport_timeseries();\n",
    "    fig, ax = plt.subplots()\n",
    "    transport_all.trsp.plot(color = 'k', label = 'Total')\n",
    "    transport_GI.trsp.plot(label = 'Greenland-Iceland')\n",
    "    transport_IFR.trsp.plot(label = 'Iceland-Faroe')\n",
    "    transport_FSC.trsp.plot(label = 'Faroe-Shetland')\n",
    "    transport_SS.trsp.plot(label = 'Shetland-Orkney-Scotland')\n",
    "    plt.ylabel(\"Northward Volume transport (Sv)\")\n",
    "    plt.xlabel(\"Date\")\n",
    "    plt.grid()\n",
    "    plt.legend();\n",
    "\n",
    "    # format the ticks\n",
    "    ax.xaxis.set_major_formatter(years_fmt)\n",
    "    return"
   ]
  },
  {
   "cell_type": "code",
   "execution_count": null,
   "metadata": {
    "slideshow": {
     "slide_type": "fragment"
    }
   },
   "outputs": [],
   "source": [
    "plot_transport_timeseries()"
   ]
  },
  {
   "cell_type": "markdown",
   "metadata": {
    "slideshow": {
     "slide_type": "slide"
    }
   },
   "source": [
    "## Transport estimates from particle releases for 2016\n",
    "\n",
    "- These are estimates on the sections at particle release time, to test how many particles might be needed for reliable volume transport estimates. \n",
    "\n",
    "- These use 4000 particles per sub-section.\n",
    "\n",
    "- For Iceland-Faroe and Faroe-Shetland subsections."
   ]
  },
  {
   "cell_type": "code",
   "execution_count": null,
   "metadata": {
    "slideshow": {
     "slide_type": "skip"
    }
   },
   "outputs": [],
   "source": [
    "## Parameters\n",
    "# Project path\n",
    "project_path = Path.cwd() / '..'\n",
    "project_path = project_path.resolve()\n",
    "\n",
    "# project_path = Path(\"C:/Users/sa05af/OneDrive - SAMS/Projects/parcels_quantitative_202004/\")\n",
    "\n",
    "# Parcels track data file\n",
    "path_data_tracks = Path(\"parcels_experiments_202004/03.2_advanced_lagrangian_modelling\") \n",
    "filename_FSC = \"test_forward_FSC_2016\"\n",
    "filename_IFR = \"test_forward_IFR_2016\"\n",
    "\n",
    "nParticles = 4000.0\n",
    "\n",
    "# section area calculation on FSC (61N)\n",
    "\n",
    "lat2metres_FSC = 60.0*1852.0\n",
    "lon2metres_FSC = 60.0*1852.0*np.cos(np.radians(61.0))\n",
    "\n",
    "sealandratio_FSC = 5591.0/20000.0 # 'wet' area scaling based on particle release experiments\n",
    "sectionAreaEW_FSC = 5.7 * 1500.0 * sealandratio_FSC * lon2metres_FSC  \n",
    "sectionAreaNS_FSC = 1.87 * 1500.0 * sealandratio_FSC * lat2metres_FSC\n",
    "\n",
    "# section area calculation on IFR (63.5N)\n",
    "\n",
    "lat2metres_IFR = 60.0*1852.0\n",
    "lon2metres_IFR = 60.0*1852.0*np.cos(np.radians(63.5))\n",
    "\n",
    "sealandratio_IFR = 9308.0/20000.0 # 'wet' area scaling based on particle release experiments\n",
    "sectionAreaEW_IFR = 7.0 * 700.0 * sealandratio_IFR * lon2metres_IFR  \n",
    "sectionAreaNS_IFR = 2.8 * 700.0 * sealandratio_IFR * lat2metres_IFR\n"
   ]
  },
  {
   "cell_type": "markdown",
   "metadata": {
    "slideshow": {
     "slide_type": "skip"
    }
   },
   "source": [
    "### Read in the data"
   ]
  },
  {
   "cell_type": "code",
   "execution_count": null,
   "metadata": {
    "slideshow": {
     "slide_type": "skip"
    }
   },
   "outputs": [],
   "source": [
    "files_tracks_FSC = (project_path / path_data_tracks).glob(f\"{filename_FSC}*.nc\")\n",
    "files_tracks_FSC = list(sorted(files_tracks_FSC))\n",
    "files_tracks_IFR = (project_path / path_data_tracks).glob(f\"{filename_IFR}*.nc\")\n",
    "files_tracks_IFR = list(sorted(files_tracks_IFR))\n"
   ]
  },
  {
   "cell_type": "markdown",
   "metadata": {
    "slideshow": {
     "slide_type": "skip"
    }
   },
   "source": [
    "4000 particle estimate"
   ]
  },
  {
   "cell_type": "code",
   "execution_count": null,
   "metadata": {
    "slideshow": {
     "slide_type": "skip"
    }
   },
   "outputs": [],
   "source": [
    "transport_estimate_FSC = np.zeros(12)\n",
    "# print(transports_FSC)\n",
    "for i in range(12):\n",
    "    trackfile_FSC = files_tracks_FSC[i]\n",
    "    ds = xr.open_dataset(trackfile_FSC)\n",
    "    transport_estimate_FSC[i] = ((sectionAreaEW_FSC*ds.isel(obs=0).vvel[:]*lat2metres_FSC +\n",
    "                            sectionAreaNS_FSC*ds.isel(obs=0).uvel[:]*lon2metres_FSC)/nParticles).sum().data\n",
    "# print(transport_estimate_FSC)"
   ]
  },
  {
   "cell_type": "markdown",
   "metadata": {
    "slideshow": {
     "slide_type": "slide"
    }
   },
   "source": [
    "Faroe-Shetland Channel particle release (December 2016)."
   ]
  },
  {
   "cell_type": "code",
   "execution_count": null,
   "metadata": {
    "slideshow": {
     "slide_type": "skip"
    }
   },
   "outputs": [],
   "source": [
    "def plot_release_FSC():\n",
    "    plt.figure(figsize = (12,5))\n",
    "\n",
    "    plt.scatter(\n",
    "        ds.isel(obs=0).lon.data.flatten(),\n",
    "        ds.isel(obs=0).z.data.flatten(),\n",
    "        20,\n",
    "        ds.isel(obs=0).vvel.data.flatten()*lon2metres_FSC\n",
    "         , vmin = -.2, vmax = .2\n",
    "        ,cmap= co.cm.balance\n",
    "    #    ,alpha=0.3\n",
    "    )\n",
    "\n",
    "    plt.ylim(1300,0)\n",
    "\n",
    "    plt.colorbar(label = \"vvel [m/s]\")\n",
    "    plt.show()\n",
    "    return"
   ]
  },
  {
   "cell_type": "code",
   "execution_count": null,
   "metadata": {
    "slideshow": {
     "slide_type": "fragment"
    }
   },
   "outputs": [],
   "source": [
    "plot_release_FSC()"
   ]
  },
  {
   "cell_type": "code",
   "execution_count": null,
   "metadata": {
    "slideshow": {
     "slide_type": "skip"
    }
   },
   "outputs": [],
   "source": [
    "transport_estimate_IFR = np.zeros(12)\n",
    "# print(transport_estimate_IFR)\n",
    "for i in range(12):\n",
    "    trackfile_IFR = files_tracks_IFR[i]\n",
    "    ds = xr.open_dataset(trackfile_IFR)\n",
    "    transport_estimate_IFR[i] = ((sectionAreaEW_IFR*ds.isel(obs=0).vvel*lat2metres_IFR +\n",
    "                            sectionAreaNS_IFR*ds.isel(obs=0).uvel*lon2metres_IFR)/nParticles).sum().data\n",
    "# print(transport_estimate_IFR)"
   ]
  },
  {
   "cell_type": "markdown",
   "metadata": {
    "slideshow": {
     "slide_type": "slide"
    }
   },
   "source": [
    "Iceland-Faroe Ridge particle release (December 2016)."
   ]
  },
  {
   "cell_type": "code",
   "execution_count": null,
   "metadata": {
    "slideshow": {
     "slide_type": "skip"
    }
   },
   "outputs": [],
   "source": [
    "def plot_release_IFR():\n",
    "    plt.figure(figsize = (12,5))\n",
    "\n",
    "    plt.scatter(\n",
    "        ds.isel(obs=0).lon.data.flatten(),\n",
    "        ds.isel(obs=0).z.data.flatten(),\n",
    "        20,\n",
    "        ds.isel(obs=0).vvel.data.flatten()*lon2metres_IFR\n",
    "         , vmin = -.2, vmax = .2\n",
    "        ,cmap= co.cm.balance\n",
    "    #    ,alpha=0.3\n",
    "    )\n",
    "\n",
    "    plt.ylim(1300,0)\n",
    "\n",
    "    plt.colorbar(label = \"vvel [m/s]\")\n",
    "    plt.show()\n",
    "    return"
   ]
  },
  {
   "cell_type": "code",
   "execution_count": null,
   "metadata": {
    "slideshow": {
     "slide_type": "fragment"
    }
   },
   "outputs": [],
   "source": [
    "plot_release_IFR()"
   ]
  },
  {
   "cell_type": "markdown",
   "metadata": {
    "slideshow": {
     "slide_type": "slide"
    }
   },
   "source": [
    "### Plot accurate transports from model calculations against estimates from random particle samples."
   ]
  },
  {
   "cell_type": "code",
   "execution_count": null,
   "metadata": {
    "slideshow": {
     "slide_type": "skip"
    }
   },
   "outputs": [],
   "source": [
    "plot_transport_comparison():\n",
    "    fig, ax = plt.subplots()\n",
    "    # transport_all.trsp[24:36].plot(color = 'k', label = 'Total')\n",
    "    # transport_GI.trsp[24:36].plot(label = 'Greenland-Iceland')\n",
    "    transport_IFR.trsp[24:36].plot(label = 'Iceland-Faroe')\n",
    "    transport_FSC.trsp[24:36].plot(label = 'Faroe-Shetland')\n",
    "    # transport_SS.trsp[24:36].plot(label = 'Shetland-Orkney-Scotland')\n",
    "    plt.ylabel(\"Northward Volume transport (Sv)\")\n",
    "    plt.xlabel(\"Date\")\n",
    "    plt.grid()\n",
    "\n",
    "    plt.ylim(0,4.5)\n",
    "    # format the ticks\n",
    "    ax.xaxis.set_major_formatter(years_fmt)\n",
    "\n",
    "    plt.scatter(transport_all.time_counter[24:36].data,transport_estimate_IFR/1000000.0,\n",
    "                marker = 'x', s = 50, label = 'I-F estimate')\n",
    "    plt.scatter(transport_all.time_counter[24:36].data,transport_estimate_FSC/1000000.0,\n",
    "                marker = 'x', s = 50, label = 'F-S estimate')\n",
    "    plt.legend()\n",
    "    plt.title(\"Northward transport comparison. Full model calculation vs. particle-based estimate\");\n",
    "    return"
   ]
  },
  {
   "cell_type": "code",
   "execution_count": null,
   "metadata": {
    "slideshow": {
     "slide_type": "fragment"
    }
   },
   "outputs": [],
   "source": [
    "plot_transport_comparison()"
   ]
  },
  {
   "cell_type": "markdown",
   "metadata": {
    "slideshow": {
     "slide_type": "slide"
    }
   },
   "source": [
    "### **Conclusion:** \n",
    "\n",
    "- Estimates are not bad with 4000 particles on each sub-section. Errors well below the monthly transport variability.\n",
    "\n",
    "$$12500\\, particles \\times 12\\, months \\times 40\\, years = 6000000\\, particles$$\n",
    "\n",
    "- There may be some systematic underestimate of total transport in Faroe-Shetland Channel.\n",
    "\n",
    "- Random sample was taken from the same positions each time. This may explain the possible bias. Probably need to vary this (while keeping it reproducible).\n",
    "\n",
    "- Probably under-sampling the strong narrow currents leads to the bias -- use more particles or release them more intelligently.\n"
   ]
  },
  {
   "cell_type": "code",
   "execution_count": null,
   "metadata": {
    "slideshow": {
     "slide_type": "skip"
    }
   },
   "outputs": [],
   "source": [
    "# %conda list"
   ]
  }
 ],
 "metadata": {
  "kernelspec": {
   "display_name": "py3cf2",
   "language": "python",
   "name": "py3cf2"
  },
  "language_info": {
   "codemirror_mode": {
    "name": "ipython",
    "version": 3
   },
   "file_extension": ".py",
   "mimetype": "text/x-python",
   "name": "python",
   "nbconvert_exporter": "python",
   "pygments_lexer": "ipython3",
   "version": "3.7.6"
  }
 },
 "nbformat": 4,
 "nbformat_minor": 4
}
