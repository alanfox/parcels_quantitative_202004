{
 "cells": [
  {
   "cell_type": "markdown",
   "metadata": {
    "slideshow": {
     "slide_type": "slide"
    }
   },
   "source": [
    "# OSNAP line Lagrangian particle tracking investigation of the cold/fresh blob\n"
   ]
  },
  {
   "cell_type": "markdown",
   "metadata": {
    "slideshow": {
     "slide_type": "fragment"
    }
   },
   "source": [
    "### The aim here is an investigation of the source of the cold/fresh blob which appeared in the near-surface Iceland Basin from about 2014. There are a couple of published explanations for the feature: \n",
    "\n",
    "- reduced heat/salt transport across RAPID array over several years propagating northwards (Bryden et al. 2020?) or \n",
    "- increased contribution from Labrador Sea water flowing into subpolar North Atlantic rather than southwards (Holliday et al. 2020?). Driven I think by specific,  more intermittent, weather near Flemish Cap (though I need to read this again...)"
   ]
  },
  {
   "cell_type": "markdown",
   "metadata": {
    "slideshow": {
     "slide_type": "fragment"
    }
   },
   "source": [
    "The technique is to track particles back from the OSNAP line, initially for 2 years. Each particle has an associated transport normal to OSNAP, which I use to estimate the contribution to volumes/heat/salt crossing OSNAP northwards from the two main routes - Gulf Stream and Labrador Sea. And see how that changes over the years from 2006 to 2017."
   ]
  },
  {
   "cell_type": "markdown",
   "metadata": {
    "slideshow": {
     "slide_type": "subslide"
    }
   },
   "source": [
    "The main conclusion is that from about 2012 Labrador Sea becomes a more important source of surface waters to the Iceland Basin, but there is also a reduction in the temperature and salinity of the water from the Gulf Stream. So probably a balance of both. **But I need to run the particles back further - 2 years is not long enough to pinpoint the pathway for most particles.**"
   ]
  },
  {
   "cell_type": "markdown",
   "metadata": {
    "slideshow": {
     "slide_type": "skip"
    }
   },
   "source": [
    "## Technical preamble"
   ]
  },
  {
   "cell_type": "code",
   "execution_count": null,
   "metadata": {
    "slideshow": {
     "slide_type": "skip"
    }
   },
   "outputs": [],
   "source": [
    "# import matplotlib.colors as colors\n",
    "import numpy as np\n",
    "from pathlib import Path\n",
    "import matplotlib.pyplot as plt\n",
    "import xarray as xr\n",
    "from datetime import datetime, timedelta\n",
    "import seaborn as sns\n",
    "# from matplotlib.colors import ListedColormap\n",
    "import cmocean as co\n",
    "import pandas as pd\n",
    "import matplotlib.dates as mdates\n",
    "import cartopy.crs as ccrs\n",
    "import cartopy\n",
    "import seawater as sw\n",
    "\n",
    "from matplotlib import colors as c\n",
    "from matplotlib import ticker\n",
    "from xhistogram.xarray import histogram\n",
    "\n",
    "sns.set(style=\"darkgrid\")\n",
    "\n",
    "xr.set_options(keep_attrs=True)\n",
    "np.warnings.filterwarnings('ignore')\n",
    "\n",
    "sns.set_palette(\"colorblind\")\n",
    "xr.set_options(keep_attrs=True);\n",
    "\n",
    "plt.rc('font', size=20) #controls default text size\n",
    "plt.rc('axes', titlesize=20) #fontsize of the title\n",
    "plt.rc('axes', labelsize=20) #fontsize of the x and y labels\n",
    "plt.rc('xtick', labelsize=20) #fontsize of the x tick labels\n",
    "plt.rc('ytick', labelsize=20) #fontsize of the y tick labels\n",
    "plt.rc('legend', fontsize=20) #fontsize of the legend\n",
    "plt.rc('savefig', dpi=300)       # higher res outputs"
   ]
  },
  {
   "cell_type": "markdown",
   "metadata": {
    "slideshow": {
     "slide_type": "skip"
    }
   },
   "source": [
    "## Set up paths and read in trajectory data"
   ]
  },
  {
   "cell_type": "code",
   "execution_count": null,
   "metadata": {
    "slideshow": {
     "slide_type": "skip"
    }
   },
   "outputs": [],
   "source": [
    "## Parameters\n",
    "# Project path\n",
    "project_path = Path.cwd() / '..' / '..' \n",
    "project_path = project_path.resolve()\n",
    "\n",
    "# Parcels track data file\n",
    "path_data_tracks = Path('data/processed/tracks/osnap/') \n",
    "filename_tracks = [\n",
    "                   'tracks_osnap_backward_200607_N2931_D1460_Rnd123.nc',\n",
    "                   'tracks_osnap_backward_200707_N2931_D1460_Rnd123.nc',\n",
    "                   'tracks_osnap_backward_200807_N2931_D1460_Rnd123.nc',\n",
    "                   'tracks_osnap_backward_200907_N2931_D1460_Rnd123.nc',\n",
    "                   'tracks_osnap_backward_201007_N2931_D1460_Rnd123.nc',\n",
    "                   'tracks_osnap_backward_201107_N2931_D1460_Rnd123.nc',\n",
    "                   'tracks_osnap_backward_201207_N2931_D1460_Rnd123.nc',\n",
    "                   'tracks_osnap_backward_201307_N2931_D1460_Rnd123.nc',\n",
    "                   'tracks_osnap_backward_201407_N2931_D1460_Rnd123.nc',\n",
    "                   'tracks_osnap_backward_201507_N2931_D1460_Rnd123.nc',\n",
    "                   'tracks_osnap_backward_201607_N2931_D1460_Rnd123.nc',\n",
    "                   'tracks_osnap_backward_201707_N2931_D1460_Rnd123.nc',\n",
    "                   'tracks_osnap_backward_200601_N2931_D1460_Rnd123.nc',\n",
    "                   'tracks_osnap_backward_200701_N2931_D1460_Rnd123.nc',\n",
    "                   'tracks_osnap_backward_200801_N2931_D1460_Rnd123.nc',\n",
    "                   'tracks_osnap_backward_200901_N2931_D1460_Rnd123.nc',\n",
    "                   'tracks_osnap_backward_201001_N2931_D1460_Rnd123.nc',\n",
    "                   'tracks_osnap_backward_201101_N2931_D1460_Rnd123.nc',\n",
    "                   'tracks_osnap_backward_201201_N2931_D1460_Rnd123.nc',\n",
    "                   'tracks_osnap_backward_201301_N2931_D1460_Rnd123.nc',\n",
    "                   'tracks_osnap_backward_201401_N2931_D1460_Rnd123.nc',\n",
    "                   'tracks_osnap_backward_201501_N2931_D1460_Rnd123.nc',\n",
    "                   'tracks_osnap_backward_201601_N2931_D1460_Rnd123.nc',\n",
    "                   'tracks_osnap_backward_201701_N2931_D1460_Rnd123.nc'\n",
    "]\n",
    "\n",
    "# model mask file\n",
    "data_path = Path(\"data/external/iAtlantic/\")\n",
    "experiment_name = \"VIKING20X.L46-KKG36107B\"\n",
    "mesh_mask_file = project_path / data_path / \"mask\" / experiment_name / \"1_mesh_mask.nc\"\n",
    "\n",
    "#section lonlat file\n",
    "sectionPath = Path('data/external/sections/')\n",
    "sectionFilename = 'osnap_pos_wp.txt'\n",
    "sectionname = 'osnap'\n",
    "gsrsectionFilename = 'gsr_pos_wp.txt'\n",
    "\n",
    "degree2km = 1.852*60.0\n",
    "\n",
    "\n",
    "# some transport values specific to osnap runs\n",
    "# randomly seeded 39995 particles, 19886 were in ocean points (the rest were land)\n",
    "\n",
    "# osnap_section_length = 3594572.87839    # m\n",
    "# osnap_section_depth = 4000 # m over which particles launched\n",
    "\n",
    "# osnap_section_ocean_area = osnap_section_length * osnap_section_depth * 19886.0 / 39995.0\n",
    "\n",
    "# particle_section_area = osnap_section_length * osnap_section_depth / 39995.0\n",
    "\n",
    "osnap_section_length = 3594572.87839    # m\n",
    "osnap_subsection_length = 1121724.76238   # m\n",
    "osnap_section_depth = 4000 # m over which particles launched\n",
    "osnap_subsection_depth = 500 # m over which particles launched\n",
    "\n",
    "osnap_subsection_ocean_area = osnap_subsection_length * osnap_subsection_depth * 2931.0 / 3119.0\n",
    "\n",
    "particle_section_area = osnap_subsection_length * osnap_subsection_depth / 3119.0\n"
   ]
  },
  {
   "cell_type": "markdown",
   "metadata": {
    "slideshow": {
     "slide_type": "skip"
    }
   },
   "source": [
    "## Load data"
   ]
  },
  {
   "cell_type": "markdown",
   "metadata": {
    "slideshow": {
     "slide_type": "skip"
    }
   },
   "source": [
    "### mesh and masks"
   ]
  },
  {
   "cell_type": "code",
   "execution_count": null,
   "metadata": {
    "slideshow": {
     "slide_type": "skip"
    }
   },
   "outputs": [],
   "source": [
    "mesh_mask = xr.open_dataset(mesh_mask_file)\n",
    "mesh_mask = mesh_mask.squeeze()\n",
    "mesh_mask = mesh_mask.set_coords([\"nav_lon\", \"nav_lat\", \"nav_lev\"])\n",
    "\n",
    "bathy = mesh_mask.mbathy.rename(\"number of water filled points\")\n",
    "\n",
    "depth = (mesh_mask.e3t_0 * mesh_mask.tmask).sum(\"z\")\n",
    "# display(mesh_mask)"
   ]
  },
  {
   "cell_type": "markdown",
   "metadata": {
    "slideshow": {
     "slide_type": "skip"
    }
   },
   "source": [
    "### section position data"
   ]
  },
  {
   "cell_type": "code",
   "execution_count": null,
   "metadata": {
    "slideshow": {
     "slide_type": "skip"
    }
   },
   "outputs": [],
   "source": [
    "lonlat = xr.Dataset(pd.read_csv(project_path / sectionPath / sectionFilename,delim_whitespace=True))\n",
    "lonlat['lon'] *= -1.0"
   ]
  },
  {
   "cell_type": "code",
   "execution_count": null,
   "metadata": {
    "slideshow": {
     "slide_type": "skip"
    }
   },
   "outputs": [],
   "source": [
    "lonlat.lon.attrs['long_name']='Longitude'\n",
    "lonlat.lat.attrs['long_name']='Latitude'\n",
    "lonlat.lon.attrs['standard_name']='longitude'\n",
    "lonlat.lat.attrs['standard_name']='latitude'\n",
    "lonlat.lon.attrs['units']='degrees_east'\n",
    "lonlat.lat.attrs['units']='degrees_north'\n",
    "\n",
    "lonlat2mean= lonlat.rolling({'dim_0':2}).mean()\n",
    "\n",
    "lonlatdiff = (lonlat.diff('dim_0'))\n",
    "\n",
    "lonlatdiff = lonlatdiff.assign({'y':lonlatdiff['lat']*degree2km})\n",
    "lonlatdiff = lonlatdiff.assign({'x':lonlatdiff['lon']*degree2km*np.cos(np.radians(lonlat2mean.lat.data[1:]))})\n",
    "lonlatdiff=lonlatdiff.assign({'length':np.sqrt(lonlatdiff['x']**2+lonlatdiff['y']**2)})\n",
    "lonlatdiff=lonlatdiff.assign({'costheta':lonlatdiff['x']/lonlatdiff['length']})\n",
    "lonlatdiff=lonlatdiff.assign({'sintheta':lonlatdiff['y']/lonlatdiff['length']})\n",
    "\n",
    "total_length = lonlatdiff.length.sum().data \n",
    "total_osnap_length = lonlatdiff.length[0:12].sum().data;  # exclude section across UK - just there for testing north/south\n",
    "\n",
    "length_west = xr.concat((xr.DataArray([0],dims=(\"dim_0\"),coords={\"dim_0\": [0]}),lonlatdiff.length.cumsum()),dim='dim_0')"
   ]
  },
  {
   "cell_type": "markdown",
   "metadata": {
    "slideshow": {
     "slide_type": "skip"
    }
   },
   "source": [
    "### tracks"
   ]
  },
  {
   "cell_type": "code",
   "execution_count": null,
   "metadata": {
    "slideshow": {
     "slide_type": "skip"
    }
   },
   "outputs": [],
   "source": [
    "for i,filename in enumerate(filename_tracks):\n",
    "    dst=xr.open_dataset(project_path / path_data_tracks / filename)\n",
    "    if i == 0:\n",
    "        ds=dst\n",
    "    else:\n",
    "        ds=xr.concat([ds,dst],dim='traj')\n"
   ]
  },
  {
   "cell_type": "markdown",
   "metadata": {
    "slideshow": {
     "slide_type": "skip"
    }
   },
   "source": [
    "#### Subset tracks by OSNAP line cross longitude and depth range"
   ]
  },
  {
   "cell_type": "code",
   "execution_count": null,
   "metadata": {
    "slideshow": {
     "slide_type": "skip"
    }
   },
   "outputs": [],
   "source": [
    "lonRange=[-30,-19]\n",
    "depthRange=[0,500]"
   ]
  },
  {
   "cell_type": "code",
   "execution_count": null,
   "metadata": {
    "slideshow": {
     "slide_type": "skip"
    }
   },
   "outputs": [],
   "source": [
    "ds = ds.where(ds.isel(obs=0).lon > lonRange[0]).where(ds.isel(obs=0).lon < lonRange[1])\n",
    "ds = ds.where(ds.isel(obs=0).z > depthRange[0]).where(ds.isel(obs=0).z < depthRange[1])\n",
    "ds = ds.dropna('traj', how='all')\n",
    "    "
   ]
  },
  {
   "cell_type": "markdown",
   "metadata": {
    "slideshow": {
     "slide_type": "skip"
    }
   },
   "source": [
    "#### Velocity conversions from degrees lat/lon per second to m/s"
   ]
  },
  {
   "cell_type": "code",
   "execution_count": null,
   "metadata": {
    "slideshow": {
     "slide_type": "skip"
    }
   },
   "outputs": [],
   "source": [
    "ds=ds.assign({'uvel_ms':ds.uvel * degree2km * 1000.0 * np.cos(np.radians(ds.lat))})\n",
    "ds=ds.assign({'vvel_ms':ds.vvel * degree2km * 1000.0})"
   ]
  },
  {
   "cell_type": "markdown",
   "metadata": {
    "slideshow": {
     "slide_type": "skip"
    }
   },
   "source": [
    "#### Extract fields on osnap line (obs=0). Find 'initial' velocities normal to the section.\n",
    "\n",
    "These are the positions we 'initialised' the particles with, but we ran particles backwards in time so these  represent the final positions, on the osnap line."
   ]
  },
  {
   "cell_type": "code",
   "execution_count": null,
   "metadata": {
    "slideshow": {
     "slide_type": "skip"
    }
   },
   "outputs": [],
   "source": [
    "ds_init = ds.isel(obs=0)"
   ]
  },
  {
   "cell_type": "code",
   "execution_count": null,
   "metadata": {
    "slideshow": {
     "slide_type": "skip"
    }
   },
   "outputs": [],
   "source": [
    "ds_start = ds.isel(obs=-1)"
   ]
  },
  {
   "cell_type": "code",
   "execution_count": null,
   "metadata": {
    "slideshow": {
     "slide_type": "skip"
    }
   },
   "outputs": [],
   "source": [
    "ds_init = ds_init.assign({'section_index':xr.DataArray(np.searchsorted(lonlat.lon,ds_init.lon)-1,dims='traj')})\n",
    "ds_init = ds_init.assign({'u_normal':ds_init.vvel_ms * lonlatdiff.costheta[ds_init.section_index].data - ds_init.uvel_ms * lonlatdiff.sintheta[ds_init.section_index].data})\n",
    "ds_init = ds_init.assign({'u_along':ds_init.vvel_ms * lonlatdiff.sintheta[ds_init.section_index].data + ds_init.uvel_ms * lonlatdiff.costheta[ds_init.section_index].data})\n"
   ]
  },
  {
   "cell_type": "markdown",
   "metadata": {
    "slideshow": {
     "slide_type": "skip"
    }
   },
   "source": [
    "#### Find along-section distances of initial points"
   ]
  },
  {
   "cell_type": "code",
   "execution_count": null,
   "metadata": {
    "slideshow": {
     "slide_type": "skip"
    }
   },
   "outputs": [],
   "source": [
    "ds_init = ds_init.assign({'x':xr.DataArray(length_west[ds_init.section_index] + lonlatdiff.length[ds_init.section_index]*\n",
    "                              (ds_init.lon - lonlat.lon[ds_init.section_index])/lonlatdiff.lon[ds_init.section_index],dims='traj')})"
   ]
  },
  {
   "cell_type": "markdown",
   "metadata": {},
   "source": [
    "### volume, temperature and salt transports along track"
   ]
  },
  {
   "cell_type": "code",
   "execution_count": null,
   "metadata": {},
   "outputs": [],
   "source": [
    "# at osnap line\n",
    "ds_init = ds_init.assign({'particle_vol':(ds_init.salt/ds_init.salt) * particle_section_area/1.0e06})\n",
    "ds_init = ds_init.assign({'vol_trans_normal':ds_init.u_normal * particle_section_area/1.0e06})\n",
    "ds_init = ds_init.assign({'temp_transport':ds_init.temp * ds_init.vol_trans_normal})\n",
    "ds_init = ds_init.assign({'salt_transport':ds_init.salt * ds_init.vol_trans_normal})\n",
    "ds_init = ds_init.assign({'depth_transport':ds_init.z * ds_init.vol_trans_normal})\n",
    "ds_init = ds_init.assign({'lon_transport':ds_init.lon * ds_init.vol_trans_normal})\n",
    "\n",
    "# full track assuming alongtrack volume transport conserved following particle\n",
    "ds = ds.assign({'temp_transport':ds.temp * ds_init.vol_trans_normal})\n",
    "ds = ds.assign({'salt_transport':ds.salt * ds_init.vol_trans_normal})\n",
    "ds = ds.assign({'vol_transport':ds_init.vol_trans_normal * ds.salt/ds.salt}) # trick to get full array dimensions"
   ]
  },
  {
   "cell_type": "code",
   "execution_count": null,
   "metadata": {},
   "outputs": [],
   "source": [
    "ds_init"
   ]
  },
  {
   "cell_type": "markdown",
   "metadata": {
    "slideshow": {
     "slide_type": "skip"
    }
   },
   "source": [
    "## Plot section"
   ]
  },
  {
   "cell_type": "code",
   "execution_count": null,
   "metadata": {
    "slideshow": {
     "slide_type": "skip"
    }
   },
   "outputs": [],
   "source": [
    "sns.set(style=\"whitegrid\")\n",
    "central_lon, central_lat = -30, 55\n",
    "fig, ax = plt.subplots(subplot_kw={'projection': ccrs.Orthographic(central_lon, central_lat)})\n",
    "extent = [-60, 0, 40, 70]\n",
    "ax.set_extent(extent)\n",
    "ax.gridlines()\n",
    "ax.coastlines(resolution='50m')\n",
    "\n",
    "lonlat.plot.scatter(ax=ax,transform=ccrs.PlateCarree(),x='lon',y='lat')\n",
    "lonlat2mean.plot.scatter(ax=ax,transform=ccrs.PlateCarree(),x='lon',y='lat');"
   ]
  },
  {
   "cell_type": "markdown",
   "metadata": {},
   "source": [
    "## Find track source regions"
   ]
  },
  {
   "cell_type": "code",
   "execution_count": null,
   "metadata": {
    "slideshow": {
     "slide_type": "skip"
    }
   },
   "outputs": [],
   "source": [
    "def apply_left_of_line(ds, lon_1, lon_2, lat_1, lat_2):\n",
    "    '''Apply an area crossing criterion.\n",
    "    \n",
    "    Larvae in ds selected while they are in a selected area.\n",
    "    '''\n",
    "    # particles are selected if they pass through given area.\n",
    "    position =  ((lon_2 -lon_1) * (ds.lat - lat_1) - \n",
    "                     (ds.lon - lon_1) * (lat_2 - lat_1))\n",
    "                        \n",
    "    return position > 0.0, position < 0"
   ]
  },
  {
   "cell_type": "markdown",
   "metadata": {
    "slideshow": {
     "slide_type": "skip"
    }
   },
   "source": [
    "#### identify tracks from Labrador sea or from Gulf Stream"
   ]
  },
  {
   "cell_type": "code",
   "execution_count": null,
   "metadata": {
    "slideshow": {
     "slide_type": "skip"
    }
   },
   "outputs": [],
   "source": [
    "# labrador sea\n",
    "ds_in1, ds_notin1 = apply_left_of_line(ds,-75,-40,40,65)\n",
    "ds_in2, ds_notin2 = apply_left_of_line(ds,-95,-60,52,52)\n",
    "ds_lab_sea_in = ds_in1*ds_in2\n",
    "\n",
    "# gulf stream\n",
    "ds_in, ds_notin = apply_left_of_line(ds,-60,-100,33,33)\n",
    "ds_60w_in = ds_in\n"
   ]
  },
  {
   "cell_type": "code",
   "execution_count": null,
   "metadata": {},
   "outputs": [],
   "source": [
    "# particles on osnap line\n",
    "ds_init_labsea = ds_init.where(ds_lab_sea_in.max(\"obs\"))\n",
    "ds_init_60w = ds_init.where(ds_60w_in.max(\"obs\"))\n",
    "ds_init_other = ds_init.where(ds_60w_in.max(\"obs\")==False).where(ds_lab_sea_in.max(\"obs\")==False)\n",
    "\n",
    "# particles throughout tracking timespan\n",
    "ds_lab_sea = ds.where(ds_lab_sea_in.max(\"obs\"))\n",
    "ds_60w = ds.where(ds_60w_in.max(\"obs\"))\n",
    "ds_other = ds.where(ds_lab_sea_in.max(\"obs\")==False).where(ds_60w_in.max(\"obs\")==False)  "
   ]
  },
  {
   "cell_type": "code",
   "execution_count": null,
   "metadata": {},
   "outputs": [],
   "source": [
    "# particles on osnap line\n",
    "ds_start_other = ds_start.where(ds_60w_in.max(\"obs\")==False).where(ds_lab_sea_in.max(\"obs\")==False)\n"
   ]
  },
  {
   "cell_type": "markdown",
   "metadata": {
    "slideshow": {
     "slide_type": "slide"
    }
   },
   "source": [
    "## Transports"
   ]
  },
  {
   "cell_type": "markdown",
   "metadata": {
    "slideshow": {
     "slide_type": "fragment"
    }
   },
   "source": [
    "### Near-surface (0-500 m ) transport northwards across the OSNAP section in the Iceland Basin (30-20 W). Plotted by particle source"
   ]
  },
  {
   "cell_type": "code",
   "execution_count": null,
   "metadata": {},
   "outputs": [],
   "source": [
    "def plot_transports_by_source():\n",
    "\n",
    "    sns.set(style=\"darkgrid\")\n",
    "    sns.set_palette(\"colorblind\")\n",
    "    fig,ax = plt.subplots(4,figsize = (9,12),sharex=True)\n",
    "\n",
    "    ds_init.groupby(\"time\").sum().particle_vol.plot(ax=ax[0],label='total')\n",
    "    ds_init_labsea.groupby(\"time\").sum().particle_vol.plot(ax=ax[0],label='labrador sea')\n",
    "    ds_init_60w.groupby(\"time\").sum().particle_vol.plot(ax=ax[0],label='gulf stream')\n",
    "    ds_init_other.groupby(\"time\").sum().particle_vol.plot(ax=ax[0],label='other')\n",
    "    ax[0].legend(bbox_to_anchor=(1.0, 1.05))\n",
    "    ax[0].set_ylabel('volume [$m^3 x 10^6$]')\n",
    "    ax[0].set_xlabel('')\n",
    "\n",
    "    ds_init.groupby(\"time\").sum().vol_trans_normal.plot(ax=ax[1],label='total')\n",
    "    ds_init_labsea.groupby(\"time\").sum().vol_trans_normal.plot(ax=ax[1],label='labrador sea')\n",
    "    ds_init_60w.groupby(\"time\").sum().vol_trans_normal.plot(ax=ax[1],label='gulf stream')\n",
    "    ds_init_other.groupby(\"time\").sum().vol_trans_normal.plot(ax=ax[1],label='other')\n",
    "    ax[1].legend(bbox_to_anchor=(1.0, 1.05))\n",
    "    ax[1].set_ylabel('transport [Sv]')\n",
    "    ax[1].set_xlabel('')\n",
    "\n",
    "    ds_init.groupby(\"time\").sum().temp_transport.plot(ax=ax[2],label='total')\n",
    "    ds_init_labsea.groupby(\"time\").sum().temp_transport.plot(ax=ax[2],label='labrador sea')\n",
    "    ds_init_60w.groupby(\"time\").sum().temp_transport.plot(ax=ax[2],label='gulf stream')\n",
    "    ds_init_other.groupby(\"time\").sum().temp_transport.plot(ax=ax[2],label='other')\n",
    "    ax[2].legend(bbox_to_anchor=(1.0, 1.05))\n",
    "    ax[2].set_ylabel('temperature transport [Sv $\\degree$C]')\n",
    "    ax[2].set_xlabel('')\n",
    "\n",
    "    ds_init.groupby(\"time\").sum().salt_transport.plot(ax=ax[3],label='total')\n",
    "    ds_init_labsea.groupby(\"time\").sum().salt_transport.plot(ax=ax[3],label='labrador sea')\n",
    "    ds_init_60w.groupby(\"time\").sum().salt_transport.plot(ax=ax[3],label='gulf stream')\n",
    "    ds_init_other.groupby(\"time\").sum().salt_transport.plot(ax=ax[3],label='other')\n",
    "    lgd=ax[3].legend(bbox_to_anchor=(1.0, 1.05))\n",
    "    ax[3].set_ylabel('salt transport [Sv PSU]')\n",
    "\n",
    "    title=fig.suptitle('Volumes and transports across OSNAP line by source. 30 to 19 $\\degree$W, upper 500 m.')\n",
    "    \n",
    "    plt.savefig('plot_transports_by_source.eps', bbox_extra_artists=(lgd,title), bbox_inches='tight')\n",
    "    plt.savefig('plot_transports_by_source.png', bbox_extra_artists=(lgd,title), bbox_inches='tight')\n",
    "    plt.savefig('plot_transports_by_source.pdf', bbox_extra_artists=(lgd,title), bbox_inches='tight')\n",
    "    \n",
    "    \n",
    "    return\n"
   ]
  },
  {
   "cell_type": "code",
   "execution_count": null,
   "metadata": {},
   "outputs": [],
   "source": [
    "def plot_volumes_by_source():\n",
    "\n",
    "    sns.set(style=\"darkgrid\")\n",
    "    sns.set_palette(\"colorblind\")\n",
    "    fig,ax = plt.subplots(3,figsize = (9,10),sharex=True)\n",
    "\n",
    "    ds_init.groupby(\"time\").sum().particle_vol.plot(ax=ax[0],label='total')\n",
    "    ds_init_labsea.groupby(\"time\").sum().particle_vol.plot(ax=ax[0],label='labrador sea')\n",
    "    ds_init_60w.groupby(\"time\").sum().particle_vol.plot(ax=ax[0],label='gulf stream')\n",
    "    ds_init_other.groupby(\"time\").sum().particle_vol.plot(ax=ax[0],label='other')\n",
    "    ax[0].legend(bbox_to_anchor=(1.0, 1.05))\n",
    "    ax[0].set_ylabel('volume [$m^3 x 10^6$]')\n",
    "    ax[0].set_xlabel('')\n",
    "\n",
    "    ds_init.groupby(\"time\").sum().temp_transport.plot(ax=ax[1],label='total')\n",
    "    ds_init_labsea.groupby(\"time\").sum().temp_transport.plot(ax=ax[1],label='labrador sea')\n",
    "    ds_init_60w.groupby(\"time\").sum().temp_transport.plot(ax=ax[1],label='gulf stream')\n",
    "    ds_init_other.groupby(\"time\").sum().temp_transport.plot(ax=ax[1],label='other')\n",
    "    ax[1].legend(bbox_to_anchor=(1.0, 1.05))\n",
    "    ax[1].set_ylabel('temperature transport [Sv $\\degree$C]')\n",
    "    ax[1].set_xlabel('')\n",
    "\n",
    "    ds_init.groupby(\"time\").sum().salt_transport.plot(ax=ax[2],label='total')\n",
    "    ds_init_labsea.groupby(\"time\").sum().salt_transport.plot(ax=ax[2],label='labrador sea')\n",
    "    ds_init_60w.groupby(\"time\").sum().salt_transport.plot(ax=ax[2],label='gulf stream')\n",
    "    ds_init_other.groupby(\"time\").sum().salt_transport.plot(ax=ax[2],label='other')\n",
    "    lgd=ax[2].legend(bbox_to_anchor=(1.0, 1.05))\n",
    "    ax[2].set_ylabel('salt transport [Sv PSU]')\n",
    "\n",
    "    title=fig.suptitle('Volume on OSNAP line by source. 30 to 19 $\\degree$W, upper 500 m.')\n",
    "    \n",
    "    plt.savefig('plot_volumes_by_source.eps', bbox_extra_artists=(lgd,title), bbox_inches='tight')\n",
    "    plt.savefig('plot_volumes_by_source.png', bbox_extra_artists=(lgd,title), bbox_inches='tight')\n",
    "    plt.savefig('plot_volumes_by_source.pdf', bbox_extra_artists=(lgd,title), bbox_inches='tight')\n",
    "    \n",
    "    \n",
    "    return\n"
   ]
  },
  {
   "cell_type": "markdown",
   "metadata": {
    "slideshow": {
     "slide_type": "subslide"
    }
   },
   "source": [
    "Notice the larger difference between volume transports originating from the Gulf Stream and from the Labrador Sea in the period 2006-2011, and smaller difference after 2012."
   ]
  },
  {
   "cell_type": "code",
   "execution_count": null,
   "metadata": {},
   "outputs": [],
   "source": [
    "plot_transports_by_source()"
   ]
  },
  {
   "cell_type": "code",
   "execution_count": null,
   "metadata": {},
   "outputs": [],
   "source": [
    "plot_volumes_by_source()"
   ]
  },
  {
   "cell_type": "code",
   "execution_count": null,
   "metadata": {},
   "outputs": [],
   "source": [
    "def plot_transportweighted_mean_properties_by_source():\n",
    "    sns.set(style=\"darkgrid\")\n",
    "    sns.set_palette(\"colorblind\")\n",
    "    fig,ax = plt.subplots(4,figsize = (8,10),sharex=True)\n",
    "\n",
    "    dsigts=ds_init.groupby(\"time\").sum()\n",
    "    dsigts_labsea=ds_init_labsea.groupby(\"time\").sum()\n",
    "    dsigts_60w=ds_init_60w.groupby(\"time\").sum()\n",
    "    dsigts_other=ds_init_other.groupby(\"time\").sum()\n",
    "\n",
    "    \n",
    "    (dsigts.temp_transport/dsigts.vol_trans_normal).plot(ax=ax[0],label='total')\n",
    "    (dsigts_labsea.temp_transport/dsigts_labsea.vol_trans_normal).plot(ax=ax[0],label='labrador sea')\n",
    "    (dsigts_60w.temp_transport/dsigts_60w.vol_trans_normal).plot(ax=ax[0],label='gulf stream')\n",
    "    (dsigts_other.temp_transport/dsigts_other.vol_trans_normal).plot(ax=ax[0],label='other')\n",
    "    ax[0].legend(bbox_to_anchor=(1.0, 1.05))\n",
    "    ax[0].set_ylabel('mean temperature [$\\degree$C]')\n",
    "    ax[0].set_xlabel('')\n",
    "\n",
    "    (dsigts.salt_transport/dsigts.vol_trans_normal).plot(ax=ax[1],label='total')\n",
    "    (dsigts_labsea.salt_transport/dsigts_labsea.vol_trans_normal).plot(ax=ax[1],label='labrador sea')\n",
    "    (dsigts_60w.salt_transport/dsigts_60w.vol_trans_normal).plot(ax=ax[1],label='gulf stream')\n",
    "    (dsigts_other.salt_transport/dsigts_other.vol_trans_normal).plot(ax=ax[1],label='other')\n",
    "    ax[1].legend(bbox_to_anchor=(1.0, 1.05))\n",
    "    ax[1].set_ylabel('mean salinity [PSU]')\n",
    "    ax[1].set_xlabel('')\n",
    "    \n",
    "    (dsigts.depth_transport/dsigts.vol_trans_normal).plot(ax=ax[2],label='total')\n",
    "    (dsigts_labsea.depth_transport/dsigts_labsea.vol_trans_normal).plot(ax=ax[2],label='labrador sea')\n",
    "    (dsigts_60w.depth_transport/dsigts_60w.vol_trans_normal).plot(ax=ax[2],label='gulf stream')\n",
    "    (dsigts_other.depth_transport/dsigts_other.vol_trans_normal).plot(ax=ax[2],label='other')\n",
    "    ax[2].legend(bbox_to_anchor=(1.0, 1.05))\n",
    "    ax[2].set_ylabel('mean depth [m]')\n",
    "    ax[2].invert_yaxis()\n",
    "    ax[2].set_xlabel('')\n",
    "\n",
    "    (dsigts.lon_transport/dsigts.vol_trans_normal).plot(ax=ax[3],label='total')\n",
    "    (dsigts_labsea.lon_transport/dsigts_labsea.vol_trans_normal).plot(ax=ax[3],label='labrador sea')\n",
    "    (dsigts_60w.lon_transport/dsigts_60w.vol_trans_normal).plot(ax=ax[3],label='gulf stream')\n",
    "    (dsigts_other.lon_transport/dsigts_other.vol_trans_normal).plot(ax=ax[3],label='other')\n",
    "    lgd = ax[3].legend(bbox_to_anchor=(1.0, 1.05))\n",
    "    ax[3].set_ylabel('mean longitude [$\\degree$E]')\n",
    "    ax[3].set_xlabel('')\n",
    "\n",
    "    title=fig.suptitle('transportweighted_mean_properties_by_source')\n",
    "    plt.savefig('transportweighted_mean_properties_by_source.eps', bbox_extra_artists=(lgd,title), bbox_inches='tight')\n",
    "    plt.savefig('transportweighted_mean_properties_by_source.png', bbox_extra_artists=(lgd,title), bbox_inches='tight')\n",
    "    plt.savefig('transportweighted_mean_properties_by_source.pdf', bbox_extra_artists=(lgd,title), bbox_inches='tight')\n",
    "    \n",
    "    \n",
    "    return"
   ]
  },
  {
   "cell_type": "code",
   "execution_count": null,
   "metadata": {},
   "outputs": [],
   "source": [
    "def plot_mean_properties_by_source():\n",
    "    sns.set(style=\"darkgrid\")\n",
    "    sns.set_palette(\"colorblind\")\n",
    "    fig,ax = plt.subplots(5,figsize = (8,13),sharex=True)\n",
    "\n",
    "    dsigtm=ds_init.groupby(\"time\").mean()\n",
    "    dsigtm_labsea=ds_init_labsea.groupby(\"time\").mean()\n",
    "    dsigtm_60w=ds_init_60w.groupby(\"time\").mean()\n",
    "    dsigtm_other=ds_init_other.groupby(\"time\").mean()\n",
    "\n",
    "        \n",
    "#     ds_init.groupby(\"time\").sum().particle_vol.plot(ax=ax[0],label='total')\n",
    "    ds_init_labsea.groupby(\"time\").sum().particle_vol.plot(ax=ax[0],label='labrador sea',color='C1')\n",
    "    ds_init_60w.groupby(\"time\").sum().particle_vol.plot(ax=ax[0],label='gulf stream',color='C2')\n",
    "    ds_init_other.groupby(\"time\").sum().particle_vol.plot(ax=ax[0],label='other',color='C3')\n",
    "    ax[0].legend(bbox_to_anchor=(1.0, 1.05))\n",
    "    ax[0].set_ylabel('volume [$m^3 x 10^6$]')\n",
    "    ax[0].set_xlabel('')\n",
    "    ax[0].set_ylim((0,200))\n",
    "\n",
    "    dsigtm.temp.plot(ax=ax[1],label='total')\n",
    "    dsigtm_labsea.temp.plot(ax=ax[1],label='labrador sea')\n",
    "    dsigtm_60w.temp.plot(ax=ax[1],label='gulf stream')\n",
    "    dsigtm_other.temp.plot(ax=ax[1],label='other')\n",
    "    ax[1].legend(bbox_to_anchor=(1.0, 1.05))\n",
    "    ax[1].set_ylabel('mean temperature [$\\degree$C]')\n",
    "    ax[1].set_xlabel('')\n",
    "\n",
    "    dsigtm.salt.plot(ax=ax[2],label='total')\n",
    "    dsigtm_labsea.salt.plot(ax=ax[2],label='labrador sea')\n",
    "    dsigtm_60w.salt.plot(ax=ax[2],label='gulf stream')\n",
    "    dsigtm_other.salt.plot(ax=ax[2],label='other')\n",
    "    ax[2].legend(bbox_to_anchor=(1.0, 1.05))\n",
    "    ax[2].set_ylabel('mean salinity [PSU]')\n",
    "    ax[2].set_xlabel('')\n",
    "\n",
    "    dsigtm.z.plot(ax=ax[3],label='total')\n",
    "    dsigtm_labsea.z.plot(ax=ax[3],label='labrador sea')\n",
    "    dsigtm_60w.z.plot(ax=ax[3],label='gulf stream')\n",
    "    dsigtm_other.z.plot(ax=ax[3],label='other')\n",
    "    ax[3].legend(bbox_to_anchor=(1.0, 1.05))\n",
    "    ax[3].set_ylabel('mean depth [m]')\n",
    "    ax[3].invert_yaxis()\n",
    "    ax[3].set_xlabel('')\n",
    "    \n",
    "    dsigtm.lon.plot(ax=ax[4],label='total')\n",
    "    dsigtm_labsea.lon.plot(ax=ax[4],label='labrador sea')\n",
    "    dsigtm_60w.lon.plot(ax=ax[4],label='gulf stream')\n",
    "    dsigtm_other.lon.plot(ax=ax[4],label='other')\n",
    "    lgd3 = ax[4].legend(bbox_to_anchor=(1.0, 1.05))\n",
    "    ax[4].set_ylabel('mean longitude [$\\degree$E]')\n",
    "    ax[4].set_xlabel('')\n",
    "\n",
    "\n",
    "    title=fig.suptitle('mean_properties_on_OSNAP_by_source',y=.92)\n",
    "#     plt.savefig('mean_properties_by_source.eps', bbox_extra_artists=(lgd3,title), bbox_inches='tight')\n",
    "    plt.savefig('mean_properties_by_source.png', bbox_extra_artists=(lgd3,title), bbox_inches='tight')\n",
    "#     plt.savefig('mean_properties_by_source.pdf', bbox_extra_artists=(lgd3,title), bbox_inches='tight')\n",
    "    \n",
    "    \n",
    "    return"
   ]
  },
  {
   "cell_type": "markdown",
   "metadata": {
    "slideshow": {
     "slide_type": "subslide"
    }
   },
   "source": [
    "This is the average temperature and salinity, weighted with the normal volume transport, when the water crosses the OSNAP section. So it will have been modified from the water properties in the 'source' region."
   ]
  },
  {
   "cell_type": "code",
   "execution_count": null,
   "metadata": {},
   "outputs": [],
   "source": [
    "plot_transportweighted_mean_properties_by_source()"
   ]
  },
  {
   "cell_type": "code",
   "execution_count": null,
   "metadata": {},
   "outputs": [],
   "source": [
    "plot_mean_properties_by_source()"
   ]
  },
  {
   "cell_type": "markdown",
   "metadata": {
    "slideshow": {
     "slide_type": "skip"
    }
   },
   "source": [
    "### along-track evolution of temperature and salinity"
   ]
  },
  {
   "cell_type": "code",
   "execution_count": null,
   "metadata": {
    "slideshow": {
     "slide_type": "skip"
    }
   },
   "outputs": [],
   "source": [
    "ds_ffill = ds.where(ds.temp!=0.0).dropna('traj', how='all').ffill(dim='obs')\n",
    "ds_lab_sea_ffill = ds_lab_sea.where(ds_lab_sea.temp!=0.0).dropna('traj', how='all').ffill(dim='obs')\n",
    "ds_60w_ffill = ds_60w.where(ds_60w.temp!=0.0).dropna('traj', how='all').ffill(dim='obs')\n",
    "ds_other_ffill = ds_other.where(ds_other.temp!=0.0).dropna('traj', how='all').ffill(dim='obs')"
   ]
  },
  {
   "cell_type": "code",
   "execution_count": null,
   "metadata": {},
   "outputs": [],
   "source": [
    "def plot_alongtrack_av_timeseries(dsi,dsi_init,title_text):\n",
    "    sns.set(style=\"darkgrid\")\n",
    "    sns.set_palette(\"Paired\")\n",
    "    \n",
    "    fig,ax = plt.subplots(2,figsize = (13,12),sharex=True)\n",
    "\n",
    "    for name,group in dsi_init.groupby(\"time\"):\n",
    "        ds_temp = dsi.where(dsi.isel(obs=0).time == name).dropna('traj', how='all')\n",
    "        t=ds_temp.time.min(dim='traj')\n",
    "        ax[0].plot(t,ds_temp.temp.mean(dim='traj'))\n",
    "        ax[1].plot(t,ds_temp.salt.mean(dim='traj'))\n",
    "        \n",
    "    ax[0].set_ylim(2.5,18.5)\n",
    "    ax[1].set_ylim(34.41,36.15)    \n",
    "    ax[0].set_ylabel('mean temperature [$\\degree$C]')\n",
    "    ax[1].set_ylabel('mean salinity [PSU]')\n",
    "\n",
    "    title=fig.suptitle(title_text + '  plot_alongtrack_av_timeseries')\n",
    "    plt.savefig('plot_alongtrack_av_timeseries'+title_text+'.eps', bbox_extra_artists=(title,), bbox_inches='tight')\n",
    "    plt.savefig('plot_alongtrack_av_timeseries'+title_text+'.png', bbox_extra_artists=(title,), bbox_inches='tight')\n",
    "    plt.savefig('plot_alongtrack_av_timeseries'+title_text+'.pdf', bbox_extra_artists=(title,), bbox_inches='tight')\n",
    "    \n",
    "    return"
   ]
  },
  {
   "cell_type": "markdown",
   "metadata": {
    "slideshow": {
     "slide_type": "slide"
    }
   },
   "source": [
    "## Mean temperature and salinity alongtrack.\n",
    "\n",
    "Colours correspond to individual releases. Particles were tracked backwards in time, so the right-hand end of each track section is the time it crossed OSNAP line.\n",
    "\n",
    "The idea is to try to get an idea of how much the water properties have been modified between the source region and OSNAP.\n"
   ]
  },
  {
   "cell_type": "code",
   "execution_count": null,
   "metadata": {},
   "outputs": [],
   "source": [
    "plot_alongtrack_av_timeseries(ds_ffill,ds_init, 'all_particles')"
   ]
  },
  {
   "cell_type": "code",
   "execution_count": null,
   "metadata": {},
   "outputs": [],
   "source": [
    "plot_alongtrack_av_timeseries(ds_lab_sea_ffill,ds_init_labsea, 'from_labrador_sea')"
   ]
  },
  {
   "cell_type": "code",
   "execution_count": null,
   "metadata": {},
   "outputs": [],
   "source": [
    "plot_alongtrack_av_timeseries(ds_60w_ffill,ds_init_60w, 'from_gulf_stream')"
   ]
  },
  {
   "cell_type": "code",
   "execution_count": null,
   "metadata": {},
   "outputs": [],
   "source": [
    "plot_alongtrack_av_timeseries(ds_other_ffill,ds_init_other, 'other_particles')"
   ]
  },
  {
   "cell_type": "markdown",
   "metadata": {
    "slideshow": {
     "slide_type": "slide"
    }
   },
   "source": [
    "## Mean transport-weighted temperature and salinity alongtrack.\n",
    "\n",
    "Colours correspond to individual releases. Particles were tracked backwards in time, so the right-hand end of each track section is the time it crossed OSNAP line.\n",
    "\n",
    "The idea is to try to get an idea of how much the water properties have been modified between the source region and OSNAP.\n"
   ]
  },
  {
   "cell_type": "code",
   "execution_count": null,
   "metadata": {
    "slideshow": {
     "slide_type": "skip"
    }
   },
   "outputs": [],
   "source": [
    "def plot_alongtrack_av_flux_timeseries(dsi,dsi_init, title_text):\n",
    "    sns.set(style=\"darkgrid\")\n",
    "    sns.set_palette(\"Paired\")\n",
    "\n",
    "    fig,ax = plt.subplots(2,figsize = (13,12),sharex=True)\n",
    "\n",
    "    for name,group in dsi_init.groupby(\"time\"):\n",
    "        ds_temp = dsi.where(dsi.isel(obs=0).time == name).dropna('traj', how='all')\n",
    "        t = ds_temp.time.min(dim='traj')\n",
    "        ax[0].plot(t,\n",
    "                ds_temp.temp_transport.sum(dim='traj')/ds_temp.vol_transport.sum(dim='traj'))\n",
    "        ax[1].plot(t,\n",
    "                ds_temp.salt_transport.sum(dim='traj')/ds_temp.vol_transport.sum(dim='traj'))\n",
    "        \n",
    "    ax[0].set_ylim(2.5,18.5)\n",
    "    ax[1].set_ylim(34.41,36.15)\n",
    "    \n",
    "    ax[0].set_ylabel('mean temperature [$\\degree$C]')\n",
    "    ax[1].set_ylabel('mean salinity [PSU]')\n",
    "\n",
    "    title=fig.suptitle(title_text + '  plot_alongtrack_av_flux_timeseries')\n",
    "    plt.savefig('plot_alongtrack_av_flux_timeseries'+title_text+'.eps', bbox_extra_artists=(title,), bbox_inches='tight')\n",
    "    plt.savefig('plot_alongtrack_av_flux_timeseries'+title_text+'.png', bbox_extra_artists=(title,), bbox_inches='tight')\n",
    "    plt.savefig('plot_alongtrack_av_flux_timeseries'+title_text+'.pdf', bbox_extra_artists=(title,), bbox_inches='tight')\n"
   ]
  },
  {
   "cell_type": "code",
   "execution_count": null,
   "metadata": {
    "slideshow": {
     "slide_type": "fragment"
    }
   },
   "outputs": [],
   "source": [
    "plot_alongtrack_av_flux_timeseries(ds_ffill,ds_init, 'all_particles')"
   ]
  },
  {
   "cell_type": "code",
   "execution_count": null,
   "metadata": {
    "slideshow": {
     "slide_type": "fragment"
    }
   },
   "outputs": [],
   "source": [
    "plot_alongtrack_av_flux_timeseries(ds_lab_sea_ffill,ds_init_labsea, 'from_labrador_sea')"
   ]
  },
  {
   "cell_type": "code",
   "execution_count": null,
   "metadata": {
    "slideshow": {
     "slide_type": "fragment"
    }
   },
   "outputs": [],
   "source": [
    "plot_alongtrack_av_flux_timeseries(ds_60w_ffill,ds_init_60w, 'from_gulf_stream')"
   ]
  },
  {
   "cell_type": "code",
   "execution_count": null,
   "metadata": {
    "slideshow": {
     "slide_type": "fragment"
    }
   },
   "outputs": [],
   "source": [
    "plot_alongtrack_av_flux_timeseries(ds_other_ffill,ds_init_other, 'other_particles')"
   ]
  },
  {
   "cell_type": "markdown",
   "metadata": {},
   "source": [
    "### Some experimental plots"
   ]
  },
  {
   "cell_type": "markdown",
   "metadata": {},
   "source": [
    "time and salinity when left Labrador Sea"
   ]
  },
  {
   "cell_type": "code",
   "execution_count": null,
   "metadata": {},
   "outputs": [],
   "source": [
    "sns.set_palette(\"colorblind\")\n",
    "fig,ax = plt.subplots(2,figsize=(8,7))\n",
    "\n",
    "\n",
    "test = ds.where(ds_lab_sea_in.max(\"obs\")).isel(obs=ds_lab_sea_in.argmax(dim='obs'),traj=ds_lab_sea_in.traj).dropna(dim='traj', how='all')\n",
    "test2 = ds_init_labsea.dropna(dim='traj', how='all')\n",
    "\n",
    "dt = []\n",
    "dtemp=[]\n",
    "dsalt=[]\n",
    "t=[]\n",
    "\n",
    "\n",
    "for name,group in test2.groupby(\"time\"):\n",
    "    test3 = test.where(test2.time== name).dropna(dim='traj', how='all')\n",
    "    \n",
    "    t.append(name)\n",
    "    dt.append((group.time-test3.time).mean().data.astype('timedelta64[D]').astype(int))\n",
    "    dtemp.append((group.temp-test3.temp).mean().data)\n",
    "    dsalt.append((group.salt-test3.salt).mean().data)\n",
    "    \n",
    "#     ax[0].scatter(name,(group.time-test3.time).mean().data.astype('timedelta64[D]').astype(int))\n",
    "#     ax[1].scatter(name,(group.temp-test3.temp).mean().data)\n",
    "#     ax[2].scatter(name,(group.salt-test3.salt).mean().data)\n",
    "    \n",
    "    \n",
    "ax[0].plot(t,dt,color='C1')\n",
    "    \n",
    "pcm = ax[1].hist(x=(test2.time-test.time).data.astype('timedelta64[D]').astype(int),bins=50,color='C1')\n",
    "\n",
    "\n",
    "\n",
    "ax[0].set_xlabel('date at OSNAP line')\n",
    "ax[0].set_ylabel('mean transit time [days]')\n",
    "ax[0].set_ylim((0,1100))\n",
    "ax[1].set_xlabel('particle transit times [days]')\n",
    "ax[1].set_ylabel('particle count')\n",
    "ax[1].set_ylim((0,540))\n",
    "ax[1].set_xlim((0,1500))\n",
    "\n",
    "title=fig.suptitle('Transit of particles from Labrador Sea')\n",
    "# plt.savefig('particle_transit_labsea.eps', bbox_extra_artists=(title,), bbox_inches='tight')\n",
    "plt.savefig('particle_transit_labsea.png', bbox_extra_artists=(title,), bbox_inches='tight',dpi=300)\n",
    "# plt.savefig('particle_transit_labsea.pdf', bbox_extra_artists=(title,), bbox_inches='tight')\n",
    "\n",
    "\n"
   ]
  },
  {
   "cell_type": "code",
   "execution_count": null,
   "metadata": {},
   "outputs": [],
   "source": [
    "sns.set_palette(\"colorblind\")\n",
    "fig,ax = plt.subplots(2,figsize=(8,7))\n",
    "\n",
    "\n",
    "test = ds.where(ds_60w_in.max(\"obs\")).isel(obs=ds_60w_in.argmax(dim='obs'),traj=ds_60w_in.traj).dropna(dim='traj', how='all')\n",
    "test2 = ds_init_60w.dropna(dim='traj', how='all')\n",
    "\n",
    "dt = []\n",
    "dtemp=[]\n",
    "dsalt=[]\n",
    "t=[]\n",
    "\n",
    "\n",
    "for name,group in test2.groupby(\"time\"):\n",
    "    test3 = test.where(test2.time== name).dropna(dim='traj', how='all')\n",
    "    \n",
    "    t.append(name)\n",
    "    dt.append((group.time-test3.time).mean().data.astype('timedelta64[D]').astype(int))\n",
    "    dtemp.append((group.temp-test3.temp).mean().data)\n",
    "    dsalt.append((group.salt-test3.salt).mean().data)\n",
    "    \n",
    "#     ax[0].scatter(name,(group.time-test3.time).mean().data.astype('timedelta64[D]').astype(int))\n",
    "#     ax[1].scatter(name,(group.temp-test3.temp).mean().data)\n",
    "#     ax[2].scatter(name,(group.salt-test3.salt).mean().data)\n",
    "    \n",
    "    \n",
    "ax[0].plot(t,dt,color='C2')\n",
    "    \n",
    "pcm = ax[1].hist(x=(test2.time-test.time).data.astype('timedelta64[D]').astype(int),bins=50,color='C2')\n",
    "\n",
    "ax[0].set_xlabel('date at OSNAP line')\n",
    "ax[0].set_ylabel('mean transit time [days]')\n",
    "ax[0].set_ylim((0,1100))\n",
    "ax[1].set_xlabel('particle transit times [days]')\n",
    "ax[1].set_ylabel('particle count')\n",
    "ax[1].set_ylim((0,550))\n",
    "ax[1].set_xlim((0,1500))\n",
    "\n",
    "\n",
    "title=fig.suptitle('Transit of particles from Gulf Stream')\n",
    "# plt.savefig('particle_transit_gulfstream.eps', bbox_extra_artists=(title,), bbox_inches='tight')\n",
    "plt.savefig('particle_transit_gulfstream.png', bbox_extra_artists=(title,), bbox_inches='tight',dpi=300)\n",
    "# plt.savefig('particle_transit_gulfstream.pdf', bbox_extra_artists=(title,), bbox_inches='tight')\n",
    "\n"
   ]
  },
  {
   "cell_type": "code",
   "execution_count": null,
   "metadata": {},
   "outputs": [],
   "source": [
    "\n",
    "test_ls = ds.where(ds_lab_sea_in.max(\"obs\")).isel(obs=ds_lab_sea_in.argmax(dim='obs'),traj=ds_lab_sea_in.traj).dropna(dim='traj', how='all')\n",
    "test2_ls = ds_init_labsea.dropna(dim='traj', how='all')\n",
    "test_gs = ds.where(ds_60w_in.max(\"obs\")).isel(obs=ds_60w_in.argmax(dim='obs'),traj=ds_60w_in.traj).dropna(dim='traj', how='all')\n",
    "test2_gs = ds_init_60w.dropna(dim='traj', how='all')\n",
    "\n",
    "dt_ls = []\n",
    "dtemp_ls=[]\n",
    "dsalt_ls=[]\n",
    "temp_start_ls=[]\n",
    "salt_start_ls=[]\n",
    "temp_end_ls=[]\n",
    "salt_end_ls=[]\n",
    "t_ls=[]\n",
    "\n",
    "dt_gs = []\n",
    "dtemp_gs=[]\n",
    "dsalt_gs=[]\n",
    "temp_start_gs=[]\n",
    "salt_start_gs=[]\n",
    "temp_end_gs=[]\n",
    "salt_end_gs=[]\n",
    "t_gs=[]\n",
    "\n",
    "\n",
    "for name,group in test2_ls.groupby(\"time\"):\n",
    "    test3 = test_ls.where(test2_ls.time== name).dropna(dim='traj', how='all')\n",
    "    \n",
    "    t_ls.append(name)\n",
    "    dt_ls.append((group.time-test3.time).mean().data.astype('timedelta64[D]').astype(int))\n",
    "    temp_start_ls.append((test3.temp).mean().data)\n",
    "    salt_start_ls.append((test3.salt).mean().data)\n",
    "    temp_end_ls.append((group.temp).mean().data)\n",
    "    salt_end_ls.append((group.salt).mean().data)\n",
    "    dtemp_ls.append((group.temp-test3.temp).mean().data)\n",
    "    dsalt_ls.append((group.salt-test3.salt).mean().data)\n",
    "    \n",
    "for name,group in test2_gs.groupby(\"time\"):\n",
    "    test3 = test_gs.where(test2_gs.time== name).dropna(dim='traj', how='all')\n",
    "    \n",
    "    t_gs.append(name)\n",
    "    dt_gs.append((group.time-test3.time).mean().data.astype('timedelta64[D]').astype(int))\n",
    "    temp_start_gs.append((test3.temp).mean().data)\n",
    "    salt_start_gs.append((test3.salt).mean().data)\n",
    "    temp_end_gs.append((group.temp).mean().data)\n",
    "    salt_end_gs.append((group.salt).mean().data)\n",
    "    dtemp_gs.append((group.temp-test3.temp).mean().data)\n",
    "    dsalt_gs.append((group.salt-test3.salt).mean().data)\n",
    "    \n",
    "#     ax[0].scatter(name,(group.time-test3.time).mean().data.astype('timedelta64[D]').astype(int))\n",
    "#     ax[1].scatter(name,(group.temp-test3.temp).mean().data)\n",
    "#     ax[2].scatter(name,(group.salt-test3.salt).mean().data)\n",
    "    "
   ]
  },
  {
   "cell_type": "code",
   "execution_count": null,
   "metadata": {},
   "outputs": [],
   "source": [
    "sns.set_palette(\"colorblind\")\n",
    "    \n",
    "fig,ax = plt.subplots(6,figsize=(8,14),sharex=True)\n",
    "\n",
    "ax[0].plot(t,temp_start_ls,color='C1')\n",
    "ax[1].plot(t,temp_end_ls,color='C1')\n",
    "ax[2].plot(t,dtemp_ls,color='C1')\n",
    "    \n",
    "\n",
    "ax[0].set_ylim(2.5,5.5)\n",
    "ax[1].set_ylim(7.5,10.5)\n",
    "ax[2].set_ylim(3.6,6.6)\n",
    "\n",
    "ax[0].set_xlabel('')\n",
    "ax[0].set_ylabel('mean start T [$\\degree$C')\n",
    "ax[1].set_xlabel('')\n",
    "ax[1].set_ylabel('mean end T [$\\degree$C]')\n",
    "ax[2].set_xlabel('')\n",
    "ax[2].set_ylabel('mean deltaT [$\\degree$C')\n",
    "\n",
    "ax[3].plot(t,salt_start_ls,color='C1')\n",
    "ax[4].plot(t,salt_end_ls,color='C1')\n",
    "ax[5].plot(t,dsalt_ls,color='C1')\n",
    "    \n",
    "ax[3].set_ylim(34.3,34.9)\n",
    "ax[4].set_ylim(34.85,35.45)\n",
    "ax[5].set_ylim(0.25,0.85)\n",
    "\n",
    "ax[3].set_xlabel('')\n",
    "ax[3].set_ylabel('mean start S [PSU]')\n",
    "ax[4].set_xlabel('')\n",
    "ax[4].set_ylabel('mean end S [PSU]')\n",
    "ax[5].set_xlabel('date at OSNAP line')\n",
    "ax[5].set_ylabel('mean deltaS [PSU]')\n",
    "\n",
    "title=fig.suptitle('Transit of particles from Labrador Sea',y=.9)\n",
    "# plt.savefig('particle_transit_labsea_TS.eps', bbox_extra_artists=(title,), bbox_inches='tight')\n",
    "plt.savefig('particle_transit_labsea_TS.png', bbox_extra_artists=(title,), bbox_inches='tight',dpi=300)\n",
    "# plt.savefig('particle_transit_labsea_TS.pdf', bbox_extra_artists=(title,), bbox_inches='tight')\n"
   ]
  },
  {
   "cell_type": "code",
   "execution_count": null,
   "metadata": {},
   "outputs": [],
   "source": [
    "sns.set_palette(\"colorblind\")\n",
    "    \n",
    "fig,ax = plt.subplots(6,figsize=(8,14),sharex=True)\n",
    "\n",
    "ax[0].plot(t,temp_start_gs,color='C2')\n",
    "ax[1].plot(t,temp_end_gs,color='C2')\n",
    "ax[2].plot(t,dtemp_gs,color='C2')\n",
    "    \n",
    "\n",
    "ax[0].set_ylim(15,18)\n",
    "ax[1].set_ylim(8,11)\n",
    "ax[2].set_ylim(-8.5,-5.5)\n",
    "\n",
    "ax[0].set_xlabel('')\n",
    "ax[0].set_ylabel('mean start T [$\\degree$C]')\n",
    "ax[1].set_xlabel('')\n",
    "ax[1].set_ylabel('mean end T [$\\degree$C]')\n",
    "ax[2].set_xlabel('')\n",
    "ax[2].set_ylabel('mean deltaT [$\\degree$C]')\n",
    "\n",
    "ax[3].plot(t,salt_start_gs,color='C2')\n",
    "ax[4].plot(t,salt_end_gs,color='C2')\n",
    "ax[5].plot(t,dsalt_gs,color='C2')\n",
    "    \n",
    "\n",
    "ax[3].set_ylim(35.6,36.2)\n",
    "ax[4].set_ylim(34.85,35.45)\n",
    "ax[5].set_ylim(-1,-0.4)\n",
    "\n",
    "ax[3].set_xlabel('')\n",
    "ax[3].set_ylabel('mean start S [PSU]')\n",
    "ax[4].set_xlabel('')\n",
    "ax[4].set_ylabel('mean end S [PSU]')\n",
    "ax[5].set_xlabel('date at OSNAP line')\n",
    "ax[5].set_ylabel('mean deltaS [PSU]')\n",
    "\n",
    "\n",
    "title=fig.suptitle('Transit of particles from Gulf Stream',y=.9)\n",
    "# plt.savefig('particle_transit_gs_T.eps', bbox_extra_artists=(title,), bbox_inches='tight')\n",
    "plt.savefig('particle_transit_gs_TS.png', bbox_extra_artists=(title,), bbox_inches='tight',dpi=300)\n",
    "# plt.savefig('particle_transit_gs_T.pdf', bbox_extra_artists=(title,), bbox_inches='tight')"
   ]
  },
  {
   "cell_type": "markdown",
   "metadata": {},
   "source": [
    "## Along-track salt budget"
   ]
  },
  {
   "cell_type": "code",
   "execution_count": null,
   "metadata": {},
   "outputs": [],
   "source": [
    "vol_total = ds_init.groupby(\"time\").sum().particle_vol\n",
    "vol_labsea = ds_init_labsea.groupby(\"time\").sum().particle_vol\n",
    "vol_60w = ds_init_60w.groupby(\"time\").sum().particle_vol\n",
    "vol_other = ds_init_other.groupby(\"time\").sum().particle_vol\n",
    "\n",
    "mean_salt = ds_init.salt.mean()\n",
    "display(mean_salt)\n",
    "\n",
    "salt_mass_total  = vol_total  * (ds_init.groupby(\"time\").mean().salt - mean_salt.data)\n",
    "salt_mass_labsea = vol_labsea * (ds_init_labsea.groupby(\"time\").mean().salt - mean_salt.data)\n",
    "salt_mass_60w    = vol_60w    * (ds_init_60w.groupby(\"time\").mean().salt - mean_salt.data)\n",
    "salt_mass_other  = vol_other  * (ds_init_other.groupby(\"time\").mean().salt - mean_salt.data)\n",
    "\n",
    "salt_mass_start_ls = vol_labsea * (np.array(salt_start_ls) - mean_salt.data)\n",
    "salt_mass_start_gs = vol_60w * (np.array(salt_start_gs) - mean_salt.data)\n",
    "\n",
    "salt_mass_start_other = vol_other  * (ds_start_other.groupby(\"time\").mean().salt.data - mean_salt.data)\n",
    "\n",
    "salt_mass_total.attrs['long_name']='total salt'\n",
    "salt_mass_total.attrs['units']='PSU $\\mathrm{m}^3$'\n",
    "salt_mass_labsea.attrs['long_name']='total salt'\n",
    "salt_mass_labsea.attrs['units']='PSU $\\mathrm{m}^3$'\n",
    "salt_mass_60w.attrs['long_name']='total salt'\n",
    "salt_mass_60w.attrs['units']='PSU $\\mathrm{m}^3$'\n",
    "salt_mass_other.attrs['long_name']='total salt'\n",
    "salt_mass_other.attrs['units']='PSU $\\mathrm{m}^3$'\n",
    "salt_mass_start_ls.attrs['long_name']='total salt'\n",
    "salt_mass_start_ls.attrs['units']='PSU $\\mathrm{m}^3$'\n",
    "salt_mass_start_gs.attrs['long_name']='total salt'\n",
    "salt_mass_start_gs.attrs['units']='PSU $\\mathrm{m}^3$'\n",
    "salt_mass_start_other.attrs['long_name']='total salt'\n",
    "salt_mass_start_other.attrs['units']='PSU $\\mathrm{m}^3$'\n"
   ]
  },
  {
   "cell_type": "code",
   "execution_count": null,
   "metadata": {},
   "outputs": [],
   "source": [
    "sns.set_palette(\"colorblind\")\n",
    "\n",
    "fig,ax = plt.subplots(2,figsize=(7,7),sharex=True)\n",
    "\n",
    "\n",
    "(salt_mass_total-salt_mass_total[0]).plot(ax=ax[0],label='total')\n",
    "(salt_mass_labsea-salt_mass_labsea[0]).plot(ax=ax[0],label='labrador sea',color='C1')\n",
    "(salt_mass_60w-salt_mass_60w[0]).plot(ax=ax[0],label='gulf stream',color='C2')\n",
    "(salt_mass_other-salt_mass_other[0]).plot(ax=ax[0],label='other',color='C3')\n",
    "\n",
    "salt_mass_transit = (salt_mass_total-(salt_mass_start_ls+salt_mass_start_gs+salt_mass_start_other))\n",
    "(salt_mass_total-salt_mass_total[0]).plot(ax=ax[1],label='total')\n",
    "(salt_mass_start_ls-salt_mass_start_ls[0]).plot(ax=ax[1],label='labrador sea',color='C1')\n",
    "(salt_mass_start_gs-salt_mass_start_gs[0]).plot(ax=ax[1],label='gulf stream',color='C2')\n",
    "(salt_mass_start_other-salt_mass_start_other[0]).plot(ax=ax[1],label='other',color='C3')\n",
    "((salt_mass_transit-salt_mass_transit[0])).plot(ax=ax[1],label='transit',color='C4')\n",
    "\n",
    "\n",
    "ax[0].set_xlabel('')\n",
    "\n",
    "ax[0].legend(bbox_to_anchor=(1.0, 1.02))\n",
    "lgd1 = ax[1].legend(bbox_to_anchor=(1.0, 1.02))\n",
    "\n",
    "plt.savefig('particle_salt_budget.png', bbox_extra_artists=(lgd1,), bbox_inches='tight',dpi=300)\n",
    "\n",
    "# ax[0].legend(bbox_to_anchor=(1.0, 1.05))\n",
    "# ax[0].set_ylabel('volume [$m^3 x 10^6$]')\n",
    "# ax[0].set_xlabel('')\n",
    "# ax[0].set_ylim((0,200))\n"
   ]
  },
  {
   "cell_type": "code",
   "execution_count": null,
   "metadata": {},
   "outputs": [],
   "source": [
    "mean_temp = ds_init.temp.mean()\n",
    "display(mean_temp)\n",
    "\n",
    "heat_total  = vol_total  * (ds_init.groupby(\"time\").mean().temp - mean_temp.data)\n",
    "heat_labsea = vol_labsea * (ds_init_labsea.groupby(\"time\").mean().temp - mean_temp.data)\n",
    "heat_60w    = vol_60w    * (ds_init_60w.groupby(\"time\").mean().temp - mean_temp.data)\n",
    "heat_other  = vol_other  * (ds_init_other.groupby(\"time\").mean().temp - mean_temp.data)\n",
    "\n",
    "heat_start_ls = vol_labsea * (np.array(temp_start_ls) - mean_temp.data)\n",
    "heat_start_gs = vol_60w * (np.array(temp_start_gs) - mean_temp.data)\n",
    "\n",
    "heat_start_other = vol_other  * (ds_start_other.groupby(\"time\").mean().temp.data - mean_temp.data)\n",
    "\n",
    "heat_total.attrs['long_name']='total heat'\n",
    "heat_total.attrs['units']='$\\degree$C $\\mathrm{m}^3$'\n",
    "heat_labsea.attrs['long_name']='total heat'\n",
    "heat_labsea.attrs['units']='$\\degree$C $\\mathrm{m}^3$'\n",
    "heat_60w.attrs['long_name']='total heat'\n",
    "heat_60w.attrs['units']='$\\degree$C $\\mathrm{m}^3$'\n",
    "heat_other.attrs['long_name']='total heat'\n",
    "heat_other.attrs['units']='$\\degree$C $\\mathrm{m}^3$'\n",
    "heat_start_ls.attrs['long_name']='total heat'\n",
    "heat_start_ls.attrs['units']='$\\degree$C $\\mathrm{m}^3$'\n",
    "heat_start_gs.attrs['long_name']='total heat'\n",
    "heat_start_gs.attrs['units']='$\\degree$C $\\mathrm{m}^3$'\n",
    "heat_start_other.attrs['long_name']='total heat'\n",
    "heat_start_other.attrs['units']='$\\degree$C $\\mathrm{m}^3$'\n",
    "\n"
   ]
  },
  {
   "cell_type": "code",
   "execution_count": null,
   "metadata": {},
   "outputs": [],
   "source": [
    "sns.set_palette(\"colorblind\")\n",
    "\n",
    "fig,ax = plt.subplots(2,figsize=(8,7),sharex=True)\n",
    "\n",
    "\n",
    "(heat_total-heat_total[0]).plot(ax=ax[0],label='total')\n",
    "(heat_labsea-heat_labsea[0]).plot(ax=ax[0],label='labrador sea',color='C1')\n",
    "(heat_60w-heat_60w[0]).plot(ax=ax[0],label='gulf stream',color='C2')\n",
    "(heat_other-heat_other[0]).plot(ax=ax[0],label='other',color='C3')\n",
    "\n",
    "heat_transit = heat_total - (heat_start_ls+heat_start_gs+heat_start_other)\n",
    "(heat_total-heat_total[0]).plot(ax=ax[1],label='total')\n",
    "(heat_start_ls-heat_start_ls[0]).plot(ax=ax[1],label='labrador sea',color='C1')\n",
    "(heat_start_gs-heat_start_gs[0]).plot(ax=ax[1],label='gulf stream',color='C2')\n",
    "(heat_start_other-heat_start_other[0]).plot(ax=ax[1],label='other',color='C3')\n",
    "(heat_transit-heat_transit[0]).plot(ax=ax[1],label='transit',color='C4')\n",
    "\n",
    "ax[0].set_xlabel('')\n",
    "\n",
    "ax[0].legend(bbox_to_anchor=(1.0, 1.02))\n",
    "lgd1 = ax[1].legend(bbox_to_anchor=(1.0, 1.02))\n",
    "\n",
    "plt.savefig('particle_heat_budget.png', bbox_extra_artists=(lgd1,), bbox_inches='tight',dpi=300)\n",
    "\n"
   ]
  },
  {
   "cell_type": "code",
   "execution_count": null,
   "metadata": {},
   "outputs": [],
   "source": [
    "salt_mass_total  = vol_total  * (ds_init.groupby(\"time\").mean().salt)\n",
    "salt_mass_labsea = vol_labsea * (ds_init_labsea.groupby(\"time\").mean().salt)\n",
    "salt_mass_60w    = vol_60w    * (ds_init_60w.groupby(\"time\").mean().salt)\n",
    "salt_mass_other  = vol_other  * (ds_init_other.groupby(\"time\").mean().salt)\n",
    "\n",
    "salt_mass_start_ls = vol_labsea * (np.array(salt_start_ls))\n",
    "salt_mass_start_gs = vol_60w * (np.array(salt_start_gs))\n",
    "\n",
    "salt_mass_start_other = vol_other  * (ds_start_other.groupby(\"time\").mean().salt.data)\n",
    "\n",
    "salt_mass_total.attrs['long_name']='total salt'\n",
    "salt_mass_total.attrs['units']='PSU $\\mathrm{m}^3$'\n",
    "salt_mass_labsea.attrs['long_name']='total salt'\n",
    "salt_mass_labsea.attrs['units']='PSU $\\mathrm{m}^3$'\n",
    "salt_mass_60w.attrs['long_name']='total salt'\n",
    "salt_mass_60w.attrs['units']='PSU $\\mathrm{m}^3$'\n",
    "salt_mass_other.attrs['long_name']='total salt'\n",
    "salt_mass_other.attrs['units']='PSU $\\mathrm{m}^3$'\n",
    "salt_mass_start_ls.attrs['long_name']='total salt'\n",
    "salt_mass_start_ls.attrs['units']='PSU $\\mathrm{m}^3$'\n",
    "salt_mass_start_gs.attrs['long_name']='total salt'\n",
    "salt_mass_start_gs.attrs['units']='PSU $\\mathrm{m}^3$'\n",
    "salt_mass_start_other.attrs['long_name']='total salt'\n",
    "salt_mass_start_other.attrs['units']='PSU $\\mathrm{m}^3$'\n",
    "\n",
    "heat_total  = vol_total  * (ds_init.groupby(\"time\").mean().temp)\n",
    "heat_labsea = vol_labsea * (ds_init_labsea.groupby(\"time\").mean().temp)\n",
    "heat_60w    = vol_60w    * (ds_init_60w.groupby(\"time\").mean().temp)\n",
    "heat_other  = vol_other  * (ds_init_other.groupby(\"time\").mean().temp)\n",
    "\n",
    "heat_start_ls = vol_labsea * (np.array(temp_start_ls))\n",
    "heat_start_gs = vol_60w * (np.array(temp_start_gs))\n",
    "\n",
    "heat_start_other = vol_other  * (ds_start_other.groupby(\"time\").mean().temp.data)\n",
    "\n",
    "heat_total.attrs['long_name']='total heat'\n",
    "heat_total.attrs['units']='$\\degree$C $\\mathrm{m}^3$'\n",
    "heat_labsea.attrs['long_name']='total heat'\n",
    "heat_labsea.attrs['units']='$\\degree$C $\\mathrm{m}^3$'\n",
    "heat_60w.attrs['long_name']='total heat'\n",
    "heat_60w.attrs['units']='$\\degree$C $\\mathrm{m}^3$'\n",
    "heat_other.attrs['long_name']='total heat'\n",
    "heat_other.attrs['units']='$\\degree$C $\\mathrm{m}^3$'\n",
    "heat_start_ls.attrs['long_name']='total heat'\n",
    "heat_start_ls.attrs['units']='$\\degree$C $\\mathrm{m}^3$'\n",
    "heat_start_gs.attrs['long_name']='total heat'\n",
    "heat_start_gs.attrs['units']='$\\degree$C $\\mathrm{m}^3$'\n",
    "heat_start_other.attrs['long_name']='total heat'\n",
    "heat_start_other.attrs['units']='$\\degree$C $\\mathrm{m}^3$'\n",
    "\n"
   ]
  },
  {
   "cell_type": "code",
   "execution_count": null,
   "metadata": {},
   "outputs": [],
   "source": [
    "sns.set_palette(\"colorblind\")\n",
    "\n",
    "fig,ax = plt.subplots(2,figsize=(7,7),sharex=True)\n",
    "\n",
    "# salinity\n",
    "final_total_sm = (salt_mass_total-salt_mass_total[0])\n",
    "salt_mass_start_total = salt_mass_start_ls + salt_mass_start_gs + salt_mass_start_other\n",
    "start_total_sm = (salt_mass_start_total-salt_mass_total[0])\n",
    "\n",
    "# what if salinity was unchanged\n",
    "salt_mass_start_fix_ls = vol_labsea * (np.array(salt_start_ls[0]))\n",
    "salt_mass_start_fix_gs = vol_60w * (np.array(salt_start_gs[0]))\n",
    "salt_mass_start_fix_other = vol_other  * (ds_start_other.groupby(\"time\").mean().salt.data[0])\n",
    "salt_mass_start_fix_total = salt_mass_start_fix_ls + salt_mass_start_fix_gs + salt_mass_start_fix_other\n",
    "start_total_fixs_sm = (salt_mass_start_fix_total-salt_mass_total[0])\n",
    "\n",
    "#temperature\n",
    "final_total_hm = (heat_total-heat_total[0])\n",
    "heat_start_total = heat_start_ls + heat_start_gs + heat_start_other\n",
    "start_total_hm = (heat_start_total-heat_total[0])\n",
    "\n",
    "# what if salinity was unchanged\n",
    "heat_start_fix_ls = vol_labsea * (np.array(temp_start_ls[0]))\n",
    "heat_start_fix_gs = vol_60w * (np.array(temp_start_gs[0]))\n",
    "heat_start_fix_other = vol_other  * (ds_start_other.groupby(\"time\").mean().temp.data[0])\n",
    "heat_start_fix_total = heat_start_fix_ls + heat_start_fix_gs + heat_start_fix_other\n",
    "start_total_fixt_hm = (heat_start_fix_total-heat_total[0])\n",
    "\n",
    "\n",
    "\n",
    "\n",
    "final_total_hm.plot(ax=ax[0],label='at OSNAP line')\n",
    "start_total_hm.plot(ax=ax[0],label='initial')\n",
    "start_total_fixt_hm.plot(ax=ax[0],label='initial -- deltaV')\n",
    "(start_total_hm-start_total_fixt_hm).plot(ax=ax[0],label='initial -- deltaT')\n",
    "(final_total_hm-start_total_hm).plot(ax=ax[0],label='transit')\n",
    "\n",
    "final_total_sm.plot(ax=ax[1],label='at OSNAP line')\n",
    "start_total_sm.plot(ax=ax[1],label='initial')\n",
    "start_total_fixs_sm.plot(ax=ax[1],label='initial -- deltaV')\n",
    "(start_total_sm-start_total_fixs_sm).plot(ax=ax[1],label='initial -- deltaS')\n",
    "(final_total_sm-start_total_sm).plot(ax=ax[1],label='transit')\n",
    "\n",
    "\n",
    "\n",
    "\n",
    "ax[0].set_xlabel('')\n",
    "\n",
    "ax[0].legend(bbox_to_anchor=(1.0, 1.02))\n",
    "lgd1 = ax[1].legend(bbox_to_anchor=(1.0, 1.02))\n",
    "\n",
    "plt.savefig('particle_ts_budget.png', bbox_extra_artists=(lgd1,), bbox_inches='tight',dpi=300)\n",
    "\n",
    "# ax[0].legend(bbox_to_anchor=(1.0, 1.05))\n",
    "# ax[0].set_ylabel('volume [$m^3 x 10^6$]')\n",
    "# ax[0].set_xlabel('')\n",
    "# ax[0].set_ylim((0,200))\n"
   ]
  },
  {
   "cell_type": "code",
   "execution_count": null,
   "metadata": {},
   "outputs": [],
   "source": [
    "ds_start_other.groupby(\"time\").mean().temp.plot()"
   ]
  },
  {
   "cell_type": "code",
   "execution_count": null,
   "metadata": {},
   "outputs": [],
   "source": [
    "h_start_ls = vol_labsea * (np.array(temp_start_ls))\n",
    "h_start_gs = vol_60w * (np.array(temp_start_gs))\n",
    "h_start_other = vol_other  * ds_start_other.groupby(\"time\").mean().temp.data\n",
    "\n",
    "t_start_ls = h_start_ls / vol_labsea\n",
    "t_start_gs = h_start_gs / vol_60w\n",
    "t_start_other = h_start_other / vol_other\n",
    "t_start_total = (h_start_ls + h_start_gs + h_start_other) / vol_total\n",
    "\n",
    "s_start_ls = vol_labsea * (np.array(salt_start_ls))\n",
    "s_start_gs = vol_60w * (np.array(salt_start_gs))\n",
    "s_start_other = vol_other  * ds_start_other.groupby(\"time\").mean().salt.data\n",
    "\n",
    "sali_start_ls = s_start_ls / vol_labsea\n",
    "sali_start_gs = s_start_gs / vol_60w\n",
    "sali_start_other = s_start_other / vol_other\n",
    "sali_start_total = (s_start_ls + s_start_gs + s_start_other) / vol_total\n",
    "\n",
    "\n"
   ]
  },
  {
   "cell_type": "code",
   "execution_count": null,
   "metadata": {},
   "outputs": [],
   "source": [
    "def plot_mean_start_properties_by_source():\n",
    "    sns.set(style=\"darkgrid\")\n",
    "    sns.set_palette(\"colorblind\")\n",
    "    fig,ax = plt.subplots(2,figsize = (8,7),sharex=True)\n",
    "\n",
    "\n",
    "    t_start_total.plot(ax=ax[0],label='total',color='C0')\n",
    "    t_start_ls.plot(ax=ax[0],label='labrador sea',color='C1')\n",
    "    t_start_gs.plot(ax=ax[0],label='gulf stream',color='C2')\n",
    "    t_start_other.plot(ax=ax[0],label='other',color='C3')\n",
    "\n",
    "    sali_start_total.plot(ax=ax[1],label='total',color='C0')\n",
    "    sali_start_ls.plot(ax=ax[1],label='labrador sea',color='C1')\n",
    "    sali_start_gs.plot(ax=ax[1],label='gulf stream',color='C2')\n",
    "    sali_start_other.plot(ax=ax[1],label='other',color='C3')\n",
    "\n",
    "    dsigtm=ds_init.groupby(\"time\").mean()\n",
    "    dsigtm.temp.plot(ax=ax[0],label='final',color='k')\n",
    "    \n",
    "    dsigtm.salt.plot(ax=ax[1],label='final',color='k')\n",
    "    lgd1 = ax[1].legend(bbox_to_anchor=(1.0, 1.02))\n",
    "    ax[1].set_ylabel('mean salinity [PSU]')\n",
    "    ax[1].set_xlabel('')\n",
    "    ax[0].legend(bbox_to_anchor=(1.0, 1.02))\n",
    "    ax[0].set_ylabel('mean temperature [$\\degree$C]')\n",
    "    ax[0].set_xlabel('')\n",
    "    \n",
    "#     plt.savefig('mean_properties_by_source.eps', bbox_extra_artists=(lgd3,title), bbox_inches='tight')\n",
    "    plt.savefig('mean_start_properties_by_source.png', bbox_extra_artists=(lgd1,), bbox_inches='tight')\n",
    "#     plt.savefig('mean_properties_by_source.pdf', bbox_extra_artists=(lgd3,title), bbox_inches='tight')\n",
    "    \n",
    "    \n",
    "    return"
   ]
  },
  {
   "cell_type": "code",
   "execution_count": null,
   "metadata": {},
   "outputs": [],
   "source": [
    "plot_mean_start_properties_by_source()\n"
   ]
  },
  {
   "cell_type": "code",
   "execution_count": null,
   "metadata": {},
   "outputs": [],
   "source": [
    "vol_total_mean = vol_total.mean()\n",
    "vol_total_anom = vol_total-vol_total_mean\n",
    "vol_labsea_mean = vol_labsea.mean()\n",
    "vol_labsea_anom = vol_labsea - vol_labsea_mean.mean(\n",
    "vol_60w_mean = vol_60w.mean()\n",
    "vol_60w_anom = vol_60w - vol_60w_mean\n",
    "vol_other_mean = vol_other.mean()\n",
    "vol_other_anom = vol_other - vol_other_mean\n",
    "\n",
    "# salt_mass_total  = vol_total  * (ds_init.groupby(\"time\").mean().salt - 34)\n",
    "# salt_mass_labsea = vol_labsea * (ds_init_labsea.groupby(\"time\").mean().salt - 34)\n",
    "# salt_mass_60w    = vol_60w    * (ds_init_60w.groupby(\"time\").mean().salt - 34)\n",
    "# salt_mass_other  = vol_other  * (ds_init_other.groupby(\"time\").mean().salt - 34)\n",
    "\n",
    "# salt_mass_start_ls = vol_labsea * (np.array(salt_start_ls) - 34)\n",
    "# salt_mass_start_gs = vol_60w * (np.array(salt_start_gs) - 34)\n",
    "\n",
    "# salt_mass_start_other = vol_other  * (ds_start_other.groupby(\"time\").mean().salt.data - 34)\n"
   ]
  },
  {
   "cell_type": "code",
   "execution_count": null,
   "metadata": {},
   "outputs": [],
   "source": []
  },
  {
   "cell_type": "code",
   "execution_count": null,
   "metadata": {},
   "outputs": [],
   "source": [
    "sns.set_palette(\"colorblind\")\n",
    "\n",
    "fig,ax = plt.subplots(3,figsize=(8,10),sharex=True)\n",
    "\n",
    "\n",
    "vol_labsea.plot(ax=ax[0],label='total')\n",
    "(vol_labsea_mean+vol_labsea-vol_labsea).plot(ax=ax[0],label='total')\n",
    "vol_labsea_anom.plot(ax=ax[0],label='total')\n",
    "\n",
    "vol_60w.plot(ax=ax[1],label='total')\n",
    "(vol_60w_mean+vol_60w-vol_60w).plot(ax=ax[1],label='total')\n",
    "vol_60w_anom.plot(ax=ax[1],label='total')\n",
    "\n",
    "vol_other.plot(ax=ax[2],label='total')\n",
    "(vol_other_mean+vol_other-vol_other).plot(ax=ax[2],label='total')\n",
    "vol_other_anom.plot(ax=ax[2],label='total')\n",
    "\n",
    "\n",
    "\n",
    "\n",
    "\n",
    "# salt_mass_labsea.plot(ax=ax[0],label='labrador sea',color='C1')\n",
    "# salt_mass_60w.plot(ax=ax[0],label='gulf stream',color='C2')\n",
    "# salt_mass_other.plot(ax=ax[0],label='other',color='C3')\n",
    "\n",
    "# (salt_mass_start_ls+salt_mass_start_gs+salt_mass_start_other).plot(ax=ax[1],label='gulf stream',color='C0')\n",
    "# salt_mass_start_ls.plot(ax=ax[1],label='labrador sea',color='C1')\n",
    "# salt_mass_start_gs.plot(ax=ax[1],label='gulf stream',color='C2')\n",
    "# salt_mass_start_other.plot(ax=ax[1],label='other',color='C3')\n",
    "\n",
    "# (salt_mass_total-(salt_mass_start_ls+salt_mass_start_gs+salt_mass_start_other)).plot(ax=ax[2],label='total')\n",
    "# (salt_mass_labsea-salt_mass_start_ls).plot(ax=ax[2],label='labrador sea',color='C1')\n",
    "# (salt_mass_60w-salt_mass_start_gs).plot(ax=ax[2],label='gulf stream',color='C2')\n",
    "# (salt_mass_other-salt_mass_start_other).plot(ax=ax[2],label='other',color='C3')\n",
    "\n",
    "\n"
   ]
  },
  {
   "cell_type": "code",
   "execution_count": null,
   "metadata": {},
   "outputs": [],
   "source": [
    "(test2.time-test.time)."
   ]
  },
  {
   "cell_type": "code",
   "execution_count": null,
   "metadata": {},
   "outputs": [],
   "source": [
    "fig,ax = plt.subplots(figsize=(14,5))\n",
    "\n",
    "test = ds.where(ds_lab_sea_in.max(\"obs\")).isel(obs=ds_lab_sea_in.argmax(dim='obs'),traj=ds_lab_sea_in.traj).dropna(dim='traj')\n",
    "pcm = ax.scatter(x=test.time.data,y=test.salt.data)\n"
   ]
  },
  {
   "cell_type": "markdown",
   "metadata": {},
   "source": [
    "time and salinity when left Labrador Sea"
   ]
  },
  {
   "cell_type": "code",
   "execution_count": null,
   "metadata": {},
   "outputs": [],
   "source": [
    "fig,ax = plt.subplots(figsize=(14,5))\n",
    "\n",
    "test = ds.where((ds_lab_sea_in.max(\"obs\")==False)).where(ds_60w_in.max(\"obs\")).isel(obs=ds_60w_in.argmax(dim='obs'),traj=ds_60w_in.traj).dropna(dim='traj')\n",
    "pcm = ax.scatter(x=test.time.data,y=test.temp.data\n",
    "                 ,c=test.salt.data,\n",
    "          vmin=33,vmax=36,cmap=co.cm.haline\n",
    "                )\n",
    "plt.colorbar(pcm,ax=ax,label = \"salinity\");\n",
    "\n",
    "# cb = plt.colorbar(label = \"date\");\n"
   ]
  },
  {
   "cell_type": "code",
   "execution_count": null,
   "metadata": {
    "slideshow": {
     "slide_type": "skip"
    }
   },
   "outputs": [],
   "source": [
    "# conda list"
   ]
  }
 ],
 "metadata": {
  "celltoolbar": "Slideshow",
  "kernelspec": {
   "display_name": "py3lagrangeSeawater",
   "language": "python",
   "name": "py3lagrangeseawater"
  },
  "language_info": {
   "codemirror_mode": {
    "name": "ipython",
    "version": 3
   },
   "file_extension": ".py",
   "mimetype": "text/x-python",
   "name": "python",
   "nbconvert_exporter": "python",
   "pygments_lexer": "ipython3",
   "version": "3.8.3"
  }
 },
 "nbformat": 4,
 "nbformat_minor": 4
}
