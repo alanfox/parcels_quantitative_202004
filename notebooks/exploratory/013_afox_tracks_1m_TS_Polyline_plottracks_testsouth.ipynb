{
 "cells": [
  {
   "cell_type": "markdown",
   "metadata": {
    "slideshow": {
     "slide_type": "slide"
    }
   },
   "source": [
    "# OSNAP Parcels Experiments\n"
   ]
  },
  {
   "cell_type": "markdown",
   "metadata": {
    "slideshow": {
     "slide_type": "skip"
    }
   },
   "source": [
    "## Technical preamble"
   ]
  },
  {
   "cell_type": "code",
   "execution_count": null,
   "metadata": {
    "slideshow": {
     "slide_type": "skip"
    }
   },
   "outputs": [],
   "source": [
    "# import matplotlib.colors as colors\n",
    "import numpy as np\n",
    "from pathlib import Path\n",
    "import matplotlib.pyplot as plt\n",
    "import xarray as xr\n",
    "from datetime import datetime, timedelta\n",
    "# import seaborn as sns\n",
    "# from matplotlib.colors import ListedColormap\n",
    "import cmocean as co\n",
    "import pandas as pd\n",
    "import matplotlib.dates as mdates\n",
    "import cartopy.crs as ccrs\n",
    "import cartopy\n",
    "\n"
   ]
  },
  {
   "cell_type": "code",
   "execution_count": null,
   "metadata": {
    "slideshow": {
     "slide_type": "fragment"
    }
   },
   "outputs": [],
   "source": [
    "## Parameters\n",
    "# Project path\n",
    "project_path = Path.cwd() / '..' / '..' \n",
    "project_path = project_path.resolve()\n",
    "\n",
    "# Parcels track data file\n",
    "path_data_tracks = Path('data/processed/tracks/osnap/') \n",
    "filename_tracks = 'tracks_osnap_forwards_201701_N19886_D365_Rnd123.nc'\n",
    "\n",
    "# model mask file\n",
    "data_path = Path(\"data/external/iAtlantic/\")\n",
    "experiment_name = \"VIKING20X.L46-KKG36107B\"\n",
    "mesh_mask_file = project_path / data_path / \"mask\" / experiment_name / \"1_mesh_mask.nc\"\n",
    "\n",
    "#section lonlat file\n",
    "sectionPath = Path('data/external/sections/')\n",
    "sectionFilename = 'osnap_pos_wp.txt'\n",
    "sectionname = 'osnap'\n",
    "gsrsectionFilename = 'gsr_pos_wp.txt'\n",
    "\n",
    "degree2km = 1.852*60.0\n",
    "\n",
    "# choose color map, suggest amp for backwards, tempo_r for forwards\n",
    "\n",
    "cmap = co.cm.tempo_r\n",
    "# cmap = co.cm.amp"
   ]
  },
  {
   "cell_type": "markdown",
   "metadata": {
    "slideshow": {
     "slide_type": "skip"
    }
   },
   "source": [
    "## plotting functions"
   ]
  },
  {
   "cell_type": "code",
   "execution_count": null,
   "metadata": {},
   "outputs": [],
   "source": [
    "# range of stations from west to east, stations 0-12. Python indexing.\n",
    "\n",
    "def plotTracksBetweenStations(ds,stationRange,xlims,ylims,cmap=co.cm.tempo_r):\n",
    "    \n",
    "    dsmask = ds.where(ds.isel(obs=0).lon > lonlat.lon[stationRange[0]]).where(ds.isel(obs=0).lon < lonlat.lon[stationRange[1]])\n",
    "\n",
    "    plt.figure(figsize = (16,8))\n",
    "\n",
    "    # plt.scatter(\n",
    "    #     ds.where(ds.alive == 1).lon.data.flatten(),\n",
    "    #     ds.where(ds.alive == 1).lat.data.flatten(),\n",
    "    #     3,\n",
    "    #     ds.where(ds.alive == 1).temp.data.flatten(),\n",
    "    #     alpha=0.3, vmin = 2, vmax = 7\n",
    "    # )\n",
    "    plt.scatter(\n",
    "        dsmask.lon.data.flatten(),\n",
    "        dsmask.lat.data.flatten(),\n",
    "        3,\n",
    "#         (dsmask.time.data.flatten()-ds.time.isel(obs=0,traj=0).data).astype('timedelta64[D]')\n",
    "        mdates.date2num(dsmask.time.data.flatten())\n",
    "        ,cmap= cmap\n",
    "        ,zorder=2\n",
    "    #   ,alpha=0.3\n",
    "    )\n",
    "    cb = plt.colorbar(label = \"date\");\n",
    "    loc = mdates.MonthLocator()\n",
    "    cb.ax.yaxis.set_major_locator(loc)\n",
    "    cb.ax.yaxis.set_major_formatter(mdates.ConciseDateFormatter(loc))\n",
    "\n",
    "    # plt.plot(titanic_lon, titanic_lat, 'rx', ms = 8, mew = 2);\n",
    "\n",
    "    depth.isel(y=slice(1400, 2499), x=slice(0, 2404)).plot.contour(\n",
    "        x=\"nav_lon\", y=\"nav_lat\", colors = 'grey', levels = [200,800,1500,2000,2500,3500],zorder=1\n",
    "    );\n",
    "    depth.isel(y=slice(1400, 2499), x=slice(0, 2404)).plot.contour(\n",
    "        x=\"nav_lon\", y=\"nav_lat\", colors = 'k', levels = [1],zorder=3\n",
    "    );\n",
    "\n",
    "    plt.scatter(\n",
    "        ds.lon.isel(obs=0).data.flatten(),\n",
    "        ds.lat.isel(obs=0).data.flatten(),2,zorder=4\n",
    "    )\n",
    "    plt.scatter(\n",
    "        dsmask.lon.isel(obs=0).data.flatten(),\n",
    "        dsmask.lat.isel(obs=0).data.flatten(),2,zorder=5\n",
    "    )\n",
    "\n",
    "    plt.plot(gsrlonlat.lon.data[:-1],gsrlonlat.lat.data[:-1],zorder=5)\n",
    "    \n",
    "    # plt.savefig('upstream.png')\n",
    "    plt.ylim(ylims[0],ylims[1])\n",
    "    plt.xlim(xlims[0],xlims[1])\n",
    "    # plt.ylim(62,65)\n",
    "    # plt.xlim(-10,-2.5)\n"
   ]
  },
  {
   "cell_type": "code",
   "execution_count": null,
   "metadata": {
    "slideshow": {
     "slide_type": "skip"
    }
   },
   "outputs": [],
   "source": [
    "# range of stations from west to east, stations 0-12. Python indexing.\n",
    "\n",
    "def conditionalplotTracksBetweenStations(ds,condition,stationRange,xlims,ylims,cmap=co.cm.tempo_r):\n",
    "    \n",
    "    dsmask = ds.where(ds.isel(obs=0).lon > lonlat.lon[stationRange[0]]).where(ds.isel(obs=0).lon < lonlat.lon[stationRange[1]])\n",
    "    dscond = dsmask.where(condition)\n",
    "\n",
    "    plt.figure(figsize = (16,8))\n",
    "\n",
    "    # plt.scatter(\n",
    "    #     ds.where(ds.alive == 1).lon.data.flatten(),\n",
    "    #     ds.where(ds.alive == 1).lat.data.flatten(),\n",
    "    #     3,\n",
    "    #     ds.where(ds.alive == 1).temp.data.flatten(),\n",
    "    #     alpha=0.3, vmin = 2, vmax = 7\n",
    "    # )\n",
    "    plt.scatter(\n",
    "        dscond.lon.data.flatten(),\n",
    "        dscond.lat.data.flatten(),\n",
    "        3,\n",
    "#         (dsmask.time.data.flatten()-ds.time.isel(obs=0,traj=0).data).astype('timedelta64[D]')\n",
    "        mdates.date2num(dscond.time.data.flatten())\n",
    "        ,cmap= cmap\n",
    "        ,zorder=2\n",
    "    #   ,alpha=0.3\n",
    "    )\n",
    "    cb = plt.colorbar(label = \"date\");\n",
    "    loc = mdates.MonthLocator()\n",
    "    cb.ax.yaxis.set_major_locator(loc)\n",
    "    cb.ax.yaxis.set_major_formatter(mdates.ConciseDateFormatter(loc))\n",
    "\n",
    "    # plt.plot(titanic_lon, titanic_lat, 'rx', ms = 8, mew = 2);\n",
    "\n",
    "    depth.isel(y=slice(1400, 2499), x=slice(0, 2404)).plot.contour(\n",
    "        x=\"nav_lon\", y=\"nav_lat\", colors = 'grey', levels = [200,800,1500,2000,2500,3500],zorder=1\n",
    "    );\n",
    "    depth.isel(y=slice(1400, 2499), x=slice(0, 2404)).plot.contour(\n",
    "        x=\"nav_lon\", y=\"nav_lat\", colors = 'k', levels = [1],zorder=3\n",
    "    );\n",
    "\n",
    "#     plt.scatter(\n",
    "#         ds.lon.isel(obs=0).data.flatten(),\n",
    "#         ds.lat.isel(obs=0).data.flatten(),2,zorder=4\n",
    "#     )\n",
    "    plt.plot(lonlat.lon.data[:-1],lonlat.lat.data[:-1],zorder=4)\n",
    "    plt.scatter(\n",
    "        dsmask.lon.isel(obs=0).data.flatten(),\n",
    "        dsmask.lat.isel(obs=0).data.flatten(),2,zorder=5\n",
    "    )\n",
    "\n",
    "    plt.plot(gsrlonlat.lon.data[:-1],gsrlonlat.lat.data[:-1],zorder=5)\n",
    "    \n",
    "\n",
    "    # plt.savefig('upstream.png')\n",
    "    plt.ylim(ylims[0],ylims[1])\n",
    "    plt.xlim(xlims[0],xlims[1])\n",
    "    # plt.ylim(62,65)\n",
    "    # plt.xlim(-10,-2.5)\n"
   ]
  },
  {
   "cell_type": "code",
   "execution_count": null,
   "metadata": {},
   "outputs": [],
   "source": [
    "# range of stations from west to east, stations 0-12. Python indexing.\n",
    "\n",
    "def conditionalplotTracksBetweenStationsCartopy(ds,condition,stationRange,xlims,ylims,cmap=co.cm.tempo_r):\n",
    "    \n",
    "    dsmask = ds.where(ds.isel(obs=0).lon > lonlat.lon[stationRange[0]]).where(ds.isel(obs=0).lon < lonlat.lon[stationRange[1]])\n",
    "    dscond = dsmask.where(condition)\n",
    "\n",
    "    central_lon, central_lat = -30, 55\n",
    "    fig, ax = plt.subplots(figsize = (16,8),subplot_kw={'projection': ccrs.Orthographic(central_lon, central_lat)})\n",
    "    extent = [-60, 0, 40, 70]\n",
    "    ax.set_extent(extent)\n",
    "    ax.gridlines()\n",
    "    ax.coastlines(resolution='50m')\n",
    "\n",
    "\n",
    "    # plt.scatter(\n",
    "    #     ds.where(ds.alive == 1).lon.data.flatten(),\n",
    "    #     ds.where(ds.alive == 1).lat.data.flatten(),\n",
    "    #     3,\n",
    "    #     ds.where(ds.alive == 1).temp.data.flatten(),\n",
    "    #     alpha=0.3, vmin = 2, vmax = 7\n",
    "    # )\n",
    "    pcm = ax.scatter(\n",
    "        dscond.lon.data.flatten(),\n",
    "        dscond.lat.data.flatten(),\n",
    "        3,\n",
    "#         (dsmask.time.data.flatten()-ds.time.isel(obs=0,traj=0).data).astype('timedelta64[D]')\n",
    "        mdates.date2num(dscond.time.data.flatten())\n",
    "        ,cmap= cmap\n",
    "        ,zorder=2\n",
    "        ,transform=ccrs.PlateCarree()\n",
    "    #   ,alpha=0.3\n",
    "    )\n",
    "    cb = fig.colorbar(pcm,ax=ax,label = \"date\");\n",
    "    loc = mdates.MonthLocator()\n",
    "    cb.ax.yaxis.set_major_locator(loc)\n",
    "    cb.ax.yaxis.set_major_formatter(mdates.ConciseDateFormatter(loc))\n",
    "\n",
    "\n",
    "    depth.isel(y=slice(1400, 2499), x=slice(0, 2404)).plot.contour(ax=ax,transform=ccrs.PlateCarree(),\n",
    "        x=\"nav_lon\", y=\"nav_lat\", colors = 'grey', levels = [200,800,1500,2000,2500,3500],zorder=1\n",
    "    );\n",
    "#     depth.isel(y=slice(1400, 2499), x=slice(0, 2404)).plot.contour(ax=ax,transform=ccrs.PlateCarree(),\n",
    "#         x=\"nav_lon\", y=\"nav_lat\", colors = 'k', levels = [1],zorder=3\n",
    "#     );\n",
    "\n",
    "    ax.scatter(\n",
    "        ds.lon.isel(obs=0).data.flatten(),\n",
    "        ds.lat.isel(obs=0).data.flatten(),2,zorder=4,\n",
    "        transform=ccrs.PlateCarree()\n",
    "    )\n",
    "    ax.scatter(\n",
    "        dsmask.lon.isel(obs=0).data.flatten(),\n",
    "        dsmask.lat.isel(obs=0).data.flatten(),2,zorder=5,\n",
    "        transform=ccrs.PlateCarree()\n",
    "    )\n",
    "\n",
    "    ax.plot(gsrlonlat.lon.data[:-1],gsrlonlat.lat.data[:-1],zorder=5,transform=ccrs.PlateCarree(),)\n",
    "    \n",
    "\n",
    "#     # plt.savefig('upstream.png')\n",
    "#     plt.ylim(ylims[0],ylims[1])\n",
    "#     plt.xlim(xlims[0],xlims[1])\n",
    "#     # plt.ylim(62,65)\n",
    "    # plt.xlim(-10,-2.5)\n"
   ]
  },
  {
   "cell_type": "markdown",
   "metadata": {},
   "source": [
    "### Position test function"
   ]
  },
  {
   "cell_type": "code",
   "execution_count": null,
   "metadata": {},
   "outputs": [],
   "source": [
    "def apply_left_of_line(ds, lon_1, lon_2, lat_1, lat_2):\n",
    "    '''Apply an area crossing criterion.\n",
    "    \n",
    "    Larvae in ds selected while they are in a selected area.\n",
    "    '''\n",
    "    # particles are selected if they pass through given area.\n",
    "    position =  ((lon_2 -lon_1) * (ds.lat - lat_1) - \n",
    "                     (ds.lon - lon_1) * (lat_2 - lat_1))\n",
    "                        \n",
    "    return position >= 0.0, position < 0"
   ]
  },
  {
   "cell_type": "markdown",
   "metadata": {
    "slideshow": {
     "slide_type": "slide"
    }
   },
   "source": [
    "## Load data"
   ]
  },
  {
   "cell_type": "code",
   "execution_count": null,
   "metadata": {
    "slideshow": {
     "slide_type": "fragment"
    }
   },
   "outputs": [],
   "source": [
    "ds = xr.open_dataset(project_path / path_data_tracks / filename_tracks)\n",
    "\n",
    "display(ds)"
   ]
  },
  {
   "cell_type": "code",
   "execution_count": null,
   "metadata": {
    "slideshow": {
     "slide_type": "skip"
    }
   },
   "outputs": [],
   "source": [
    "ds.isel(obs=-1).time\n"
   ]
  },
  {
   "cell_type": "code",
   "execution_count": null,
   "metadata": {
    "slideshow": {
     "slide_type": "skip"
    }
   },
   "outputs": [],
   "source": [
    "mesh_mask = xr.open_dataset(mesh_mask_file)\n",
    "mesh_mask = mesh_mask.squeeze()\n",
    "mesh_mask = mesh_mask.set_coords([\"nav_lon\", \"nav_lat\", \"nav_lev\"])\n",
    "\n",
    "bathy = mesh_mask.mbathy.rename(\"number of water filled points\")\n",
    "\n",
    "depth = (mesh_mask.e3t_0 * mesh_mask.tmask).sum(\"z\")\n",
    "# display(mesh_mask)"
   ]
  },
  {
   "cell_type": "markdown",
   "metadata": {
    "slideshow": {
     "slide_type": "slide"
    }
   },
   "source": [
    "### osnap section position data"
   ]
  },
  {
   "cell_type": "code",
   "execution_count": null,
   "metadata": {
    "slideshow": {
     "slide_type": "skip"
    }
   },
   "outputs": [],
   "source": [
    "lonlat = xr.Dataset(pd.read_csv(project_path / sectionPath / sectionFilename,delim_whitespace=True))\n",
    "lonlat['lon'] *= -1.0\n",
    "\n",
    "lonlat"
   ]
  },
  {
   "cell_type": "code",
   "execution_count": null,
   "metadata": {
    "slideshow": {
     "slide_type": "skip"
    }
   },
   "outputs": [],
   "source": [
    "lonlat.lon.attrs['long_name']='Longitude'\n",
    "lonlat.lat.attrs['long_name']='Latitude'\n",
    "lonlat.lon.attrs['standard_name']='longitude'\n",
    "lonlat.lat.attrs['standard_name']='latitude'\n",
    "lonlat.lon.attrs['units']='degrees_east'\n",
    "lonlat.lat.attrs['units']='degrees_north'\n",
    "\n",
    "lonlat2mean= lonlat.rolling({'dim_0':2}).mean()\n",
    "\n",
    "lonlatdiff = abs(lonlat.diff('dim_0'))\n",
    "lonlatdiff['lat'] = lonlatdiff['lat']*degree2km\n",
    "lonlatdiff['lon'] = lonlatdiff['lon']*degree2km*np.cos(np.radians(lonlat2mean.lat.data[1:]))\n",
    "lonlatdiff=lonlatdiff.assign({'length':np.sqrt(lonlatdiff['lon']**2+lonlatdiff['lat']**2)})\n",
    "\n",
    "total_length = lonlatdiff.length.sum().data"
   ]
  },
  {
   "cell_type": "code",
   "execution_count": null,
   "metadata": {
    "slideshow": {
     "slide_type": "fragment"
    }
   },
   "outputs": [],
   "source": [
    "central_lon, central_lat = -30, 55\n",
    "fig, ax = plt.subplots(subplot_kw={'projection': ccrs.Orthographic(central_lon, central_lat)})\n",
    "extent = [-60, 0, 40, 70]\n",
    "ax.set_extent(extent)\n",
    "ax.gridlines()\n",
    "ax.coastlines(resolution='50m')\n",
    "\n",
    "lonlat.plot.scatter(ax=ax,transform=ccrs.PlateCarree(),x='lon',y='lat')\n",
    "lonlat2mean.plot.scatter(ax=ax,transform=ccrs.PlateCarree(),x='lon',y='lat')"
   ]
  },
  {
   "cell_type": "markdown",
   "metadata": {
    "slideshow": {
     "slide_type": "slide"
    }
   },
   "source": [
    "### gsr section position data"
   ]
  },
  {
   "cell_type": "code",
   "execution_count": null,
   "metadata": {
    "slideshow": {
     "slide_type": "skip"
    }
   },
   "outputs": [],
   "source": [
    "gsrlonlat = xr.Dataset(pd.read_csv(project_path / sectionPath / gsrsectionFilename,delim_whitespace=True))\n",
    "\n",
    "gsrlonlat.lat\n"
   ]
  },
  {
   "cell_type": "code",
   "execution_count": null,
   "metadata": {
    "slideshow": {
     "slide_type": "skip"
    }
   },
   "outputs": [],
   "source": [
    "gsrlonlat.lon.attrs['long_name']='Longitude'\n",
    "gsrlonlat.lat.attrs['long_name']='Latitude'\n",
    "gsrlonlat.lon.attrs['standard_name']='longitude'\n",
    "gsrlonlat.lat.attrs['standard_name']='latitude'\n",
    "gsrlonlat.lon.attrs['units']='degrees_east'\n",
    "gsrlonlat.lat.attrs['units']='degrees_north'\n",
    "\n",
    "gsrlonlat2mean= gsrlonlat.rolling({'dim_0':2}).mean()\n",
    "\n",
    "gsrlonlatdiff = abs(gsrlonlat.diff('dim_0'))\n",
    "gsrlonlatdiff['lat'] = gsrlonlatdiff['lat']*degree2km\n",
    "gsrlonlatdiff['lon'] = gsrlonlatdiff['lon']*degree2km*np.cos(np.radians(gsrlonlat2mean.lat.data[1:]))\n",
    "gsrlonlatdiff=gsrlonlatdiff.assign({'length':np.sqrt(gsrlonlatdiff['lon']**2+gsrlonlatdiff['lat']**2)})\n",
    "\n",
    "gsrtotal_length = gsrlonlatdiff.length.sum().data"
   ]
  },
  {
   "cell_type": "code",
   "execution_count": null,
   "metadata": {
    "slideshow": {
     "slide_type": "fragment"
    }
   },
   "outputs": [],
   "source": [
    "central_lon, central_lat = -30, 55\n",
    "fig, ax = plt.subplots(subplot_kw={'projection': ccrs.Orthographic(central_lon, central_lat)})\n",
    "extent = [-60, 0, 30, 70]\n",
    "ax.set_extent(extent)\n",
    "ax.gridlines()\n",
    "ax.coastlines(resolution='50m')\n",
    "\n",
    "gsrlonlat.plot.scatter(ax=ax,transform=ccrs.PlateCarree(),x='lon',y='lat')\n",
    "gsrlonlat2mean.plot.scatter(ax=ax,transform=ccrs.PlateCarree(),x='lon',y='lat')"
   ]
  },
  {
   "cell_type": "markdown",
   "metadata": {
    "slideshow": {
     "slide_type": "skip"
    }
   },
   "source": [
    "## Have a quick look"
   ]
  },
  {
   "cell_type": "markdown",
   "metadata": {
    "slideshow": {
     "slide_type": "slide"
    }
   },
   "source": [
    "### Release positions of the particles"
   ]
  },
  {
   "cell_type": "code",
   "execution_count": null,
   "metadata": {
    "slideshow": {
     "slide_type": "fragment"
    }
   },
   "outputs": [],
   "source": [
    "plt.figure(figsize = (9,4))\n",
    "plt.scatter(ds.isel(obs=0).lon.data.flatten(),ds.isel(obs=0).z.data.flatten(),s = 2)\n",
    "plt.ylim(4000,0)"
   ]
  },
  {
   "cell_type": "markdown",
   "metadata": {
    "slideshow": {
     "slide_type": "slide"
    }
   },
   "source": [
    "### Test particle positions"
   ]
  },
  {
   "cell_type": "markdown",
   "metadata": {},
   "source": [
    "#### south/north of osnap"
   ]
  },
  {
   "cell_type": "code",
   "execution_count": null,
   "metadata": {},
   "outputs": [],
   "source": [
    "# do north and south separately because of missing values\n",
    "\n",
    "south = xr.Dataset()\n",
    "north = xr.Dataset()\n",
    "for i in range(len(lonlat.lon)-1):\n",
    "    south['subsect'+str(i)],north['subsect'+str(i)] = apply_left_of_line(ds,lonlat.lon[i+1],lonlat.lon[i],lonlat.lat[i+1],lonlat.lat[i])\n",
    "\n",
    "south_a = south.subsect0 + south.subsect1 + south.subsect2 \n",
    "south_b = south.subsect3 * south.subsect4 * south.subsect5\n",
    "south_c = south.subsect6 + south.subsect7 + south.subsect8 \n",
    "south_d = south.subsect8 * south.subsect9 * south.subsect10 * south.subsect11 \n",
    "south_e = south.subsect12\n",
    "south_all = south_a * south_c * south_e * (south_b + south_d)\n",
    "\n",
    "north_a = north.subsect0 * north.subsect1 * north.subsect2 \n",
    "north_b = north.subsect3 + north.subsect4 + north.subsect5\n",
    "north_c = north.subsect6 * north.subsect7 * north.subsect8 \n",
    "north_d = north.subsect8 + north.subsect9 + north.subsect10 + north.subsect11\n",
    "north_e = north.subsect12\n",
    "north_all = north_a + north_c + north_e + (north_b * north_d)\n"
   ]
  },
  {
   "cell_type": "markdown",
   "metadata": {},
   "source": [
    "#### south/north of gsr"
   ]
  },
  {
   "cell_type": "code",
   "execution_count": null,
   "metadata": {},
   "outputs": [],
   "source": [
    "# do north and south separately because of missing values\n",
    "\n",
    "gsrsouth = xr.Dataset()\n",
    "gsrnorth = xr.Dataset()\n",
    "for i in range(len(gsrlonlat.lon)-1):\n",
    "    gsrsouth['subsect'+str(i)],gsrnorth['subsect'+str(i)] = apply_left_of_line(ds,gsrlonlat.lon[i+1],gsrlonlat.lon[i],gsrlonlat.lat[i+1],gsrlonlat.lat[i])\n",
    "\n",
    "gsrsouth_a = gsrsouth.subsect0 + gsrsouth.subsect1 + gsrsouth.subsect2 \n",
    "gsrsouth_b = gsrsouth.subsect3 + gsrsouth.subsect4\n",
    "gsrsouth_c = gsrsouth.subsect5 + gsrsouth.subsect6 + gsrsouth.subsect7\n",
    "gsrsouth_all = gsrsouth_a * gsrsouth_b * gsrsouth_c\n",
    "\n",
    "gsrnorth_a = gsrnorth.subsect0 * gsrnorth.subsect1 * gsrnorth.subsect2 \n",
    "gsrnorth_b = gsrnorth.subsect3 * gsrnorth.subsect4\n",
    "gsrnorth_c = gsrnorth.subsect5 * gsrnorth.subsect6 * gsrnorth.subsect7\n",
    "gsrnorth_all = gsrnorth_a + gsrnorth_b + gsrnorth_c\n",
    "\n",
    "display(gsrsouth_all)\n"
   ]
  },
  {
   "cell_type": "code",
   "execution_count": null,
   "metadata": {
    "slideshow": {
     "slide_type": "fragment"
    }
   },
   "outputs": [],
   "source": [
    "# # plot tracks which go through an area\n",
    "# conditionalplotTracksBetweenStations(ds,gsrnorth_all.max(\"obs\"),stationRange=[0,12],xlims=[-75,15],ylims=[36,70],cmap=cmap)\n",
    "\n",
    "# Cartopy plot tracks which go through an area\n",
    "conditionalplotTracksBetweenStationsCartopy(ds,gsrnorth_all.max(\"obs\"),stationRange=[11,12],xlims=[-75,15],ylims=[36,70],cmap=cmap)\n",
    "\n",
    "# plot points in an area\n",
    "# conditionalplotTracksBetweenStations(ds,north_all,stationRange=[0,12],xlims=[-75,15],ylims=[36,70],cmap=cmap)"
   ]
  },
  {
   "cell_type": "code",
   "execution_count": null,
   "metadata": {},
   "outputs": [],
   "source": []
  }
 ],
 "metadata": {
  "kernelspec": {
   "display_name": "py3lagrangeSeawater",
   "language": "python",
   "name": "py3lagrangeseawater"
  },
  "language_info": {
   "codemirror_mode": {
    "name": "ipython",
    "version": 3
   },
   "file_extension": ".py",
   "mimetype": "text/x-python",
   "name": "python",
   "nbconvert_exporter": "python",
   "pygments_lexer": "ipython3",
   "version": "3.8.3"
  }
 },
 "nbformat": 4,
 "nbformat_minor": 4
}
