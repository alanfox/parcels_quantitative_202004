{
 "cells": [
  {
   "cell_type": "markdown",
   "metadata": {
    "slideshow": {
     "slide_type": "slide"
    }
   },
   "source": [
    "# OSNAP Parcels Experiments\n"
   ]
  },
  {
   "cell_type": "markdown",
   "metadata": {
    "slideshow": {
     "slide_type": "skip"
    }
   },
   "source": [
    "## Technical preamble"
   ]
  },
  {
   "cell_type": "code",
   "execution_count": null,
   "metadata": {},
   "outputs": [],
   "source": [
    "%matplotlib notebook"
   ]
  },
  {
   "cell_type": "code",
   "execution_count": null,
   "metadata": {
    "slideshow": {
     "slide_type": "skip"
    }
   },
   "outputs": [],
   "source": [
    "# import matplotlib.colors as colors\n",
    "import numpy as np\n",
    "from pathlib import Path\n",
    "import matplotlib.pyplot as plt\n",
    "import xarray as xr\n",
    "from datetime import datetime, timedelta\n",
    "# import seaborn as sns\n",
    "# from matplotlib.colors import ListedColormap\n",
    "import cmocean as co\n",
    "import pandas as pd\n",
    "import matplotlib.dates as mdates\n",
    "import cartopy.crs as ccrs\n",
    "import cartopy\n",
    "\n"
   ]
  },
  {
   "cell_type": "code",
   "execution_count": null,
   "metadata": {
    "slideshow": {
     "slide_type": "fragment"
    }
   },
   "outputs": [],
   "source": [
    "## Parameters\n",
    "# Project path\n",
    "project_path = Path.cwd() / '..' / '..' \n",
    "project_path = project_path.resolve()\n",
    "\n",
    "# model mask file\n",
    "data_path = Path(\"data/external/iAtlantic/\")\n",
    "experiment_name = \"VIKING20X.L46-KKG36107B\"\n",
    "mesh_mask_file = project_path / data_path / \"mask\" / experiment_name / \"1_mesh_mask.nc\"\n"
   ]
  },
  {
   "cell_type": "markdown",
   "metadata": {
    "slideshow": {
     "slide_type": "skip"
    }
   },
   "source": [
    "## plotting functions"
   ]
  },
  {
   "cell_type": "code",
   "execution_count": null,
   "metadata": {},
   "outputs": [],
   "source": [
    "# range of stations from west to east, stations 0-12. Python indexing.\n",
    "\n",
    "def plotDepthContoursCartopy():\n",
    "    \n",
    "    central_lon, central_lat = -30, 55\n",
    "    fig, ax = plt.subplots(figsize = (10,8),subplot_kw={'projection': ccrs.Orthographic(central_lon, central_lat)})\n",
    "    extent = [-60, 0, 40, 70]\n",
    "    ax.set_extent(extent)\n",
    "    ax.gridlines()\n",
    "    ax.coastlines(resolution='50m')\n",
    "\n",
    "\n",
    "    cs = depth.isel(y=slice(1750, 2499), x=slice(0, 2404)).plot.contour(ax=ax,transform=ccrs.PlateCarree(),\n",
    "        x=\"nav_lon\", y=\"nav_lat\", colors = 'grey', levels = [1000],zorder=1\n",
    "    );\n",
    "#     depth.isel(y=slice(1400, 2499), x=slice(0, 2404)).plot.contour(ax=ax,transform=ccrs.PlateCarree(),\n",
    "#         x=\"nav_lon\", y=\"nav_lat\", colors = 'k', levels = [1],zorder=3\n",
    "#     );\n",
    "\n",
    "    return cs"
   ]
  },
  {
   "cell_type": "code",
   "execution_count": null,
   "metadata": {},
   "outputs": [],
   "source": [
    "# range of stations from west to east, stations 0-12. Python indexing.\n",
    "\n",
    "def plotDepthContoursGrid():\n",
    "    \n",
    "    fig, ax = plt.subplots(figsize = (10,6))\n",
    "\n",
    "    cs = depth.isel(y=slice(1500, 2499), x=slice(500, 2200)).plot.contour(ax=ax,\n",
    "         colors = 'grey', levels = [1000],zorder=1\n",
    "    );\n",
    "\n",
    "    cs1 = depth.isel(y=slice(1500, 2499), x=slice(500, 2200)).plot.contour(ax=ax,\n",
    "         colors = 'k', levels = [0.5],zorder=1\n",
    "    );\n",
    "\n",
    "\n",
    "# need to locate the right contour (use trial and error). each separate contour has separate index\n",
    "    for i in range(1):\n",
    "        v = cs.collections[0].get_paths()[0].vertices\n",
    "        x = v[:,0]\n",
    "        y = v[:,1]\n",
    "\n",
    "        ax.plot(x,y,color='r')\n",
    "    return cs"
   ]
  },
  {
   "cell_type": "markdown",
   "metadata": {
    "slideshow": {
     "slide_type": "slide"
    }
   },
   "source": [
    "## Load data"
   ]
  },
  {
   "cell_type": "code",
   "execution_count": null,
   "metadata": {
    "slideshow": {
     "slide_type": "skip"
    }
   },
   "outputs": [],
   "source": [
    "mesh_mask = xr.open_dataset(mesh_mask_file)\n",
    "mesh_mask = mesh_mask.squeeze()\n",
    "mesh_mask = mesh_mask.set_coords([\"nav_lon\", \"nav_lat\", \"nav_lev\"])\n",
    "\n",
    "bathy = mesh_mask.mbathy.rename(\"number of water filled points\")\n",
    "\n",
    "depth = (mesh_mask.e3t_0 * mesh_mask.tmask).sum(\"z\")\n",
    "# display(mesh_mask)"
   ]
  },
  {
   "cell_type": "code",
   "execution_count": null,
   "metadata": {},
   "outputs": [],
   "source": [
    "display(mesh_mask)"
   ]
  },
  {
   "cell_type": "code",
   "execution_count": null,
   "metadata": {},
   "outputs": [],
   "source": []
  },
  {
   "cell_type": "code",
   "execution_count": null,
   "metadata": {
    "slideshow": {
     "slide_type": "fragment"
    }
   },
   "outputs": [],
   "source": [
    "cs = plotDepthContoursGrid()"
   ]
  },
  {
   "cell_type": "code",
   "execution_count": null,
   "metadata": {},
   "outputs": [],
   "source": []
  },
  {
   "cell_type": "code",
   "execution_count": null,
   "metadata": {},
   "outputs": [],
   "source": [
    "vs = cs.collections[0].get_paths()[0].vertices\n",
    "fig, ax = plt.subplots(figsize = (10,5))\n",
    "cs1 = depth.isel(y=slice(1500, 2499), x=slice(500, 2200)).plot.contour(ax=ax,\n",
    "     colors = 'k', levels = [0.5],zorder=1\n",
    ");\n",
    "\n",
    "ax.plot(vs[:,0],vs[:,1],marker='+')\n",
    "\n",
    "ax.grid()\n",
    "\n",
    "fs = []\n",
    "v = vs[0]\n",
    "if np.abs(np.round(v[0])-v[0]) < 0.0000001:\n",
    "    a = [np.round(v[0])-1,np.trunc(v[1])]\n",
    "    b = [np.round(v[0]),np.trunc(v[1])]\n",
    "    fs.append(b)\n",
    "    fs.append(a)\n",
    "\n",
    "else:\n",
    "    a = [np.trunc(v[0]),np.round(v[1])-1]\n",
    "    b = [np.trunc(v[0]),np.round(v[1])]\n",
    "    fs.append(a)\n",
    "    fs.append(b)\n",
    "\n",
    "\n",
    "\n",
    "for v in vs[1:]:\n",
    "    if np.abs(np.round(v[0])-v[0]) < 0.0000001:\n",
    "        a = [np.round(v[0])-1,np.trunc(v[1])]\n",
    "        b = [np.round(v[0]),np.trunc(v[1])]\n",
    "        if a == fs[-1]:\n",
    "            fs.append(b)\n",
    "        else:\n",
    "            fs.append(a)\n",
    "        \n",
    "    else:\n",
    "        a = [np.trunc(v[0]),np.round(v[1])-1]\n",
    "        b = [np.trunc(v[0]),np.round(v[1])]\n",
    "        if a == fs[-1]:\n",
    "            fs.append(b)\n",
    "        else:\n",
    "            fs.append(a)\n",
    "        \n",
    "# for plotting offset to f points (f(i,j) is NE of T(i,j))\n",
    "fs = np.array(fs)+0.5\n",
    "\n",
    "# remove duplicates np.unique sorts by x value, want to retain original order, hence faff\n",
    "\n",
    "# fsu,indices = np.unique(np.array(fs),axis=0,return_index=True)\n",
    "# fsn=fs[np.sort(indices)]\n",
    "\n",
    "ax.plot(fs[:,0],fs[:,1],color='C1')\n"
   ]
  },
  {
   "cell_type": "code",
   "execution_count": null,
   "metadata": {},
   "outputs": [],
   "source": [
    "display(mesh_mask)\n"
   ]
  },
  {
   "cell_type": "code",
   "execution_count": null,
   "metadata": {},
   "outputs": [],
   "source": []
  }
 ],
 "metadata": {
  "kernelspec": {
   "display_name": "py3lagrangeSeawater",
   "language": "python",
   "name": "py3lagrangeseawater"
  },
  "language_info": {
   "codemirror_mode": {
    "name": "ipython",
    "version": 3
   },
   "file_extension": ".py",
   "mimetype": "text/x-python",
   "name": "python",
   "nbconvert_exporter": "python",
   "pygments_lexer": "ipython3",
   "version": "3.8.3"
  }
 },
 "nbformat": 4,
 "nbformat_minor": 4
}
