{
 "cells": [
  {
   "cell_type": "code",
   "execution_count": null,
   "metadata": {},
   "outputs": [],
   "source": [
    "%matplotlib inline\n",
    "\n",
    "import numpy as np\n",
    "from pathlib import Path\n",
    "import matplotlib.pyplot as plt\n",
    "import seaborn as sns\n",
    "import cmocean as co\n",
    "import pandas as pd\n",
    "sns.set_palette(\"colorblind\")\n",
    "# sns.set()\n"
   ]
  },
  {
   "cell_type": "code",
   "execution_count": null,
   "metadata": {},
   "outputs": [],
   "source": [
    "# Project path\n",
    "project_path = Path.cwd() / '..' / '..' \n",
    "project_path = project_path.resolve()\n",
    "\n",
    "# transport csv datafiles\n",
    "path_data = Path('data/processed/transports/') \n",
    "filenameGI = 'Greenland-Iceland_transports_2014-16.csv'\n",
    "filenameIF = 'Iceland-Faroe_transports_2014-16.csv'\n",
    "filenameFS = 'Faroe-Shetland_transports_2014-16.csv'\n",
    "\n",
    "# output figure path\n",
    "path_figures = Path('reports/figures/transports/') \n",
    "outfile = '008_afox_plot_transport_timeseries.png'\n",
    "\n"
   ]
  },
  {
   "cell_type": "code",
   "execution_count": null,
   "metadata": {},
   "outputs": [],
   "source": [
    "greice = pd.read_csv(project_path / path_data / filenameGI,header=1)\n",
    "icefar = pd.read_csv(project_path / path_data / filenameIF,header=1)\n",
    "farshe = pd.read_csv(project_path / path_data / filenameFS,header=1)\n",
    "\n",
    "\n",
    "greice['Date']= pd.to_datetime(greice['Date'])\n",
    "greice.set_index('Date', inplace=True)\n",
    "icefar['Date']= pd.to_datetime(icefar['Date'])\n",
    "icefar.set_index('Date', inplace=True)\n",
    "farshe['Date']= pd.to_datetime(farshe['Date'])\n",
    "farshe.set_index('Date', inplace=True)\n",
    "\n",
    "totals = greice.add(icefar,fill_value=0)\n",
    "totals = totals.add(farshe,fill_value=0)"
   ]
  },
  {
   "cell_type": "code",
   "execution_count": null,
   "metadata": {},
   "outputs": [],
   "source": [
    "greice"
   ]
  },
  {
   "cell_type": "code",
   "execution_count": null,
   "metadata": {},
   "outputs": [],
   "source": [
    "icefar"
   ]
  },
  {
   "cell_type": "code",
   "execution_count": null,
   "metadata": {},
   "outputs": [],
   "source": [
    "farshe"
   ]
  },
  {
   "cell_type": "code",
   "execution_count": null,
   "metadata": {},
   "outputs": [],
   "source": [
    "fig,ax = plt.subplots(4,figsize = (9,9),sharex=True)\n",
    "greice.plot.line(ax=ax[0],y=['Total','From Atlantic to Norwegian Sea','and from Rockall Trough','or from west of Rockall'])\n",
    "ax[0].legend(loc='lower left', bbox_to_anchor=(1.0, 0., 0, 1.0))\n",
    "ax[0].grid()\n",
    "ax[0].set_ylabel('northward transport [Sv]')\n",
    "ax[0].set_title('Greenland-Iceland')\n",
    "ax[0].set_ylim(-8,2)\n",
    "icefar.plot.line(ax=ax[1],y=['Total','From Atlantic to Norwegian Sea','and from Rockall Trough','or from west of Rockall'])\n",
    "ax[1].legend(loc='lower left', bbox_to_anchor=(1.0, 0., 0, 1.0))\n",
    "ax[1].grid()\n",
    "ax[1].set_ylabel('northward transport [Sv]')\n",
    "ax[1].set_title('Iceland-Faroe')\n",
    "ax[1].set_ylim(0,10)\n",
    "farshe.plot.line(ax=ax[2],y=['Total','From Atlantic to Norwegian Sea','and from Rockall Trough','or from west of Rockall'])\n",
    "ax[2].legend(loc='lower left', bbox_to_anchor=(1.0, 0., 0, 1.0))\n",
    "ax[2].grid()\n",
    "ax[2].set_ylabel('northward transport [Sv]')\n",
    "ax[2].set_title('Faroe-Shetland')\n",
    "ax[2].set_ylim(0,10)\n",
    "totals.plot.line(ax=ax[3],y=['Total','From Atlantic to Norwegian Sea','and from Rockall Trough','or from west of Rockall'])\n",
    "ax[3].legend(loc='lower left', bbox_to_anchor=(1.0, 0., 0, 1.0))\n",
    "ax[3].grid()\n",
    "ax[3].set_ylabel('northward transport [Sv]')\n",
    "ax[3].set_title('Totals')\n",
    "ax[3].set_ylim(0,10)\n",
    "# plt.show()\n",
    "plt.tight_layout()\n",
    "plt.savefig(project_path / path_figures / outfile)"
   ]
  },
  {
   "cell_type": "code",
   "execution_count": null,
   "metadata": {},
   "outputs": [],
   "source": []
  }
 ],
 "metadata": {
  "kernelspec": {
   "display_name": "py3lagrange",
   "language": "python",
   "name": "py3lagrange"
  },
  "language_info": {
   "codemirror_mode": {
    "name": "ipython",
    "version": 3
   },
   "file_extension": ".py",
   "mimetype": "text/x-python",
   "name": "python",
   "nbconvert_exporter": "python",
   "pygments_lexer": "ipython3",
   "version": "3.8.2"
  }
 },
 "nbformat": 4,
 "nbformat_minor": 4
}
