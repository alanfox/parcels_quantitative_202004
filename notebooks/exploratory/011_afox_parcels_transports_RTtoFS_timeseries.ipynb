{
 "cells": [
  {
   "cell_type": "markdown",
   "metadata": {
    "slideshow": {
     "slide_type": "slide"
    }
   },
   "source": [
    "# Quantify transports between Rockall Trough and Faroe Shetland Channel from either end.\n",
    "\n",
    "- Lagrangian particle tracking in VIKING20X model\n",
    "- Particles tracked backwards for 2 years from FS Channel and forward for 2 years from RT\n",
    "- Advection only\n",
    "- Transport calculations based on the idea of particle track representing a streamtube with constant along-tube transport everywhere\n",
    "- Store T and S to examine along-track T-S properties"
   ]
  },
  {
   "cell_type": "markdown",
   "metadata": {
    "slideshow": {
     "slide_type": "subslide"
    }
   },
   "source": [
    "This is one in a series of notebooks exploring the tracking output. Here we\n",
    "- load lagrangian trajectory data that has been written by OceanParcels from particle tracking in Viking20x model (currently using monthly mean fields for speed)\n",
    "    - particles tracked from a section across RT and FS\n",
    "    - random release points along section\n",
    "    - tracked forward from 6 RT for 2 years\n",
    "    - tracked backwards from FS for 2 years\n",
    "    - focus on 2014\n",
    "- use this to plot timeseries of transport through the source sections\n",
    "\n",
    "Transports associated with different pathways are estimated by assuming that each particle crossing FS Channel has an associated volume transport, which it maintains throughout its life, given by the \n",
    "                velocity across the section * total cross-sectional area / number of particles\n",
    "So like a streamtube...    \n",
    "\n",
    "I suspect that most of the volume transport is coming through quite quickly following the eastern boundary, but may be obscured in track plots and animations by all the eddying motions. Trying to check this with total transport and transport with longitude time series across the section."
   ]
  },
  {
   "cell_type": "markdown",
   "metadata": {
    "slideshow": {
     "slide_type": "skip"
    }
   },
   "source": [
    "## Technical preamble"
   ]
  },
  {
   "cell_type": "code",
   "execution_count": null,
   "metadata": {
    "slideshow": {
     "slide_type": "skip"
    }
   },
   "outputs": [],
   "source": [
    "%matplotlib inline\n",
    "\n",
    "import matplotlib.colors as colors\n",
    "import numpy as np\n",
    "from pathlib import Path\n",
    "import matplotlib.pyplot as plt\n",
    "import xarray as xr\n",
    "from datetime import datetime, timedelta\n",
    "import seaborn as sns\n",
    "from matplotlib.colors import ListedColormap\n",
    "import cmocean as co\n",
    "\n",
    "sns.set_palette(\"colorblind\")"
   ]
  },
  {
   "cell_type": "markdown",
   "metadata": {
    "slideshow": {
     "slide_type": "skip"
    }
   },
   "source": [
    "## Parameters"
   ]
  },
  {
   "cell_type": "code",
   "execution_count": null,
   "metadata": {
    "slideshow": {
     "slide_type": "skip"
    }
   },
   "outputs": [],
   "source": [
    "# Project path\n",
    "project_path = Path.cwd() / '..' / '..' \n",
    "project_path = project_path.resolve()\n",
    "\n",
    "# project_path = Path(\"C:/Users/sa05af/OneDrive - SAMS/Projects/parcels_quantitative_202004/\")\n",
    "\n",
    "# Parcels track data file\n",
    "path_data_tracks = Path('data/processed/tracks/FaroeShetland/') \n",
    "filename = 'test_forwards.nc'\n",
    "filenameb = 'test_backwards.nc'\n",
    "\n",
    "# model mask file\n",
    "data_path = Path(\"data/external/iAtlantic/\")\n",
    "experiment_name = \"VIKING20X.L46-KKG36107B\"\n",
    "mesh_mask_file = project_path / data_path / \"mask\" / experiment_name / \"1_mesh_mask.nc\"\n",
    "\n",
    "#velocity conversions on IFR (61N)\n",
    "\n",
    "lat2metres = 60.0*1852.0\n",
    "lon2metres = 60.0*1852.0*np.cos(np.radians(61.0))\n",
    "\n",
    "sealandratio = 5591.0/20000.0\n",
    "sectionAreaEW = 5.7 * 1500.0 * sealandratio * lon2metres  # very approx. mean depth x length between slopes.\n",
    "sectionAreaNS = 1.87 * 1500.0 * sealandratio * lat2metres\n",
    "\n",
    "nParticles = 2000.0"
   ]
  },
  {
   "cell_type": "markdown",
   "metadata": {
    "slideshow": {
     "slide_type": "skip"
    }
   },
   "source": [
    "## Some helper and plotting functions"
   ]
  },
  {
   "cell_type": "code",
   "execution_count": null,
   "metadata": {
    "slideshow": {
     "slide_type": "skip"
    }
   },
   "outputs": [],
   "source": [
    "def plot_release():\n",
    "    plt.figure(figsize = (12,5))\n",
    "\n",
    "    plt.scatter(\n",
    "        ds.isel(obs=0).lon.data.flatten(),\n",
    "        ds.isel(obs=0).z.data.flatten(),\n",
    "        20,\n",
    "        ds.isel(obs=0).vvel.data.flatten()*lon2metres\n",
    "         , vmin = -.2, vmax = .2\n",
    "        ,cmap= co.cm.balance\n",
    "    #    ,alpha=0.3\n",
    "    )\n",
    "\n",
    "    plt.ylim(1500,0)\n",
    "\n",
    "    plt.colorbar(label = \"vvel [m/s]\")\n",
    "    plt.show()\n",
    "    return\n"
   ]
  },
  {
   "cell_type": "code",
   "execution_count": null,
   "metadata": {
    "slideshow": {
     "slide_type": "skip"
    }
   },
   "outputs": [],
   "source": [
    "def plot_tracks(x,y,z,title):\n",
    "    plt.figure(figsize = (12,9))\n",
    "\n",
    "    # plot tracks as scatter plots\n",
    "\n",
    "    plt.scatter(\n",
    "        x\n",
    "        ,y\n",
    "        ,3\n",
    "        ,z\n",
    "        ,vmin = tvmin, vmax = tvmax\n",
    "        ,cmap = co.cm.delta\n",
    "    #    ,alpha=0.3\n",
    "    )\n",
    "    plt.colorbar(label = \"time [stupid units. range 4 years, all cross IFR at 2 years]\");\n",
    "\n",
    "    # plot depth contours and land boundary from model bathymetry\n",
    "    depth.isel(y=slice(1700, 2499), x=slice(1300, 2404)).plot.contour(\n",
    "        x=\"nav_lon\", y=\"nav_lat\", colors = 'grey', levels = [200,800,1500,2000,2500,3500]\n",
    "    );\n",
    "    depth.isel(y=slice(1700, 2499), x=slice(1300, 2404)).plot.contour(\n",
    "        x=\"nav_lon\", y=\"nav_lat\", colors = 'k', levels = [1]\n",
    "    );\n",
    "    # plt.savefig('upstream.png')\n",
    "    plt.ylim(45,70)\n",
    "    plt.xlim(-30,10)\n",
    "    plt.title(title)\n",
    "    plt.show()\n",
    "    return"
   ]
  },
  {
   "cell_type": "code",
   "execution_count": null,
   "metadata": {
    "slideshow": {
     "slide_type": "skip"
    }
   },
   "outputs": [],
   "source": [
    "def plot_section_from_NW():\n",
    "    plt.figure(figsize = (12,6))\n",
    "\n",
    "    plt.scatter(\n",
    "        ds.isel(obs=0).lon.data.flatten(),\n",
    "        ds.isel(obs=0).z.data.flatten(),\n",
    "        s = 20, color = 'k', label='from other, went other'\n",
    "    )\n",
    "    plt.scatter(\n",
    "        ds.where(ds_area.isel(obs=-1).F_NFaroes).isel(obs=0).lon.data.flatten(),\n",
    "        ds.where(ds_area.isel(obs=-1).F_NFaroes).isel(obs=0).z.data.flatten(),\n",
    "        s = 20, color = 'blue', label='from IFR, went other'\n",
    "    )\n",
    "    plt.scatter(\n",
    "        ds.where(ds_area.isel(obs=-1).F_NFaroes).isel(obs=0).where(ds_area.isel(obs=-1).T_NorwSea).lon.data.flatten(),\n",
    "        ds.where(ds_area.isel(obs=-1).F_NFaroes).isel(obs=0).where(ds_area.isel(obs=-1).T_NorwSea).z.data.flatten(),\n",
    "        s = 20, color = 'lightblue', label='from IFR, went Norwegian Sea'\n",
    "    )\n",
    "    plt.scatter(\n",
    "        ds.where(ds_area.isel(obs=-1).F_NFaroes).where(ds_area.isel(obs=-1).F_WIceland).isel(obs=0).lon.data.flatten(),\n",
    "        ds.where(ds_area.isel(obs=-1).F_NFaroes).where(ds_area.isel(obs=-1).F_WIceland).isel(obs=0).z.data.flatten(),\n",
    "        s = 20, color = 'red', label='from W Iceland, went other'\n",
    "    )\n",
    "    plt.scatter(\n",
    "        ds.where(ds_area.isel(obs=-1).F_NFaroes).where(ds_area.isel(obs=-1).F_WIceland).where(ds_area.isel(obs=-1).T_NorwSea).isel(obs=0).lon.data.flatten(),\n",
    "        ds.where(ds_area.isel(obs=-1).F_NFaroes).where(ds_area.isel(obs=-1).F_WIceland).where(ds_area.isel(obs=-1).T_NorwSea).isel(obs=0).z.data.flatten(),\n",
    "        s = 20, color = 'pink', label='from W Iceland, went Norwegian Sea'\n",
    "    )\n",
    "    plt.scatter(\n",
    "        ds.where(ds_area.isel(obs=-1).F_NFaroes).where(ds_area.isel(obs=-1).F_GreenSea).isel(obs=0).lon.data.flatten(),\n",
    "        ds.where(ds_area.isel(obs=-1).F_NFaroes).where(ds_area.isel(obs=-1).F_GreenSea).isel(obs=0).z.data.flatten(),\n",
    "        s = 20, color = 'green', label='from Greenland Sea, went other'\n",
    "    )\n",
    "    plt.scatter(\n",
    "        ds.where(ds_area.isel(obs=-1).F_NFaroes).where(ds_area.isel(obs=-1).F_GreenSea).where(ds_area.isel(obs=-1).T_NorwSea).isel(obs=0).lon.data.flatten(),\n",
    "        ds.where(ds_area.isel(obs=-1).F_NFaroes).where(ds_area.isel(obs=-1).F_GreenSea).where(ds_area.isel(obs=-1).T_NorwSea).isel(obs=0).z.data.flatten(),\n",
    "        s = 20, color = 'lightgreen', label='from Greenland Sea, went Norwegian Sea'\n",
    "    )\n",
    "\n",
    "    plt.legend(ncol=2)\n",
    "\n",
    "    plt.ylim(1800,0)\n",
    "    \n",
    "    return"
   ]
  },
  {
   "cell_type": "code",
   "execution_count": null,
   "metadata": {
    "slideshow": {
     "slide_type": "skip"
    }
   },
   "outputs": [],
   "source": [
    "def plot_section_not_from_NW():\n",
    "    plt.figure(figsize = (12,6))\n",
    "\n",
    "    plt.scatter(\n",
    "        ds.isel(obs=0).lon.data.flatten(),\n",
    "        ds.isel(obs=0).z.data.flatten(),\n",
    "        s = 20, color = 'k', label='from other, went other'\n",
    "    )\n",
    "    plt.scatter(\n",
    "        ds.where(ds_area.isel(obs=-1).F_NFaroes == False).where(ds_area.isel(obs=-1).F_WRB).isel(obs=0).lon.data.flatten(),\n",
    "        ds.where(ds_area.isel(obs=-1).F_NFaroes == False).where(ds_area.isel(obs=-1).F_WRB).isel(obs=0).z.data.flatten(),\n",
    "        s = 20, color = 'green', label='from WRB, went other'\n",
    "    )\n",
    "    plt.scatter(\n",
    "        ds.where(ds_area.isel(obs=-1).F_NFaroes == False).where(ds_area.isel(obs=-1).F_WRB).where(ds_area.isel(obs=-1).T_NSea).isel(obs=0).lon.data.flatten(),\n",
    "        ds.where(ds_area.isel(obs=-1).F_NFaroes == False).where(ds_area.isel(obs=-1).F_WRB).where(ds_area.isel(obs=-1).T_NSea).isel(obs=0).z.data.flatten(),\n",
    "        s = 20, color = 'lightgreen', label='from WRB, went North Sea'\n",
    "    )\n",
    "    plt.scatter(\n",
    "        ds.where(ds_area.isel(obs=-1).F_NFaroes == False).where(ds_area.isel(obs=-1).F_WRB).where(ds_area.isel(obs=-1).T_NorwSea).isel(obs=0).lon.data.flatten(),\n",
    "        ds.where(ds_area.isel(obs=-1).F_NFaroes == False).where(ds_area.isel(obs=-1).F_WRB).where(ds_area.isel(obs=-1).T_NorwSea).isel(obs=0).z.data.flatten(),\n",
    "        s = 20, color = 'cyan', label='from WRB, went Norwegian Sea'\n",
    "    )\n",
    "    plt.scatter(\n",
    "        ds.where(ds_area.isel(obs=-1).F_NFaroes == False).where(ds_area.isel(obs=-1).F_RT_WSS).isel(obs=0).lon.data.flatten(),\n",
    "        ds.where(ds_area.isel(obs=-1).F_NFaroes == False).where(ds_area.isel(obs=-1).F_RT_WSS).isel(obs=0).z.data.flatten(),\n",
    "        s = 20, color = 'red', label='from RT, went other'\n",
    "    )\n",
    "    plt.scatter(\n",
    "        ds.where(ds_area.isel(obs=-1).F_NFaroes == False).where(ds_area.isel(obs=-1).F_RT_WSS).where(ds_area.isel(obs=-1).T_NSea).isel(obs=0).lon.data.flatten(),\n",
    "        ds.where(ds_area.isel(obs=-1).F_NFaroes == False).where(ds_area.isel(obs=-1).F_RT_WSS).where(ds_area.isel(obs=-1).T_NSea).isel(obs=0).z.data.flatten(),\n",
    "        s = 20, color = 'pink', label='from RT, went North Sea'\n",
    "    )\n",
    "    plt.scatter(\n",
    "        ds.where(ds_area.isel(obs=-1).F_NFaroes == False).where(ds_area.isel(obs=-1).F_RT_WSS).where(ds_area.isel(obs=-1).T_NorwSea).isel(obs=0).lon.data.flatten(),\n",
    "        ds.where(ds_area.isel(obs=-1).F_NFaroes == False).where(ds_area.isel(obs=-1).F_RT_WSS).where(ds_area.isel(obs=-1).T_NorwSea).isel(obs=0).z.data.flatten(),\n",
    "        s = 20, color = 'coral', label='from RT, went Norwegian Sea'\n",
    "    )\n",
    "    plt.legend(ncol=2)\n",
    "\n",
    "    plt.ylim(1800,0)\n",
    "    \n",
    "    return"
   ]
  },
  {
   "cell_type": "code",
   "execution_count": null,
   "metadata": {
    "slideshow": {
     "slide_type": "skip"
    }
   },
   "outputs": [],
   "source": [
    "def apply_through_area(ds, min_lon, max_lon, min_lat, max_lat, min_time, max_time, criterion_name):\n",
    "    '''Apply an area crossing criterion.\n",
    "    \n",
    "    Larvae in ds selected if they pass through given area.\n",
    "    '''\n",
    "    # particles are selected if they pass through given area.\n",
    "    particle_out =  (\n",
    "                    (ds.lon > min_lon) * \n",
    "                    (ds.lon < max_lon) *\n",
    "                    (ds.lat > min_lat) * \n",
    "                    (ds.lat < max_lat) *\n",
    "                    (ds.time > min_time) *\n",
    "                    (ds.time < max_time)\n",
    "                    )\n",
    "                    \n",
    "#     particle_out = (ds.temp < max_lat)\n",
    "    \n",
    "\n",
    "    # last place in array determines if particle went through area  \n",
    "    is_thru = (particle_out.cumsum(\"obs\") != 0)\n",
    "    \n",
    "#     print(particle_out.max())\n",
    "    \n",
    "    # add data to original ds\n",
    "    ds[criterion_name] = is_thru\n",
    "    \n",
    "    return ds"
   ]
  },
  {
   "cell_type": "code",
   "execution_count": null,
   "metadata": {
    "slideshow": {
     "slide_type": "skip"
    }
   },
   "outputs": [],
   "source": [
    "def apply_left_of_line(ds, lon_1, lon_2, lat_1, lat_2, min_time, max_time, criterion_name):\n",
    "    '''Apply an area crossing criterion.\n",
    "    \n",
    "    Larvae in ds selected if they pass through given area.\n",
    "    '''\n",
    "    # particles are selected if they pass through given area.\n",
    "    particle_out =  ((((lon_2 -lon_1) * (ds.lat - lat_1) - \n",
    "                     (ds.lon - lon_1) * (lat_2 - lat_1))\n",
    "                     > 0.0) *\n",
    "                    (ds.time > min_time) *\n",
    "                    (ds.time < max_time))\n",
    "                    \n",
    "#     particle_out = (ds.temp < max_lat)\n",
    "    \n",
    "\n",
    "    # last place in array determines if particle went through area  \n",
    "    is_thru = (particle_out.cumsum(\"obs\") != 0)\n",
    "    \n",
    "#     print(particle_out.max())\n",
    "    \n",
    "    # add data to original ds\n",
    "    ds[criterion_name] = is_thru\n",
    "    \n",
    "    return ds"
   ]
  },
  {
   "cell_type": "code",
   "execution_count": null,
   "metadata": {
    "slideshow": {
     "slide_type": "skip"
    }
   },
   "outputs": [],
   "source": [
    "def mask_tracks_by_source_sink(ds_full):\n",
    "    # comes through Rockall Trough and W Scotland shelf\n",
    "    ds_area = apply_through_area(ds_full,-13.5,-6.5,57.25,57.75,\n",
    "                                 np.datetime64('2010-06-15'),np.datetime64('2016-06-15'),\n",
    "                                 'F_RT_WSS')    \n",
    "    # comes northward west of Rockall Bank\n",
    "    ds_area = apply_through_area(ds_area,-60,-13.5,57.25,57.75,\n",
    "                                 np.datetime64('2010-06-15'),np.datetime64('2016-06-15'),\n",
    "                                 'F_WRB')  \n",
    "    # comes clockwise round Iceland\n",
    "    ds_area = apply_through_area(ds_area,-22,-20,65,70,np.datetime64('2010-06-15'),\n",
    "                                 np.datetime64('2016-06-15'),\n",
    "                                 'F_WIceland')  \n",
    "    # comes from NW\n",
    "    ds_area = apply_through_area(ds_area,-20,-6,68.5,70,\n",
    "                                 np.datetime64('2010-06-15'),np.datetime64('2016-06-15'),\n",
    "                                 'F_GreenSea')  \n",
    "    # goes northeastward towards Arctic - all particles doing this pass north of Faroe\n",
    "    ds_area = apply_through_area(ds_area,-6.5,-5.5,62.3,64.5,\n",
    "                                 np.datetime64('2010-06-15'),np.datetime64('2016-06-15'),\n",
    "                                 'F_NFaroes')    \n",
    "    # goes west south of Iceland in SPG\n",
    "    ds_area = apply_through_area(ds_area,-23,-22,62.,64.,\n",
    "                                 np.datetime64('2016-06-15'),np.datetime64('2020-06-15'),\n",
    "                                 'T_SIceland')  \n",
    "    # goes to arctic\n",
    "    ds_area = apply_left_of_line(ds_area,0,7,65,62,\n",
    "                                 np.datetime64('2016-06-15'),np.datetime64('2020-06-15'),\n",
    "                                 'T_NorwSea')\n",
    "    # goes to north sea\n",
    "    ds_area = apply_left_of_line(ds_area,5.1,-1.23,62.3,60.3,\n",
    "                                 np.datetime64('2016-06-15'),np.datetime64('2020-06-15'),\n",
    "                                 'T_NSea')\n",
    "    return ds_area"
   ]
  },
  {
   "cell_type": "code",
   "execution_count": null,
   "metadata": {
    "slideshow": {
     "slide_type": "skip"
    }
   },
   "outputs": [],
   "source": [
    "def transports():\n",
    "    NEwardsParticleTransport = (sectionAreaEW*dsb.isel(obs=0).vvel*lat2metres +\n",
    "                            sectionAreaNS*dsb.isel(obs=0).uvel*lon2metres)/nParticles\n",
    "    print('Total transport through F-S channel.....................',\n",
    "          '{: .3f}'.format(NEwardsParticleTransport.sum().data/1.0e06),'  Sv')\n",
    "    print('...from NW..............................................',\n",
    "          '{: .3f}'.format(NEwardsParticleTransport.where(ds_area.isel(obs=-1).F_NFaroes).sum().data/1.0e06),'  Sv')\n",
    "    print('...excluding from NW....................................',\n",
    "          '{: .3f}'.format(NEwardsParticleTransport.where(ds_area.isel(obs=-1).F_NFaroes == False).sum().data/1.0e06),'  Sv')\n",
    "    print('.............of which............ from Rockall Trough...',\n",
    "          '{: .3f}'.format(NEwardsParticleTransport.where(ds_area.isel(obs=-1).F_NFaroes == False).where(ds_area.isel(obs=-1).F_RT_WSS).sum().data/1.0e06),'  Sv')\n",
    "    print('.............of which............ from West of Rockall..',\n",
    "          '{: .3f}'.format(NEwardsParticleTransport.where(ds_area.isel(obs=-1).F_NFaroes == False).where(ds_area.isel(obs=-1).F_RT_WSS == False).where(ds_area.isel(obs=-1).F_WRB).sum().data/1.0e06),'  Sv')\n",
    "    return"
   ]
  },
  {
   "cell_type": "markdown",
   "metadata": {
    "slideshow": {
     "slide_type": "slide"
    }
   },
   "source": [
    "## Load data"
   ]
  },
  {
   "cell_type": "markdown",
   "metadata": {
    "slideshow": {
     "slide_type": "skip"
    }
   },
   "source": [
    "### Forward tracks then backward tracks"
   ]
  },
  {
   "cell_type": "code",
   "execution_count": null,
   "metadata": {
    "slideshow": {
     "slide_type": "fragment"
    }
   },
   "outputs": [],
   "source": [
    "ds = xr.open_dataset(project_path / path_data_tracks / filename)\n",
    "dsb = xr.open_dataset(project_path / path_data_tracks / filenameb)\n",
    "ds_full = xr.concat([dsb,ds],dim='obs')\n",
    "\n",
    "display(ds_full)"
   ]
  },
  {
   "cell_type": "markdown",
   "metadata": {
    "slideshow": {
     "slide_type": "skip"
    }
   },
   "source": [
    "### Load model mesh mask"
   ]
  },
  {
   "cell_type": "code",
   "execution_count": null,
   "metadata": {
    "slideshow": {
     "slide_type": "skip"
    }
   },
   "outputs": [],
   "source": [
    "mesh_mask = xr.open_dataset(mesh_mask_file)\n",
    "mesh_mask = mesh_mask.squeeze()\n",
    "mesh_mask = mesh_mask.set_coords([\"nav_lon\", \"nav_lat\", \"nav_lev\"])\n",
    "\n",
    "bathy = mesh_mask.mbathy.rename(\"number of water filled points\")\n",
    "\n",
    "depth = (mesh_mask.e3t_0 * mesh_mask.tmask).sum(\"z\")\n",
    "# display(mesh_mask)"
   ]
  },
  {
   "cell_type": "markdown",
   "metadata": {
    "slideshow": {
     "slide_type": "skip"
    }
   },
   "source": [
    "## Calculate some basic parameters from data for later"
   ]
  },
  {
   "cell_type": "code",
   "execution_count": null,
   "metadata": {
    "slideshow": {
     "slide_type": "skip"
    }
   },
   "outputs": [],
   "source": [
    "nParticles = ds.sizes['traj']"
   ]
  },
  {
   "cell_type": "code",
   "execution_count": null,
   "metadata": {
    "slideshow": {
     "slide_type": "skip"
    }
   },
   "outputs": [],
   "source": [
    "#centre time colourscale on release *DOESN'T WORK ON WINDOWS*\n",
    "tvmin = dsb.time.min(skipna=True).data # oldest time\n",
    "tvcentre = dsb.time.max(skipna=True).data # oldest time\n",
    "\n",
    "tvmax = tvcentre + (tvcentre - tvmin)"
   ]
  },
  {
   "cell_type": "markdown",
   "metadata": {
    "slideshow": {
     "slide_type": "slide"
    }
   },
   "source": [
    "### Find subsets of trajectories passing through different areas, either upstream or downstream\n",
    "\n",
    "This just tests whether particles were ever in an area, much easier than testing line crossings."
   ]
  },
  {
   "cell_type": "code",
   "execution_count": null,
   "metadata": {
    "slideshow": {
     "slide_type": "skip"
    }
   },
   "outputs": [],
   "source": [
    "ds_area = mask_tracks_by_source_sink(ds_full)"
   ]
  },
  {
   "cell_type": "markdown",
   "metadata": {
    "slideshow": {
     "slide_type": "slide"
    }
   },
   "source": [
    "## Plot tracks and time series for some cases"
   ]
  },
  {
   "cell_type": "markdown",
   "metadata": {
    "slideshow": {
     "slide_type": "slide"
    }
   },
   "source": [
    "### Tracks reaching FSC from south through Rockall Trough"
   ]
  },
  {
   "cell_type": "code",
   "execution_count": null,
   "metadata": {
    "slideshow": {
     "slide_type": "skip"
    }
   },
   "outputs": [],
   "source": [
    "lon =    ds_area.where(ds_area.isel(obs=-1).F_NFaroes == False)\n",
    "                .where(ds_area.isel(obs=-1).F_RT_WSS).lon.data.flatten()\n",
    "lat =    ds_area.where(ds_area.isel(obs=-1).F_NFaroes == False)\n",
    "                .where(ds_area.isel(obs=-1).F_RT_WSS).lat.data.flatten()\n",
    "time =   ds_area.where(ds_area.isel(obs=-1).F_NFaroes == False)\n",
    "                .where(ds_area.isel(obs=-1).F_RT_WSS).time.data.flatten()"
   ]
  },
  {
   "cell_type": "code",
   "execution_count": null,
   "metadata": {
    "slideshow": {
     "slide_type": "subslide"
    }
   },
   "outputs": [],
   "source": [
    "plot_tracks(lon,lat,time,'trajectories from Rockall Trough and Scottish Shelf and south to north through F-S Channel')"
   ]
  },
  {
   "cell_type": "markdown",
   "metadata": {
    "slideshow": {
     "slide_type": "slide"
    }
   },
   "source": [
    "### Tracks reaching FSC from south from west of Rockall"
   ]
  },
  {
   "cell_type": "code",
   "execution_count": null,
   "metadata": {
    "slideshow": {
     "slide_type": "skip"
    }
   },
   "outputs": [],
   "source": [
    "lon =    (ds_area.where(ds_area.isel(obs=-1).F_NFaroes == False)\n",
    "                .where(ds_area.isel(obs=-1).F_RT_WSS == False)\n",
    "                .where(ds_area.isel(obs=-1).F_WRB).lon.data.flatten())\n",
    "lat =    (ds_area.where(ds_area.isel(obs=-1).F_NFaroes == False)\n",
    "                .where(ds_area.isel(obs=-1).F_RT_WSS == False)\n",
    "                .where(ds_area.isel(obs=-1).F_WRB).lat.data.flatten())\n",
    "time =   (ds_area.where(ds_area.isel(obs=-1).F_NFaroes == False)\n",
    "                .where(ds_area.isel(obs=-1).F_RT_WSS == False)\n",
    "                .where(ds_area.isel(obs=-1).F_WRB).time.data.flatten())"
   ]
  },
  {
   "cell_type": "code",
   "execution_count": null,
   "metadata": {
    "slideshow": {
     "slide_type": "subslide"
    }
   },
   "outputs": [],
   "source": [
    "plot_tracks(lon,lat,time,'trajectories from west of Rockall')"
   ]
  },
  {
   "cell_type": "markdown",
   "metadata": {},
   "source": [
    "### Transport time series"
   ]
  },
  {
   "cell_type": "code",
   "execution_count": null,
   "metadata": {},
   "outputs": [],
   "source": [
    "NEwardsParticleTransport = (sectionAreaEW*dsb.isel(obs=0).vvel*lat2metres +\n",
    "                            sectionAreaNS*dsb.isel(obs=0).uvel*lon2metres)/(nParticles*1.0e06)"
   ]
  },
  {
   "cell_type": "code",
   "execution_count": null,
   "metadata": {},
   "outputs": [],
   "source": [
    "y = NEwardsParticleTransport*ds_area.F_RT_WSS*(1-ds_area.F_NFaroes)\n",
    "y1 = NEwardsParticleTransport*ds_area.F_WRB*(1-ds_area.F_RT_WSS)*(1-ds_area.F_NFaroes)\n",
    "\n",
    "y.name = y1.name = 'volume_transport'\n",
    "y.attrs[\"units\"] = y1.attrs[\"units\"] = 'Sv'\n",
    "\n",
    "fig,ax = plt.subplots(2,figsize = (12,5))\n",
    "\n",
    "fig.suptitle('Time series of volume of water passing $57.5\\degree$N reaching FS Channel on 2016-06-16')\n",
    "ax[0].set_ylabel(y.name + ' ['+y.attrs[\"units\"]+']')\n",
    "ax[0].plot(ds_area.time.min(\"traj\",skipna = True).data[:729],y.sum(\"traj\")[:730].diff(\"obs\"),alpha = 0.3)\n",
    "ax[0].plot(ds_area.time.min(\"traj\",skipna = True).data[:729],y1.sum(\"traj\")[:730].diff(\"obs\"),alpha = 0.3)\n",
    "ax[0].set_prop_cycle(None)\n",
    "ax[0].plot(ds_area.time.min(\"traj\",skipna = True).data[:729],\n",
    "        y.sum(\"traj\")[:730].diff(\"obs\").rolling(obs=14,center = True).mean())\n",
    "ax[0].plot(ds_area.time.min(\"traj\",skipna = True).data[:729],\n",
    "        y1.sum(\"traj\")[:730].diff(\"obs\").rolling(obs=14,center = True).mean())\n",
    "\n",
    "\n",
    "ax[1].set_ylabel('cumulative_'+y.name + '\\n after time ['+y.attrs[\"units\"]+']')\n",
    "ax[1].plot(ds_area.time.min(\"traj\",skipna = True).data[:730],y.sum(\"traj\")[:730])\n",
    "ax[1].plot(ds_area.time.min(\"traj\",skipna = True).data[:730],y1.sum(\"traj\")[:730])\n",
    "\n",
    "plt.show()"
   ]
  },
  {
   "cell_type": "markdown",
   "metadata": {
    "slideshow": {
     "slide_type": "slide"
    }
   },
   "source": [
    "## Estimate transports through FSC"
   ]
  },
  {
   "cell_type": "code",
   "execution_count": null,
   "metadata": {
    "slideshow": {
     "slide_type": "fragment"
    }
   },
   "outputs": [],
   "source": [
    "transports()"
   ]
  }
 ],
 "metadata": {
  "celltoolbar": "Slideshow",
  "kernelspec": {
   "display_name": "Python 3",
   "language": "python",
   "name": "python3"
  },
  "language_info": {
   "codemirror_mode": {
    "name": "ipython",
    "version": 3
   },
   "file_extension": ".py",
   "mimetype": "text/x-python",
   "name": "python",
   "nbconvert_exporter": "python",
   "pygments_lexer": "ipython3",
   "version": "3.7.6"
  }
 },
 "nbformat": 4,
 "nbformat_minor": 4
}
