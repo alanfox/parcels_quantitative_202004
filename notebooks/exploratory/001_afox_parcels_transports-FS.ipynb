{
 "cells": [
  {
   "cell_type": "markdown",
   "metadata": {},
   "source": [
    "# Quantify transports across Iceland-Faroe Ridge by source and destination\n",
    "\n",
    "The idea here is to use Lagrangian particle tracks to quantify model volume transports from the North Atlantic into the Arctic seas by source. This is partly motivated by an idea of Stuart's that 'all' the water heading north between Greenland-Iceland-Shetland goes through the Rockall Trough (with the northward transport west of the Rockall Bank circulating in the subpolar gyre).\n",
    "\n",
    "I've started with the Iceland-Faroes Ridge (IFR) section. This is partly just because I have an 'emotional attachment' to the IFR having spent my first postdoc modelling it, and partly because I figured if Stuart is wrong, the transport across the IFR is likely where it will show up.\n",
    "\n",
    "Obviously it is easier to quantify transports across sections from the model just by straight eulerian calculation, but even if this is done over the whole boundary of a closed volume it doesn't give you the pathways through the volume. A 3D streamfunction would be another possibility but that doesn't seem straightforward.\n",
    "\n",
    "The basic idea is that each particle tracked represents a streamtube (I have no diffusion in the tracking). The volume transport along that streamtube is constant at any point along the length and determined by the transport where it crosses IFR. This we get by a simple calculation of cross-sectional area x velocity across the section.\n",
    "\n",
    "Particles are positioned randomly in 2D along a section from Iceland to Faroes, then the same particles are tracked backwards for 2 years for sources and forwards for 6 months for destinations.\n",
    "\n",
    "This is done using OceanParcels tracking software and Viking20x model fields on GEOMAR servers via python Jupyter notebooks. This notebook has the analysis of the tracks, the notebook running Parcels is separate. This is currently just testing the method, how many particles might be needed for robust results, most efficient initial particle distributions, etc.\n",
    "\n",
    "The transport quantities are at the very end. 2000 particles across the section seems to give OK results but ideally might want more - s.d. in total transport across IFR of maybe 10-20% by selecting a different random 2000 particles. Also this is just a snapshot (though using monthly means). With a few (<10) different crossing times I've seen total transports between 2 and 7 Sv, so with 2000 particles sampling errors probably small compared to variability.\n",
    "\n",
    "The results for 2016 shown here suggest that of the 6.5 Sv crossing IFR 0.6 Sv came through Rockall Trough, with most of the rest coming north west of Rockall Bank, and about 0.5 Sv where I haven't identified the source. My initial feeling from other years is that most of the variability is in the flow from W of Rockall Bank with always around 0.5 Sv through Rockall Trough.\n",
    "\n",
    "I haven't looked at Faroe-Shetland Channel yet, so this is only part (and probably the smaller part) of the northward flow in NE Atlantic towards Arctic.\n",
    "\n",
    "So, here we\n",
    "- load lagrangian trajectory data that has been written by OceanParcels from particle tracking in Viking20x model (currently using monthly mean fields for speed)\n",
    "    - particles tracked from a section across IFR\n",
    "    - random release points along section\n",
    "    - tracked forward for 6 months to id destinations\n",
    "    - tracked backwards for 2 years to id sources\n",
    "- plot sections\n",
    "- plot trajectories\n",
    "- subset trajectories based on source and destination\n",
    "- estimate transports\n",
    "\n",
    "Transports associated with different pathways are estimated by assuming that each particle crossing IFR has an associated volume transport, which it maintains throughout its life, given by the \n",
    "                velocity across the section * total cross-sectional area / number of particles\n",
    "So like a streamtube...    "
   ]
  },
  {
   "cell_type": "markdown",
   "metadata": {},
   "source": [
    "## To do\n",
    "\n",
    "- calculate section area properly \n",
    "- explore sensitivity to particle numbers and random seed (i.e. do I have enough particles)\n",
    "- calculate true transport across section in model\n",
    "- not selecting ocean particles properly near bed - partial cells\n",
    "- fix time units on track plots"
   ]
  },
  {
   "cell_type": "markdown",
   "metadata": {},
   "source": [
    "## Technical preamble"
   ]
  },
  {
   "cell_type": "code",
   "execution_count": null,
   "metadata": {},
   "outputs": [],
   "source": [
    "%matplotlib notebook\n",
    "\n",
    "import matplotlib.colors as colors\n",
    "import numpy as np\n",
    "from pathlib import Path\n",
    "import matplotlib.pyplot as plt\n",
    "import xarray as xr\n",
    "from datetime import datetime, timedelta\n",
    "import seaborn as sns\n",
    "from matplotlib.colors import ListedColormap\n",
    "\n"
   ]
  },
  {
   "cell_type": "code",
   "execution_count": null,
   "metadata": {},
   "outputs": [],
   "source": [
    "## Parameters\n",
    "# Project path\n",
    "project_path = Path(\"C:/Users/sa05af/OneDrive - SAMS/Projects/parcels_quantitative_202004/\")\n",
    "\n",
    "# Parcels track data file\n",
    "path_data_tracks = Path('data/processed/tracks/FaroeShetland/') \n",
    "filename = 'test_forwards.nc'\n",
    "filenameb = 'test_backwards.nc'\n",
    "\n",
    "# model mask file\n",
    "data_path = Path(\"data/external/iAtlantic/\")\n",
    "experiment_name = \"VIKING20X.L46-KKG36107B\"\n",
    "\n",
    "#velocity conversions on IFR (61N)\n",
    "\n",
    "lat2metres = 60.0*1852.0\n",
    "lon2metres = 60.0*1852.0*np.cos(np.radians(61.0))\n"
   ]
  },
  {
   "cell_type": "markdown",
   "metadata": {},
   "source": [
    "## Load data"
   ]
  },
  {
   "cell_type": "code",
   "execution_count": null,
   "metadata": {},
   "outputs": [],
   "source": [
    "ds = xr.open_dataset(project_path / path_data_tracks / filename)\n",
    "\n",
    "# display(ds)\n",
    "# ds.isel(obs=0).z.max()"
   ]
  },
  {
   "cell_type": "code",
   "execution_count": null,
   "metadata": {},
   "outputs": [],
   "source": [
    "# ds.vvel.isel(obs=10)"
   ]
  },
  {
   "cell_type": "code",
   "execution_count": null,
   "metadata": {},
   "outputs": [],
   "source": [
    "mesh_mask_file = project_path / data_path / \"mask\" / experiment_name / \"1_mesh_mask.nc\""
   ]
  },
  {
   "cell_type": "code",
   "execution_count": null,
   "metadata": {},
   "outputs": [],
   "source": [
    "mesh_mask = xr.open_dataset(mesh_mask_file)\n",
    "mesh_mask = mesh_mask.squeeze()\n",
    "mesh_mask = mesh_mask.set_coords([\"nav_lon\", \"nav_lat\", \"nav_lev\"])\n",
    "\n",
    "bathy = mesh_mask.mbathy.rename(\"number of water filled points\")\n",
    "\n",
    "depth = (mesh_mask.e3t_0 * mesh_mask.tmask).sum(\"z\")\n",
    "# display(mesh_mask)"
   ]
  },
  {
   "cell_type": "markdown",
   "metadata": {},
   "source": [
    "## Have a quick look"
   ]
  },
  {
   "cell_type": "markdown",
   "metadata": {},
   "source": [
    "### Release positions of the particles on section from Faroes to Shetland"
   ]
  },
  {
   "cell_type": "code",
   "execution_count": null,
   "metadata": {},
   "outputs": [],
   "source": [
    "plt.figure(figsize = (9,4.5))\n",
    "\n",
    "plt.scatter(\n",
    "    ds.isel(obs=0).lat.data.flatten(),\n",
    "    ds.isel(obs=0).z.data.flatten(),\n",
    "    20,\n",
    "    ds.isel(obs=0).vvel.data.flatten()*lon2metres\n",
    "#     , vmin = 0, vmax = 12.5\n",
    "#    ,cmap= ListedColormap(sns.color_palette(\"hsv\",20))\n",
    "#    ,alpha=0.3\n",
    ")\n",
    "\n",
    "plt.ylim(1500,0)\n",
    "\n",
    "plt.colorbar(label = \"vvel [m/s]\")\n"
   ]
  },
  {
   "cell_type": "markdown",
   "metadata": {},
   "source": [
    "## Load backward data"
   ]
  },
  {
   "cell_type": "code",
   "execution_count": null,
   "metadata": {},
   "outputs": [],
   "source": [
    "# Parcels output file\n",
    "# filename = 'Parcels_TITANIC_1k.nc'\n",
    "\n",
    "dsb = xr.open_dataset(project_path / path_data_tracks / filenameb)\n",
    "# display(dsb)\n",
    "# print(dsb.time.min())\n",
    "\n",
    "ds_full = xr.concat([dsb,ds],dim='obs')\n",
    "\n",
    "# display(ds_full)"
   ]
  },
  {
   "cell_type": "markdown",
   "metadata": {},
   "source": [
    "### Trajectories of particles"
   ]
  },
  {
   "cell_type": "code",
   "execution_count": null,
   "metadata": {},
   "outputs": [],
   "source": [
    "plt.figure(figsize = (12,9))\n",
    "\n",
    "# plot tracks as scatter plots\n",
    "\n",
    "plt.scatter(\n",
    "    ds_full.where(ds_full.time > np.datetime64('2010-06-15')).lon.data.flatten(),\n",
    "    ds_full.where(ds_full.time > np.datetime64('2010-06-15')).lat.data.flatten(),\n",
    "    3,\n",
    "    ds_full.where(ds_full.time > np.datetime64('2010-06-15')).time.data.flatten()\n",
    "#     ,alpha=0.3, vmin = 0, vmax = 1000\n",
    "#    ,alpha=0.3,cmap= ListedColormap(sns.color_palette(\"BrBG\",8))\n",
    "#    ,alpha=0.3\n",
    ")\n",
    "plt.colorbar(label = \"time [stupid units. range 2.5 years, all cross IFR at 2 years]\");\n",
    "\n",
    "# plot depth contours and land boundary from model bathymetry\n",
    "depth.isel(y=slice(1800, 2499), x=slice(1300, 2404)).plot.contour(\n",
    "    x=\"nav_lon\", y=\"nav_lat\", colors = 'grey', levels = [200,800,1500,2000,2500,3500]\n",
    ");\n",
    "depth.isel(y=slice(1800, 2499), x=slice(1300, 2404)).plot.contour(\n",
    "    x=\"nav_lon\", y=\"nav_lat\", colors = 'k', levels = [1]\n",
    ");\n",
    "# plt.savefig('upstream.png')\n",
    "plt.ylim(45,70)\n",
    "plt.xlim(-30,10)\n"
   ]
  },
  {
   "cell_type": "markdown",
   "metadata": {},
   "source": [
    "### Find subsets of trajectories passing through different areas, either upstream or downstream\n",
    "\n",
    "This just tests whether particles were ever in an area, much easier than testing line crossings."
   ]
  },
  {
   "cell_type": "code",
   "execution_count": null,
   "metadata": {},
   "outputs": [],
   "source": [
    "def apply_through_area(ds, min_lon, max_lon, min_lat, max_lat, min_time, max_time, criterion_name):\n",
    "    '''Apply an area crossing criterion.\n",
    "    \n",
    "    Larvae in ds selected if they pass through given area.\n",
    "    '''\n",
    "    # particles are selected if they pass through given area.\n",
    "    particle_out =  (\n",
    "                    (ds.lon > min_lon) * \n",
    "                    (ds.lon < max_lon) *\n",
    "                    (ds.lat > min_lat) * \n",
    "                    (ds.lat < max_lat) *\n",
    "                    (ds.time > min_time) *\n",
    "                    (ds.time < max_time)\n",
    "                    )\n",
    "                    \n",
    "#     particle_out = (ds.temp < max_lat)\n",
    "    \n",
    "\n",
    "    # last place in array determines if particle went through area  \n",
    "    is_thru = (particle_out.cumsum(\"obs\") != 0)\n",
    "    \n",
    "#     print(particle_out.max())\n",
    "    \n",
    "    # add data to original ds\n",
    "    ds[criterion_name] = is_thru\n",
    "    \n",
    "    return ds"
   ]
  },
  {
   "cell_type": "code",
   "execution_count": null,
   "metadata": {},
   "outputs": [],
   "source": [
    "def apply_left_of_line(ds, lon_1, lon_2, lat_1, lat_2, min_time, max_time, criterion_name):\n",
    "    '''Apply an area crossing criterion.\n",
    "    \n",
    "    Larvae in ds selected if they pass through given area.\n",
    "    '''\n",
    "    # particles are selected if they pass through given area.\n",
    "    particle_out =  ((((lon_2 -lon_1) * (ds.lat - lat_1) - \n",
    "                     (ds.lon - lon_1) * (lat_2 - lat_1))\n",
    "                     > 0.0) *\n",
    "                    (ds.time > min_time) *\n",
    "                    (ds.time < max_time))\n",
    "                    \n",
    "#     particle_out = (ds.temp < max_lat)\n",
    "    \n",
    "\n",
    "    # last place in array determines if particle went through area  \n",
    "    is_thru = (particle_out.cumsum(\"obs\") != 0)\n",
    "    \n",
    "#     print(particle_out.max())\n",
    "    \n",
    "    # add data to original ds\n",
    "    ds[criterion_name] = is_thru\n",
    "    \n",
    "    return ds"
   ]
  },
  {
   "cell_type": "code",
   "execution_count": null,
   "metadata": {},
   "outputs": [],
   "source": [
    "# comes through Rockall Trough\n",
    "ds_area = apply_through_area(ds_full,-14.0,-9.0,57.25,57.75,np.datetime64('2010-06-15'),np.datetime64('2016-06-15'),'thru_RT')    \n",
    "# comes northward west of Rockall Bank\n",
    "ds_area = apply_through_area(ds_area,-60,-14,57.25,57.75,np.datetime64('2010-06-15'),np.datetime64('2016-06-15'),'westof_RB')  \n",
    "# comes clockwise round Iceland\n",
    "ds_area = apply_through_area(ds_area,-22,-20,65,70,np.datetime64('2010-06-15'),np.datetime64('2016-06-15'),'round_I')  \n",
    "# comes from NW\n",
    "ds_area = apply_through_area(ds_area,-20,-10,68.5,70,np.datetime64('2010-06-15'),np.datetime64('2020-06-15'),'from_NW')  \n",
    "# goes northeastward towards Arctic - all particles doing this pass north of Faroe\n",
    "ds_area = apply_through_area(ds_area,-6.5,-5.5,62.3,64.5,np.datetime64('2010-06-15'),np.datetime64('2016-06-15'),'crossed_IFR')    \n",
    "# goes west south of Iceland in SPG\n",
    "ds_area = apply_through_area(ds_area,-23,-22,62.,64.,np.datetime64('2016-06-15'),np.datetime64('2020-06-15'),'went_west')  \n",
    "# goes to arctic\n",
    "ds_area = apply_left_of_line(ds_area,0,7,65,62,np.datetime64('2016-06-15'),np.datetime64('2020-06-15'),'to_arctic')"
   ]
  },
  {
   "cell_type": "markdown",
   "metadata": {},
   "source": [
    "### Plot tracks for a couple of cases"
   ]
  },
  {
   "cell_type": "code",
   "execution_count": null,
   "metadata": {},
   "outputs": [],
   "source": [
    "plt.figure(figsize = (11,8))\n",
    "\n",
    "plt.scatter(\n",
    "    ds_area.where(ds_area.isel(obs=-1).crossed_IFR == False).where(ds_area.isel(obs=-1).to_arctic).lon.data.flatten(),\n",
    "    ds_area.where(ds_area.isel(obs=-1).crossed_IFR == False).where(ds_area.isel(obs=-1).to_arctic).lat.data.flatten(),\n",
    "    3,\n",
    "    ds_area.where(ds_area.isel(obs=-1).crossed_IFR == False).where(ds_area.isel(obs=-1).to_arctic).time.data.flatten()\n",
    "#     , vmin = 0, vmax = 12.5\n",
    "#    ,cmap= ListedColormap(sns.color_palette(\"hsv\",20))\n",
    "#    ,alpha=0.3\n",
    ")\n",
    "plt.colorbar(label = \"time [stupid units. range 2.5 years, all cross IFR at 2 years]\")\n",
    "\n",
    "# plt.plot(titanic_lon, titanic_lat, 'rx', ms = 8, mew = 2);\n",
    "\n",
    "depth.isel(y=slice(1800, 2499), x=slice(1300, 2404)).plot.contour(\n",
    "    x=\"nav_lon\", y=\"nav_lat\", colors = 'grey', levels = [200,800,1500,2000,2500,3500]\n",
    ");\n",
    "depth.isel(y=slice(1800, 2499), x=slice(1300, 2404)).plot.contour(\n",
    "    x=\"nav_lon\", y=\"nav_lat\", colors = 'k', levels = [1]\n",
    ");\n",
    "# plt.savefig('upstream.png')\n",
    "# plt.ylim(45,68)\n",
    "# plt.xlim(-35,15)\n",
    "plt.ylim(55,70)\n",
    "plt.xlim(-25,10)\n",
    "plt.title('Trajectories from west of Rockall Bank')\n"
   ]
  },
  {
   "cell_type": "code",
   "execution_count": null,
   "metadata": {},
   "outputs": [],
   "source": [
    "plt.figure(figsize = (11,8))\n",
    "\n",
    "plt.scatter(\n",
    "    ds_area.where(ds_area.isel(obs=-1).crossed_IFR == False).where(ds_area.isel(obs=-1).thru_RT).lon.data.flatten(),\n",
    "    ds_area.where(ds_area.isel(obs=-1).crossed_IFR == False).where(ds_area.isel(obs=-1).thru_RT).lat.data.flatten(),\n",
    "    3,\n",
    "    ds_area.where(ds_area.isel(obs=-1).crossed_IFR == False).where(ds_area.isel(obs=-1).thru_RT).time.data.flatten()\n",
    "#     , vmin = 0, vmax = 12.5\n",
    "#    ,cmap= ListedColormap(sns.color_palette(\"hsv\",20))\n",
    "#    ,alpha=0.3\n",
    ")\n",
    "plt.colorbar(label = \"time [stupid units. range 2.5 years, all cross IFR at 2 years]\")\n",
    "\n",
    "# plt.plot(titanic_lon, titanic_lat, 'rx', ms = 8, mew = 2);\n",
    "\n",
    "depth.isel(y=slice(1800, 2499), x=slice(1300, 2404)).plot.contour(\n",
    "    x=\"nav_lon\", y=\"nav_lat\", colors = 'grey', levels = [200,800,1500,2000,2500,3500]\n",
    ");\n",
    "depth.isel(y=slice(1800, 2499), x=slice(1300, 2404)).plot.contour(\n",
    "    x=\"nav_lon\", y=\"nav_lat\", colors = 'k', levels = [1]\n",
    ");\n",
    "# plt.savefig('upstream.png')\n",
    "# plt.ylim(45,68)\n",
    "# plt.xlim(-35,15)\n",
    "plt.ylim(55,65)\n",
    "plt.xlim(-25,-2.5)\n",
    "plt.title('Trajectories through Rockall Trough')\n"
   ]
  },
  {
   "cell_type": "code",
   "execution_count": null,
   "metadata": {},
   "outputs": [],
   "source": [
    "plt.figure(figsize = (11,8))\n",
    "\n",
    "plt.scatter(\n",
    "    ds_area.where(ds_area.isel(obs=-1).round_I).where(ds_area.isel(obs=-1).went_west).lon.data.flatten(),\n",
    "    ds_area.where(ds_area.isel(obs=-1).round_I).where(ds_area.isel(obs=-1).went_west).lat.data.flatten(),\n",
    "    3,\n",
    "    ds_area.where(ds_area.isel(obs=-1).round_I).where(ds_area.isel(obs=-1).went_west).time.data.flatten()\n",
    "#     , vmin = 0, vmax = 12.5\n",
    "#    ,cmap= ListedColormap(sns.color_palette(\"hsv\",20))\n",
    "#    ,alpha=0.3\n",
    ")\n",
    "plt.colorbar(label = \"time [stupid units. range 2.5 years, all cross IFR at 2 years]\")\n",
    "\n",
    "# plt.plot(titanic_lon, titanic_lat, 'rx', ms = 8, mew = 2);\n",
    "\n",
    "depth.isel(y=slice(1800, 2499), x=slice(1300, 2404)).plot.contour(\n",
    "    x=\"nav_lon\", y=\"nav_lat\", colors = 'grey', levels = [200,800,1500,2000,2500,3500]\n",
    ");\n",
    "depth.isel(y=slice(1800, 2499), x=slice(1300, 2404)).plot.contour(\n",
    "    x=\"nav_lon\", y=\"nav_lat\", colors = 'k', levels = [1]\n",
    ");\n",
    "# plt.savefig('upstream.png')\n",
    "# plt.ylim(45,68)\n",
    "# plt.xlim(-35,15)\n",
    "plt.ylim(47.5,70)\n",
    "plt.xlim(-30,10)\n",
    "plt.title('Trajectories round Iceland')\n"
   ]
  },
  {
   "cell_type": "markdown",
   "metadata": {},
   "source": [
    "## Plot IFF section coloured by source"
   ]
  },
  {
   "cell_type": "code",
   "execution_count": null,
   "metadata": {},
   "outputs": [],
   "source": [
    "# ds.isel(obs=0).time.plot();\n",
    "plt.figure(figsize = (9,4.5))\n",
    "\n",
    "plt.scatter(\n",
    "    ds.isel(obs=0).lon.data.flatten(),\n",
    "    ds.isel(obs=0).z.data.flatten(),\n",
    "    s = 20, color = 'k', label='from other, went other'\n",
    ")\n",
    "plt.scatter(\n",
    "    ds.where(ds_area.isel(obs=-1).crossed_IFR).isel(obs=0).lon.data.flatten(),\n",
    "    ds.where(ds_area.isel(obs=-1).crossed_IFR).isel(obs=0).z.data.flatten(),\n",
    "    s = 20, color = 'r', label='from NW, went other'\n",
    ")\n",
    "plt.scatter(\n",
    "    ds.where(ds_area.isel(obs=-1).crossed_IFR).where(ds_area.isel(obs=-1).to_arctic).isel(obs=0).lon.data.flatten(),\n",
    "    ds.where(ds_area.isel(obs=-1).crossed_IFR).where(ds_area.isel(obs=-1).to_arctic).isel(obs=0).z.data.flatten(),\n",
    "    s = 20, color = 'coral', label='from NW, went NE'\n",
    ")\n",
    "plt.scatter(\n",
    "    ds.where(ds_area.isel(obs=-1).crossed_IFR == False).where(ds_area.isel(obs=-1).westof_RB).isel(obs=0).lon.data.flatten(),\n",
    "    ds.where(ds_area.isel(obs=-1).crossed_IFR == False).where(ds_area.isel(obs=-1).westof_RB).isel(obs=0).z.data.flatten(),\n",
    "    s = 20, color = 'lightgreen', label='from WRB, went other'\n",
    ")\n",
    "plt.scatter(\n",
    "    ds.where(ds_area.isel(obs=-1).crossed_IFR == False).where(ds_area.isel(obs=-1).westof_RB).where(ds_area.isel(obs=-1).to_arctic).isel(obs=0).lon.data.flatten(),\n",
    "    ds.where(ds_area.isel(obs=-1).crossed_IFR == False).where(ds_area.isel(obs=-1).westof_RB).where(ds_area.isel(obs=-1).to_arctic).isel(obs=0).z.data.flatten(),\n",
    "    s = 20, color = 'g', label='from WRB, went NE'\n",
    ")\n",
    "plt.scatter(\n",
    "    ds.where(ds_area.isel(obs=-1).crossed_IFR == False).where(ds_area.isel(obs=-1).thru_RT).isel(obs=0).lon.data.flatten(),\n",
    "    ds.where(ds_area.isel(obs=-1).crossed_IFR == False).where(ds_area.isel(obs=-1).thru_RT).isel(obs=0).z.data.flatten(),\n",
    "    s = 20, color = 'b', label='from RT, went other'\n",
    ")\n",
    "plt.scatter(\n",
    "    ds.where(ds_area.isel(obs=-1).crossed_IFR == False).where(ds_area.isel(obs=-1).thru_RT).where(ds_area.isel(obs=-1).to_arctic).isel(obs=0).lon.data.flatten(),\n",
    "    ds.where(ds_area.isel(obs=-1).crossed_IFR == False).where(ds_area.isel(obs=-1).thru_RT).where(ds_area.isel(obs=-1).to_arctic).isel(obs=0).z.data.flatten(),\n",
    "    s = 20, color = 'lightblue', label='from RT, went NE'\n",
    ")\n",
    "\n",
    "plt.legend(ncol=3)\n",
    "\n",
    "plt.ylim(1700,0)"
   ]
  },
  {
   "cell_type": "markdown",
   "metadata": {},
   "source": [
    "## Estimate transports across IFR"
   ]
  },
  {
   "cell_type": "code",
   "execution_count": null,
   "metadata": {},
   "outputs": [],
   "source": [
    "sectionAreaEW = 2580 * lon2metres  # very approx. mean depth x length between slopes.\n",
    "sectionAreaNS = 817 * lat2metres\n",
    "\n",
    "nParticles = 2000.0\n",
    "\n",
    "NEwardsParticleTransport = (sectionAreaEW*dsb.isel(obs=0).vvel*lat2metres +\n",
    "                            sectionAreaNS*dsb.isel(obs=0).uvel*lon2metres)/nParticles\n",
    "\n",
    "\n",
    "print(filename)\n",
    "print('Total transport through F-S channel................',\n",
    "      NEwardsParticleTransport.sum().data)\n",
    "print('...and crossed IFR.................................',\n",
    "      NEwardsParticleTransport.where(ds_area.isel(obs=-1).crossed_IFR).sum().data)\n",
    "print('...excluding crossed IFR...........................',\n",
    "      NEwardsParticleTransport.where(ds_area.isel(obs=-1).crossed_IFR == False).sum().data)\n",
    "print('...excluding crossed IFR and from Rockall Trough...',\n",
    "      NEwardsParticleTransport.where(ds_area.isel(obs=-1).crossed_IFR == False).where(ds_area.isel(obs=-1).thru_RT).sum().data)\n",
    "print('...excluding crossed IFR and from West of Rockall..',\n",
    "      NEwardsParticleTransport.where(ds_area.isel(obs=-1).crossed_IFR == False).where(ds_area.isel(obs=-1).westof_RB).sum().data)\n",
    "\n",
    "\n",
    "\n",
    "\n"
   ]
  },
  {
   "cell_type": "code",
   "execution_count": null,
   "metadata": {},
   "outputs": [],
   "source": []
  }
 ],
 "metadata": {
  "kernelspec": {
   "display_name": "Python 3",
   "language": "python",
   "name": "python3"
  },
  "language_info": {
   "codemirror_mode": {
    "name": "ipython",
    "version": 3
   },
   "file_extension": ".py",
   "mimetype": "text/x-python",
   "name": "python",
   "nbconvert_exporter": "python",
   "pygments_lexer": "ipython3",
   "version": "3.7.4"
  }
 },
 "nbformat": 4,
 "nbformat_minor": 4
}
