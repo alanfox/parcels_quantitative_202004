{
 "cells": [
  {
   "cell_type": "markdown",
   "metadata": {
    "slideshow": {
     "slide_type": "slide"
    }
   },
   "source": [
    "# OSNAP line Lagrangian particle tracking investigation of the cold/fresh blob\n"
   ]
  },
  {
   "cell_type": "markdown",
   "metadata": {
    "slideshow": {
     "slide_type": "fragment"
    }
   },
   "source": [
    "### The aim here is an investigation of the source of the cold/fresh blob which appeared in the near-surface Iceland Basin from about 2014. There are a couple of published explanations for the feature: \n",
    "\n",
    "- reduced heat/salt transport across RAPID array over several years propagating northwards (Bryden et al. 2020?) or \n",
    "- increased contribution from Labrador Sea water flowing into subpolar North Atlantic rather than southwards (Holliday et al. 2020?). Driven I think by specific,  more intermittent, weather near Flemish Cap (though I need to read this again...)"
   ]
  },
  {
   "cell_type": "markdown",
   "metadata": {
    "slideshow": {
     "slide_type": "fragment"
    }
   },
   "source": [
    "The technique is to track particles back from the OSNAP line, initially for 2 years. Each particle has an associated transport normal to OSNAP, which I use to estimate the contribution to volumes/heat/salt crossing OSNAP northwards from the two main routes - Gulf Stream and Labrador Sea. And see how that changes over the years from 2006 to 2017."
   ]
  },
  {
   "cell_type": "markdown",
   "metadata": {
    "slideshow": {
     "slide_type": "subslide"
    }
   },
   "source": [
    "The main conclusion is that from about 2012 Labrador Sea becomes a more important source of surface waters to the Iceland Basin, but there is also a reduction in the temperature and salinity of the water from the Gulf Stream. So probably a balance of both. **But I need to run the particles back further - 2 years is not long enough to pinpoint the pathway for most particles.**"
   ]
  },
  {
   "cell_type": "markdown",
   "metadata": {
    "slideshow": {
     "slide_type": "skip"
    }
   },
   "source": [
    "## Technical preamble"
   ]
  },
  {
   "cell_type": "code",
   "execution_count": null,
   "metadata": {
    "slideshow": {
     "slide_type": "skip"
    }
   },
   "outputs": [],
   "source": [
    "# import matplotlib.colors as colors\n",
    "import numpy as np\n",
    "from pathlib import Path\n",
    "import matplotlib.pyplot as plt\n",
    "import xarray as xr\n",
    "from datetime import datetime, timedelta\n",
    "import seaborn as sns\n",
    "# from matplotlib.colors import ListedColormap\n",
    "import cmocean as co\n",
    "import pandas as pd\n",
    "import matplotlib.dates as mdates\n",
    "import cartopy.crs as ccrs\n",
    "import cartopy\n",
    "import seawater as sw\n",
    "\n",
    "from matplotlib import colors as c\n",
    "from matplotlib import ticker\n",
    "from xhistogram.xarray import histogram\n",
    "\n",
    "sns.set(style=\"darkgrid\")\n",
    "\n",
    "xr.set_options(keep_attrs=True)\n",
    "np.warnings.filterwarnings('ignore')\n",
    "\n",
    "sns.set_palette(\"colorblind\")\n",
    "xr.set_options(keep_attrs=True);\n"
   ]
  },
  {
   "cell_type": "markdown",
   "metadata": {
    "slideshow": {
     "slide_type": "skip"
    }
   },
   "source": [
    "## Set up paths and read in trajectory data"
   ]
  },
  {
   "cell_type": "code",
   "execution_count": null,
   "metadata": {
    "slideshow": {
     "slide_type": "skip"
    }
   },
   "outputs": [],
   "source": [
    "## Parameters\n",
    "# Project path\n",
    "project_path = Path.cwd() / '..' / '..' \n",
    "project_path = project_path.resolve()\n",
    "\n",
    "# Parcels track data file\n",
    "path_data_tracks = Path('data/processed/tracks/osnap/') \n",
    "filename_tracks = [\n",
    "                   'tracks_osnap_backward_200607_N2931_D1460_Rnd123.nc',\n",
    "                   'tracks_osnap_backward_200707_N2931_D1460_Rnd123.nc',\n",
    "                   'tracks_osnap_backward_200807_N2931_D1460_Rnd123.nc',\n",
    "                   'tracks_osnap_backward_200907_N2931_D1460_Rnd123.nc',\n",
    "                   'tracks_osnap_backward_201007_N2931_D1460_Rnd123.nc',\n",
    "                   'tracks_osnap_backward_201107_N2931_D1460_Rnd123.nc',\n",
    "                   'tracks_osnap_backward_201207_N2931_D1460_Rnd123.nc',\n",
    "                   'tracks_osnap_backward_201307_N2931_D1460_Rnd123.nc',\n",
    "                   'tracks_osnap_backward_201407_N2931_D1460_Rnd123.nc',\n",
    "                   'tracks_osnap_backward_201507_N2931_D1460_Rnd123.nc',\n",
    "                   'tracks_osnap_backward_201607_N2931_D1460_Rnd123.nc',\n",
    "                   'tracks_osnap_backward_201707_N2931_D1460_Rnd123.nc',\n",
    "                   'tracks_osnap_backward_200601_N2931_D1460_Rnd123.nc',\n",
    "                   'tracks_osnap_backward_200701_N2931_D1460_Rnd123.nc',\n",
    "                   'tracks_osnap_backward_200801_N2931_D1460_Rnd123.nc',\n",
    "                   'tracks_osnap_backward_200901_N2931_D1460_Rnd123.nc',\n",
    "                   'tracks_osnap_backward_201001_N2931_D1460_Rnd123.nc',\n",
    "                   'tracks_osnap_backward_201101_N2931_D1460_Rnd123.nc',\n",
    "                   'tracks_osnap_backward_201201_N2931_D1460_Rnd123.nc',\n",
    "                   'tracks_osnap_backward_201301_N2931_D1460_Rnd123.nc',\n",
    "                   'tracks_osnap_backward_201401_N2931_D1460_Rnd123.nc',\n",
    "                   'tracks_osnap_backward_201501_N2931_D1460_Rnd123.nc',\n",
    "                   'tracks_osnap_backward_201601_N2931_D1460_Rnd123.nc',\n",
    "                   'tracks_osnap_backward_201701_N2931_D1460_Rnd123.nc'\n",
    "]\n",
    "\n",
    "# model mask file\n",
    "data_path = Path(\"data/external/iAtlantic/\")\n",
    "experiment_name = \"VIKING20X.L46-KKG36107B\"\n",
    "mesh_mask_file = project_path / data_path / \"mask\" / experiment_name / \"1_mesh_mask.nc\"\n",
    "\n",
    "#section lonlat file\n",
    "sectionPath = Path('data/external/sections/')\n",
    "sectionFilename = 'osnap_pos_wp.txt'\n",
    "sectionname = 'osnap'\n",
    "gsrsectionFilename = 'gsr_pos_wp.txt'\n",
    "\n",
    "degree2km = 1.852*60.0\n",
    "\n",
    "\n",
    "# some transport values specific to osnap runs\n",
    "# randomly seeded 39995 particles, 19886 were in ocean points (the rest were land)\n",
    "\n",
    "# osnap_section_length = 3594572.87839    # m\n",
    "# osnap_section_depth = 4000 # m over which particles launched\n",
    "\n",
    "# osnap_section_ocean_area = osnap_section_length * osnap_section_depth * 19886.0 / 39995.0\n",
    "\n",
    "# particle_section_area = osnap_section_length * osnap_section_depth / 39995.0\n",
    "\n",
    "osnap_section_length = 3594572.87839    # m\n",
    "osnap_subsection_length = 1121724.76238   # m\n",
    "osnap_section_depth = 4000 # m over which particles launched\n",
    "osnap_subsection_depth = 500 # m over which particles launched\n",
    "\n",
    "osnap_subsection_ocean_area = osnap_subsection_length * osnap_subsection_depth * 2931.0 / 3119.0\n",
    "\n",
    "particle_section_area = osnap_subsection_length * osnap_subsection_depth / 3119.0\n"
   ]
  },
  {
   "cell_type": "markdown",
   "metadata": {
    "slideshow": {
     "slide_type": "skip"
    }
   },
   "source": [
    "## Load data"
   ]
  },
  {
   "cell_type": "markdown",
   "metadata": {
    "slideshow": {
     "slide_type": "skip"
    }
   },
   "source": [
    "### mesh and masks"
   ]
  },
  {
   "cell_type": "code",
   "execution_count": null,
   "metadata": {
    "slideshow": {
     "slide_type": "skip"
    }
   },
   "outputs": [],
   "source": [
    "mesh_mask = xr.open_dataset(mesh_mask_file)\n",
    "mesh_mask = mesh_mask.squeeze()\n",
    "mesh_mask = mesh_mask.set_coords([\"nav_lon\", \"nav_lat\", \"nav_lev\"])\n",
    "\n",
    "bathy = mesh_mask.mbathy.rename(\"number of water filled points\")\n",
    "\n",
    "depth = (mesh_mask.e3t_0 * mesh_mask.tmask).sum(\"z\")\n",
    "# display(mesh_mask)"
   ]
  },
  {
   "cell_type": "markdown",
   "metadata": {
    "slideshow": {
     "slide_type": "skip"
    }
   },
   "source": [
    "### section position data"
   ]
  },
  {
   "cell_type": "code",
   "execution_count": null,
   "metadata": {
    "slideshow": {
     "slide_type": "skip"
    }
   },
   "outputs": [],
   "source": [
    "lonlat = xr.Dataset(pd.read_csv(project_path / sectionPath / sectionFilename,delim_whitespace=True))\n",
    "lonlat['lon'] *= -1.0"
   ]
  },
  {
   "cell_type": "code",
   "execution_count": null,
   "metadata": {
    "slideshow": {
     "slide_type": "skip"
    }
   },
   "outputs": [],
   "source": [
    "lonlat.lon.attrs['long_name']='Longitude'\n",
    "lonlat.lat.attrs['long_name']='Latitude'\n",
    "lonlat.lon.attrs['standard_name']='longitude'\n",
    "lonlat.lat.attrs['standard_name']='latitude'\n",
    "lonlat.lon.attrs['units']='degrees_east'\n",
    "lonlat.lat.attrs['units']='degrees_north'\n",
    "\n",
    "lonlat2mean= lonlat.rolling({'dim_0':2}).mean()\n",
    "\n",
    "lonlatdiff = (lonlat.diff('dim_0'))\n",
    "\n",
    "lonlatdiff = lonlatdiff.assign({'y':lonlatdiff['lat']*degree2km})\n",
    "lonlatdiff = lonlatdiff.assign({'x':lonlatdiff['lon']*degree2km*np.cos(np.radians(lonlat2mean.lat.data[1:]))})\n",
    "lonlatdiff=lonlatdiff.assign({'length':np.sqrt(lonlatdiff['x']**2+lonlatdiff['y']**2)})\n",
    "lonlatdiff=lonlatdiff.assign({'costheta':lonlatdiff['x']/lonlatdiff['length']})\n",
    "lonlatdiff=lonlatdiff.assign({'sintheta':lonlatdiff['y']/lonlatdiff['length']})\n",
    "\n",
    "total_length = lonlatdiff.length.sum().data \n",
    "total_osnap_length = lonlatdiff.length[0:12].sum().data;  # exclude section across UK - just there for testing north/south\n",
    "\n",
    "length_west = xr.concat((xr.DataArray([0],dims=(\"dim_0\"),coords={\"dim_0\": [0]}),lonlatdiff.length.cumsum()),dim='dim_0')"
   ]
  },
  {
   "cell_type": "markdown",
   "metadata": {
    "slideshow": {
     "slide_type": "skip"
    }
   },
   "source": [
    "### tracks"
   ]
  },
  {
   "cell_type": "code",
   "execution_count": null,
   "metadata": {},
   "outputs": [],
   "source": [
    "lonlatdiff.length.cumsum().data[9] - lonlatdiff.length.cumsum().data[5]"
   ]
  },
  {
   "cell_type": "code",
   "execution_count": null,
   "metadata": {
    "slideshow": {
     "slide_type": "skip"
    }
   },
   "outputs": [],
   "source": [
    "ds=[]\n",
    "for filename in filename_tracks:\n",
    "    ds.append(xr.open_dataset(project_path / path_data_tracks / filename))\n",
    "# ds.isel(obs=0).z.max()"
   ]
  },
  {
   "cell_type": "markdown",
   "metadata": {
    "slideshow": {
     "slide_type": "skip"
    }
   },
   "source": [
    "#### Subset tracks by OSNAP line cross longitude and depth range"
   ]
  },
  {
   "cell_type": "code",
   "execution_count": null,
   "metadata": {
    "slideshow": {
     "slide_type": "skip"
    }
   },
   "outputs": [],
   "source": [
    "lonRange=[-30,-19]\n",
    "depthRange=[0,500]"
   ]
  },
  {
   "cell_type": "code",
   "execution_count": null,
   "metadata": {
    "slideshow": {
     "slide_type": "skip"
    }
   },
   "outputs": [],
   "source": [
    "for i in range(len(ds)):\n",
    "    ds[i] = ds[i].where(ds[i].isel(obs=0).lon > lonRange[0]).where(ds[i].isel(obs=0).lon < lonRange[1])\n",
    "    ds[i] = ds[i].where(ds[i].isel(obs=0).z > depthRange[0]).where(ds[i].isel(obs=0).z < depthRange[1])\n",
    "    ds[i] = ds[i].dropna('traj', how='all')\n",
    "    "
   ]
  },
  {
   "cell_type": "markdown",
   "metadata": {
    "slideshow": {
     "slide_type": "skip"
    }
   },
   "source": [
    "#### Velocity conversions from degrees lat/lon per second to m/s"
   ]
  },
  {
   "cell_type": "code",
   "execution_count": null,
   "metadata": {
    "slideshow": {
     "slide_type": "skip"
    }
   },
   "outputs": [],
   "source": [
    "for i in range(len(ds)):\n",
    "    ds[i]=ds[i].assign({'uvel_ms':ds[i].uvel * degree2km * 1000.0 * np.cos(np.radians(ds[i].lat))})\n",
    "    ds[i]=ds[i].assign({'vvel_ms':ds[i].vvel * degree2km * 1000.0})"
   ]
  },
  {
   "cell_type": "markdown",
   "metadata": {
    "slideshow": {
     "slide_type": "skip"
    }
   },
   "source": [
    "#### Find initial velocities normal to the section"
   ]
  },
  {
   "cell_type": "code",
   "execution_count": null,
   "metadata": {
    "slideshow": {
     "slide_type": "skip"
    }
   },
   "outputs": [],
   "source": [
    "ds_init=[]\n",
    "\n",
    "for dsi in ds:\n",
    "    ds_temp = dsi.isel(obs=0)\n",
    "    \n",
    "    ds_init.append(ds_temp)\n",
    "    \n",
    "for i in range(len(ds_init)):\n",
    "    ds_init[i] = ds_init[i].assign({'section_index':xr.DataArray(np.searchsorted(lonlat.lon,ds_temp.lon)-1,dims='traj')})\n",
    "    ds_init[i] = ds_init[i].assign({'u_normal':ds_init[i].vvel_ms * lonlatdiff.costheta[ds_init[i].section_index].data - ds_init[i].uvel_ms * lonlatdiff.sintheta[ds_init[i].section_index].data})\n",
    "    ds_init[i] = ds_init[i].assign({'u_along':ds_init[i].vvel_ms * lonlatdiff.sintheta[ds_init[i].section_index].data + ds_init[i].uvel_ms * lonlatdiff.costheta[ds_init[i].section_index].data})\n",
    "    ds_init[i] = ds_init[i].assign({'vol_trans_normal':ds_init[i].u_normal * particle_section_area/1.0e06})\n"
   ]
  },
  {
   "cell_type": "markdown",
   "metadata": {
    "slideshow": {
     "slide_type": "skip"
    }
   },
   "source": [
    "#### Find along-section distances of initial points"
   ]
  },
  {
   "cell_type": "code",
   "execution_count": null,
   "metadata": {
    "slideshow": {
     "slide_type": "skip"
    }
   },
   "outputs": [],
   "source": [
    "for i in range(len(ds_init)):\n",
    "    ds_init[i] = ds_init[i].assign({'x':xr.DataArray(length_west[ds_init[i].section_index] + lonlatdiff.length[ds_init[i].section_index]*\n",
    "                              (ds_init[i].lon - lonlat.lon[ds_init[i].section_index])/lonlatdiff.lon[ds_init[i].section_index],dims='traj')})"
   ]
  },
  {
   "cell_type": "markdown",
   "metadata": {},
   "source": [
    "### temperature and salt transports along track"
   ]
  },
  {
   "cell_type": "code",
   "execution_count": null,
   "metadata": {},
   "outputs": [],
   "source": [
    "for i in range(len(ds)):\n",
    "    ds[i]=ds[i].assign({'temp_transport':ds[i].temp * ds_init[i].vol_trans_normal})\n",
    "    ds[i]=ds[i].assign({'salt_transport':ds[i].salt * ds_init[i].vol_trans_normal})\n",
    "    ds[i]=ds[i].assign({'vol_transport':ds_init[i].vol_trans_normal})\n"
   ]
  },
  {
   "cell_type": "code",
   "execution_count": null,
   "metadata": {},
   "outputs": [],
   "source": [
    "ds[1]"
   ]
  },
  {
   "cell_type": "markdown",
   "metadata": {
    "slideshow": {
     "slide_type": "skip"
    }
   },
   "source": [
    "## Plot section"
   ]
  },
  {
   "cell_type": "code",
   "execution_count": null,
   "metadata": {
    "slideshow": {
     "slide_type": "skip"
    }
   },
   "outputs": [],
   "source": [
    "sns.set(style=\"whitegrid\")\n",
    "central_lon, central_lat = -30, 55\n",
    "fig, ax = plt.subplots(subplot_kw={'projection': ccrs.Orthographic(central_lon, central_lat)})\n",
    "extent = [-60, 0, 40, 70]\n",
    "ax.set_extent(extent)\n",
    "ax.gridlines()\n",
    "ax.coastlines(resolution='50m')\n",
    "\n",
    "lonlat.plot.scatter(ax=ax,transform=ccrs.PlateCarree(),x='lon',y='lat')\n",
    "lonlat2mean.plot.scatter(ax=ax,transform=ccrs.PlateCarree(),x='lon',y='lat');"
   ]
  },
  {
   "cell_type": "markdown",
   "metadata": {},
   "source": [
    "## Find track source regions"
   ]
  },
  {
   "cell_type": "code",
   "execution_count": null,
   "metadata": {
    "slideshow": {
     "slide_type": "skip"
    }
   },
   "outputs": [],
   "source": [
    "def apply_left_of_line(ds, lon_1, lon_2, lat_1, lat_2):\n",
    "    '''Apply an area crossing criterion.\n",
    "    \n",
    "    Larvae in ds selected while they are in a selected area.\n",
    "    '''\n",
    "    # particles are selected if they pass through given area.\n",
    "    position =  ((lon_2 -lon_1) * (ds.lat - lat_1) - \n",
    "                     (ds.lon - lon_1) * (lat_2 - lat_1))\n",
    "                        \n",
    "    return position > 0.0, position < 0"
   ]
  },
  {
   "cell_type": "markdown",
   "metadata": {
    "slideshow": {
     "slide_type": "skip"
    }
   },
   "source": [
    "#### identify tracks from Labrador sea or from Gulf Stream"
   ]
  },
  {
   "cell_type": "code",
   "execution_count": null,
   "metadata": {
    "slideshow": {
     "slide_type": "skip"
    }
   },
   "outputs": [],
   "source": [
    "ds_lab_sea_in=[]\n",
    "ds_60w_in=[]\n",
    "\n",
    "for i in range(len(ds)):\n",
    "    ds_in1, ds_notin1 = apply_left_of_line(ds[i],-75,-40,40,65)\n",
    "    ds_in2, ds_notin2 = apply_left_of_line(ds[i],-95,-60,52,52)\n",
    "    ds_lab_sea_in.append(ds_in1*ds_in2)\n",
    "\n",
    "    ds_in, ds_notin = apply_left_of_line(ds[i],-60,-100,33,33)\n",
    "    ds_60w_in.append(ds_in)\n"
   ]
  },
  {
   "cell_type": "code",
   "execution_count": null,
   "metadata": {},
   "outputs": [],
   "source": [
    "ds_init_labsea=[]\n",
    "for i in range(len(ds_init)):\n",
    "    ds_init_labsea.append(ds_init[i].where(ds_lab_sea_in[i].max(\"obs\")))\n",
    "    \n",
    "ds_init_60w=[]\n",
    "for i in range(len(ds_init)):\n",
    "    ds_init_60w.append(ds_init[i].where(ds_lab_sea_in[i].max(\"obs\")==False).where(ds_60w_in[i].max(\"obs\")))\n",
    "    \n",
    "ds_init_other=[]\n",
    "for i in range(len(ds_init)):\n",
    "    ds_init_other.append(ds_init[i].where(ds_60w_in[i].max(\"obs\")==False).where(ds_lab_sea_in[i].max(\"obs\")==False))\n",
    "    \n",
    "ds_lab_sea = []\n",
    "for i in range(len(ds)):\n",
    "    ds_lab_sea.append(ds[i].where(ds_lab_sea_in[i].max(\"obs\")))\n",
    "\n",
    "ds_60w = []\n",
    "for i in range(len(ds)):\n",
    "    ds_60w.append(ds[i].where(ds_lab_sea_in[i].max(\"obs\")==False).where(ds_60w_in[i].max(\"obs\")))\n",
    "    \n",
    "ds_other = []\n",
    "for i in range(len(ds)):\n",
    "    ds_other.append(ds[i].where(ds_lab_sea_in[i].max(\"obs\")==False).where(ds_60w_in[i].max(\"obs\")==False))   "
   ]
  },
  {
   "cell_type": "markdown",
   "metadata": {
    "slideshow": {
     "slide_type": "slide"
    }
   },
   "source": [
    "## Transports"
   ]
  },
  {
   "cell_type": "markdown",
   "metadata": {
    "slideshow": {
     "slide_type": "fragment"
    }
   },
   "source": [
    "### Near-surface (0-500 m ) transport northwards across the OSNAP section in the Iceland Basin (30-20 W). Plotted by particle source"
   ]
  },
  {
   "cell_type": "code",
   "execution_count": null,
   "metadata": {
    "slideshow": {
     "slide_type": "skip"
    }
   },
   "outputs": [],
   "source": [
    "def transports(dsinit):\n",
    "    vt = []\n",
    "    ht = []\n",
    "    fwt = []\n",
    "    tav = []\n",
    "    sav = []\n",
    "    ti = []\n",
    "    for ds_1_init in dsinit:\n",
    "\n",
    "        transport_1 = ds_1_init.u_normal.sum(dim='traj')*particle_section_area/1.0e06\n",
    "        temperature_transport_1 = (ds_1_init.u_normal * ds_1_init.temp).sum(dim='traj')*particle_section_area/1.0e06\n",
    "        salt_transport_1 = (ds_1_init.u_normal * ds_1_init.salt).sum(dim='traj')*particle_section_area/1.0e06\n",
    "\n",
    "        vt.append(transport_1.data)\n",
    "        ht.append(temperature_transport_1.data)\n",
    "        fwt.append(salt_transport_1.data)\n",
    "        tav.append(temperature_transport_1.data/transport_1.data)\n",
    "        sav.append(salt_transport_1.data/transport_1.data)\n",
    "        ti.append(ds_1_init.time.mean().data)\n",
    "\n",
    "    ti = np.array(ti)\n",
    "    \n",
    "    x = np.argsort(ti)\n",
    "    ti = ti[x]\n",
    "    vt = np.array(vt)[x]\n",
    "    ht = np.array(ht)[x]\n",
    "    fwt = np.array(fwt)[x]\n",
    "    tav = np.array(tav)[x]\n",
    "    sav = np.array(sav)[x]\n",
    "        \n",
    "    return vt,ht,fwt,tav,sav,ti"
   ]
  },
  {
   "cell_type": "code",
   "execution_count": null,
   "metadata": {
    "slideshow": {
     "slide_type": "skip"
    }
   },
   "outputs": [],
   "source": [
    "vt,ht,fwt,tav,sav,ti = transports(ds_init)"
   ]
  },
  {
   "cell_type": "code",
   "execution_count": null,
   "metadata": {
    "slideshow": {
     "slide_type": "skip"
    }
   },
   "outputs": [],
   "source": [
    "vtls,htls,fwtls,tavls,savls,tils = transports(ds_init_labsea)"
   ]
  },
  {
   "cell_type": "code",
   "execution_count": null,
   "metadata": {
    "slideshow": {
     "slide_type": "skip"
    }
   },
   "outputs": [],
   "source": [
    "vtgs,htgs,fwtgs,tavgs,savgs,tigs = transports(ds_init_60w)"
   ]
  },
  {
   "cell_type": "code",
   "execution_count": null,
   "metadata": {
    "slideshow": {
     "slide_type": "skip"
    }
   },
   "outputs": [],
   "source": [
    "def plot_transports_by_source():\n",
    "    sns.set(style=\"darkgrid\")\n",
    "    sns.set_palette(\"colorblind\")\n",
    "    fig,ax = plt.subplots(3,figsize = (8,9),sharex=True)\n",
    "    ax[0].plot(ti,vt,label='total')\n",
    "    ax[0].plot(tils,vtls,label='labrador sea')\n",
    "    ax[0].plot(tigs,vtgs,label='gulf stream')\n",
    "    ax[0].plot(ti,vt-vtls-vtgs,label='other')\n",
    "    ax[0].legend(bbox_to_anchor=(1.0, 1.05))\n",
    "    ax[0].set_ylabel('transport [Sv]')\n",
    "\n",
    "    ax[1].plot(ti,ht,label='total')\n",
    "    ax[1].plot(tils,htls,label='labrador sea')\n",
    "    ax[1].plot(tigs,htgs,label='gulf stream')\n",
    "    ax[1].plot(ti,ht-htls-htgs,label='other')\n",
    "    ax[1].legend(bbox_to_anchor=(1.0, 1.05))\n",
    "    ax[1].set_ylabel('temperature transport [Sv $\\degree$C]')\n",
    "\n",
    "    ax[2].plot(ti,fwt,label='total')\n",
    "    ax[2].plot(tils,fwtls,label='labrador sea')\n",
    "    ax[2].plot(tigs,fwtgs,label='gulf stream')\n",
    "    ax[2].plot(ti,fwt-fwtls-fwtgs,label='other')\n",
    "    ax[2].legend(bbox_to_anchor=(1.0, 1.05))\n",
    "    ax[2].set_ylabel('salt transport [Sv PSU]')"
   ]
  },
  {
   "cell_type": "markdown",
   "metadata": {
    "slideshow": {
     "slide_type": "subslide"
    }
   },
   "source": [
    "Notice the larger difference between volume transports originating from the Gulf Stream and from the Labrador Sea in the period 2006-2011, and smaller difference after 2012."
   ]
  },
  {
   "cell_type": "code",
   "execution_count": null,
   "metadata": {
    "slideshow": {
     "slide_type": "subslide"
    }
   },
   "outputs": [],
   "source": [
    "plot_transports_by_source()"
   ]
  },
  {
   "cell_type": "code",
   "execution_count": null,
   "metadata": {
    "slideshow": {
     "slide_type": "skip"
    }
   },
   "outputs": [],
   "source": [
    "def plot_mean_properties_by_source():\n",
    "    sns.set(style=\"darkgrid\")\n",
    "    sns.set_palette(\"colorblind\")\n",
    "    fig,ax = plt.subplots(2,figsize = (8,5),sharex=True)\n",
    "\n",
    "    ax[0].plot(ti,tav,label='total')\n",
    "    ax[0].plot(tils,tavls,label='labrador sea')\n",
    "    ax[0].plot(tigs,tavgs,label='gulf stream')\n",
    "    ax[0].legend(bbox_to_anchor=(1.0, 1.05))\n",
    "    ax[0].set_ylabel('mean temperature [$\\degree$C]')\n",
    "\n",
    "    ax[1].plot(ti,sav,label='total')\n",
    "    ax[1].plot(tils,savls,label='labrador sea')\n",
    "    ax[1].plot(tigs,savgs,label='gulf stream')\n",
    "    ax[1].legend(bbox_to_anchor=(1.0, 1.05))\n",
    "    ax[1].set_ylabel('mean salinity [PSU]');\n",
    "\n"
   ]
  },
  {
   "cell_type": "markdown",
   "metadata": {
    "slideshow": {
     "slide_type": "subslide"
    }
   },
   "source": [
    "This is the average temperature and salinity when the water crosses the OSNAP section. So it will have been modified from the water properties in the 'source' region."
   ]
  },
  {
   "cell_type": "code",
   "execution_count": null,
   "metadata": {
    "slideshow": {
     "slide_type": "fragment"
    }
   },
   "outputs": [],
   "source": [
    "plot_mean_properties_by_source()"
   ]
  },
  {
   "cell_type": "markdown",
   "metadata": {
    "slideshow": {
     "slide_type": "skip"
    }
   },
   "source": [
    "### heat loss"
   ]
  },
  {
   "cell_type": "code",
   "execution_count": null,
   "metadata": {
    "slideshow": {
     "slide_type": "skip"
    }
   },
   "outputs": [],
   "source": [
    "# ds_mask = ds"
   ]
  },
  {
   "cell_type": "code",
   "execution_count": null,
   "metadata": {
    "slideshow": {
     "slide_type": "skip"
    }
   },
   "outputs": [],
   "source": [
    "ds_mask_lab_sea = []\n",
    "for i in range(len(ds)):\n",
    "    ds_mask_lab_sea.append(ds[i].where(ds[i].temp!=0.0).where(ds_lab_sea_in[i].max(\"obs\")).dropna('traj', how='all').ffill(dim='obs'))\n",
    "\n",
    "ds_mask_60w = []\n",
    "for i in range(len(ds)):\n",
    "    ds_mask_60w.append(ds[i].where(ds[i].temp!=0.0).where(ds_lab_sea_in[i].max(\"obs\")==False).where(ds_60w_in[i].max(\"obs\")).dropna('traj', how='all').ffill(dim='obs'))\n",
    "    \n",
    "ds_mask_other = []\n",
    "for i in range(len(ds)):\n",
    "    ds_mask_other.append(ds[i].where(ds[i].temp!=0.0).where(ds_lab_sea_in[i].max(\"obs\")==False).where(ds_60w_in[i].max(\"obs\")==False).dropna('traj', how='all').ffill(dim='obs'))"
   ]
  },
  {
   "cell_type": "code",
   "execution_count": null,
   "metadata": {
    "slideshow": {
     "slide_type": "skip"
    }
   },
   "outputs": [],
   "source": [
    "ds_mask = []\n",
    "for i in range(len(ds)):\n",
    "    ds_mask.append(ds[i].where(ds[i].temp!=0.0).dropna('traj', how='all').ffill(dim='obs'))\n"
   ]
  },
  {
   "cell_type": "code",
   "execution_count": null,
   "metadata": {},
   "outputs": [],
   "source": [
    "ds_mask[1]"
   ]
  },
  {
   "cell_type": "code",
   "execution_count": null,
   "metadata": {
    "slideshow": {
     "slide_type": "skip"
    }
   },
   "outputs": [],
   "source": [
    "def plot_alongtrack_av_timeseries_chrono(dsi,dsmi):\n",
    "    sns.set(style=\"darkgrid\")\n",
    "    sns.set_palette(\"Paired\")\n",
    "\n",
    "    fig,ax = plt.subplots(figsize = (13,8),sharex=True)\n",
    "\n",
    "    for i in range(len(dsmi)):\n",
    "        ax.plot(dsi[i].time[100],dsmi[i].temp.mean(dim='traj'))\n",
    "\n",
    "    ax.set_ylim(2.5,18.5)"
   ]
  },
  {
   "cell_type": "code",
   "execution_count": null,
   "metadata": {
    "slideshow": {
     "slide_type": "skip"
    }
   },
   "outputs": [],
   "source": [
    "def plot_alongtrack_av_flux_timeseries_chrono(dsi,dsmi):\n",
    "    sns.set(style=\"darkgrid\")\n",
    "    sns.set_palette(\"Paired\")\n",
    "\n",
    "    fig,ax = plt.subplots(figsize = (13,8),sharex=True)\n",
    "\n",
    "    for i in range(len(dsmi)):\n",
    "        ax.plot(dsi[i].time[100],dsmi[i].temp_transport.sum(dim='traj')/dsmi[i].vol_transport.sum(dim='traj'))\n",
    "\n",
    "    ax.set_ylim(2.5,18.5)"
   ]
  },
  {
   "cell_type": "code",
   "execution_count": null,
   "metadata": {
    "slideshow": {
     "slide_type": "skip"
    }
   },
   "outputs": [],
   "source": [
    "def plot_alongtrack_av_timeseries_salt_chrono(dsi,dsmi):\n",
    "    sns.set(style=\"darkgrid\")\n",
    "    sns.set_palette(\"Paired\")\n",
    "\n",
    "    fig,ax = plt.subplots(figsize = (13,8),sharex=True)\n",
    "\n",
    "    for i in range(len(dsmi)):\n",
    "        ax.plot(dsi[i].time[100],dsmi[i].salt.mean(dim='traj'))\n",
    "    \n",
    "    ax.set_ylim(34.41,36.15)"
   ]
  },
  {
   "cell_type": "code",
   "execution_count": null,
   "metadata": {
    "slideshow": {
     "slide_type": "skip"
    }
   },
   "outputs": [],
   "source": [
    "def plot_alongtrack_av_flux_timeseries_salt_chrono(dsi,dsmi):\n",
    "    sns.set(style=\"darkgrid\")\n",
    "    sns.set_palette(\"Paired\")\n",
    "\n",
    "    fig,ax = plt.subplots(figsize = (13,8),sharex=True)\n",
    "\n",
    "    for i in range(len(dsmi)):\n",
    "        ax.plot(dsi[i].time[100],dsmi[i].salt_transport.sum(dim='traj')/dsmi[i].vol_transport.sum(dim='traj'))\n",
    "\n",
    "    ax.set_ylim(34.41,36.15)"
   ]
  },
  {
   "cell_type": "markdown",
   "metadata": {
    "slideshow": {
     "slide_type": "slide"
    }
   },
   "source": [
    "## Mean temperature and salinity alongtrack.\n",
    "\n",
    "Colours correspond to individualreleases. Particles were tracked backwards in time, so the right-hand end of each track section is the time it crossed OSNAP line.\n",
    "\n",
    "The idea is to try to get an idea of how much the water properties have been modified between the source region and OSNAP.\n"
   ]
  },
  {
   "cell_type": "markdown",
   "metadata": {
    "slideshow": {
     "slide_type": "subslide"
    }
   },
   "source": [
    "Mean temperature, all tracks. Mostly just showing the seasonal cycle. Lower temperatures recorded in later years are recorded over the length of the track. This could be changing relative importance of sources, or changing properties at source."
   ]
  },
  {
   "cell_type": "code",
   "execution_count": null,
   "metadata": {
    "slideshow": {
     "slide_type": "fragment"
    }
   },
   "outputs": [],
   "source": [
    "plot_alongtrack_av_timeseries_chrono(ds,ds_mask)"
   ]
  },
  {
   "cell_type": "code",
   "execution_count": null,
   "metadata": {
    "slideshow": {
     "slide_type": "fragment"
    }
   },
   "outputs": [],
   "source": [
    "plot_alongtrack_av_flux_timeseries_chrono(ds,ds_mask)"
   ]
  },
  {
   "cell_type": "markdown",
   "metadata": {
    "slideshow": {
     "slide_type": "subslide"
    }
   },
   "source": [
    "Mean temperature along track. Tracks from Labrador Sea."
   ]
  },
  {
   "cell_type": "code",
   "execution_count": null,
   "metadata": {
    "slideshow": {
     "slide_type": "fragment"
    }
   },
   "outputs": [],
   "source": [
    "plot_alongtrack_av_timeseries_chrono(ds,ds_mask_lab_sea)"
   ]
  },
  {
   "cell_type": "code",
   "execution_count": null,
   "metadata": {
    "slideshow": {
     "slide_type": "fragment"
    }
   },
   "outputs": [],
   "source": [
    "plot_alongtrack_av_flux_timeseries_chrono(ds,ds_mask_lab_sea)"
   ]
  },
  {
   "cell_type": "markdown",
   "metadata": {
    "slideshow": {
     "slide_type": "subslide"
    }
   },
   "source": [
    "Mean temperature along track. Tracks from Gulf Stream."
   ]
  },
  {
   "cell_type": "code",
   "execution_count": null,
   "metadata": {
    "slideshow": {
     "slide_type": "fragment"
    }
   },
   "outputs": [],
   "source": [
    "plot_alongtrack_av_timeseries_chrono(ds,ds_mask_60w)"
   ]
  },
  {
   "cell_type": "code",
   "execution_count": null,
   "metadata": {
    "slideshow": {
     "slide_type": "fragment"
    }
   },
   "outputs": [],
   "source": [
    "plot_alongtrack_av_flux_timeseries_chrono(ds,ds_mask_60w)"
   ]
  },
  {
   "cell_type": "markdown",
   "metadata": {
    "slideshow": {
     "slide_type": "subslide"
    }
   },
   "source": [
    "Mean temperature along track. Other tracks."
   ]
  },
  {
   "cell_type": "code",
   "execution_count": null,
   "metadata": {
    "slideshow": {
     "slide_type": "fragment"
    }
   },
   "outputs": [],
   "source": [
    "plot_alongtrack_av_timeseries_chrono(ds,ds_mask_other)"
   ]
  },
  {
   "cell_type": "code",
   "execution_count": null,
   "metadata": {
    "slideshow": {
     "slide_type": "fragment"
    }
   },
   "outputs": [],
   "source": [
    "plot_alongtrack_av_flux_timeseries_chrono(ds,ds_mask_other)"
   ]
  },
  {
   "cell_type": "markdown",
   "metadata": {
    "slideshow": {
     "slide_type": "subslide"
    }
   },
   "source": [
    "Mean salinity, all tracks. Lower salinities recorded in later years are recorded over the length of the track. This could be changing sources, or changing properties at source."
   ]
  },
  {
   "cell_type": "code",
   "execution_count": null,
   "metadata": {
    "slideshow": {
     "slide_type": "fragment"
    }
   },
   "outputs": [],
   "source": [
    "plot_alongtrack_av_timeseries_salt_chrono(ds,ds_mask)"
   ]
  },
  {
   "cell_type": "code",
   "execution_count": null,
   "metadata": {
    "slideshow": {
     "slide_type": "fragment"
    }
   },
   "outputs": [],
   "source": [
    "plot_alongtrack_av_flux_timeseries_salt_chrono(ds,ds_mask)"
   ]
  },
  {
   "cell_type": "markdown",
   "metadata": {
    "slideshow": {
     "slide_type": "subslide"
    }
   },
   "source": [
    "Mean salinity along track. Tracks from Labrador Sea."
   ]
  },
  {
   "cell_type": "code",
   "execution_count": null,
   "metadata": {
    "slideshow": {
     "slide_type": "fragment"
    }
   },
   "outputs": [],
   "source": [
    "plot_alongtrack_av_timeseries_salt_chrono(ds,ds_mask_lab_sea)"
   ]
  },
  {
   "cell_type": "code",
   "execution_count": null,
   "metadata": {
    "slideshow": {
     "slide_type": "fragment"
    }
   },
   "outputs": [],
   "source": [
    "plot_alongtrack_av_flux_timeseries_salt_chrono(ds,ds_mask_lab_sea)"
   ]
  },
  {
   "cell_type": "markdown",
   "metadata": {
    "slideshow": {
     "slide_type": "subslide"
    }
   },
   "source": [
    "Mean salinity along track. Tracks from Gulf Stream."
   ]
  },
  {
   "cell_type": "code",
   "execution_count": null,
   "metadata": {
    "slideshow": {
     "slide_type": "fragment"
    }
   },
   "outputs": [],
   "source": [
    "plot_alongtrack_av_timeseries_salt_chrono(ds,ds_mask_60w)"
   ]
  },
  {
   "cell_type": "code",
   "execution_count": null,
   "metadata": {
    "slideshow": {
     "slide_type": "fragment"
    }
   },
   "outputs": [],
   "source": [
    "plot_alongtrack_av_flux_timeseries_salt_chrono(ds,ds_mask_60w)"
   ]
  },
  {
   "cell_type": "markdown",
   "metadata": {
    "slideshow": {
     "slide_type": "subslide"
    }
   },
   "source": [
    "Mean salinity along track. Other tracks."
   ]
  },
  {
   "cell_type": "code",
   "execution_count": null,
   "metadata": {
    "slideshow": {
     "slide_type": "fragment"
    }
   },
   "outputs": [],
   "source": [
    "plot_alongtrack_av_timeseries_salt_chrono(ds,ds_mask_other)"
   ]
  },
  {
   "cell_type": "code",
   "execution_count": null,
   "metadata": {
    "slideshow": {
     "slide_type": "fragment"
    }
   },
   "outputs": [],
   "source": [
    "plot_alongtrack_av_flux_timeseries_salt_chrono(ds,ds_mask_other)"
   ]
  },
  {
   "cell_type": "markdown",
   "metadata": {},
   "source": [
    "### Some experimental plots"
   ]
  },
  {
   "cell_type": "markdown",
   "metadata": {},
   "source": [
    "time and salinity when left Labrador Sea"
   ]
  },
  {
   "cell_type": "code",
   "execution_count": null,
   "metadata": {},
   "outputs": [],
   "source": [
    "fig,ax = plt.subplots(figsize=(14,5))\n",
    "\n",
    "for i in range(len(ds)):\n",
    "\n",
    "    test = ds[i].where(ds_lab_sea_in[i].max(\"obs\")).isel(obs=ds_lab_sea_in[i].argmax(dim='obs'),traj=ds_lab_sea_in[i].traj).dropna(dim='traj')\n",
    "    pcm = ax.scatter(x=test.time.data,y=test.temp.data)\n"
   ]
  },
  {
   "cell_type": "code",
   "execution_count": null,
   "metadata": {},
   "outputs": [],
   "source": [
    "fig,ax = plt.subplots(figsize=(14,5))\n",
    "\n",
    "for i in range(len(ds)):\n",
    "\n",
    "    test = ds[i].where(ds_lab_sea_in[i].max(\"obs\")).isel(obs=ds_lab_sea_in[i].argmax(dim='obs'),traj=ds_lab_sea_in[i].traj).dropna(dim='traj')\n",
    "    pcm = ax.scatter(x=test.time.data,y=test.salt.data)\n"
   ]
  },
  {
   "cell_type": "markdown",
   "metadata": {},
   "source": [
    "time and salinity when left Labrador Sea"
   ]
  },
  {
   "cell_type": "code",
   "execution_count": null,
   "metadata": {},
   "outputs": [],
   "source": [
    "fig,ax = plt.subplots(figsize=(14,5))\n",
    "\n",
    "for i in range(len(ds)):\n",
    "\n",
    "    test = ds[i].where((ds_lab_sea_in[i].max(\"obs\")==False)).where(ds_60w_in[i].max(\"obs\")).isel(obs=ds_60w_in[i].argmax(dim='obs'),traj=ds_60w_in[i].traj).dropna(dim='traj')\n",
    "    pcm = ax.scatter(x=test.time.data,y=test.temp.data\n",
    "                     ,c=test.salt.data,\n",
    "              vmin=33,vmax=36,cmap=co.cm.haline\n",
    "                    )\n",
    "plt.colorbar(pcm,ax=ax,label = \"salinity\");\n",
    "\n",
    "# cb = plt.colorbar(label = \"date\");\n"
   ]
  },
  {
   "cell_type": "code",
   "execution_count": null,
   "metadata": {
    "slideshow": {
     "slide_type": "skip"
    }
   },
   "outputs": [],
   "source": [
    "# conda list"
   ]
  },
  {
   "cell_type": "code",
   "execution_count": null,
   "metadata": {
    "slideshow": {
     "slide_type": "skip"
    }
   },
   "outputs": [],
   "source": [
    "ds0=ds[0]"
   ]
  },
  {
   "cell_type": "code",
   "execution_count": null,
   "metadata": {
    "slideshow": {
     "slide_type": "skip"
    }
   },
   "outputs": [],
   "source": [
    "ds0"
   ]
  },
  {
   "cell_type": "code",
   "execution_count": null,
   "metadata": {
    "slideshow": {
     "slide_type": "skip"
    }
   },
   "outputs": [],
   "source": [
    "ds_init0 = ds_init[0]"
   ]
  },
  {
   "cell_type": "code",
   "execution_count": null,
   "metadata": {},
   "outputs": [],
   "source": [
    "ds_init0"
   ]
  },
  {
   "cell_type": "code",
   "execution_count": null,
   "metadata": {},
   "outputs": [],
   "source": [
    "ds0.temp*ds_init0.u_normal"
   ]
  },
  {
   "cell_type": "code",
   "execution_count": null,
   "metadata": {},
   "outputs": [],
   "source": []
  }
 ],
 "metadata": {
  "celltoolbar": "Slideshow",
  "kernelspec": {
   "display_name": "py3lagrangeSeawater",
   "language": "python",
   "name": "py3lagrangeseawater"
  },
  "language_info": {
   "codemirror_mode": {
    "name": "ipython",
    "version": 3
   },
   "file_extension": ".py",
   "mimetype": "text/x-python",
   "name": "python",
   "nbconvert_exporter": "python",
   "pygments_lexer": "ipython3",
   "version": "3.8.3"
  }
 },
 "nbformat": 4,
 "nbformat_minor": 4
}
