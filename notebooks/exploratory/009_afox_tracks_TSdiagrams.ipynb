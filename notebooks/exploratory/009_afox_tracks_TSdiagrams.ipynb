{
 "cells": [
  {
   "cell_type": "markdown",
   "metadata": {
    "slideshow": {
     "slide_type": "slide"
    }
   },
   "source": [
    "# T-S diagrams from particle tracks\n",
    "\n",
    "## part of a project to quantify transports across the Greenland-Scotland section by source and destination\n",
    "\n",
    "- Lagrangian particle tracking in VIKING20X model\n",
    "\n",
    "- uses EOS-80 equation of state (seawater package) as used in Viking20x "
   ]
  },
  {
   "cell_type": "markdown",
   "metadata": {
    "slideshow": {
     "slide_type": "skip"
    }
   },
   "source": [
    "## technical preamble"
   ]
  },
  {
   "cell_type": "code",
   "execution_count": null,
   "metadata": {
    "slideshow": {
     "slide_type": "skip"
    }
   },
   "outputs": [],
   "source": [
    "%matplotlib inline"
   ]
  },
  {
   "cell_type": "code",
   "execution_count": null,
   "metadata": {
    "slideshow": {
     "slide_type": "skip"
    }
   },
   "outputs": [],
   "source": [
    "\n",
    "\n",
    "from pathlib import Path\n",
    "import numpy as np\n",
    "import xarray as xr\n",
    "from datetime import datetime, timedelta\n",
    "import seaborn as sns\n",
    "import cmocean as co\n",
    "import matplotlib.pyplot as plt\n",
    "import matplotlib.dates as mdates\n",
    "import seawater as sw\n",
    "np.warnings.filterwarnings('ignore')\n"
   ]
  },
  {
   "cell_type": "markdown",
   "metadata": {
    "slideshow": {
     "slide_type": "skip"
    }
   },
   "source": [
    "## parameters"
   ]
  },
  {
   "cell_type": "code",
   "execution_count": null,
   "metadata": {
    "slideshow": {
     "slide_type": "skip"
    }
   },
   "outputs": [],
   "source": [
    "# release time\n",
    "\n",
    "trelease = np.datetime64('2015-12-16T12:00')\n",
    "\n",
    "# Project path\n",
    "project_path = Path.cwd() / '..' / '..' \n",
    "project_path = project_path.resolve()\n",
    "\n",
    "# project_path = Path(\"C:/Users/sa05af/OneDrive - SAMS/Projects/parcels_quantitative_202004/\")\n",
    "\n",
    "# select section FS, IF, or GI\n",
    "\n",
    "section = 'FS'\n",
    "\n",
    "if section == 'FS':\n",
    "    \n",
    "    # Faroe-Shetland\n",
    "    path_data_tracks = Path('data/processed/tracks/FaroeShetland/') \n",
    "    filename = 'test_salinity_FS.nc'\n",
    "#     filenameb = 'tracks_parcels_FS_backwards_201512.nc'\n",
    "\n",
    "    #velocity conversions on FS channel (61N)\n",
    "\n",
    "    lat2metres = 60.0*1852.0\n",
    "    lon2metres = 60.0*1852.0*np.cos(np.radians(61.0))\n",
    "\n",
    "    sealandratio = 5591.0/20000.0\n",
    "    sectionAreaEW = 5.7 * 1500.0 * sealandratio * lon2metres  # very approx. mean depth x length between slopes.\n",
    "    sectionAreaNS = 1.87 * 1500.0 * sealandratio * lat2metres\n",
    "\n",
    "    \n",
    "# elif section == 'IF':\n",
    "    \n",
    "#     # Iceland-Faroe\n",
    "#     path_data_tracks = Path('data/processed/tracks/IcelandFaroe/') \n",
    "#     filename = 'tracks_parcels_IFR_forwards_201512.nc'\n",
    "#     filenameb = 'tracks_parcels_IFR_backwards_201512.nc'\n",
    "\n",
    "#     #velocity conversions on IFR (63.5N)\n",
    "\n",
    "#     lat2metres = 60.0*1852.0\n",
    "#     lon2metres = 60.0*1852.0*np.cos(np.radians(63.5))\n",
    "\n",
    "#     sealandratio = 9308.0/20000.0\n",
    "#     sectionAreaEW = 7.0 * 700.0 * sealandratio * lon2metres  # very approx. mean depth x length between slopes.\n",
    "#     sectionAreaNS = 2.8 * 700.0 * sealandratio * lat2metres\n",
    "    \n",
    "# else:\n",
    "\n",
    "#     # Greenland-Iceland\n",
    "#     path_data_tracks = Path('data/processed/tracks/GreenlandIceland/') \n",
    "#     filename = 'tracks_parcels_GI_forwards_201512.nc'\n",
    "#     filenameb = 'tracks_parcels_GI_backwards_201512.nc'\n",
    "\n",
    "#     #velocity conversions on GI (67.3N)\n",
    "#     lat2metres = 60.0*1852.0\n",
    "#     lon2metres = 60.0*1852.0*np.cos(np.radians(67.3))\n",
    "\n",
    "#     sealandratio = 2420.0/10000.0\n",
    "#     sectionAreaEW = 5.73 * 1500.0 * sealandratio * lon2metres  # very approx. mean depth x length between slopes.\n",
    "#     sectionAreaNS = 2.94 * 1500.0 * sealandratio * lat2metres\n",
    "\n",
    "# model mask file\n",
    "data_path = Path(\"data/external/iAtlantic/\")\n",
    "experiment_name = \"VIKING20X.L46-KKG36107B\"\n",
    "mesh_mask_file = project_path / data_path / \"mask\" / experiment_name / \"1_mesh_mask.nc\"\n"
   ]
  },
  {
   "cell_type": "markdown",
   "metadata": {},
   "source": [
    "## helper functions"
   ]
  },
  {
   "cell_type": "code",
   "execution_count": null,
   "metadata": {},
   "outputs": [],
   "source": [
    "def transports(dsb, nParticles):\n",
    "    transport = (sectionAreaEW*dsb.isel(obs=0).vvel*lat2metres +\n",
    "                            sectionAreaNS*dsb.isel(obs=0).uvel*lon2metres)/nParticles\n",
    "    speed = np.sqrt((dsb.isel(obs=0).vvel*lat2metres)**2 + (dsb.isel(obs=0).uvel*lon2metres)**2)\n",
    "    return transport,speed"
   ]
  },
  {
   "cell_type": "markdown",
   "metadata": {
    "slideshow": {
     "slide_type": "skip"
    }
   },
   "source": [
    "### forward tracks then backward tracks"
   ]
  },
  {
   "cell_type": "code",
   "execution_count": null,
   "metadata": {
    "slideshow": {
     "slide_type": "fragment"
    }
   },
   "outputs": [],
   "source": [
    "ds = xr.open_dataset(project_path / path_data_tracks / filename)\n",
    "ds.temp.attrs['standard_name'] = 'potential temperature'\n",
    "ds.temp.attrs['units'] = 'degree_C'\n",
    "ds.salt.attrs['standard_name'] = 'practical salinity'\n",
    "ds.salt.attrs['units'] = 'PSU'\n",
    "# dsb = xr.open_dataset(project_path / path_data_tracks / filenameb)\n",
    "# dsb.temp.attrs['standard_name'] = 'temperature'\n",
    "# dsb.temp.attrs['units'] = 'degree_C'\n",
    "\n",
    "# ds_full = xr.concat([dsb,ds],dim='obs')\n",
    "\n",
    "display(ds)\n"
   ]
  },
  {
   "cell_type": "markdown",
   "metadata": {
    "slideshow": {
     "slide_type": "skip"
    }
   },
   "source": [
    "## Calculate some basic parameters from data for later"
   ]
  },
  {
   "cell_type": "code",
   "execution_count": null,
   "metadata": {
    "slideshow": {
     "slide_type": "skip"
    }
   },
   "outputs": [],
   "source": [
    "nParticles = ds.sizes['traj']\n",
    "nobsb = ds.sizes['obs']\n",
    "\n",
    "# calculate initial transports\n",
    "\n",
    "particle_transport,speed0 = transports(ds,nParticles)\n",
    "sizes = np.abs(particle_transport)/400.0\n"
   ]
  },
  {
   "cell_type": "markdown",
   "metadata": {},
   "source": [
    "## calculate potential densities"
   ]
  },
  {
   "cell_type": "code",
   "execution_count": null,
   "metadata": {},
   "outputs": [],
   "source": [
    "# there are neater ways to do this with xarray if the datasets are large\n",
    "\n",
    "S = ds.where(ds.salt != 0.0).salt.data.flatten()\n",
    "T = ds.where(ds.salt != 0.0).temp.data.flatten()\n",
    "time = ds.where(ds.salt != 0.0).time.data.flatten()\n",
    "z = ds.where(ds.salt != 0.0).z.data.flatten()\n",
    "sig0 = sw.pden(S,T,0.0,0.0)\n",
    "sig0 -= 1000.0\n",
    "\n",
    "T_pad = (np.nanmax(T) - np.nanmin(T))/20.0\n",
    "S_pad = (np.nanmax(S) - np.nanmin(S))/20.0\n",
    "T_lim = [np.nanmin(T) - T_pad, np.nanmax(T) + T_pad]\n",
    "S_lim = [np.nanmin(S) - S_pad, np.nanmax(S) + S_pad]\n"
   ]
  },
  {
   "cell_type": "markdown",
   "metadata": {},
   "source": [
    "## contruct T-S plot"
   ]
  },
  {
   "cell_type": "code",
   "execution_count": null,
   "metadata": {},
   "outputs": [],
   "source": [
    "def TSplot_colourbytime(S,T,time,S_lim,T_lim):\n",
    "    Tgrid = np.zeros((100,100)) + np.linspace(T_lim[0],T_lim[1],100)\n",
    "    Sgrid = np.zeros((100,100)) + np.linspace(S_lim[0],S_lim[1],100)\n",
    "    sig0grid = sw.pden(Sgrid,Tgrid.T,0,0) - 1000.0\n",
    "\n",
    "    fig,ax = plt.subplots(figsize=(8,8))\n",
    "\n",
    "    cs = ax.contour(Sgrid,Tgrid.T,sig0grid,\n",
    "              colors = 'grey', linestyles = 'dashed')\n",
    "\n",
    "    ax.clabel(cs, inline=1, fmt='%1.1f', fontsize=10)\n",
    "\n",
    "    cm = ax.scatter(S, T, \n",
    "                    s = 2, \n",
    "                    c = mdates.date2num(time),\n",
    "                    cmap = co.cm.matter,\n",
    "                    zorder=10,\n",
    "                    alpha=0.3)\n",
    "\n",
    "    cbar = fig.colorbar(cm)\n",
    "    # set alpha to 1 on colorbar\n",
    "    cbar.set_alpha(1.0)\n",
    "    cbar.draw_all() # don't understand why this is required but alph doesn't change without it\n",
    "    # format the dates on colorbar\n",
    "    loc = mdates.AutoDateLocator()\n",
    "    cbar.ax.yaxis.set_major_locator(loc)\n",
    "    cbar.ax.yaxis.set_major_formatter(mdates.ConciseDateFormatter(loc))\n",
    "    # label axes\n",
    "    ax.set_ylabel('potential temperature [$\\degree$C]')\n",
    "    ax.set_xlabel('practical salinity [PSU]')"
   ]
  },
  {
   "cell_type": "code",
   "execution_count": null,
   "metadata": {},
   "outputs": [],
   "source": [
    "def TSplot(S,T,z,zlabel,S_lim,T_lim):\n",
    "    Tgrid = np.zeros((100,100)) + np.linspace(T_lim[0],T_lim[1],100)\n",
    "    Sgrid = np.zeros((100,100)) + np.linspace(S_lim[0],S_lim[1],100)\n",
    "    sig0grid = sw.pden(Sgrid,Tgrid.T,0,0) - 1000.0\n",
    "\n",
    "    fig,ax = plt.subplots(figsize=(8,8))\n",
    "\n",
    "    cs = ax.contour(Sgrid,Tgrid.T,sig0grid,\n",
    "              colors = 'grey', linestyles = 'dashed')\n",
    "\n",
    "    ax.clabel(cs, inline=1, fmt='%1.1f', fontsize=10)\n",
    "\n",
    "    cm = ax.scatter(S, T, \n",
    "                    s = 2, \n",
    "                    c = z,\n",
    "                    cmap = co.cm.matter,\n",
    "                    zorder=10,\n",
    "                    alpha=0.3)\n",
    "\n",
    "    cbar = fig.colorbar(cm,label = zlabel)\n",
    "    # set alpha to 1 on colorbar\n",
    "    cbar.set_alpha(1.0)\n",
    "    cbar.draw_all() # don't understand why this is required but alph doesn't change without it\n",
    "    # label axes\n",
    "    ax.set_ylabel('potential temperature [$\\degree$C]')\n",
    "    ax.set_xlabel('practical salinity [PSU]')"
   ]
  },
  {
   "cell_type": "code",
   "execution_count": null,
   "metadata": {},
   "outputs": [],
   "source": [
    "TSplot_colourbytime(S,T,time,S_lim,T_lim)"
   ]
  },
  {
   "cell_type": "code",
   "execution_count": null,
   "metadata": {},
   "outputs": [],
   "source": [
    "TSplot(S,T,z,'depth [m]',S_lim,T_lim)"
   ]
  },
  {
   "cell_type": "code",
   "execution_count": null,
   "metadata": {},
   "outputs": [],
   "source": []
  }
 ],
 "metadata": {
  "celltoolbar": "Slideshow",
  "kernelspec": {
   "display_name": "py3lagrangeSeawater",
   "language": "python",
   "name": "py3lagrangeseawater"
  },
  "language_info": {
   "codemirror_mode": {
    "name": "ipython",
    "version": 3
   },
   "file_extension": ".py",
   "mimetype": "text/x-python",
   "name": "python",
   "nbconvert_exporter": "python",
   "pygments_lexer": "ipython3",
   "version": "3.8.2"
  }
 },
 "nbformat": 4,
 "nbformat_minor": 4
}
