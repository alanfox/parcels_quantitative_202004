{
 "cells": [
  {
   "cell_type": "markdown",
   "metadata": {
    "slideshow": {
     "slide_type": "slide"
    }
   },
   "source": [
    "# OSNAP line Lagrangian particle tracking investigation of the cold/fresh blob\n"
   ]
  },
  {
   "cell_type": "markdown",
   "metadata": {
    "slideshow": {
     "slide_type": "fragment"
    }
   },
   "source": [
    "### The aim here is an investigation of the source of the cold/fresh blob which appeared in the near-surface Iceland Basin from about 2014. There are a couple of published explanations for the feature: \n",
    "\n",
    "- reduced heat/salt transport across RAPID array over several years propagating northwards (Bryden et al. 2020?) or \n",
    "- increased contribution from Labrador Sea water flowing into subpolar North Atlantic rather than southwards (Holliday et al. 2020?). Driven I think by specific,  more intermittent, weather near Flemish Cap (though I need to read this again...)"
   ]
  },
  {
   "cell_type": "markdown",
   "metadata": {
    "slideshow": {
     "slide_type": "fragment"
    }
   },
   "source": [
    "The technique is to track particles back from the OSNAP line, initially for 2 years. Each particle has an associated transport normal to OSNAP, which I use to estimate the contribution to volumes/heat/salt crossing OSNAP northwards from the two main routes - Gulf Stream and Labrador Sea. And see how that changes over the years from 2006 to 2017."
   ]
  },
  {
   "cell_type": "markdown",
   "metadata": {
    "slideshow": {
     "slide_type": "subslide"
    }
   },
   "source": [
    "The main conclusion is that from about 2012 Labrador Sea becomes a more important source of surface waters to the Iceland Basin, but there is also a reduction in the temperature and salinity of the water from the Gulf Stream. So probably a balance of both. **But I need to run the particles back further - 2 years is not long enough to pinpoint the pathway for most particles.**"
   ]
  },
  {
   "cell_type": "markdown",
   "metadata": {},
   "source": [
    "## Comparisons of Viking20 and OSNAP section data"
   ]
  },
  {
   "cell_type": "markdown",
   "metadata": {
    "slideshow": {
     "slide_type": "skip"
    }
   },
   "source": [
    "## Technical preamble"
   ]
  },
  {
   "cell_type": "code",
   "execution_count": null,
   "metadata": {
    "slideshow": {
     "slide_type": "skip"
    }
   },
   "outputs": [],
   "source": [
    "# import matplotlib.colors as colors\n",
    "import numpy as np\n",
    "from pathlib import Path\n",
    "import matplotlib.pyplot as plt\n",
    "import xarray as xr\n",
    "from datetime import datetime, timedelta\n",
    "import seaborn as sns\n",
    "# from matplotlib.colors import ListedColormap\n",
    "import cmocean as co\n",
    "import pandas as pd\n",
    "import matplotlib.dates as mdates\n",
    "import cartopy.crs as ccrs\n",
    "import cartopy\n",
    "import seawater as sw\n",
    "\n",
    "from matplotlib import colors as c\n",
    "from matplotlib import ticker\n",
    "from xhistogram.xarray import histogram\n",
    "\n",
    "sns.set(style=\"darkgrid\")\n",
    "\n",
    "xr.set_options(keep_attrs=True)\n",
    "np.warnings.filterwarnings('ignore')\n",
    "\n",
    "sns.set_palette(\"colorblind\")\n",
    "xr.set_options(keep_attrs=True);\n"
   ]
  },
  {
   "cell_type": "markdown",
   "metadata": {
    "slideshow": {
     "slide_type": "skip"
    }
   },
   "source": [
    "### Set up paths and read in Viking20 section data"
   ]
  },
  {
   "cell_type": "code",
   "execution_count": null,
   "metadata": {
    "slideshow": {
     "slide_type": "skip"
    }
   },
   "outputs": [],
   "source": [
    "# Project path\n",
    "project_path = Path.cwd() / '..' / '..' \n",
    "project_path = project_path.resolve()\n",
    "\n",
    "# Section data file\n",
    "path_data_section = Path('data/processed/sections/') \n",
    "fname0 = f'osnapSection2000to09.nc'\n",
    "fname1 = f'osnapSection2010to18.nc'\n",
    "\n",
    "\n",
    "\n",
    "\n",
    "\n"
   ]
  },
  {
   "cell_type": "code",
   "execution_count": null,
   "metadata": {
    "slideshow": {
     "slide_type": "skip"
    }
   },
   "outputs": [],
   "source": [
    "section0 = xr.open_dataset(project_path / path_data_section / fname0)\n",
    "section1 = xr.open_dataset(project_path / path_data_section / fname1)\n",
    "section = xr.concat((section0,section1),dim=\"time_counter\")\n",
    "\n",
    "# add some missing attributes, mostly for automatic axis labels\n",
    "\n",
    "section.vosaline.attrs['long_name']='salinity'\n",
    "section.vosaline.attrs['units']='PSU'\n",
    "section.votemper.attrs['long_name']='potential temperature'\n",
    "section.votemper.attrs['units']='$\\degree C$'\n",
    "section.c.attrs['long_name']='Distance'\n",
    "section.c.attrs['units']='m'\n",
    "section.z.attrs['long_name']='Depth'\n",
    "section.z.attrs['units']='m'\n",
    "section.time_counter.attrs[\"long_name\"] = 'Time'\n",
    "\n",
    "# concat introduces an extra time_counter axis on the variables which didn't have one originally\n",
    "# so get rid of it\n",
    "\n",
    "section['ii'] = section['ii'].isel(time_counter=0).drop('time_counter')\n",
    "section['jj'] = section['jj'].isel(time_counter=0).drop('time_counter')\n",
    "section['dx'] = section['dx'].isel(time_counter=0).drop('time_counter')\n",
    "section['lat'] = section['lat'].isel(time_counter=0).drop('time_counter')\n",
    "section['lon'] = section['lon'].isel(time_counter=0).drop('time_counter')\n",
    "section['dz'] = section['dz'].isel(time_counter=0).drop('time_counter')\n",
    "section['mask'] = section['mask'].isel(time_counter=0).drop('time_counter')\n"
   ]
  },
  {
   "cell_type": "code",
   "execution_count": null,
   "metadata": {},
   "outputs": [],
   "source": [
    "section"
   ]
  },
  {
   "cell_type": "markdown",
   "metadata": {},
   "source": [
    "### Set up paths and read in OSNAP section data from /Projects/osnap_transports_202008"
   ]
  },
  {
   "cell_type": "code",
   "execution_count": null,
   "metadata": {},
   "outputs": [],
   "source": [
    "# Project path\n",
    "project_path_osnap = Path('../../..') \n",
    "project_path_osnap = project_path_osnap.resolve() / \"osnap_transports_202008\"\n",
    "\n",
    "\n",
    "# Parcels track data file\n",
    "path_data_osnap = Path('data/external/OSNAP') \n",
    "filename_streamfunction = 'OSNAP_Streamfunction_201408_201805_2020.nc'\n",
    "filename_gridded_tsv = 'OSNAP_Gridded_TSV_201408_201805_2020.nc'\n",
    "filename_moc_timeseries = 'OSNAP_MOC_TimeSeries_201408_201805_2020.nc'"
   ]
  },
  {
   "cell_type": "code",
   "execution_count": null,
   "metadata": {},
   "outputs": [],
   "source": [
    "psi = xr.open_dataset(project_path_osnap / path_data_osnap / filename_streamfunction)\n",
    "moc = xr.open_dataset(project_path_osnap / path_data_osnap / filename_moc_timeseries)\n",
    "tsv = xr.open_dataset(project_path_osnap / path_data_osnap / filename_gridded_tsv)"
   ]
  },
  {
   "cell_type": "code",
   "execution_count": null,
   "metadata": {},
   "outputs": [],
   "source": [
    "tsv"
   ]
  },
  {
   "cell_type": "markdown",
   "metadata": {
    "slideshow": {
     "slide_type": "slide"
    }
   },
   "source": [
    "##  Hoffmuller diagram of temperature and salinity on the OSNAP section from Viking20x and data"
   ]
  },
  {
   "cell_type": "code",
   "execution_count": null,
   "metadata": {
    "slideshow": {
     "slide_type": "skip"
    }
   },
   "outputs": [],
   "source": [
    "def plot_hoffmuller():\n",
    "    fig,ax = plt.subplots(1,2,figsize=(15,13),sharey=True,gridspec_kw={'wspace': 0.1})\n",
    "    plt.tight_layout()\n",
    "    section.votemper.isel(z=16).plot(ax=ax[0],vmin=0,vmax=11,cmap=co.cm.thermal,cbar_kwargs={'orientation':'horizontal','pad':0.1})\n",
    "    section.vosaline.isel(z=16).plot(ax=ax[1],vmin=34.6,vmax=35.5,cmap=co.cm.haline,cbar_kwargs={'orientation':'horizontal','pad':0.1})\n",
    "\n",
    "    ax[1].set_ylabel('')\n",
    "\n",
    "    ax[0].ticklabel_format(axis='x', style='sci', scilimits=(-3,3))\n",
    "    ax[1].ticklabel_format(axis='x', style='sci', scilimits=(-3,3))\n",
    "\n",
    "    # # Hide x labels and tick labels for top plots and y ticks for right plots.\n",
    "    # for axis in ax.flat:\n",
    "    #     axis.label_outer()\n",
    "    return"
   ]
  },
  {
   "cell_type": "code",
   "execution_count": null,
   "metadata": {
    "slideshow": {
     "slide_type": "subslide"
    }
   },
   "outputs": [],
   "source": [
    "plot_hoffmuller()"
   ]
  },
  {
   "cell_type": "code",
   "execution_count": null,
   "metadata": {},
   "outputs": [],
   "source": [
    "fig,ax = plt.subplots(1,2,figsize=(15,5),sharey=True,gridspec_kw={'wspace': 0.1})\n",
    "tsv.THETA.isel(DEPTH=15).plot(ax=ax[0],vmin=0,cmap=co.cm.thermal,cbar_kwargs={'orientation':'horizontal','pad':0.1})\n",
    "tsv.PSAL.isel(DEPTH=15).plot(ax=ax[1],vmin=34.6,cmap=co.cm.haline,cbar_kwargs={'orientation':'horizontal','pad':0.1})\n"
   ]
  },
  {
   "cell_type": "markdown",
   "metadata": {
    "slideshow": {
     "slide_type": "slide"
    }
   },
   "source": [
    "## Timeseries of temperature and salinity at points on the OSNAP section. Vertical lines show the earliest and latest particle releases."
   ]
  },
  {
   "cell_type": "code",
   "execution_count": null,
   "metadata": {
    "slideshow": {
     "slide_type": "skip"
    }
   },
   "outputs": [],
   "source": [
    "def plot_ts_timeseries():\n",
    "    fig,ax = plt.subplots(2,figsize=(15,10),sharex=True,gridspec_kw={'wspace': 0.1})\n",
    "    plt.tight_layout()\n",
    "\n",
    "    section.votemper.isel(z=15).isel(c=635).plot(ax=ax[0],label='Irminger Basin 37.5$\\degree$W')\n",
    "    section.votemper.isel(z=15).isel(c=742).plot(ax=ax[0],label='Irminger Basin 32.6$\\degree$W')\n",
    "    section.votemper.isel(z=15).isel(c=835).plot(ax=ax[0],label='Iceland Basin 28.0$\\degree$W')\n",
    "    section.votemper.isel(z=15).isel(c=970).plot(ax=ax[0],label='Iceland Basin 22.0$\\degree$W')\n",
    "    section.votemper.isel(z=15).isel(c=1050).plot(ax=ax[0],label='Hatton-Rockall Bank 17.6$\\degree$W')\n",
    "    section.votemper.isel(z=15).isel(c=1200).plot(ax=ax[0],label='Rockall Trough 9.8$\\degree$W')\n",
    "    \n",
    "    ax[0].axvline(np.datetime64('2006-01-16T12:00:00'))\n",
    "    ax[0].axvline(np.datetime64('2017-07-16T12:00:00'))\n",
    "\n",
    "    section.vosaline.isel(z=15).isel(c=635).plot(ax=ax[1],label='Irminger Basin 37.5$\\degree$W')\n",
    "    section.vosaline.isel(z=15).isel(c=742).plot(ax=ax[1],label='Irminger Basin 32.6$\\degree$W')\n",
    "    section.vosaline.isel(z=15).isel(c=835).plot(ax=ax[1],label='Iceland Basin 28.0$\\degree$W')\n",
    "    section.vosaline.isel(z=15).isel(c=970).plot(ax=ax[1],label='Iceland Basin 22.0$\\degree$W')\n",
    "    section.vosaline.isel(z=15).isel(c=1050).plot(ax=ax[1],label='Hatton-Rockall Bank 17.6$\\degree$W')\n",
    "    section.vosaline.isel(z=15).isel(c=1200).plot(ax=ax[1],label='Rockall Trough 9.8$\\degree$W')\n",
    "\n",
    "    ax[1].axvline(np.datetime64('2006-01-16T12:00:00'))\n",
    "    ax[1].axvline(np.datetime64('2017-07-16T12:00:00'))\n",
    "\n",
    "    ax[0].set_xlabel('')\n",
    "\n",
    "    ax[0].legend()\n",
    "    ax[1].legend()\n",
    "    \n",
    "    plt.savefig('plot_ts_times')\n",
    "    \n",
    "    return"
   ]
  },
  {
   "cell_type": "code",
   "execution_count": null,
   "metadata": {
    "slideshow": {
     "slide_type": "subslide"
    }
   },
   "outputs": [],
   "source": [
    "plot_ts_timeseries()"
   ]
  },
  {
   "cell_type": "code",
   "execution_count": null,
   "metadata": {
    "slideshow": {
     "slide_type": "skip"
    }
   },
   "outputs": [],
   "source": [
    "def plot_ts_timeseries_osnap():\n",
    "    fig,ax = plt.subplots(2,figsize=(15,10),sharex=True,gridspec_kw={'wspace': 0.1})\n",
    "    plt.tight_layout()\n",
    "\n",
    "    tsv.THETA.isel(DEPTH=13).isel(LONGITUDE=116).plot(ax=ax[0],label='Irminger Basin 37.5$\\degree$W')\n",
    "    tsv.THETA.isel(DEPTH=13).isel(LONGITUDE=137).plot(ax=ax[0],label='Irminger Basin 32.6$\\degree$W')\n",
    "    tsv.THETA.isel(DEPTH=13).isel(LONGITUDE=170).plot(ax=ax[0],label='Iceland Basin 28.9$\\degree$W')\n",
    "    tsv.THETA.isel(DEPTH=13).isel(LONGITUDE=188).plot(ax=ax[0],label='Iceland Basin 22.0$\\degree$W')\n",
    "    tsv.THETA.isel(DEPTH=13).isel(LONGITUDE=206).plot(ax=ax[0],label='Hatton-Rockall Bank 17.6$\\degree$W')\n",
    "    tsv.THETA.isel(DEPTH=13).isel(LONGITUDE=240).plot(ax=ax[0],label='Rockall Trough 9.8$\\degree$W')\n",
    "\n",
    "    tsv.PSAL.isel(DEPTH=13).isel(LONGITUDE=116).plot(ax=ax[1],label='Irminger Basin 37.5$\\degree$W')\n",
    "    tsv.PSAL.isel(DEPTH=13).isel(LONGITUDE=137).plot(ax=ax[1],label='Irminger Basin 32.6$\\degree$W')\n",
    "    tsv.PSAL.isel(DEPTH=13).isel(LONGITUDE=170).plot(ax=ax[1],label='Iceland Basin 28.9$\\degree$W')\n",
    "    tsv.PSAL.isel(DEPTH=13).isel(LONGITUDE=188).plot(ax=ax[1],label='Iceland Basin 22.0$\\degree$W')\n",
    "    tsv.PSAL.isel(DEPTH=13).isel(LONGITUDE=206).plot(ax=ax[1],label='Hatton-Rockall Bank 17.6$\\degree$W')\n",
    "    tsv.PSAL.isel(DEPTH=13).isel(LONGITUDE=240).plot(ax=ax[1],label='Rockall Trough 9.8$\\degree$W')\n",
    "\n",
    "    ax[0].set_xlabel('')\n",
    "\n",
    "    ax[0].legend()\n",
    "    ax[1].legend()\n",
    "    \n",
    "    plt.savefig('plot_ts_timeseries.png',bbox_inches='tight')\n",
    "    \n",
    "\n",
    "    return"
   ]
  },
  {
   "cell_type": "code",
   "execution_count": null,
   "metadata": {
    "slideshow": {
     "slide_type": "skip"
    }
   },
   "outputs": [],
   "source": [
    "plot_ts_timeseries_osnap()"
   ]
  },
  {
   "cell_type": "markdown",
   "metadata": {
    "slideshow": {
     "slide_type": "skip"
    }
   },
   "source": [
    "### Combined time series"
   ]
  },
  {
   "cell_type": "code",
   "execution_count": null,
   "metadata": {},
   "outputs": [],
   "source": [
    "def plot_ts_timeseries_combined():\n",
    "    sns.set_palette(\"deep\")\n",
    "    fig,ax = plt.subplots(2,figsize=(15,10),sharex=True,gridspec_kw={'wspace': 0.1})\n",
    "    \n",
    "    sns.set_palette(\"deep\")\n",
    "    \n",
    "    section.votemper.isel(z=16).isel(c=1200).plot(ax=ax[0],label='Rockall Trough 9.8$\\degree$W',zorder=5)\n",
    "    section.votemper.isel(z=16).isel(c=1050).plot(ax=ax[0],label='Hatton-Rockall Bank 17.6$\\degree$W',zorder=5)\n",
    "    section.votemper.isel(z=16).isel(c=970).plot(ax=ax[0],label='Iceland Basin 22.0$\\degree$W',zorder=5)\n",
    "    section.votemper.isel(z=16).isel(c=858).plot(ax=ax[0],label='Iceland Basin 28.0$\\degree$W',zorder=5)\n",
    "    section.votemper.isel(z=16).isel(c=742).plot(ax=ax[0],label='Irminger Basin 32.6$\\degree$W',zorder=5)\n",
    "    section.votemper.isel(z=16).isel(c=635).plot(ax=ax[0],label='Irminger Basin 37.5$\\degree$W',zorder=5)\n",
    "    \n",
    "    ax[0].axvline(np.datetime64('2006-01-16T12:00:00'))\n",
    "    ax[0].axvline(np.datetime64('2017-07-16T12:00:00'))\n",
    "\n",
    "    section.vosaline.isel(z=16).isel(c=1200).plot(ax=ax[1],label='Rockall Trough 9.8$\\degree$W',zorder=5)\n",
    "    section.vosaline.isel(z=16).isel(c=1050).plot(ax=ax[1],label='Hatton-Rockall Bank 17.6$\\degree$W',zorder=5)\n",
    "    section.vosaline.isel(z=16).isel(c=970).plot(ax=ax[1],label='Iceland Basin 22.0$\\degree$W',zorder=5)\n",
    "    section.vosaline.isel(z=16).isel(c=858).plot(ax=ax[1],label='Iceland Basin 28.0$\\degree$W',zorder=5)\n",
    "    section.vosaline.isel(z=16).isel(c=742).plot(ax=ax[1],label='Irminger Basin 32.6$\\degree$W',zorder=5)\n",
    "    section.vosaline.isel(z=16).isel(c=635).plot(ax=ax[1],label='Irminger Basin 37.5$\\degree$W',zorder=5)\n",
    "    \n",
    "#     sns.set_palette(\"pastel\")\n",
    "    ax[0].set_prop_cycle(None)\n",
    "    ax[1].set_prop_cycle(None)\n",
    "\n",
    "    tsv.THETA.isel(DEPTH=15).isel(LONGITUDE=240).plot(ax=ax[0],linewidth=3)\n",
    "    tsv.THETA.isel(DEPTH=15).isel(LONGITUDE=206).plot(ax=ax[0],linewidth=3)\n",
    "    tsv.THETA.isel(DEPTH=15).isel(LONGITUDE=188).plot(ax=ax[0],linewidth=3)\n",
    "    tsv.THETA.isel(DEPTH=15).isel(LONGITUDE=161).plot(ax=ax[0],linewidth=3)\n",
    "    tsv.THETA.isel(DEPTH=15).isel(LONGITUDE=137).plot(ax=ax[0],linewidth=3)\n",
    "    tsv.THETA.isel(DEPTH=15).isel(LONGITUDE=116).plot(ax=ax[0],linewidth=3)\n",
    "\n",
    "    tsv.PSAL.isel(DEPTH=15).isel(LONGITUDE=240).plot(ax=ax[1],linewidth=3)\n",
    "    tsv.PSAL.isel(DEPTH=15).isel(LONGITUDE=206).plot(ax=ax[1],linewidth=3)\n",
    "    tsv.PSAL.isel(DEPTH=15).isel(LONGITUDE=188).plot(ax=ax[1],linewidth=3)\n",
    "    tsv.PSAL.isel(DEPTH=15).isel(LONGITUDE=161).plot(ax=ax[1],linewidth=3)\n",
    "    tsv.PSAL.isel(DEPTH=15).isel(LONGITUDE=137).plot(ax=ax[1],linewidth=3)\n",
    "    tsv.PSAL.isel(DEPTH=15).isel(LONGITUDE=116).plot(ax=ax[1],linewidth=3)\n",
    "\n",
    "    ax[1].axvline(np.datetime64('2006-01-16T12:00:00'))\n",
    "    ax[1].axvline(np.datetime64('2017-07-16T12:00:00'))\n",
    "    \n",
    "    ax[0].set_title('Temperature')\n",
    "    ax[1].set_title('Salinity')\n",
    "\n",
    "    ax[0].set_xlabel('')\n",
    "\n",
    "    ax[0].legend(facecolor='w',framealpha=1)\n",
    "    ax[1].legend(facecolor='w',framealpha=1)\n",
    "\n",
    "    plt.tight_layout()\n",
    "    \n",
    "    plt.savefig('plot_ts_times',bbox_inches='tight')\n",
    "    \n",
    "    return"
   ]
  },
  {
   "cell_type": "code",
   "execution_count": null,
   "metadata": {},
   "outputs": [],
   "source": [
    "plot_ts_timeseries_combined()"
   ]
  },
  {
   "cell_type": "code",
   "execution_count": null,
   "metadata": {},
   "outputs": [],
   "source": []
  },
  {
   "cell_type": "code",
   "execution_count": null,
   "metadata": {},
   "outputs": [],
   "source": [
    "fig,ax = plt.subplots()\n",
    "tsv.where(tsv.DEPTH < 500).where(tsv.LONGITUDE < -20).where(tsv.LONGITUDE>-30).PSAL.isel(TIME=39).plot(ax=ax,vmin=34.8,vmax=35.5)\n",
    "ax.set_ylim(500,0)\n",
    "ax.set_xlim(-30,-20)\n",
    "\n"
   ]
  },
  {
   "cell_type": "code",
   "execution_count": null,
   "metadata": {},
   "outputs": [],
   "source": [
    "tsv.PSAL.isel(DEPTH=15).isel(LONGITUDE=170)\n"
   ]
  },
  {
   "cell_type": "code",
   "execution_count": null,
   "metadata": {},
   "outputs": [],
   "source": [
    "tsv.LONGITUDE.data[161]"
   ]
  },
  {
   "cell_type": "code",
   "execution_count": null,
   "metadata": {},
   "outputs": [],
   "source": [
    "section.lon.data[858]"
   ]
  },
  {
   "cell_type": "code",
   "execution_count": null,
   "metadata": {},
   "outputs": [],
   "source": []
  }
 ],
 "metadata": {
  "celltoolbar": "Slideshow",
  "kernelspec": {
   "display_name": "Python [conda env:py3_lagrange_v2.2.2]",
   "language": "python",
   "name": "conda-env-py3_lagrange_v2.2.2-py"
  },
  "language_info": {
   "codemirror_mode": {
    "name": "ipython",
    "version": 3
   },
   "file_extension": ".py",
   "mimetype": "text/x-python",
   "name": "python",
   "nbconvert_exporter": "python",
   "pygments_lexer": "ipython3",
   "version": "3.8.6"
  }
 },
 "nbformat": 4,
 "nbformat_minor": 4
}
