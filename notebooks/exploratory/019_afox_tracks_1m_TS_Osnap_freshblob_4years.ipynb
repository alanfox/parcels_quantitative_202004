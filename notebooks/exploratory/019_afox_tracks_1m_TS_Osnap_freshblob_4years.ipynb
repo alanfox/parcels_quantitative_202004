{
 "cells": [
  {
   "cell_type": "markdown",
   "metadata": {
    "slideshow": {
     "slide_type": "slide"
    }
   },
   "source": [
    "# OSNAP line Lagrangian particle tracking investigation of the cold/fresh blob\n"
   ]
  },
  {
   "cell_type": "markdown",
   "metadata": {
    "slideshow": {
     "slide_type": "fragment"
    }
   },
   "source": [
    "### The aim here is an investigation of the source of the cold/fresh blob which appeared in the near-surface Iceland Basin from about 2014. There are a couple of published explanations for the feature: \n",
    "\n",
    "- reduced heat/salt transport across RAPID array and northwards to subpolar N Atlantic over several years (Bryden et al. 2020?) or \n",
    "- increased contribution from Labrador Sea water flowing into subpolar North Atlantic rather than southwards (Holliday et al. 2020?). Driven I think by specific,  more intermittent, weather near Flemish Cap (though I need to read this again...)"
   ]
  },
  {
   "cell_type": "markdown",
   "metadata": {
    "slideshow": {
     "slide_type": "fragment"
    }
   },
   "source": [
    "The technique is to track particles back from the OSNAP line for 4 years and identify those which came from the Gulf Stream and those which came through the Labrador Sea. And see how that changes between from 2006 to 2017. (Elsewhere I have done backwards particle tracking for all years between 2006 and 2017. This supports the results shown here and adds some detail, but 2 years tracking isn't really long enough to identify pathways). I am also trying to quantify the volume/heat/salt transports along each route (not here yet though)."
   ]
  },
  {
   "cell_type": "markdown",
   "metadata": {
    "slideshow": {
     "slide_type": "skip"
    }
   },
   "source": [
    "## Technical preamble"
   ]
  },
  {
   "cell_type": "code",
   "execution_count": null,
   "metadata": {
    "slideshow": {
     "slide_type": "skip"
    }
   },
   "outputs": [],
   "source": [
    "# import matplotlib.colors as colors\n",
    "import numpy as np\n",
    "from pathlib import Path\n",
    "import matplotlib.pyplot as plt\n",
    "import xarray as xr\n",
    "from datetime import datetime, timedelta\n",
    "import seaborn as sns\n",
    "# from matplotlib.colors import ListedColormap\n",
    "import cmocean as co\n",
    "import pandas as pd\n",
    "import matplotlib.dates as mdates\n",
    "import cartopy.crs as ccrs\n",
    "import cartopy\n",
    "import seawater as sw\n",
    "\n",
    "from matplotlib import colors as c\n",
    "from matplotlib import ticker\n",
    "from xhistogram.xarray import histogram"
   ]
  },
  {
   "cell_type": "code",
   "execution_count": null,
   "metadata": {
    "slideshow": {
     "slide_type": "skip"
    }
   },
   "outputs": [],
   "source": [
    "sns.set(style=\"darkgrid\")\n",
    "\n",
    "xr.set_options(keep_attrs=True)\n",
    "np.warnings.filterwarnings('ignore')\n",
    "\n",
    "sns.set_palette(\"colorblind\")\n",
    "xr.set_options(keep_attrs=True);\n",
    "\n",
    "plt.rc('font', size=20) #controls default text size\n",
    "plt.rc('axes', titlesize=20) #fontsize of the title\n",
    "plt.rc('axes', labelsize=20) #fontsize of the x and y labels\n",
    "plt.rc('xtick', labelsize=20) #fontsize of the x tick labels\n",
    "plt.rc('ytick', labelsize=20) #fontsize of the y tick labels\n",
    "plt.rc('legend', fontsize=20) #fontsize of the legend\n",
    "plt.rc('savefig', dpi=300)       # higher res outputs"
   ]
  },
  {
   "cell_type": "markdown",
   "metadata": {
    "slideshow": {
     "slide_type": "skip"
    }
   },
   "source": [
    "## Set up paths and read in trajectory data"
   ]
  },
  {
   "cell_type": "code",
   "execution_count": null,
   "metadata": {
    "slideshow": {
     "slide_type": "skip"
    }
   },
   "outputs": [],
   "source": [
    "## Parameters\n",
    "# Project path\n",
    "project_path = Path.cwd() / '..' / '..' \n",
    "project_path = project_path.resolve()\n",
    "\n",
    "# output figures path\n",
    "figures_path = Path(\"reports/figures/ColdBlob/\")\n",
    "\n",
    "# Parcels track data file\n",
    "path_data_tracks = Path('data/processed/tracks/osnap/') \n",
    "filename_tracks = [\n",
    "                   'tracks_osnap_backward_200607_N2931_D1460_Rnd123.nc',\n",
    "                   'tracks_osnap_backward_200707_N2931_D1460_Rnd123.nc',\n",
    "                   'tracks_osnap_backward_200807_N2931_D1460_Rnd123.nc',\n",
    "                   'tracks_osnap_backward_200907_N2931_D1460_Rnd123.nc',\n",
    "                   'tracks_osnap_backward_201007_N2931_D1460_Rnd123.nc',\n",
    "                   'tracks_osnap_backward_201107_N2931_D1460_Rnd123.nc',\n",
    "                   'tracks_osnap_backward_201207_N2931_D1460_Rnd123.nc',\n",
    "                   'tracks_osnap_backward_201307_N2931_D1460_Rnd123.nc',\n",
    "                   'tracks_osnap_backward_201407_N2931_D1460_Rnd123.nc',\n",
    "                   'tracks_osnap_backward_201507_N2931_D1460_Rnd123.nc',\n",
    "                   'tracks_osnap_backward_201607_N2931_D1460_Rnd123.nc',\n",
    "                   'tracks_osnap_backward_201707_N2931_D1460_Rnd123.nc',\n",
    "                   'tracks_osnap_backward_200601_N2931_D1460_Rnd123.nc',\n",
    "                   'tracks_osnap_backward_200701_N2931_D1460_Rnd123.nc',\n",
    "                   'tracks_osnap_backward_200801_N2931_D1460_Rnd123.nc',\n",
    "                   'tracks_osnap_backward_200901_N2931_D1460_Rnd123.nc',\n",
    "                   'tracks_osnap_backward_201001_N2931_D1460_Rnd123.nc',\n",
    "                   'tracks_osnap_backward_201101_N2931_D1460_Rnd123.nc',\n",
    "                   'tracks_osnap_backward_201201_N2931_D1460_Rnd123.nc',\n",
    "                   'tracks_osnap_backward_201301_N2931_D1460_Rnd123.nc',\n",
    "                   'tracks_osnap_backward_201401_N2931_D1460_Rnd123.nc',\n",
    "                   'tracks_osnap_backward_201501_N2931_D1460_Rnd123.nc',\n",
    "                   'tracks_osnap_backward_201601_N2931_D1460_Rnd123.nc',\n",
    "                   'tracks_osnap_backward_201701_N2931_D1460_Rnd123.nc'\n",
    "]\n",
    "\n",
    "# model mask file\n",
    "data_path = Path(\"data/external/iAtlantic/\")\n",
    "experiment_name = \"VIKING20X.L46-KKG36107B\"\n",
    "mesh_mask_file = project_path / data_path / \"mask\" / experiment_name / \"1_mesh_mask.nc\"\n",
    "\n",
    "#section lonlat file\n",
    "sectionPath = Path('data/external/sections/')\n",
    "sectionFilename = 'osnap_pos_wp.txt'\n",
    "sectionname = 'osnap'\n",
    "gsrsectionFilename = 'gsr_pos_wp.txt'\n",
    "\n",
    "degree2km = 1.852*60.0\n",
    "\n",
    "\n",
    "# some transport values specific to osnap runs\n",
    "# randomly seeded 39995 particles, 19886 were in ocean points (the rest were land)\n",
    "\n",
    "osnap_section_length = 3594572.87839    # m\n",
    "osnap_subsection_length = 1121724.76238   # m\n",
    "osnap_section_depth = 4000 # m over which particles launched\n",
    "osnap_subsection_depth = 500 # m over which particles launched\n",
    "\n",
    "osnap_subsection_ocean_area = osnap_subsection_length * osnap_subsection_depth * 2931.0 / 3119.0\n",
    "\n",
    "particle_section_area = osnap_subsection_length * osnap_subsection_depth / 3119.0\n"
   ]
  },
  {
   "cell_type": "markdown",
   "metadata": {
    "slideshow": {
     "slide_type": "skip"
    }
   },
   "source": [
    "## Load data"
   ]
  },
  {
   "cell_type": "markdown",
   "metadata": {
    "slideshow": {
     "slide_type": "skip"
    }
   },
   "source": [
    "### mesh and masks"
   ]
  },
  {
   "cell_type": "code",
   "execution_count": null,
   "metadata": {
    "slideshow": {
     "slide_type": "skip"
    }
   },
   "outputs": [],
   "source": [
    "mesh_mask = xr.open_dataset(mesh_mask_file)\n",
    "mesh_mask = mesh_mask.squeeze()\n",
    "mesh_mask = mesh_mask.set_coords([\"nav_lon\", \"nav_lat\", \"nav_lev\"])\n",
    "\n",
    "bathy = mesh_mask.mbathy.rename(\"number of water filled points\")\n",
    "\n",
    "depth = (mesh_mask.e3t_0 * mesh_mask.tmask).sum(\"z\")\n",
    "# display(mesh_mask)"
   ]
  },
  {
   "cell_type": "markdown",
   "metadata": {
    "slideshow": {
     "slide_type": "skip"
    }
   },
   "source": [
    "### section position data"
   ]
  },
  {
   "cell_type": "code",
   "execution_count": null,
   "metadata": {
    "slideshow": {
     "slide_type": "skip"
    }
   },
   "outputs": [],
   "source": [
    "lonlat = xr.Dataset(pd.read_csv(project_path / sectionPath / sectionFilename,delim_whitespace=True))\n",
    "lonlat['lon'] *= -1.0"
   ]
  },
  {
   "cell_type": "code",
   "execution_count": null,
   "metadata": {
    "slideshow": {
     "slide_type": "skip"
    }
   },
   "outputs": [],
   "source": [
    "lonlat.lon.attrs['long_name']='Longitude'\n",
    "lonlat.lat.attrs['long_name']='Latitude'\n",
    "lonlat.lon.attrs['standard_name']='longitude'\n",
    "lonlat.lat.attrs['standard_name']='latitude'\n",
    "lonlat.lon.attrs['units']='degrees_east'\n",
    "lonlat.lat.attrs['units']='degrees_north'\n",
    "\n",
    "lonlat2mean= lonlat.rolling({'dim_0':2}).mean()\n",
    "\n",
    "lonlatdiff = (lonlat.diff('dim_0'))\n",
    "\n",
    "lonlatdiff = lonlatdiff.assign({'y':lonlatdiff['lat']*degree2km})\n",
    "lonlatdiff = lonlatdiff.assign({'x':lonlatdiff['lon']*degree2km*np.cos(np.radians(lonlat2mean.lat.data[1:]))})\n",
    "lonlatdiff=lonlatdiff.assign({'length':np.sqrt(lonlatdiff['x']**2+lonlatdiff['y']**2)})\n",
    "lonlatdiff=lonlatdiff.assign({'costheta':lonlatdiff['x']/lonlatdiff['length']})\n",
    "lonlatdiff=lonlatdiff.assign({'sintheta':lonlatdiff['y']/lonlatdiff['length']})\n",
    "\n",
    "total_length = lonlatdiff.length.sum().data \n",
    "total_osnap_length = lonlatdiff.length[0:12].sum().data;  # exclude section across UK - just there for testing north/south\n",
    "\n",
    "length_west = xr.concat((xr.DataArray([0],dims=(\"dim_0\"),coords={\"dim_0\": [0]}),lonlatdiff.length.cumsum()),dim='dim_0')"
   ]
  },
  {
   "cell_type": "markdown",
   "metadata": {
    "slideshow": {
     "slide_type": "skip"
    }
   },
   "source": [
    "### tracks"
   ]
  },
  {
   "cell_type": "code",
   "execution_count": null,
   "metadata": {
    "slideshow": {
     "slide_type": "skip"
    }
   },
   "outputs": [],
   "source": [
    "for i,filename in enumerate(filename_tracks):\n",
    "    dst=xr.open_dataset(project_path / path_data_tracks / filename)\n",
    "    if i == 0:\n",
    "        ds=dst\n",
    "    else:\n",
    "        ds=xr.concat([ds,dst],dim='traj')\n"
   ]
  },
  {
   "cell_type": "markdown",
   "metadata": {},
   "source": [
    "#### Subset tracks by OSNAP line cross longitude and depth range"
   ]
  },
  {
   "cell_type": "code",
   "execution_count": null,
   "metadata": {},
   "outputs": [],
   "source": [
    "lonRange=[-30,-19]\n",
    "depthRange=[0,500]"
   ]
  },
  {
   "cell_type": "code",
   "execution_count": null,
   "metadata": {},
   "outputs": [],
   "source": [
    "ds = ds.where(ds.isel(obs=0).lon > lonRange[0]).where(ds.isel(obs=0).lon < lonRange[1])\n",
    "ds = ds.where(ds.isel(obs=0).z > depthRange[0]).where(ds.isel(obs=0).z < depthRange[1])\n",
    "ds = ds.dropna('traj', how='all')\n",
    "    "
   ]
  },
  {
   "cell_type": "markdown",
   "metadata": {
    "slideshow": {
     "slide_type": "skip"
    }
   },
   "source": [
    "#### Velocity conversions from degrees lat/lon per second to m/s"
   ]
  },
  {
   "cell_type": "code",
   "execution_count": null,
   "metadata": {
    "slideshow": {
     "slide_type": "skip"
    }
   },
   "outputs": [],
   "source": [
    "ds=ds.assign({'uvel_ms':ds.uvel * degree2km * 1000.0 * np.cos(np.radians(ds.lat))})\n",
    "ds=ds.assign({'vvel_ms':ds.vvel * degree2km * 1000.0})"
   ]
  },
  {
   "cell_type": "markdown",
   "metadata": {},
   "source": [
    "#### Extract fields on osnap line (obs=0). Find 'initial' velocities normal to the section.\n",
    "\n",
    "These are the positions we 'initialised' the particles with, but we ran particles backwards in time so these  represent the final positions, on the osnap line."
   ]
  },
  {
   "cell_type": "code",
   "execution_count": null,
   "metadata": {},
   "outputs": [],
   "source": [
    "ds_init = ds.isel(obs=0)"
   ]
  },
  {
   "cell_type": "code",
   "execution_count": null,
   "metadata": {},
   "outputs": [],
   "source": [
    "ds_init = ds_init.assign({'section_index':xr.DataArray(np.searchsorted(lonlat.lon,ds_init.lon)-1,dims='traj')})\n",
    "ds_init = ds_init.assign({'u_normal':ds_init.vvel_ms * lonlatdiff.costheta[ds_init.section_index].data - ds_init.uvel_ms * lonlatdiff.sintheta[ds_init.section_index].data})\n",
    "ds_init = ds_init.assign({'u_along':ds_init.vvel_ms * lonlatdiff.sintheta[ds_init.section_index].data + ds_init.uvel_ms * lonlatdiff.costheta[ds_init.section_index].data})\n"
   ]
  },
  {
   "cell_type": "markdown",
   "metadata": {},
   "source": [
    "#### Find along-section distances of initial points"
   ]
  },
  {
   "cell_type": "code",
   "execution_count": null,
   "metadata": {},
   "outputs": [],
   "source": [
    "ds_init = ds_init.assign({'x':xr.DataArray(length_west[ds_init.section_index] + lonlatdiff.length[ds_init.section_index]*\n",
    "                              (ds_init.lon - lonlat.lon[ds_init.section_index])/lonlatdiff.lon[ds_init.section_index],dims='traj')})"
   ]
  },
  {
   "cell_type": "markdown",
   "metadata": {},
   "source": [
    "### volume, temperature and salt transports along track"
   ]
  },
  {
   "cell_type": "code",
   "execution_count": null,
   "metadata": {},
   "outputs": [],
   "source": [
    "# at osnap line\n",
    "ds_init = ds_init.assign({'particle_vol':(ds_init.salt/ds_init.salt) * particle_section_area/1.0e06})\n",
    "ds_init = ds_init.assign({'vol_trans_normal':ds_init.u_normal * particle_section_area/1.0e06})\n",
    "ds_init = ds_init.assign({'temp_transport':ds_init.temp * ds_init.vol_trans_normal})\n",
    "ds_init = ds_init.assign({'salt_transport':ds_init.salt * ds_init.vol_trans_normal})\n",
    "ds_init = ds_init.assign({'depth_transport':ds_init.z * ds_init.vol_trans_normal})\n",
    "ds_init = ds_init.assign({'lon_transport':ds_init.lon * ds_init.vol_trans_normal})\n",
    "\n",
    "# full track assuming alongtrack volume transport conserved following particle\n",
    "ds = ds.assign({'temp_transport':ds.temp * ds_init.vol_trans_normal})\n",
    "ds = ds.assign({'salt_transport':ds.salt * ds_init.vol_trans_normal})\n",
    "ds = ds.assign({'vol_transport':ds_init.vol_trans_normal * ds.salt/ds.salt}) # trick to get full array dimensions"
   ]
  },
  {
   "cell_type": "markdown",
   "metadata": {
    "slideshow": {
     "slide_type": "skip"
    }
   },
   "source": [
    "## Plot section"
   ]
  },
  {
   "cell_type": "code",
   "execution_count": null,
   "metadata": {
    "slideshow": {
     "slide_type": "skip"
    }
   },
   "outputs": [],
   "source": [
    "sns.set(style=\"whitegrid\")\n",
    "central_lon, central_lat = -30, 55\n",
    "fig, ax = plt.subplots(subplot_kw={'projection': ccrs.Orthographic(central_lon, central_lat)})\n",
    "extent = [-60, 0, 40, 70]\n",
    "ax.set_extent(extent)\n",
    "ax.gridlines()\n",
    "ax.coastlines(resolution='50m')\n",
    "\n",
    "lonlat.plot.scatter(ax=ax,transform=ccrs.PlateCarree(),x='lon',y='lat')\n",
    "lonlat2mean.plot.scatter(ax=ax,transform=ccrs.PlateCarree(),x='lon',y='lat');"
   ]
  },
  {
   "cell_type": "markdown",
   "metadata": {
    "slideshow": {
     "slide_type": "skip"
    }
   },
   "source": [
    "## plot tracks by source region"
   ]
  },
  {
   "cell_type": "code",
   "execution_count": null,
   "metadata": {
    "slideshow": {
     "slide_type": "skip"
    }
   },
   "outputs": [],
   "source": [
    "# range of stations from west to east, stations 0-12. Python indexing.\n",
    "\n",
    "def plotTracksCartopy(ds1,cmap=co.cm.tempo_r,title='',fig_path = Path.cwd(),fileroot='',date = ''):\n",
    "    \n",
    "    central_lon, central_lat = -45, 47.5\n",
    "    sns.set(style=\"whitegrid\")\n",
    "    fig, ax = plt.subplots(figsize = (12,8),subplot_kw={'projection': ccrs.Orthographic(central_lon, central_lat)})\n",
    "    extent = [-80, -10, 25, 70]\n",
    "    ax.set_extent(extent)\n",
    "    ax.gridlines()\n",
    "    ax.coastlines(resolution='50m')\n",
    "    \n",
    "    dsmask = ds1\n",
    "\n",
    "    pcm = ax.scatter(\n",
    "        dsmask.lon.data.flatten(),\n",
    "        dsmask.lat.data.flatten(),\n",
    "        3,\n",
    "#         (dsmask.time.data.flatten()-ds.time.isel(obs=0,traj=0).data).astype('timedelta64[D]')\n",
    "        mdates.date2num(dsmask.time.data.flatten())\n",
    "#         ,cmap= cmap\n",
    "        ,zorder=2\n",
    "        ,transform=ccrs.PlateCarree()\n",
    "    #   ,alpha=0.3\n",
    "    )\n",
    "    cb = fig.colorbar(pcm,ax=ax,shrink=0.8,label = \"date\")\n",
    "    loc = mdates.MonthLocator(bymonth=range(1,13,3))\n",
    "    cb.ax.yaxis.set_major_locator(loc)\n",
    "    cb.ax.yaxis.set_major_formatter(mdates.ConciseDateFormatter(loc))\n",
    "#     cb.ax.tick_params(labelsize=20)\n",
    "\n",
    "\n",
    "    depth.isel(y=slice(1000, 2499), x=slice(0, 2404)).plot.contour(ax=ax,transform=ccrs.PlateCarree(),\n",
    "        x=\"nav_lon\", y=\"nav_lat\", colors = 'grey', levels = [200,800,1500,2000,2500,3500],zorder=1\n",
    "    );\n",
    "    ax.scatter(\n",
    "        dsmask.lon.isel(obs=0).data.flatten(),\n",
    "        dsmask.lat.isel(obs=0).data.flatten(),2,zorder=5,\n",
    "        transform=ccrs.PlateCarree()\n",
    "    )\n",
    "    ax.plot(np.linspace(-58.2,-40,num=20),np.linspace(52,65,num=20),\n",
    "        zorder=5,color='C2',\n",
    "        transform=ccrs.PlateCarree()\n",
    "    )\n",
    "    ax.plot(np.linspace(-80,-58.2,num=20),np.linspace(52,52,num=20),\n",
    "        zorder=5,color='C2',\n",
    "        transform=ccrs.PlateCarree()\n",
    "    )\n",
    "    ax.plot(np.linspace(-60,-100,num=20),np.linspace(33,33,num=20),\n",
    "        zorder=5,color='C2',\n",
    "        transform=ccrs.PlateCarree()\n",
    "    )\n",
    "    \n",
    "    title=ax.set_title(title)\n",
    "    \n",
    "    filenameroot = fig_path / str('plotTracks' + fileroot + date)\n",
    "\n",
    "#     plt.savefig(filenameroot.with_suffix('.eps'), bbox_extra_artists=(title,), bbox_inches='tight')\n",
    "    plt.savefig(filenameroot.with_suffix('.png'), bbox_extra_artists=(title,), bbox_inches='tight')\n",
    "#     plt.savefig(filenameroot.with_suffix('.pdf'), bbox_extra_artists=(title,), bbox_inches='tight')\n",
    "\n",
    "\n",
    "    return\n"
   ]
  },
  {
   "cell_type": "code",
   "execution_count": null,
   "metadata": {
    "slideshow": {
     "slide_type": "skip"
    }
   },
   "outputs": [],
   "source": [
    "def apply_left_of_line(ds, lon_1, lon_2, lat_1, lat_2):\n",
    "    '''Apply an area crossing criterion.\n",
    "    \n",
    "    Larvae in ds selected while they are in a selected area.\n",
    "    '''\n",
    "    # particles are selected if they pass through given area.\n",
    "    position =  ((lon_2 -lon_1) * (ds.lat - lat_1) - \n",
    "                     (ds.lon - lon_1) * (lat_2 - lat_1))\n",
    "                        \n",
    "    return position > 0.0, position < 0"
   ]
  },
  {
   "cell_type": "markdown",
   "metadata": {
    "slideshow": {
     "slide_type": "skip"
    }
   },
   "source": [
    "#### from Labrador sea or from Gulf Stream"
   ]
  },
  {
   "cell_type": "code",
   "execution_count": null,
   "metadata": {
    "slideshow": {
     "slide_type": "skip"
    }
   },
   "outputs": [],
   "source": [
    "# labrador sea\n",
    "ds_in1, ds_notin1 = apply_left_of_line(ds,-75,-40,40,65)\n",
    "ds_in2, ds_notin2 = apply_left_of_line(ds,-95,-60,52,52)\n",
    "ds_lab_sea_in = ds_in1*ds_in2\n",
    "\n",
    "# gulf stream\n",
    "ds_in, ds_notin = apply_left_of_line(ds,-60,-100,33,33)\n",
    "ds_60w_in = ds_in\n"
   ]
  },
  {
   "cell_type": "code",
   "execution_count": null,
   "metadata": {},
   "outputs": [],
   "source": [
    "# particles on osnap line\n",
    "ds_init_labsea = ds_init.where(ds_lab_sea_in.max(\"obs\"))\n",
    "ds_init_60w = ds_init.where(ds_60w_in.max(\"obs\"))\n",
    "ds_init_other = ds_init.where(ds_60w_in.max(\"obs\")==False).where(ds_lab_sea_in.max(\"obs\")==False)\n",
    "\n",
    "# particles throughout tracking timespan\n",
    "ds_lab_sea = ds.where(ds_lab_sea_in.max(\"obs\"))\n",
    "ds_60w = ds.where(ds_60w_in.max(\"obs\"))\n",
    "ds_other = ds.where(ds_lab_sea_in.max(\"obs\")==False).where(ds_60w_in.max(\"obs\")==False) "
   ]
  },
  {
   "cell_type": "code",
   "execution_count": null,
   "metadata": {},
   "outputs": [],
   "source": [
    "t=[]\n",
    "\n",
    "for name,group in ds_init.groupby(\"time\"):\n",
    "    t.append(name)  \n",
    "    \n",
    "display(t)\n"
   ]
  },
  {
   "cell_type": "markdown",
   "metadata": {
    "slideshow": {
     "slide_type": "slide"
    }
   },
   "source": [
    "### Particles reaching OSNAP section, 20-30W 0-500 m depth, from Labrador Sea.\n",
    "\n",
    "It is difficult to see any change in the volume transort of water on this route from these plots, but there is a change in the pattern, with many fewer of the 2017 particles taking the southern loop down the east coast of Canada/USA than the 2006 particles.\n",
    "\n",
    "This supports the Holliday et al idea of different routes out of the Labrador Sea influencing temperature/salinity in near-surface Iceland Basin. It also suggests a possible negative link between near-surface temperature in Iceland Basin and Atlantic coast of NE USA/Canada."
   ]
  },
  {
   "cell_type": "code",
   "execution_count": null,
   "metadata": {},
   "outputs": [],
   "source": [
    "date = str(t[4].astype('datetime64[D]'))\n",
    "display(date)"
   ]
  },
  {
   "cell_type": "code",
   "execution_count": null,
   "metadata": {},
   "outputs": [],
   "source": [
    "test = ds_lab_sea.where(ds_lab_sea_in.cumsum(dim='obs') < 1)\n",
    "ds_select = test.where(test.isel(obs=0).time == t[4]).dropna('traj', how='all')"
   ]
  },
  {
   "cell_type": "code",
   "execution_count": null,
   "metadata": {
    "slideshow": {
     "slide_type": "subslide"
    }
   },
   "outputs": [],
   "source": [
    "plotTracksCartopy(ds_select,cmap=co.cm.tempo_r,title='From Labrador Sea '+date,fig_path = project_path / figures_path, fileroot='Lab',date=date)"
   ]
  },
  {
   "cell_type": "code",
   "execution_count": null,
   "metadata": {},
   "outputs": [],
   "source": [
    "date = str(t[16].astype('datetime64[D]'))\n",
    "display(date)"
   ]
  },
  {
   "cell_type": "code",
   "execution_count": null,
   "metadata": {},
   "outputs": [],
   "source": [
    "test = ds_lab_sea.where(ds_lab_sea_in.cumsum(dim='obs') < 1)\n",
    "ds_select = test.where(test.isel(obs=0).time == t[16]).dropna('traj', how='all')"
   ]
  },
  {
   "cell_type": "code",
   "execution_count": null,
   "metadata": {
    "slideshow": {
     "slide_type": "subslide"
    }
   },
   "outputs": [],
   "source": [
    "plotTracksCartopy(ds_select,cmap=co.cm.tempo_r,title='From Labrador Sea '+date,fig_path = project_path / figures_path, fileroot='Lab',date=date)"
   ]
  },
  {
   "cell_type": "markdown",
   "metadata": {
    "slideshow": {
     "slide_type": "slide"
    }
   },
   "source": [
    "### Particles reaching OSNAP section, 20-30W 0-500 m depth, from Gulf Stream.\n",
    "\n",
    "This shows with fewer of the 2017 particles reaching the OSNAP line from the Gulf Stream (tested crossing 33N) than 2006 particles.\n",
    "\n",
    "I think this supports the ideas of Bryden et al (2020?), with cooling/freshening in eastern subpolar gyre following reduced surface heat/salt transport northwards from Gulf Stream to subpolar N Atlantic."
   ]
  },
  {
   "cell_type": "code",
   "execution_count": null,
   "metadata": {},
   "outputs": [],
   "source": [
    "date = str(t[4].astype('datetime64[D]'))\n",
    "display(date)"
   ]
  },
  {
   "cell_type": "code",
   "execution_count": null,
   "metadata": {},
   "outputs": [],
   "source": [
    "test = ds_60w.where(ds_60w_in.cumsum(dim='obs') < 1)\n",
    "ds_select = test.where(test.isel(obs=0).time == t[4]).dropna('traj', how='all')"
   ]
  },
  {
   "cell_type": "code",
   "execution_count": null,
   "metadata": {
    "slideshow": {
     "slide_type": "subslide"
    }
   },
   "outputs": [],
   "source": [
    "plotTracksCartopy(ds_select,cmap=co.cm.tempo_r,title='From Gulf Stream '+date,fig_path = project_path / figures_path, fileroot='GS',date=date)"
   ]
  },
  {
   "cell_type": "code",
   "execution_count": null,
   "metadata": {},
   "outputs": [],
   "source": [
    "date = str(t[16].astype('datetime64[D]'))\n",
    "display(date)"
   ]
  },
  {
   "cell_type": "code",
   "execution_count": null,
   "metadata": {},
   "outputs": [],
   "source": [
    "test = ds_60w.where(ds_60w_in.cumsum(dim='obs') < 1)\n",
    "ds_select = test.where(test.isel(obs=0).time == t[16]).dropna('traj', how='all')"
   ]
  },
  {
   "cell_type": "code",
   "execution_count": null,
   "metadata": {
    "slideshow": {
     "slide_type": "subslide"
    }
   },
   "outputs": [],
   "source": [
    "plotTracksCartopy(ds_select,cmap=co.cm.tempo_r,title='From Gulf Stream '+date,fig_path = project_path / figures_path, fileroot='GS',date=date)"
   ]
  },
  {
   "cell_type": "markdown",
   "metadata": {
    "slideshow": {
     "slide_type": "slide"
    }
   },
   "source": [
    "### Other particles reaching OSNAP section, 20-30W 0-500 m depth.\n",
    "\n",
    "However, there are a lot of particles for which running backwards for 4 years isn't long enough to determine whether they came from the Labrador Sea or the Gulf Stream, as they spent the whole of that time in the N Atlantic (N of 33N, not in Labrador Sea)."
   ]
  },
  {
   "cell_type": "code",
   "execution_count": null,
   "metadata": {},
   "outputs": [],
   "source": [
    "date = str(t[4].astype('datetime64[D]'))\n",
    "display(date)"
   ]
  },
  {
   "cell_type": "code",
   "execution_count": null,
   "metadata": {},
   "outputs": [],
   "source": [
    "ds_select = ds_other.where(ds_other.isel(obs=0).time == t[4]).dropna('traj', how='all')"
   ]
  },
  {
   "cell_type": "code",
   "execution_count": null,
   "metadata": {
    "slideshow": {
     "slide_type": "subslide"
    }
   },
   "outputs": [],
   "source": [
    "plotTracksCartopy(ds_select,cmap=co.cm.tempo_r,title='From other '+date,fig_path = project_path / figures_path, fileroot='Other',date=date)"
   ]
  },
  {
   "cell_type": "code",
   "execution_count": null,
   "metadata": {},
   "outputs": [],
   "source": [
    "date = str(t[16].astype('datetime64[D]'))\n",
    "display(date)"
   ]
  },
  {
   "cell_type": "code",
   "execution_count": null,
   "metadata": {},
   "outputs": [],
   "source": [
    "ds_select = ds_other.where(ds_other.isel(obs=0).time == t[16]).dropna('traj', how='all')"
   ]
  },
  {
   "cell_type": "code",
   "execution_count": null,
   "metadata": {
    "slideshow": {
     "slide_type": "subslide"
    }
   },
   "outputs": [],
   "source": [
    "plotTracksCartopy(ds_select,cmap=co.cm.tempo_r,title='From other '+date,fig_path = project_path / figures_path, fileroot='Other',date=date)"
   ]
  },
  {
   "cell_type": "code",
   "execution_count": null,
   "metadata": {
    "slideshow": {
     "slide_type": "skip"
    }
   },
   "outputs": [],
   "source": [
    "# conda list"
   ]
  },
  {
   "cell_type": "code",
   "execution_count": null,
   "metadata": {
    "slideshow": {
     "slide_type": "skip"
    }
   },
   "outputs": [],
   "source": []
  },
  {
   "cell_type": "code",
   "execution_count": null,
   "metadata": {
    "slideshow": {
     "slide_type": "skip"
    }
   },
   "outputs": [],
   "source": []
  },
  {
   "cell_type": "code",
   "execution_count": null,
   "metadata": {
    "slideshow": {
     "slide_type": "skip"
    }
   },
   "outputs": [],
   "source": []
  }
 ],
 "metadata": {
  "celltoolbar": "Slideshow",
  "kernelspec": {
   "display_name": "py3lagrangeSeawater",
   "language": "python",
   "name": "py3lagrangeseawater"
  },
  "language_info": {
   "codemirror_mode": {
    "name": "ipython",
    "version": 3
   },
   "file_extension": ".py",
   "mimetype": "text/x-python",
   "name": "python",
   "nbconvert_exporter": "python",
   "pygments_lexer": "ipython3",
   "version": "3.8.3"
  }
 },
 "nbformat": 4,
 "nbformat_minor": 4
}
