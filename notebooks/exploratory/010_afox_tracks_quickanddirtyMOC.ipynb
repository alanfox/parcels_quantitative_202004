{
 "cells": [
  {
   "cell_type": "markdown",
   "metadata": {
    "slideshow": {
     "slide_type": "slide"
    }
   },
   "source": [
    "# Quick and dirty MOC\n",
    "\n",
    "## part of a project to quantify transports across the Greenland-Scotland section by source and destination\n",
    "\n",
    "- using output from Ocean Parcels, but just the initial particle properties\n",
    "- random positioned particles with T,S and velocity components\n",
    "- using these to diagnose transports by density and velocity bin"
   ]
  },
  {
   "cell_type": "markdown",
   "metadata": {
    "slideshow": {
     "slide_type": "skip"
    }
   },
   "source": [
    "## technical preamble"
   ]
  },
  {
   "cell_type": "code",
   "execution_count": null,
   "metadata": {
    "slideshow": {
     "slide_type": "skip"
    }
   },
   "outputs": [],
   "source": [
    "%matplotlib inline"
   ]
  },
  {
   "cell_type": "code",
   "execution_count": null,
   "metadata": {
    "slideshow": {
     "slide_type": "skip"
    }
   },
   "outputs": [],
   "source": [
    "\n",
    "\n",
    "from pathlib import Path\n",
    "import numpy as np\n",
    "import xarray as xr\n",
    "from datetime import datetime, timedelta\n",
    "import seaborn as sns\n",
    "import cmocean as co\n",
    "import matplotlib.pyplot as plt\n",
    "import matplotlib.dates as mdates\n",
    "import seawater as sw\n",
    "from matplotlib import rcParams\n",
    "rcParams['mathtext.default'] = 'regular'\n",
    "np.warnings.filterwarnings('ignore')\n"
   ]
  },
  {
   "cell_type": "markdown",
   "metadata": {
    "slideshow": {
     "slide_type": "skip"
    }
   },
   "source": [
    "## input file parameters"
   ]
  },
  {
   "cell_type": "code",
   "execution_count": null,
   "metadata": {
    "slideshow": {
     "slide_type": "skip"
    }
   },
   "outputs": [],
   "source": [
    "def set_file_names(year,mon):\n",
    "    \n",
    "    year_str = str(year)\n",
    "    mon_str = str(mon).zfill(2)\n",
    "\n",
    "    path_data_tracks = {}\n",
    "    filename = {}\n",
    "\n",
    "    # Project path\n",
    "    project_path = Path.cwd() / '..' / '..' \n",
    "    project_path = project_path.resolve()\n",
    "\n",
    "    # Faroe-Shetland\n",
    "    path_data_tracks['FS'] = Path('data/processed/tracks/FaroeShetland/') \n",
    "    filename['FS'] = 'tracks_FS_backward_'+year_str+mon_str+'_N4000_D20_Rnd123.nc'\n",
    "    # Iceland-Faroe\n",
    "    path_data_tracks['IF'] = Path('data/processed/tracks/IcelandFaroe/') \n",
    "    filename['IF'] = 'tracks_IF_backward_'+year_str+mon_str+'_N4000_D20_Rnd123.nc'\n",
    "    # Greenland-Iceland\n",
    "    path_data_tracks['GI'] = Path('data/processed/tracks/GreenlandIceland/') \n",
    "    filename['GI'] = 'tracks_GI_backward_'+year_str+mon_str+'_N4000_D20_Rnd123.nc'\n",
    "    \n",
    "    return project_path,path_data_tracks,filename\n"
   ]
  },
  {
   "cell_type": "markdown",
   "metadata": {},
   "source": [
    "## velocity conversion parameters"
   ]
  },
  {
   "cell_type": "code",
   "execution_count": null,
   "metadata": {
    "slideshow": {
     "slide_type": "skip"
    }
   },
   "outputs": [],
   "source": [
    "def velocity_conversion_params():\n",
    "    lat2metres = {}\n",
    "    lon2metres = {}\n",
    "\n",
    "    sealandratio = {}\n",
    "    sectionAreaEW = {}\n",
    "    sectionAreaNS = {}\n",
    "    sectionArea = {}\n",
    "    sectionAngle = {}\n",
    "\n",
    "    #velocity conversions on FS channel (61N)\n",
    "\n",
    "    lat2metres['FS'] = 60.0*1852.0\n",
    "    lon2metres['FS'] = 60.0*1852.0*np.cos(np.radians(61.0))\n",
    "\n",
    "    sealandratio['FS'] = 5591.0/20000.0\n",
    "    sectionAreaEW['FS'] = 5.7 * 1500.0 * sealandratio['FS'] * lon2metres['FS']  # very approx. mean depth x length between slopes.\n",
    "    sectionAreaNS['FS'] = 1.87 * 1500.0 * sealandratio['FS'] * lat2metres['FS']\n",
    "    sectionArea['FS'] = np.sqrt(sectionAreaEW['FS']**2 + sectionAreaNS['FS']**2)\n",
    "    sectionAngle['FS'] = np.arctan2(1.87 * lat2metres['FS'], 5.7 * lon2metres['FS'])\n",
    "\n",
    "\n",
    "    #velocity conversions on IFR (63.5N)\n",
    "\n",
    "    lat2metres['IF'] = 60.0*1852.0\n",
    "    lon2metres['IF'] = 60.0*1852.0*np.cos(np.radians(63.5))\n",
    "\n",
    "    sealandratio['IF'] = 9308.0/20000.0\n",
    "    sectionAreaEW['IF'] = 7.0 * 700.0 * sealandratio['IF'] * lon2metres['IF']  # very approx. mean depth x length between slopes.\n",
    "    sectionAreaNS['IF'] = 2.8 * 700.0 * sealandratio['IF'] * lat2metres['IF']\n",
    "    sectionArea['IF'] = np.sqrt(sectionAreaEW['IF']**2 + sectionAreaNS['IF']**2)\n",
    "    sectionAngle['IF'] = np.arctan2(1.87 * lat2metres['IF'], 5.7 * lon2metres['IF'])\n",
    "\n",
    "\n",
    "\n",
    "    #velocity conversions on GI (67.3N)\n",
    "    lat2metres['GI'] = 60.0*1852.0\n",
    "    lon2metres['GI'] = 60.0*1852.0*np.cos(np.radians(67.3))\n",
    "\n",
    "    sealandratio['GI'] = 2420.0/10000.0\n",
    "    sectionAreaEW['GI'] = 5.73 * 1500.0 * sealandratio['GI'] * lon2metres['GI']  # very approx. mean depth x length between slopes.\n",
    "    sectionAreaNS['GI'] = 2.94 * 1500.0 * sealandratio['GI'] * lat2metres['GI']\n",
    "    sectionArea['GI'] = np.sqrt(sectionAreaEW['GI']**2 + sectionAreaNS['GI']**2)\n",
    "    sectionAngle['GI'] = np.arctan2(1.87 * lat2metres['GI'], 5.7 * lon2metres['GI'])\n",
    "    \n",
    "    return     lat2metres, lon2metres,sealandratio,sectionAreaEW,sectionAreaNS,sectionArea,sectionAngle\n",
    "\n",
    "lat2metres, lon2metres,sealandratio,sectionAreaEW,sectionAreaNS,sectionArea,sectionAngle = velocity_conversion_params()"
   ]
  },
  {
   "cell_type": "markdown",
   "metadata": {},
   "source": [
    "## helper functions"
   ]
  },
  {
   "cell_type": "code",
   "execution_count": null,
   "metadata": {},
   "outputs": [],
   "source": [
    "def transports(dsb, nParticles,section):\n",
    "    transport = (sectionAreaEW[section]*dsb.isel(obs=0).vvel*lat2metres[section] +\n",
    "                            sectionAreaNS[section]*dsb.isel(obs=0).uvel*lon2metres[section])/nParticles\n",
    "    speed = np.sqrt((dsb.isel(obs=0).vvel*lat2metres[section])**2 + (dsb.isel(obs=0).uvel*lon2metres[section])**2)\n",
    "    return transport,speed\n",
    "\n",
    "def normalVelocitiesT0(dsb, angle,section):\n",
    "    return dsb.isel(obs=0).vvel*lat2metres[section]*np.cos(angle) + dsb.isel(obs=0).uvel*lon2metres[section]*np.sin(angle)"
   ]
  },
  {
   "cell_type": "code",
   "execution_count": null,
   "metadata": {},
   "outputs": [],
   "source": [
    "fig,ax = plt.subplots(3,2,figsize=(10,14))\n",
    "\n",
    "plt.setp(ax, xlim=(-7,7), ylim=(28.1,26))\n",
    "# Hide x labels and tick labels for top plots and y ticks for right plots.\n",
    "for ii,month in enumerate([3,5,7,8,10,12]):\n",
    "# for ii,month in enumerate([3]):\n",
    "    \n",
    "    irow = ii // 2\n",
    "    icol = ii % 2\n",
    "\n",
    "    project_path,path_data_tracks,filename = set_file_names(2014,month)\n",
    "\n",
    "    ### read in track data\n",
    "\n",
    "    dsfs = xr.open_dataset(project_path / path_data_tracks['FS'] / filename['FS'])\n",
    "    dsfs.temp.attrs['standard_name'] = 'potential temperature'\n",
    "    dsfs.temp.attrs['units'] = 'degree_C'\n",
    "    dsfs.salt.attrs['standard_name'] = 'practical salinity'\n",
    "    dsfs.salt.attrs['units'] = 'PSU'\n",
    "    dsif = xr.open_dataset(project_path / path_data_tracks['IF'] / filename['IF'])\n",
    "    dsif.temp.attrs['standard_name'] = 'potential temperature'\n",
    "    dsif.temp.attrs['units'] = 'degree_C'\n",
    "    dsif.salt.attrs['standard_name'] = 'practical salinity'\n",
    "    dsif.salt.attrs['units'] = 'PSU'\n",
    "    dsgi = xr.open_dataset(project_path / path_data_tracks['GI'] / filename['GI'])\n",
    "    dsgi.temp.attrs['standard_name'] = 'potential temperature'\n",
    "    dsgi.temp.attrs['units'] = 'degree_C'\n",
    "    dsgi.salt.attrs['standard_name'] = 'practical salinity'\n",
    "    dsgi.salt.attrs['units'] = 'PSU'\n",
    "\n",
    "\n",
    "    ## Calculate some basic parameters from data for later\n",
    "\n",
    "    nParticles = {}\n",
    "    nobsb = {}\n",
    "\n",
    "    nParticles['FS'] = dsif.sizes['traj']\n",
    "    nobsb['FS'] = dsif.sizes['obs']\n",
    "    nParticles['IF'] = dsif.sizes['traj']\n",
    "    nobsb['IF'] = dsif.sizes['obs']\n",
    "    nParticles['GI'] = dsif.sizes['traj']\n",
    "    nobsb['GI'] = dsif.sizes['obs']\n",
    "\n",
    "    # calculate initial transports\n",
    "\n",
    "    particle_transport_fs,speed0_fs = transports(dsfs,nParticles['FS'],'FS')\n",
    "    normal_velocity_fs = normalVelocitiesT0(dsfs,sectionAngle['FS'],'FS')\n",
    "    particle_transport_if,speed0_if = transports(dsif,nParticles['IF'],'IF')\n",
    "    normal_velocity_if = normalVelocitiesT0(dsif,sectionAngle['IF'],'IF')\n",
    "    particle_transport_gi,speed0_gi = transports(dsgi,nParticles['GI'],'GI')\n",
    "    normal_velocity_gi = normalVelocitiesT0(dsgi,sectionAngle['GI'],'GI')\n",
    "\n",
    "\n",
    "    ## calculate potential densities of particles at T0\n",
    "\n",
    "    # there are neater ways to do this with xarray if the datasets are large\n",
    "\n",
    "    S_fs = dsfs.isel(obs=0).salt\n",
    "    T_fs = dsfs.isel(obs=0).temp\n",
    "    sig0_fs = sw.pden(S_fs,T_fs,0.0,0.0)\n",
    "    sig0_fs -= 1000.0\n",
    "\n",
    "    S_if = dsif.isel(obs=0).salt\n",
    "    T_if = dsif.isel(obs=0).temp\n",
    "    sig0_if = sw.pden(S_if,T_if,0.0,0.0)\n",
    "    sig0_if -= 1000.0\n",
    "\n",
    "    S_gi = dsgi.isel(obs=0).salt\n",
    "    T_gi = dsgi.isel(obs=0).temp\n",
    "    sig0_gi = sw.pden(S_gi,T_gi,0.0,0.0)\n",
    "    sig0_gi -= 1000.0\n",
    "\n",
    "\n",
    "    ## construct density vs. velocity transport matrix\n",
    "\n",
    "\n",
    "    transportGrid_fs = np.zeros((260,200))\n",
    "    transportGrid_if = np.zeros((260,200))\n",
    "    transportGrid_gi = np.zeros((260,200))\n",
    "\n",
    "    x = np.arange(25.5,28.1001,0.01)\n",
    "    y = np.arange(-1.0,1.0001,0.01)\n",
    "    x1 = np.arange(25.5,28.0999,0.01)\n",
    "\n",
    "    xc=np.arange(25.505,28.100,0.01)\n",
    "    yc = np.arange(-0.995,1.000,0.01)\n",
    "\n",
    "\n",
    "    for i in range(nParticles['FS']):\n",
    "        transportGrid_fs[np.floor((sig0_fs[i]-25.5)*100.0).astype(int),np.floor((normal_velocity_fs[i]+1.0)*100.0).astype(int)] += particle_transport_fs[i]/1.0e06\n",
    "    for i in range(nParticles['IF']):\n",
    "        transportGrid_if[np.floor((sig0_if[i]-25.5)*100.0).astype(int),np.floor((normal_velocity_if[i]+1.0)*100.0).astype(int)] += particle_transport_if[i]/1.0e06\n",
    "    for i in range(nParticles['GI']):\n",
    "        transportGrid_gi[np.floor((sig0_gi[i]-25.5)*100.0).astype(int),np.floor((normal_velocity_gi[i]+1.0)*100.0).astype(int)] += particle_transport_gi[i]/1.0e06\n",
    "\n",
    "\n",
    "    tGxr_fs = xr.DataArray(data=transportGrid_fs,coords={'sig0':xc,'velocity':yc},dims=['sig0','velocity'],name='Transport')\n",
    "\n",
    "    tGxr_fs.attrs['units'] = r\"Sv\"\n",
    "    tGxr_fs.sig0.attrs['units'] = r\"$kg\\ m^{-3}$\"\n",
    "    tGxr_fs.velocity.attrs['units'] = r\"$m\\ s^{-1}$\"\n",
    "\n",
    "    tGxr_if = xr.DataArray(data=transportGrid_if,coords={'sig0':xc,'velocity':yc},dims=['sig0','velocity'],name='Transport')\n",
    "\n",
    "    tGxr_if.attrs['units'] = r\"Sv\"\n",
    "    tGxr_if.sig0.attrs['units'] = r\"$kg\\ m^{-3}$\"\n",
    "    tGxr_if.velocity.attrs['units'] = r\"$m\\ s^{-1}$\"\n",
    "\n",
    "    tGxr_gi = xr.DataArray(data=transportGrid_gi,coords={'sig0':xc,'velocity':yc},dims=['sig0','velocity'],name='Transport')\n",
    "\n",
    "    tGxr_gi.attrs['units'] = r\"Sv\"\n",
    "    tGxr_gi.sig0.attrs['units'] = r\"$kg\\ m^{-3}$\"\n",
    "    tGxr_gi.velocity.attrs['units'] = r\"$m\\ s^{-1}$\"\n",
    "\n",
    "\n",
    "    ## contruct MOC plot\n",
    "\n",
    "    tGxr = tGxr_fs + tGxr_if + tGxr_gi\n",
    "    tGxr.attrs['units'] = r\"Sv\"\n",
    "\n",
    "    tGxrcumsum_fs = tGxr_fs.where(tGxr_fs != 0.0).sum(dim='velocity').cumsum()\n",
    "    tGxrcumsum_fs.attrs['units']=r\"Sv\"\n",
    "    tGxrcumsum_fs.name=r\"Cumulative Transport from low-high density\"\n",
    "\n",
    "    tGxrcumsum_if = tGxr_if.where(tGxr_if != 0.0).sum(dim='velocity').cumsum()\n",
    "    tGxrcumsum_if.attrs['units']=r\"Sv\"\n",
    "    tGxrcumsum_if.name=r\"Cumulative Transport from low-high density\"\n",
    "\n",
    "    tGxrcumsum_gi = tGxr_gi.where(tGxr_gi != 0.0).sum(dim='velocity').cumsum()\n",
    "    tGxrcumsum_gi.attrs['units']=r\"Sv\"\n",
    "    tGxrcumsum_gi.name=r\"Cumulative Transport from low-high density\"\n",
    "\n",
    "    tGxrcumsum = tGxr.where(tGxr != 0.0).sum(dim='velocity').cumsum()\n",
    "    tGxrcumsum.attrs['units']=r\"Sv\"\n",
    "    tGxrcumsum.name=r\"Cumulative Transport from low-high density\"\n",
    "\n",
    "    tGxrcumsum_fs.plot(y='sig0',label='FS',ax=ax[irow,icol])\n",
    "    tGxrcumsum_if.plot(y='sig0',label='IF',ax=ax[irow,icol])\n",
    "    tGxrcumsum_gi.plot(y='sig0',label='GI',ax=ax[irow,icol])\n",
    "    tGxrcumsum.plot(y='sig0',label='Total',ax=ax[irow,icol])\n",
    "\n",
    "    ax[irow,icol].legend()\n",
    "#    ax[irow,icol].set_ylim((28.1,26.0))\n",
    "#    ax[irow,icol].set_ylim((-7,7))\n",
    "\n",
    "plt.tight_layout()\n",
    "    "
   ]
  },
  {
   "cell_type": "code",
   "execution_count": null,
   "metadata": {},
   "outputs": [],
   "source": []
  },
  {
   "cell_type": "code",
   "execution_count": null,
   "metadata": {},
   "outputs": [],
   "source": []
  }
 ],
 "metadata": {
  "celltoolbar": "Slideshow",
  "kernelspec": {
   "display_name": "py3lagrangeSeawater",
   "language": "python",
   "name": "py3lagrangeseawater"
  },
  "language_info": {
   "codemirror_mode": {
    "name": "ipython",
    "version": 3
   },
   "file_extension": ".py",
   "mimetype": "text/x-python",
   "name": "python",
   "nbconvert_exporter": "python",
   "pygments_lexer": "ipython3",
   "version": "3.8.2"
  }
 },
 "nbformat": 4,
 "nbformat_minor": 4
}
