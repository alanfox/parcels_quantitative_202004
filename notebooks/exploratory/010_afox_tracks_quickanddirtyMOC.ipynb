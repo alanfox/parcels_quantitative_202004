{
 "cells": [
  {
   "cell_type": "markdown",
   "metadata": {
    "slideshow": {
     "slide_type": "slide"
    }
   },
   "source": [
    "# Quick and dirty MOC\n",
    "\n",
    "## part of a project to quantify transports across the Greenland-Scotland section by source and destination\n",
    "\n",
    "- using output from Ocean Parcels, but just the initial particle properties\n",
    "- random positioned particles with T,S and velocity components\n",
    "- using these to diagnose transports by density and velocity bin"
   ]
  },
  {
   "cell_type": "markdown",
   "metadata": {
    "slideshow": {
     "slide_type": "skip"
    }
   },
   "source": [
    "## technical preamble"
   ]
  },
  {
   "cell_type": "code",
   "execution_count": null,
   "metadata": {
    "slideshow": {
     "slide_type": "skip"
    }
   },
   "outputs": [],
   "source": [
    "%matplotlib inline"
   ]
  },
  {
   "cell_type": "code",
   "execution_count": null,
   "metadata": {
    "slideshow": {
     "slide_type": "skip"
    }
   },
   "outputs": [],
   "source": [
    "\n",
    "\n",
    "from pathlib import Path\n",
    "import numpy as np\n",
    "import xarray as xr\n",
    "from datetime import datetime, timedelta\n",
    "import seaborn as sns\n",
    "import cmocean as co\n",
    "import matplotlib.pyplot as plt\n",
    "import matplotlib.dates as mdates\n",
    "import seawater as sw\n",
    "np.warnings.filterwarnings('ignore')\n"
   ]
  },
  {
   "cell_type": "markdown",
   "metadata": {
    "slideshow": {
     "slide_type": "skip"
    }
   },
   "source": [
    "## parameters"
   ]
  },
  {
   "cell_type": "code",
   "execution_count": null,
   "metadata": {
    "slideshow": {
     "slide_type": "skip"
    }
   },
   "outputs": [],
   "source": [
    "# release time\n",
    "\n",
    "trelease = np.datetime64('2015-12-16T12:00')\n",
    "\n",
    "# Project path\n",
    "project_path = Path.cwd() / '..' / '..' \n",
    "project_path = project_path.resolve()\n",
    "\n",
    "# project_path = Path(\"C:/Users/sa05af/OneDrive - SAMS/Projects/parcels_quantitative_202004/\")\n",
    "\n",
    "# select section FS, IF, or GI\n",
    "\n",
    "section = 'FS'\n",
    "\n",
    "if section == 'FS':\n",
    "    \n",
    "    # Faroe-Shetland\n",
    "    path_data_tracks = Path('data/processed/tracks/FaroeShetland/') \n",
    "    filename = 'test_salinity_FS.nc'\n",
    "#     filenameb = 'tracks_parcels_FS_backwards_201512.nc'\n",
    "\n",
    "    #velocity conversions on FS channel (61N)\n",
    "\n",
    "    lat2metres = 60.0*1852.0\n",
    "    lon2metres = 60.0*1852.0*np.cos(np.radians(61.0))\n",
    "\n",
    "    sealandratio = 5591.0/20000.0\n",
    "    sectionAreaEW = 5.7 * 1500.0 * sealandratio * lon2metres  # very approx. mean depth x length between slopes.\n",
    "    sectionAreaNS = 1.87 * 1500.0 * sealandratio * lat2metres\n",
    "    sectionArea = np.sqrt(sectionAreaEW**2 + sectionAreaNS**2)\n",
    "    sectionAngle = np.arctan2(1.87 * lat2metres, 5.7 * lon2metres)\n",
    "    \n",
    "# elif section == 'IF':\n",
    "    \n",
    "#     # Iceland-Faroe\n",
    "#     path_data_tracks = Path('data/processed/tracks/IcelandFaroe/') \n",
    "#     filename = 'tracks_parcels_IFR_forwards_201512.nc'\n",
    "#     filenameb = 'tracks_parcels_IFR_backwards_201512.nc'\n",
    "\n",
    "#     #velocity conversions on IFR (63.5N)\n",
    "\n",
    "#     lat2metres = 60.0*1852.0\n",
    "#     lon2metres = 60.0*1852.0*np.cos(np.radians(63.5))\n",
    "\n",
    "#     sealandratio = 9308.0/20000.0\n",
    "#     sectionAreaEW = 7.0 * 700.0 * sealandratio * lon2metres  # very approx. mean depth x length between slopes.\n",
    "#     sectionAreaNS = 2.8 * 700.0 * sealandratio * lat2metres\n",
    "    \n",
    "# else:\n",
    "\n",
    "#     # Greenland-Iceland\n",
    "#     path_data_tracks = Path('data/processed/tracks/GreenlandIceland/') \n",
    "#     filename = 'tracks_parcels_GI_forwards_201512.nc'\n",
    "#     filenameb = 'tracks_parcels_GI_backwards_201512.nc'\n",
    "\n",
    "#     #velocity conversions on GI (67.3N)\n",
    "#     lat2metres = 60.0*1852.0\n",
    "#     lon2metres = 60.0*1852.0*np.cos(np.radians(67.3))\n",
    "\n",
    "#     sealandratio = 2420.0/10000.0\n",
    "#     sectionAreaEW = 5.73 * 1500.0 * sealandratio * lon2metres  # very approx. mean depth x length between slopes.\n",
    "#     sectionAreaNS = 2.94 * 1500.0 * sealandratio * lat2metres\n",
    "\n",
    "\n",
    "\n",
    "# model mask file\n",
    "data_path = Path(\"data/external/iAtlantic/\")\n",
    "experiment_name = \"VIKING20X.L46-KKG36107B\"\n",
    "mesh_mask_file = project_path / data_path / \"mask\" / experiment_name / \"1_mesh_mask.nc\"\n"
   ]
  },
  {
   "cell_type": "markdown",
   "metadata": {},
   "source": [
    "## helper functions"
   ]
  },
  {
   "cell_type": "code",
   "execution_count": null,
   "metadata": {},
   "outputs": [],
   "source": [
    "def transports(dsb, nParticles):\n",
    "    transport = (sectionAreaEW*dsb.isel(obs=0).vvel*lat2metres +\n",
    "                            sectionAreaNS*dsb.isel(obs=0).uvel*lon2metres)/nParticles\n",
    "    speed = np.sqrt((dsb.isel(obs=0).vvel*lat2metres)**2 + (dsb.isel(obs=0).uvel*lon2metres)**2)\n",
    "    return transport,speed\n",
    "\n",
    "def normalVelocitiesT0(dsb, angle):\n",
    "    return dsb.isel(obs=0).vvel*lat2metres*np.cos(angle) + dsb.isel(obs=0).uvel*lon2metres*np.sin(angle)"
   ]
  },
  {
   "cell_type": "markdown",
   "metadata": {
    "slideshow": {
     "slide_type": "skip"
    }
   },
   "source": [
    "### read in track data"
   ]
  },
  {
   "cell_type": "code",
   "execution_count": null,
   "metadata": {
    "slideshow": {
     "slide_type": "fragment"
    }
   },
   "outputs": [],
   "source": [
    "ds = xr.open_dataset(project_path / path_data_tracks / filename)\n",
    "ds.temp.attrs['standard_name'] = 'potential temperature'\n",
    "ds.temp.attrs['units'] = 'degree_C'\n",
    "ds.salt.attrs['standard_name'] = 'practical salinity'\n",
    "ds.salt.attrs['units'] = 'PSU'\n",
    "# dsb = xr.open_dataset(project_path / path_data_tracks / filenameb)\n",
    "# dsb.temp.attrs['standard_name'] = 'temperature'\n",
    "# dsb.temp.attrs['units'] = 'degree_C'\n",
    "\n",
    "# ds_full = xr.concat([dsb,ds],dim='obs')\n",
    "\n",
    "display(ds)\n"
   ]
  },
  {
   "cell_type": "markdown",
   "metadata": {
    "slideshow": {
     "slide_type": "skip"
    }
   },
   "source": [
    "## Calculate some basic parameters from data for later"
   ]
  },
  {
   "cell_type": "code",
   "execution_count": null,
   "metadata": {
    "slideshow": {
     "slide_type": "skip"
    }
   },
   "outputs": [],
   "source": [
    "nParticles = ds.sizes['traj']\n",
    "nobsb = ds.sizes['obs']\n",
    "\n",
    "# calculate initial transports\n",
    "\n",
    "particle_transport,speed0 = transports(ds,nParticles)\n",
    "normal_velocity = normalVelocitiesT0(ds,sectionAngle)\n",
    "sizes = np.abs(particle_transport)/400.0\n"
   ]
  },
  {
   "cell_type": "code",
   "execution_count": null,
   "metadata": {},
   "outputs": [],
   "source": [
    "display(normal_velocity*sectionArea/nParticles)\n",
    "display(particle_transport)\n"
   ]
  },
  {
   "cell_type": "markdown",
   "metadata": {},
   "source": [
    "## calculate potential densities of particles at T0"
   ]
  },
  {
   "cell_type": "code",
   "execution_count": null,
   "metadata": {},
   "outputs": [],
   "source": [
    "# there are neater ways to do this with xarray if the datasets are large\n",
    "\n",
    "S = ds.isel(obs=0).salt\n",
    "T = ds.isel(obs=0).temp\n",
    "sig0 = sw.pden(S,T,0.0,0.0)\n",
    "sig0 -= 1000.0\n",
    "\n",
    "\n"
   ]
  },
  {
   "cell_type": "code",
   "execution_count": null,
   "metadata": {},
   "outputs": [],
   "source": [
    "display(S)\n",
    "display(T)\n",
    "display(sig0)"
   ]
  },
  {
   "cell_type": "markdown",
   "metadata": {},
   "source": [
    "## construct density vs. velocity transport matrix\n"
   ]
  },
  {
   "cell_type": "code",
   "execution_count": null,
   "metadata": {},
   "outputs": [],
   "source": [
    "np.floor(-35.9)"
   ]
  },
  {
   "cell_type": "code",
   "execution_count": null,
   "metadata": {},
   "outputs": [],
   "source": [
    "transportGrid = np.zeros((110,200))\n",
    "\n",
    "x = np.arange(27.0,28.1001,0.01)\n",
    "y = np.arange(-1.0,1.0001,0.01)\n",
    "x1 = np.arange(27.0,28.0999,0.01)\n",
    "\n",
    "xc=np.arange(27.005,28.100,0.01)\n",
    "yc = np.arange(-0.995,1.000,0.01)\n"
   ]
  },
  {
   "cell_type": "code",
   "execution_count": null,
   "metadata": {},
   "outputs": [],
   "source": [
    "for i in range(nParticles):\n",
    "    transportGrid[np.floor((sig0[i]-27.0)*100.0).astype(int),np.floor((normal_velocity[i]+1.0)*100.0).astype(int)] += particle_transport[i]/1.0e06"
   ]
  },
  {
   "cell_type": "code",
   "execution_count": null,
   "metadata": {},
   "outputs": [],
   "source": [
    "    \n",
    "tGxr = xr.DataArray(data=transportGrid,coords={'sig0':xc,'velocity':yc},dims=['sig0','velocity'],name='Transport')\n",
    "\n",
    "tGxr.attrs['units'] = r\"Sv\"\n",
    "tGxr.sig0.attrs['units'] = r\"$kg\\ m^{-3}$\"\n",
    "tGxr.velocity.attrs['units'] = r\"$m\\ s^{-1}$\"\n",
    "   "
   ]
  },
  {
   "cell_type": "code",
   "execution_count": null,
   "metadata": {},
   "outputs": [],
   "source": [
    "display(tGxr)"
   ]
  },
  {
   "cell_type": "code",
   "execution_count": null,
   "metadata": {},
   "outputs": [],
   "source": [
    "transportGridSum = transportGrid.sum(axis=1)"
   ]
  },
  {
   "cell_type": "code",
   "execution_count": null,
   "metadata": {},
   "outputs": [],
   "source": [
    "transportGrid[transportGrid==0.0] = 'NaN'"
   ]
  },
  {
   "cell_type": "markdown",
   "metadata": {},
   "source": [
    "## contruct 'histogram' plot"
   ]
  },
  {
   "cell_type": "code",
   "execution_count": null,
   "metadata": {},
   "outputs": [],
   "source": [
    "from matplotlib import rcParams\n",
    "rcParams['mathtext.default'] = 'regular'\n",
    "fig,ax = plt.subplots(figsize=(8,8))\n",
    "\n",
    "tGxr.T.where(tGxr != 0.0).plot(cmap=co.cm.balance)\n",
    "\n"
   ]
  },
  {
   "cell_type": "code",
   "execution_count": null,
   "metadata": {},
   "outputs": [],
   "source": [
    "fig,ax = plt.subplots(figsize=(8,8))\n",
    "\n",
    "tGxrcumsum = tGxr.where(tGxr != 0.0).sum(dim='velocity').cumsum()\n",
    "\n",
    "tGxrcumsum.attrs['units']=r\"Sv\"\n",
    "tGxrcumsum.name=r\"Cumulative Transport from low-high density\"\n",
    "\n",
    "tGxrcumsum.plot(y='sig0')\n",
    "\n",
    "ax.set_ylim((28.1,27.0));"
   ]
  },
  {
   "cell_type": "code",
   "execution_count": null,
   "metadata": {},
   "outputs": [],
   "source": []
  },
  {
   "cell_type": "code",
   "execution_count": null,
   "metadata": {},
   "outputs": [],
   "source": []
  }
 ],
 "metadata": {
  "celltoolbar": "Slideshow",
  "kernelspec": {
   "display_name": "py3lagrangeSeawater",
   "language": "python",
   "name": "py3lagrangeseawater"
  },
  "language_info": {
   "codemirror_mode": {
    "name": "ipython",
    "version": 3
   },
   "file_extension": ".py",
   "mimetype": "text/x-python",
   "name": "python",
   "nbconvert_exporter": "python",
   "pygments_lexer": "ipython3",
   "version": "3.8.2"
  }
 },
 "nbformat": 4,
 "nbformat_minor": 4
}
