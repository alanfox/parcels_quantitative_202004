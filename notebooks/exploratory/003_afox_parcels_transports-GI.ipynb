{
 "cells": [
  {
   "cell_type": "markdown",
   "metadata": {
    "slideshow": {
     "slide_type": "slide"
    }
   },
   "source": [
    "# Quantify transports between Greenland and Iceland by source and destination\n",
    "\n",
    "- Lagrangian particle tracking in VIKING20X model\n",
    "\n",
    "- Pilot test case for June 2016\n",
    "\n",
    "- Particles tracked backwards for 2 years (for sources) and forward for 6 months (for destinations)\n",
    "\n",
    "- Advection only\n",
    "\n",
    "- Transport calculations based on the idea of particle track representing a streamtube with constant along-tube transport everywhere"
   ]
  },
  {
   "cell_type": "markdown",
   "metadata": {
    "slideshow": {
     "slide_type": "subslide"
    }
   },
   "source": [
    "So, here we\n",
    "- load lagrangian trajectory data that has been written by OceanParcels from particle tracking in Viking20x model (currently using monthly mean fields for speed)\n",
    "    - particles tracked from a section across IFR\n",
    "    - random release points along section\n",
    "    - tracked forward for 6 months to id destinations\n",
    "    - tracked backwards for 2 years to id sources\n",
    "- plot sections\n",
    "- plot trajectories\n",
    "- subset trajectories based on source and destination\n",
    "- estimate transports\n",
    "\n",
    "Transports associated with different pathways are estimated by assuming that each particle crossing IFR has an associated volume transport, which it maintains throughout its life, given by the \n",
    "                velocity across the section * total cross-sectional area / number of particles\n",
    "So like a streamtube...    "
   ]
  },
  {
   "cell_type": "markdown",
   "metadata": {
    "slideshow": {
     "slide_type": "subslide"
    }
   },
   "source": [
    "## To do\n",
    "\n",
    "- calculate section area properly \n",
    "- explore sensitivity to particle numbers and random seed (i.e. do I have enough particles)\n",
    "- calculate true transport across section in model\n",
    "- not selecting ocean particles properly near bed - partial cells\n",
    "- fix time units on track plots"
   ]
  },
  {
   "cell_type": "markdown",
   "metadata": {
    "slideshow": {
     "slide_type": "skip"
    }
   },
   "source": [
    "## Technical preamble"
   ]
  },
  {
   "cell_type": "code",
   "execution_count": null,
   "metadata": {
    "slideshow": {
     "slide_type": "skip"
    }
   },
   "outputs": [],
   "source": [
    "%matplotlib inline\n",
    "\n",
    "import matplotlib.colors as colors\n",
    "import numpy as np\n",
    "from pathlib import Path\n",
    "import matplotlib.pyplot as plt\n",
    "import xarray as xr\n",
    "from datetime import datetime, timedelta\n",
    "import seaborn as sns\n",
    "from matplotlib.colors import ListedColormap\n",
    "import cmocean as co\n",
    "\n",
    "sns.set_palette(\"Paired\")"
   ]
  },
  {
   "cell_type": "markdown",
   "metadata": {
    "slideshow": {
     "slide_type": "skip"
    }
   },
   "source": [
    "## Parameters"
   ]
  },
  {
   "cell_type": "code",
   "execution_count": null,
   "metadata": {
    "slideshow": {
     "slide_type": "skip"
    }
   },
   "outputs": [],
   "source": [
    "# release time\n",
    "\n",
    "trelease = np.datetime64('2014-12-16T12:00')\n",
    "\n",
    "# Project path\n",
    "project_path = Path.cwd() / '..' / '..' \n",
    "project_path = project_path.resolve()\n",
    "\n",
    "# project_path = Path(\"C:/Users/sa05af/OneDrive - SAMS/Projects/parcels_quantitative_202004/\")\n",
    "\n",
    "# Parcels track data file\n",
    "path_data_tracks = Path('data/processed/tracks/GreenlandIceland/') \n",
    "filename = 'tracks_parcels_GI_forwards_201412.nc'\n",
    "filenameb = 'tracks_parcels_GI_backwards_201412.nc'\n",
    "\n",
    "# model mask file\n",
    "data_path = Path(\"data/external/iAtlantic/\")\n",
    "experiment_name = \"VIKING20X.L46-KKG36107B\"\n",
    "mesh_mask_file = project_path / data_path / \"mask\" / experiment_name / \"1_mesh_mask.nc\"\n",
    "\n",
    "#velocity conversions on GI section (67.3N)\n",
    "\n",
    "lat2metres = 60.0*1852.0\n",
    "lon2metres = 60.0*1852.0*np.cos(np.radians(67.3))\n",
    "\n",
    "sealandratio = 2420.0/10000.0\n",
    "sectionAreaEW = 5.73 * 1500.0 * sealandratio * lon2metres  # very approx. mean depth x length between slopes.\n",
    "sectionAreaNS = 2.94 * 1500.0 * sealandratio * lat2metres\n",
    "\n",
    "nParticles = 2000.0"
   ]
  },
  {
   "cell_type": "markdown",
   "metadata": {
    "slideshow": {
     "slide_type": "skip"
    }
   },
   "source": [
    "## Some helper and plotting functions"
   ]
  },
  {
   "cell_type": "code",
   "execution_count": null,
   "metadata": {
    "slideshow": {
     "slide_type": "skip"
    }
   },
   "outputs": [],
   "source": [
    "def plot_release():\n",
    "    plt.figure(figsize = (12,5))\n",
    "\n",
    "    plt.scatter(\n",
    "        ds.isel(obs=0).lon.data.flatten(),\n",
    "        ds.isel(obs=0).z.data.flatten(),\n",
    "        20,\n",
    "        ds.isel(obs=0).vvel.data.flatten()*lon2metres\n",
    "         , vmin = -.2, vmax = .2\n",
    "        ,cmap= co.cm.balance\n",
    "    #    ,alpha=0.3\n",
    "    )\n",
    "\n",
    "    plt.ylim(1500,0)\n",
    "\n",
    "    plt.colorbar(label = \"vvel [m/s]\")\n",
    "    plt.show()\n",
    "    return\n"
   ]
  },
  {
   "cell_type": "code",
   "execution_count": null,
   "metadata": {
    "slideshow": {
     "slide_type": "skip"
    }
   },
   "outputs": [],
   "source": [
    "def plot_tracks(x,y,z,title):\n",
    "    plt.figure(figsize = (15,9))\n",
    "\n",
    "    # plot tracks as scatter plots\n",
    "\n",
    "    plt.scatter(\n",
    "        x\n",
    "        ,y\n",
    "        ,3\n",
    "        ,z\n",
    "        ,vmin = tvmin, vmax = tvmax\n",
    "        ,cmap = co.cm.delta\n",
    "    #    ,alpha=0.3\n",
    "    )\n",
    "    plt.colorbar(label = \"time [stupid units. range 4 years, all cross IFR at 2 years]\");\n",
    "\n",
    "    # plot depth contours and land boundary from model bathymetry\n",
    "    depth.isel(y=slice(1700, 2499), x=slice(1000, 2404)).plot.contour(\n",
    "        x=\"nav_lon\", y=\"nav_lat\", colors = 'grey', levels = [200,800,1500,2000,2500,3500]\n",
    "    );\n",
    "    depth.isel(y=slice(1700, 2499), x=slice(1000, 2404)).plot.contour(\n",
    "        x=\"nav_lon\", y=\"nav_lat\", colors = 'k', levels = [1]\n",
    "    );\n",
    "    # plt.savefig('upstream.png')\n",
    "    plt.ylim(47.5,70)\n",
    "    plt.xlim(-50,10)\n",
    "    plt.title(title)\n",
    "    plt.show()\n",
    "    return"
   ]
  },
  {
   "cell_type": "code",
   "execution_count": null,
   "metadata": {
    "slideshow": {
     "slide_type": "skip"
    }
   },
   "outputs": [],
   "source": [
    "def plot_section():\n",
    "    plt.figure(figsize = (12,6))\n",
    "\n",
    "    plt.scatter(\n",
    "        ds.isel(obs=0).lon.data.flatten(),\n",
    "        ds.isel(obs=0).z.data.flatten(),\n",
    "        s = 20, color = 'k', label='from other, went other'\n",
    "    )\n",
    "    plt.scatter(\n",
    "        ds.isel(obs=0).where(ds_area.isel(obs=-1).T_East).lon.data.flatten(),\n",
    "        ds.isel(obs=0).where(ds_area.isel(obs=-1).T_East).z.data.flatten(),\n",
    "        s = 20, label='from other, went east'\n",
    "    )\n",
    "    plt.scatter(\n",
    "        ds.where(ds_area.isel(obs=-1).F_SIceland).where(ds_area.isel(obs=-1).T_East).isel(obs=0).lon.data.flatten(),\n",
    "        ds.where(ds_area.isel(obs=-1).F_SIceland).where(ds_area.isel(obs=-1).T_East).isel(obs=0).z.data.flatten(),\n",
    "        s = 20, label='from south, went east'\n",
    "    )\n",
    "    plt.scatter(\n",
    "        ds.where(ds_area.isel(obs=-1).F_SIceland).where(ds_area.isel(obs=-1).T_East).where(ds_area.isel(obs=-1).T_NorwSea).isel(obs=0).lon.data.flatten(),\n",
    "        ds.where(ds_area.isel(obs=-1).F_SIceland).where(ds_area.isel(obs=-1).T_East).where(ds_area.isel(obs=-1).T_NorwSea).isel(obs=0).z.data.flatten(),\n",
    "        s = 20, label='from south, went Norwegian Sea'\n",
    "    )\n",
    "    plt.scatter(\n",
    "        ds.where(ds_area.isel(obs=-1).F_SIceland).isel(obs=0).where(ds_area.isel(obs=-1).T_East).where(ds_area.isel(obs=-1).F_WRB).lon.data.flatten(),\n",
    "        ds.where(ds_area.isel(obs=-1).F_SIceland).isel(obs=0).where(ds_area.isel(obs=-1).T_East).where(ds_area.isel(obs=-1).F_WRB).z.data.flatten(),\n",
    "        s = 20, label='from WRB, went Norwegian Sea'\n",
    "    )\n",
    "    plt.scatter(\n",
    "        ds.where(ds_area.isel(obs=-1).T_SGreenland).isel(obs=0).lon.data.flatten(),\n",
    "        ds.where(ds_area.isel(obs=-1).T_SGreenland).isel(obs=0).z.data.flatten(),\n",
    "        s = 20, label='from other, went SGreenland'\n",
    "    )\n",
    "    plt.scatter(\n",
    "        ds.where(ds_area.isel(obs=-1).T_SGreenland).where(ds_area.isel(obs=-1).F_North).isel(obs=0).lon.data.flatten(),\n",
    "        ds.where(ds_area.isel(obs=-1).T_SGreenland).where(ds_area.isel(obs=-1).F_North).isel(obs=0).z.data.flatten(),\n",
    "        s = 20, label='from north, went SGreenland'\n",
    "    )\n",
    "    plt.scatter(\n",
    "        ds.where(ds_area.isel(obs=-1).T_SGreenland).where(ds_area.isel(obs=-1).F_SIceland).isel(obs=0).lon.data.flatten(),\n",
    "        ds.where(ds_area.isel(obs=-1).T_SGreenland).where(ds_area.isel(obs=-1).F_SIceland).isel(obs=0).z.data.flatten(),\n",
    "        s = 20, label='from south, went SGreenland'\n",
    "    )\n",
    "    plt.scatter(\n",
    "        ds.where(ds_area.isel(obs=-1).T_SGreenland).where(ds_area.isel(obs=-1).F_SIceland).where(ds_area.isel(obs=-1).T_SIceland).isel(obs=0).lon.data.flatten(),\n",
    "        ds.where(ds_area.isel(obs=-1).T_SGreenland).where(ds_area.isel(obs=-1).F_SIceland).where(ds_area.isel(obs=-1).T_SIceland).isel(obs=0).z.data.flatten(),\n",
    "        s = 20, label='from south, went SGreenland after circling Iceland'\n",
    "    )\n",
    "    plt.legend(ncol=2)\n",
    "\n",
    "    plt.ylim(1800,0)\n",
    "    \n",
    "    return"
   ]
  },
  {
   "cell_type": "code",
   "execution_count": null,
   "metadata": {
    "slideshow": {
     "slide_type": "skip"
    }
   },
   "outputs": [],
   "source": [
    "def apply_through_area(ds, min_lon, max_lon, min_lat, max_lat, min_time, max_time, criterion_name):\n",
    "    '''Apply an area crossing criterion.\n",
    "    \n",
    "    Larvae in ds selected if they pass through given area.\n",
    "    '''\n",
    "    # particles are selected if they pass through given area.\n",
    "    particle_out =  (\n",
    "                    (ds.lon > min_lon) * \n",
    "                    (ds.lon < max_lon) *\n",
    "                    (ds.lat > min_lat) * \n",
    "                    (ds.lat < max_lat) *\n",
    "                    (ds.time > min_time) *\n",
    "                    (ds.time < max_time)\n",
    "                    )\n",
    "                    \n",
    "#     particle_out = (ds.temp < max_lat)\n",
    "    \n",
    "\n",
    "    # last place in array determines if particle went through area  \n",
    "    is_thru = (particle_out.cumsum(\"obs\") != 0)\n",
    "    \n",
    "#     print(particle_out.max())\n",
    "    \n",
    "    # add data to original ds\n",
    "    ds[criterion_name] = is_thru\n",
    "    \n",
    "    return ds"
   ]
  },
  {
   "cell_type": "code",
   "execution_count": null,
   "metadata": {
    "slideshow": {
     "slide_type": "skip"
    }
   },
   "outputs": [],
   "source": [
    "def apply_left_of_line(ds, lon_1, lon_2, lat_1, lat_2, min_time, max_time, criterion_name):\n",
    "    '''Apply an area crossing criterion.\n",
    "    \n",
    "    Larvae in ds selected if they pass through given area.\n",
    "    '''\n",
    "    # particles are selected if they pass through given area.\n",
    "    particle_out =  ((((lon_2 -lon_1) * (ds.lat - lat_1) - \n",
    "                     (ds.lon - lon_1) * (lat_2 - lat_1))\n",
    "                     > 0.0) *\n",
    "                    (ds.time > min_time) *\n",
    "                    (ds.time < max_time))\n",
    "                    \n",
    "#     particle_out = (ds.temp < max_lat)\n",
    "    \n",
    "\n",
    "    # last place in array determines if particle went through area  \n",
    "    is_thru = (particle_out.cumsum(\"obs\") != 0)\n",
    "    \n",
    "#     print(particle_out.max())\n",
    "    \n",
    "    # add data to original ds\n",
    "    ds[criterion_name] = is_thru\n",
    "    \n",
    "    return ds"
   ]
  },
  {
   "cell_type": "code",
   "execution_count": null,
   "metadata": {
    "slideshow": {
     "slide_type": "skip"
    }
   },
   "outputs": [],
   "source": [
    "def mask_tracks_by_source_sink(ds_full,trelease):\n",
    "    # comes through Rockall Trough and W Scotland shelf\n",
    "    ds_area = apply_through_area(ds_full,-13.5,-6.5,57.25,57.75,\n",
    "                                 np.datetime64('2010-06-15'),trelease,\n",
    "                                 'F_RT_WSS')    \n",
    "    # comes northward west of Rockall Bank\n",
    "    ds_area = apply_through_area(ds_area,-60,-13.5,57.25,57.75,\n",
    "                                 np.datetime64('2010-06-15'),trelease,\n",
    "                                 'F_WRB')  \n",
    "    # comes from south of Iceland\n",
    "    ds_area = apply_through_area(ds_area,-23,-22,62.,64.,\n",
    "                                 np.datetime64('2010-06-15'),trelease,\n",
    "                                 'F_SIceland')  \n",
    "    # comes from north\n",
    "    ds_area = apply_through_area(ds_area,-30,-15,68.5,70.0,\n",
    "                                 np.datetime64('2010-06-15'),trelease,\n",
    "                                 'F_North')  \n",
    "    # goes round south of Iceland\n",
    "    ds_area = apply_through_area(ds_area,-23,-22,62.,64.,\n",
    "                                 trelease,np.datetime64('2020-06-16'),\n",
    "                                 'T_SIceland')  \n",
    "    # goes south along Greenland\n",
    "    ds_area = apply_through_area(ds_area,-32,-30,60.,70.,\n",
    "                                 trelease,np.datetime64('2020-06-16'),\n",
    "                                 'T_SGreenland')  \n",
    "    # goes east\n",
    "    ds_area = apply_left_of_line(ds_area,-13,-17,68,65,\n",
    "                                 trelease,np.datetime64('2020-06-15'),\n",
    "                                 'T_East')\n",
    "    # goes to arctic\n",
    "    ds_area = apply_left_of_line(ds_area,0,7,65,62,\n",
    "                                 trelease,np.datetime64('2020-06-15'),\n",
    "                                 'T_NorwSea')\n",
    "    # goes to north sea\n",
    "    ds_area = apply_left_of_line(ds_area,5.1,-1.23,62.3,60.3,\n",
    "                                 trelease,np.datetime64('2020-06-15'),\n",
    "                                 'T_NSea')\n",
    "    return ds_area"
   ]
  },
  {
   "cell_type": "code",
   "execution_count": null,
   "metadata": {
    "slideshow": {
     "slide_type": "skip"
    }
   },
   "outputs": [],
   "source": [
    "def transports():\n",
    "    NEwardsParticleTransport = (sectionAreaEW*dsb.isel(obs=0).vvel*lat2metres +\n",
    "                            sectionAreaNS*dsb.isel(obs=0).uvel*lon2metres)/nParticles\n",
    "    print('Total transport through Greenland-Iceland...............',\n",
    "          '{: .3f}'.format(NEwardsParticleTransport.sum().data/1.0e06),'  Sv')\n",
    "    print('...heads south along E Greenland........................',\n",
    "          '{: .3f}'.format(NEwardsParticleTransport.where(ds_area.isel(obs=-1).T_SGreenland).sum().data/1.0e06),'  Sv')\n",
    "    print('...from south to east...................................',\n",
    "          '{: .3f}'.format(NEwardsParticleTransport.where(ds_area.isel(obs=-1).F_SIceland).where(ds_area.isel(obs=-1).T_East).sum().data/1.0e06),'  Sv')\n",
    "    print('......of which to Norwegian Sea.........................',\n",
    "          '{: .3f}'.format(NEwardsParticleTransport.where(ds_area.isel(obs=-1).F_SIceland).where(ds_area.isel(obs=-1).T_East).where(ds_area.isel(obs=-1).T_NorwSea).sum().data/1.0e06),'  Sv')\n",
    "    print('.............of which.............from Rockall Trough...',\n",
    "          '{: .3f}'.format(NEwardsParticleTransport.where(ds_area.isel(obs=-1).F_SIceland).where(ds_area.isel(obs=-1).T_East).where(ds_area.isel(obs=-1).T_NorwSea).where(ds_area.isel(obs=-1).F_RT_WSS).sum().data/1.0e06),'  Sv')\n",
    "    print('.............of which............ from West of Rockall..',\n",
    "          '{: .3f}'.format(NEwardsParticleTransport.where(ds_area.isel(obs=-1).F_SIceland).where(ds_area.isel(obs=-1).T_East).where(ds_area.isel(obs=-1).T_NorwSea).where(ds_area.isel(obs=-1).F_RT_WSS==False).where(ds_area.isel(obs=-1).F_WRB).sum().data/1.0e06),'  Sv')\n",
    "    return"
   ]
  },
  {
   "cell_type": "markdown",
   "metadata": {
    "slideshow": {
     "slide_type": "slide"
    }
   },
   "source": [
    "## Load data"
   ]
  },
  {
   "cell_type": "markdown",
   "metadata": {
    "slideshow": {
     "slide_type": "skip"
    }
   },
   "source": [
    "### Forward tracks then backward tracks"
   ]
  },
  {
   "cell_type": "code",
   "execution_count": null,
   "metadata": {
    "slideshow": {
     "slide_type": "fragment"
    }
   },
   "outputs": [],
   "source": [
    "ds = xr.open_dataset(project_path / path_data_tracks / filename)\n",
    "dsb = xr.open_dataset(project_path / path_data_tracks / filenameb)\n",
    "ds_full = xr.concat([dsb,ds],dim='obs')\n",
    "\n",
    "display(ds_full)"
   ]
  },
  {
   "cell_type": "markdown",
   "metadata": {
    "slideshow": {
     "slide_type": "skip"
    }
   },
   "source": [
    "### Load model mesh mask"
   ]
  },
  {
   "cell_type": "code",
   "execution_count": null,
   "metadata": {
    "slideshow": {
     "slide_type": "skip"
    }
   },
   "outputs": [],
   "source": [
    "mesh_mask = xr.open_dataset(mesh_mask_file)\n",
    "mesh_mask = mesh_mask.squeeze()\n",
    "mesh_mask = mesh_mask.set_coords([\"nav_lon\", \"nav_lat\", \"nav_lev\"])\n",
    "\n",
    "bathy = mesh_mask.mbathy.rename(\"number of water filled points\")\n",
    "\n",
    "depth = (mesh_mask.e3t_0 * mesh_mask.tmask).sum(\"z\")\n",
    "# display(mesh_mask)"
   ]
  },
  {
   "cell_type": "markdown",
   "metadata": {
    "slideshow": {
     "slide_type": "skip"
    }
   },
   "source": [
    "## Have a quick look"
   ]
  },
  {
   "cell_type": "markdown",
   "metadata": {
    "slideshow": {
     "slide_type": "slide"
    }
   },
   "source": [
    "### Release positions of the particles on section from Greenland to Iceland"
   ]
  },
  {
   "cell_type": "code",
   "execution_count": null,
   "metadata": {
    "slideshow": {
     "slide_type": "fragment"
    }
   },
   "outputs": [],
   "source": [
    "plot_release()"
   ]
  },
  {
   "cell_type": "markdown",
   "metadata": {
    "slideshow": {
     "slide_type": "skip"
    }
   },
   "source": [
    "## Calculate some basic parameters from data for later"
   ]
  },
  {
   "cell_type": "code",
   "execution_count": null,
   "metadata": {
    "slideshow": {
     "slide_type": "skip"
    }
   },
   "outputs": [],
   "source": [
    "nParticles = ds.sizes['traj']"
   ]
  },
  {
   "cell_type": "code",
   "execution_count": null,
   "metadata": {
    "slideshow": {
     "slide_type": "skip"
    }
   },
   "outputs": [],
   "source": [
    "#centre time colourscale on release *DOESN'T WORK ON WINDOWS*\n",
    "tvmin = dsb.time.min(skipna=True).data # oldest time\n",
    "tvcentre = dsb.time.max(skipna=True).data # oldest time\n",
    "\n",
    "tvmax = tvcentre + (tvcentre - tvmin)"
   ]
  },
  {
   "cell_type": "markdown",
   "metadata": {
    "slideshow": {
     "slide_type": "slide"
    }
   },
   "source": [
    "### Plot trajectories"
   ]
  },
  {
   "cell_type": "code",
   "execution_count": null,
   "metadata": {
    "slideshow": {
     "slide_type": "skip"
    }
   },
   "outputs": [],
   "source": [
    "lon =    ds_full.where(ds_full.time > np.datetime64('2010-06-16')).lon.data.flatten()\n",
    "lat =    ds_full.where(ds_full.time > np.datetime64('2010-06-16')).lat.data.flatten()\n",
    "time =   ds_full.where(ds_full.time > np.datetime64('2010-06-16')).time.data.flatten()\n",
    " "
   ]
  },
  {
   "cell_type": "code",
   "execution_count": null,
   "metadata": {
    "slideshow": {
     "slide_type": "subslide"
    }
   },
   "outputs": [],
   "source": [
    "plot_tracks(lon,lat,time,'all tracks')"
   ]
  },
  {
   "cell_type": "markdown",
   "metadata": {
    "slideshow": {
     "slide_type": "slide"
    }
   },
   "source": [
    "### Find subsets of trajectories passing through different areas, either upstream or downstream\n",
    "\n",
    "This just tests whether particles were ever in an area, much easier than testing line crossings."
   ]
  },
  {
   "cell_type": "code",
   "execution_count": null,
   "metadata": {
    "slideshow": {
     "slide_type": "skip"
    }
   },
   "outputs": [],
   "source": [
    "ds_area = mask_tracks_by_source_sink(ds_full,trelease)"
   ]
  },
  {
   "cell_type": "markdown",
   "metadata": {
    "slideshow": {
     "slide_type": "slide"
    }
   },
   "source": [
    "## Plot tracks for some cases"
   ]
  },
  {
   "cell_type": "markdown",
   "metadata": {
    "slideshow": {
     "slide_type": "slide"
    }
   },
   "source": [
    "### Tracks coming from the north"
   ]
  },
  {
   "cell_type": "code",
   "execution_count": null,
   "metadata": {
    "slideshow": {
     "slide_type": "skip"
    }
   },
   "outputs": [],
   "source": [
    "lon =   ds_area.where(ds_area.isel(obs=-1).F_North).lon.data.flatten()\n",
    "lat =   ds_area.where(ds_area.isel(obs=-1).F_North).lat.data.flatten()\n",
    "time =  ds_area.where(ds_area.isel(obs=-1).F_North).time.data.flatten()"
   ]
  },
  {
   "cell_type": "code",
   "execution_count": null,
   "metadata": {
    "slideshow": {
     "slide_type": "subslide"
    }
   },
   "outputs": [],
   "source": [
    "plot_tracks(lon,lat,time,'Tracks coming from the north')"
   ]
  },
  {
   "cell_type": "markdown",
   "metadata": {
    "slideshow": {
     "slide_type": "slide"
    }
   },
   "source": [
    "### Tracks coming from south of Iceland and heading east after crossing GI section "
   ]
  },
  {
   "cell_type": "code",
   "execution_count": null,
   "metadata": {
    "slideshow": {
     "slide_type": "skip"
    }
   },
   "outputs": [],
   "source": [
    "lon =   ds_area.where(ds_area.isel(obs=-1).F_SIceland).where(ds_area.isel(obs=-1).T_East).lon.data.flatten()\n",
    "lat =   ds_area.where(ds_area.isel(obs=-1).F_SIceland).where(ds_area.isel(obs=-1).T_East).lat.data.flatten()\n",
    "time =  ds_area.where(ds_area.isel(obs=-1).F_SIceland).where(ds_area.isel(obs=-1).T_East).time.data.flatten()"
   ]
  },
  {
   "cell_type": "code",
   "execution_count": null,
   "metadata": {
    "slideshow": {
     "slide_type": "subslide"
    }
   },
   "outputs": [],
   "source": [
    "plot_tracks(lon,lat,time,'Tracks coming from south of Iceland and heading east after crossing GI section')"
   ]
  },
  {
   "cell_type": "markdown",
   "metadata": {},
   "source": [
    "Exclude the few circumnavigating Iceland"
   ]
  },
  {
   "cell_type": "code",
   "execution_count": null,
   "metadata": {
    "slideshow": {
     "slide_type": "skip"
    }
   },
   "outputs": [],
   "source": [
    "lon =   ds_area.where(ds_area.isel(obs=-1).F_SIceland).where(ds_area.isel(obs=-1).T_East).where(ds_area.isel(obs=-1).T_SIceland == False).lon.data.flatten()\n",
    "lat =   ds_area.where(ds_area.isel(obs=-1).F_SIceland).where(ds_area.isel(obs=-1).T_East).where(ds_area.isel(obs=-1).T_SIceland == False).lat.data.flatten()\n",
    "time =  ds_area.where(ds_area.isel(obs=-1).F_SIceland).where(ds_area.isel(obs=-1).T_East).where(ds_area.isel(obs=-1).T_SIceland == False).time.data.flatten()"
   ]
  },
  {
   "cell_type": "code",
   "execution_count": null,
   "metadata": {
    "slideshow": {
     "slide_type": "subslide"
    }
   },
   "outputs": [],
   "source": [
    "plot_tracks(lon,lat,time,'Exclude those circumnavigating Iceland')"
   ]
  },
  {
   "cell_type": "markdown",
   "metadata": {},
   "source": [
    "How many get to Norwegian Sea"
   ]
  },
  {
   "cell_type": "code",
   "execution_count": null,
   "metadata": {
    "slideshow": {
     "slide_type": "skip"
    }
   },
   "outputs": [],
   "source": [
    "lon =   ds_area.where(ds_area.isel(obs=-1).F_SIceland).where(ds_area.isel(obs=-1).T_East).where(ds_area.isel(obs=-1).T_SIceland == False).where(ds_area.isel(obs=-1).T_NorwSea).lon.data.flatten()\n",
    "lat =   ds_area.where(ds_area.isel(obs=-1).F_SIceland).where(ds_area.isel(obs=-1).T_East).where(ds_area.isel(obs=-1).T_SIceland == False).where(ds_area.isel(obs=-1).T_NorwSea).lat.data.flatten()\n",
    "time =  ds_area.where(ds_area.isel(obs=-1).F_SIceland).where(ds_area.isel(obs=-1).T_East).where(ds_area.isel(obs=-1).T_SIceland == False).where(ds_area.isel(obs=-1).T_NorwSea).time.data.flatten()"
   ]
  },
  {
   "cell_type": "code",
   "execution_count": null,
   "metadata": {
    "slideshow": {
     "slide_type": "subslide"
    }
   },
   "outputs": [],
   "source": [
    "plot_tracks(lon,lat,time,'and get to Norwegian Sea')"
   ]
  },
  {
   "cell_type": "markdown",
   "metadata": {},
   "source": [
    "### Head south along coast of Greenland"
   ]
  },
  {
   "cell_type": "code",
   "execution_count": null,
   "metadata": {
    "slideshow": {
     "slide_type": "skip"
    }
   },
   "outputs": [],
   "source": [
    "lon =   ds_area.where(ds_area.isel(obs=-1).T_SGreenland).lon.data.flatten()\n",
    "lat =   ds_area.where(ds_area.isel(obs=-1).T_SGreenland).lat.data.flatten()\n",
    "time =  ds_area.where(ds_area.isel(obs=-1).T_SGreenland).time.data.flatten()"
   ]
  },
  {
   "cell_type": "code",
   "execution_count": null,
   "metadata": {
    "slideshow": {
     "slide_type": "subslide"
    }
   },
   "outputs": [],
   "source": [
    "plot_tracks(lon,lat,time,'South along coast of Greenland')"
   ]
  },
  {
   "cell_type": "markdown",
   "metadata": {
    "slideshow": {
     "slide_type": "slide"
    }
   },
   "source": [
    "## Plot IFF section coloured by source"
   ]
  },
  {
   "cell_type": "code",
   "execution_count": null,
   "metadata": {
    "slideshow": {
     "slide_type": "subslide"
    }
   },
   "outputs": [],
   "source": [
    "plot_section()"
   ]
  },
  {
   "cell_type": "code",
   "execution_count": null,
   "metadata": {
    "slideshow": {
     "slide_type": "fragment"
    }
   },
   "outputs": [],
   "source": [
    "transports()"
   ]
  },
  {
   "cell_type": "code",
   "execution_count": null,
   "metadata": {},
   "outputs": [],
   "source": []
  }
 ],
 "metadata": {
  "celltoolbar": "Slideshow",
  "kernelspec": {
   "display_name": "py3cf2",
   "language": "python",
   "name": "py3cf2"
  },
  "language_info": {
   "codemirror_mode": {
    "name": "ipython",
    "version": 3
   },
   "file_extension": ".py",
   "mimetype": "text/x-python",
   "name": "python",
   "nbconvert_exporter": "python",
   "pygments_lexer": "ipython3",
   "version": "3.7.6"
  }
 },
 "nbformat": 4,
 "nbformat_minor": 4
}
