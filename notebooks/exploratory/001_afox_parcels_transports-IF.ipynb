{
 "cells": [
  {
   "cell_type": "raw",
   "metadata": {},
   "source": []
  },
  {
   "cell_type": "markdown",
   "metadata": {
    "slideshow": {
     "slide_type": "slide"
    }
   },
   "source": [
    "# Quantify transports across the Iceland-Faroe ridge by source and destination\n",
    "\n",
    "- Lagrangian particle tracking in VIKING20X model\n",
    "\n",
    "- Pilot test case for June 2016\n",
    "\n",
    "- Particles tracked backwards for 2 years (for sources) and forward for 6 months (for destinations)\n",
    "\n",
    "- Advection only\n",
    "\n",
    "- Transport calculations based on the idea of particle track representing a streamtube with constant along-tube transport everywhere"
   ]
  },
  {
   "cell_type": "markdown",
   "metadata": {
    "slideshow": {
     "slide_type": "subslide"
    }
   },
   "source": [
    "The idea here is to use Lagrangian particle tracks to quantify model volume transports from the North Atlantic into the Arctic seas by source. This is partly motivated by an idea of Stuart's that 'all' the water heading north between Greenland-Iceland-Shetland goes through the Rockall Trough (with the northward transport west of the Rockall Bank circulating in the subpolar gyre).\n",
    "\n",
    "I've started with the Iceland-Faroes Ridge (IFR) section. This is partly just because I have an 'emotional attachment' to the IFR having spent my first postdoc modelling it, and partly because I figured if Stuart is wrong, the transport across the IFR is likely where it will show up.\n",
    "\n",
    "Obviously it is easier to quantify transports across sections from the model just by straight eulerian calculation, but even if this is done over the whole boundary of a closed volume it doesn't give you the pathways through the volume. A 3D streamfunction would be another possibility but that doesn't seem straightforward.\n",
    "\n",
    "The basic idea is that each particle tracked represents a streamtube (I have no diffusion in the tracking). The volume transport along that streamtube is constant at any point along the length and determined by the transport where it crosses IFR. This we get by a simple calculation of cross-sectional area x velocity across the section.\n",
    "\n",
    "Particles are positioned randomly in 2D along a section from Iceland to Faroes, then the same particles are tracked backwards for 2 years for sources and forwards for 6 months for destinations."
   ]
  },
  {
   "cell_type": "markdown",
   "metadata": {
    "slideshow": {
     "slide_type": "subslide"
    }
   },
   "source": [
    "This is done using OceanParcels tracking software and Viking20x model fields on GEOMAR servers via python Jupyter notebooks. This notebook has the analysis of the tracks, the notebook running Parcels is separate. This is currently just testing the method, how many particles might be needed for robust results, most efficient initial particle distributions, etc.\n",
    "\n",
    "The transport quantities are at the very end. 2000 particles across the section seems to give OK results but ideally might want more - s.d. in total transport across IFR of maybe 10-20% by selecting a different random 2000 particles. Also this is just a snapshot (though using monthly means). With a few (<10) different crossing times I've seen total transports between 2 and 7 Sv, so with 2000 particles sampling errors probably small compared to variability.\n",
    "\n",
    "The results for 2016 shown here suggest that of the 6.5 Sv crossing IFR 0.6 Sv came through Rockall Trough, with most of the rest coming north west of Rockall Bank, and about 0.5 Sv where I haven't identified the source. My initial feeling from other years is that most of the variability is in the flow from W of Rockall Bank with always around 0.5 Sv through Rockall Trough.\n",
    "\n",
    "I haven't looked at Faroe-Shetland Channel yet, so this is only part (and probably the smaller part) of the northward flow in NE Atlantic towards Arctic."
   ]
  },
  {
   "cell_type": "markdown",
   "metadata": {
    "slideshow": {
     "slide_type": "subslide"
    }
   },
   "source": [
    "So, here we\n",
    "- load lagrangian trajectory data that has been written by OceanParcels from particle tracking in Viking20x model (currently using monthly mean fields for speed)\n",
    "    - particles tracked from a section across IFR\n",
    "    - random release points along section\n",
    "    - tracked forward for 6 months to id destinations\n",
    "    - tracked backwards for 2 years to id sources\n",
    "- plot sections\n",
    "- plot trajectories\n",
    "- subset trajectories based on source and destination\n",
    "- estimate transports\n",
    "\n",
    "Transports associated with different pathways are estimated by assuming that each particle crossing IFR has an associated volume transport, which it maintains throughout its life, given by the \n",
    "                velocity across the section * total cross-sectional area / number of particles\n",
    "So like a streamtube...    "
   ]
  },
  {
   "cell_type": "markdown",
   "metadata": {
    "slideshow": {
     "slide_type": "subslide"
    }
   },
   "source": [
    "## To do\n",
    "\n",
    "- calculate section area properly \n",
    "- explore sensitivity to particle numbers and random seed (i.e. do I have enough particles)\n",
    "- calculate true transport across section in model\n",
    "- not selecting ocean particles properly near bed - partial cells\n",
    "- fix time units on track plots"
   ]
  },
  {
   "cell_type": "markdown",
   "metadata": {
    "slideshow": {
     "slide_type": "skip"
    }
   },
   "source": [
    "## Technical preamble"
   ]
  },
  {
   "cell_type": "code",
   "execution_count": null,
   "metadata": {
    "slideshow": {
     "slide_type": "skip"
    }
   },
   "outputs": [],
   "source": [
    "%matplotlib inline\n",
    "\n",
    "import matplotlib.colors as colors\n",
    "import numpy as np\n",
    "from pathlib import Path\n",
    "import matplotlib.pyplot as plt\n",
    "import xarray as xr\n",
    "from datetime import datetime, timedelta\n",
    "import seaborn as sns\n",
    "from matplotlib.colors import ListedColormap\n",
    "import cmocean as co\n",
    "\n",
    "sns.set_palette(\"colorblind\")"
   ]
  },
  {
   "cell_type": "markdown",
   "metadata": {
    "slideshow": {
     "slide_type": "skip"
    }
   },
   "source": [
    "## Parameters"
   ]
  },
  {
   "cell_type": "code",
   "execution_count": null,
   "metadata": {
    "slideshow": {
     "slide_type": "skip"
    }
   },
   "outputs": [],
   "source": [
    "# Project path\n",
    "project_path = Path.cwd() / '..' / '..' \n",
    "project_path = project_path.resolve()\n",
    "\n",
    "# project_path = Path(\"C:/Users/sa05af/OneDrive - SAMS/Projects/parcels_quantitative_202004/\")\n",
    "\n",
    "# Parcels track data file\n",
    "path_data_tracks = Path('data/processed/tracks/IcelandFaroe/') \n",
    "filename = 'Parcels_IFFForwards_1m_June2016_2000.nc'\n",
    "filenameb = 'Parcels_IFFBackwards_1m_June2016_2000.nc'\n",
    "\n",
    "# model mask file\n",
    "data_path = Path(\"data/external/iAtlantic/\")\n",
    "experiment_name = \"VIKING20X.L46-KKG36107B\"\n",
    "mesh_mask_file = project_path / data_path / \"mask\" / experiment_name / \"1_mesh_mask.nc\"\n",
    "\n",
    "#velocity conversions on IFR (63.5N)\n",
    "\n",
    "lat2metres = 60.0*1852.0\n",
    "lon2metres = 60.0*1852.0*np.cos(np.radians(63.5))\n",
    "\n",
    "sealandratio = 9308.0/20000.0\n",
    "sectionAreaEW = 7.0 * 700.0 * sealandratio * lon2metres  # very approx. mean depth x length between slopes.\n",
    "sectionAreaNS = 2.8 * 700.0 * sealandratio * lat2metres\n",
    "\n",
    "nParticles = 2000.0"
   ]
  },
  {
   "cell_type": "markdown",
   "metadata": {
    "slideshow": {
     "slide_type": "skip"
    }
   },
   "source": [
    "## Some helper and plotting functions"
   ]
  },
  {
   "cell_type": "code",
   "execution_count": null,
   "metadata": {
    "slideshow": {
     "slide_type": "skip"
    }
   },
   "outputs": [],
   "source": [
    "def plot_release():\n",
    "    plt.figure(figsize = (12,5))\n",
    "\n",
    "    plt.scatter(\n",
    "        ds.isel(obs=0).lon.data.flatten(),\n",
    "        ds.isel(obs=0).z.data.flatten(),\n",
    "        20,\n",
    "        ds.isel(obs=0).vvel.data.flatten()*lon2metres\n",
    "         , vmin = -.2, vmax = .2\n",
    "        ,cmap= co.cm.balance\n",
    "    #    ,alpha=0.3\n",
    "    )\n",
    "\n",
    "    plt.ylim(700,0)\n",
    "\n",
    "    plt.colorbar(label = \"vvel [m/s]\")\n",
    "    plt.show()\n",
    "    return\n"
   ]
  },
  {
   "cell_type": "code",
   "execution_count": null,
   "metadata": {
    "slideshow": {
     "slide_type": "skip"
    }
   },
   "outputs": [],
   "source": [
    "def plot_tracks(x,y,z,title):\n",
    "    plt.figure(figsize = (12,9))\n",
    "\n",
    "    # plot tracks as scatter plots\n",
    "\n",
    "    plt.scatter(\n",
    "        x\n",
    "        ,y\n",
    "        ,3\n",
    "        ,z\n",
    "        ,vmin = tvmin, vmax = tvmax\n",
    "        ,cmap = co.cm.delta\n",
    "    #    ,alpha=0.3\n",
    "    )\n",
    "    plt.colorbar(label = \"time [stupid units. range 4 years, all cross IFR at 2 years]\");\n",
    "\n",
    "    # plot depth contours and land boundary from model bathymetry\n",
    "    depth.isel(y=slice(1700, 2499), x=slice(1300, 2404)).plot.contour(\n",
    "        x=\"nav_lon\", y=\"nav_lat\", colors = 'grey', levels = [200,800,1500,2000,2500,3500]\n",
    "    );\n",
    "    depth.isel(y=slice(1700, 2499), x=slice(1300, 2404)).plot.contour(\n",
    "        x=\"nav_lon\", y=\"nav_lat\", colors = 'k', levels = [1]\n",
    "    );\n",
    "    # plt.savefig('upstream.png')\n",
    "    plt.ylim(45,70)\n",
    "    plt.xlim(-30,10)\n",
    "    plt.title(title)\n",
    "    plt.show()\n",
    "    return"
   ]
  },
  {
   "cell_type": "code",
   "execution_count": null,
   "metadata": {
    "slideshow": {
     "slide_type": "skip"
    }
   },
   "outputs": [],
   "source": [
    "def plot_section_from_NW():\n",
    "    plt.figure(figsize = (12,6))\n",
    "\n",
    "    plt.scatter(\n",
    "        ds.isel(obs=0).lon.data.flatten(),\n",
    "        ds.isel(obs=0).z.data.flatten(),\n",
    "        s = 20, color = 'k', label='from other, went other'\n",
    "    )\n",
    "    plt.scatter(\n",
    "        ds.where(ds_area.isel(obs=-1).F_NFaroes).isel(obs=0).lon.data.flatten(),\n",
    "        ds.where(ds_area.isel(obs=-1).F_NFaroes).isel(obs=0).z.data.flatten(),\n",
    "        s = 20, color = 'blue', label='from IFR, went other'\n",
    "    )\n",
    "    plt.scatter(\n",
    "        ds.where(ds_area.isel(obs=-1).F_NFaroes).isel(obs=0).where(ds_area.isel(obs=-1).T_NorwSea).lon.data.flatten(),\n",
    "        ds.where(ds_area.isel(obs=-1).F_NFaroes).isel(obs=0).where(ds_area.isel(obs=-1).T_NorwSea).z.data.flatten(),\n",
    "        s = 20, color = 'lightblue', label='from IFR, went Norwegian Sea'\n",
    "    )\n",
    "    plt.scatter(\n",
    "        ds.where(ds_area.isel(obs=-1).F_NFaroes).where(ds_area.isel(obs=-1).F_WIceland).isel(obs=0).lon.data.flatten(),\n",
    "        ds.where(ds_area.isel(obs=-1).F_NFaroes).where(ds_area.isel(obs=-1).F_WIceland).isel(obs=0).z.data.flatten(),\n",
    "        s = 20, color = 'red', label='from W Iceland, went other'\n",
    "    )\n",
    "    plt.scatter(\n",
    "        ds.where(ds_area.isel(obs=-1).F_NFaroes).where(ds_area.isel(obs=-1).F_WIceland).where(ds_area.isel(obs=-1).T_NorwSea).isel(obs=0).lon.data.flatten(),\n",
    "        ds.where(ds_area.isel(obs=-1).F_NFaroes).where(ds_area.isel(obs=-1).F_WIceland).where(ds_area.isel(obs=-1).T_NorwSea).isel(obs=0).z.data.flatten(),\n",
    "        s = 20, color = 'pink', label='from W Iceland, went Norwegian Sea'\n",
    "    )\n",
    "    plt.scatter(\n",
    "        ds.where(ds_area.isel(obs=-1).F_NFaroes).where(ds_area.isel(obs=-1).F_GreenSea).isel(obs=0).lon.data.flatten(),\n",
    "        ds.where(ds_area.isel(obs=-1).F_NFaroes).where(ds_area.isel(obs=-1).F_GreenSea).isel(obs=0).z.data.flatten(),\n",
    "        s = 20, color = 'green', label='from Greenland Sea, went other'\n",
    "    )\n",
    "    plt.scatter(\n",
    "        ds.where(ds_area.isel(obs=-1).F_NFaroes).where(ds_area.isel(obs=-1).F_GreenSea).where(ds_area.isel(obs=-1).T_NorwSea).isel(obs=0).lon.data.flatten(),\n",
    "        ds.where(ds_area.isel(obs=-1).F_NFaroes).where(ds_area.isel(obs=-1).F_GreenSea).where(ds_area.isel(obs=-1).T_NorwSea).isel(obs=0).z.data.flatten(),\n",
    "        s = 20, color = 'lightgreen', label='from Greenland Sea, went Norwegian Sea'\n",
    "    )\n",
    "\n",
    "    plt.legend(ncol=2)\n",
    "\n",
    "    plt.ylim(1800,0)\n",
    "    \n",
    "    return"
   ]
  },
  {
   "cell_type": "code",
   "execution_count": null,
   "metadata": {
    "slideshow": {
     "slide_type": "skip"
    }
   },
   "outputs": [],
   "source": [
    "def plot_section_not_from_NW():\n",
    "    plt.figure(figsize = (12,6))\n",
    "\n",
    "    plt.scatter(\n",
    "        ds.isel(obs=0).lon.data.flatten(),\n",
    "        ds.isel(obs=0).z.data.flatten(),\n",
    "        s = 20, color = 'k', label='from other, went other'\n",
    "    )\n",
    "    plt.scatter(\n",
    "        ds.where(ds_area.isel(obs=-1).F_NFaroes == False).where(ds_area.isel(obs=-1).F_WRB).isel(obs=0).lon.data.flatten(),\n",
    "        ds.where(ds_area.isel(obs=-1).F_NFaroes == False).where(ds_area.isel(obs=-1).F_WRB).isel(obs=0).z.data.flatten(),\n",
    "        s = 20, color = 'green', label='from WRB, went other'\n",
    "    )\n",
    "    plt.scatter(\n",
    "        ds.where(ds_area.isel(obs=-1).F_NFaroes == False).where(ds_area.isel(obs=-1).F_WRB).where(ds_area.isel(obs=-1).T_NSea).isel(obs=0).lon.data.flatten(),\n",
    "        ds.where(ds_area.isel(obs=-1).F_NFaroes == False).where(ds_area.isel(obs=-1).F_WRB).where(ds_area.isel(obs=-1).T_NSea).isel(obs=0).z.data.flatten(),\n",
    "        s = 20, color = 'lightgreen', label='from WRB, went North Sea'\n",
    "    )\n",
    "    plt.scatter(\n",
    "        ds.where(ds_area.isel(obs=-1).F_NFaroes == False).where(ds_area.isel(obs=-1).F_WRB).where(ds_area.isel(obs=-1).T_NorwSea).isel(obs=0).lon.data.flatten(),\n",
    "        ds.where(ds_area.isel(obs=-1).F_NFaroes == False).where(ds_area.isel(obs=-1).F_WRB).where(ds_area.isel(obs=-1).T_NorwSea).isel(obs=0).z.data.flatten(),\n",
    "        s = 20, color = 'cyan', label='from WRB, went Norwegian Sea'\n",
    "    )\n",
    "    plt.scatter(\n",
    "        ds.where(ds_area.isel(obs=-1).F_NFaroes == False).where(ds_area.isel(obs=-1).F_RT_WSS).isel(obs=0).lon.data.flatten(),\n",
    "        ds.where(ds_area.isel(obs=-1).F_NFaroes == False).where(ds_area.isel(obs=-1).F_RT_WSS).isel(obs=0).z.data.flatten(),\n",
    "        s = 20, color = 'red', label='from RT, went other'\n",
    "    )\n",
    "    plt.scatter(\n",
    "        ds.where(ds_area.isel(obs=-1).F_NFaroes == False).where(ds_area.isel(obs=-1).F_RT_WSS).where(ds_area.isel(obs=-1).T_NSea).isel(obs=0).lon.data.flatten(),\n",
    "        ds.where(ds_area.isel(obs=-1).F_NFaroes == False).where(ds_area.isel(obs=-1).F_RT_WSS).where(ds_area.isel(obs=-1).T_NSea).isel(obs=0).z.data.flatten(),\n",
    "        s = 20, color = 'pink', label='from RT, went North Sea'\n",
    "    )\n",
    "    plt.scatter(\n",
    "        ds.where(ds_area.isel(obs=-1).F_NFaroes == False).where(ds_area.isel(obs=-1).F_RT_WSS).where(ds_area.isel(obs=-1).T_NorwSea).isel(obs=0).lon.data.flatten(),\n",
    "        ds.where(ds_area.isel(obs=-1).F_NFaroes == False).where(ds_area.isel(obs=-1).F_RT_WSS).where(ds_area.isel(obs=-1).T_NorwSea).isel(obs=0).z.data.flatten(),\n",
    "        s = 20, color = 'coral', label='from RT, went Norwegian Sea'\n",
    "    )\n",
    "    plt.legend(ncol=2)\n",
    "\n",
    "    plt.ylim(1800,0)\n",
    "    \n",
    "    return"
   ]
  },
  {
   "cell_type": "code",
   "execution_count": null,
   "metadata": {
    "slideshow": {
     "slide_type": "skip"
    }
   },
   "outputs": [],
   "source": [
    "def apply_through_area(ds, min_lon, max_lon, min_lat, max_lat, min_time, max_time, criterion_name):\n",
    "    '''Apply an area crossing criterion.\n",
    "    \n",
    "    Larvae in ds selected if they pass through given area.\n",
    "    '''\n",
    "    # particles are selected if they pass through given area.\n",
    "    particle_out =  (\n",
    "                    (ds.lon > min_lon) * \n",
    "                    (ds.lon < max_lon) *\n",
    "                    (ds.lat > min_lat) * \n",
    "                    (ds.lat < max_lat) *\n",
    "                    (ds.time > min_time) *\n",
    "                    (ds.time < max_time)\n",
    "                    )\n",
    "                    \n",
    "#     particle_out = (ds.temp < max_lat)\n",
    "    \n",
    "\n",
    "    # last place in array determines if particle went through area  \n",
    "    is_thru = (particle_out.cumsum(\"obs\") != 0)\n",
    "    \n",
    "#     print(particle_out.max())\n",
    "    \n",
    "    # add data to original ds\n",
    "    ds[criterion_name] = is_thru\n",
    "    \n",
    "    return ds"
   ]
  },
  {
   "cell_type": "code",
   "execution_count": null,
   "metadata": {
    "slideshow": {
     "slide_type": "skip"
    }
   },
   "outputs": [],
   "source": [
    "def apply_left_of_line(ds, lon_1, lon_2, lat_1, lat_2, min_time, max_time, criterion_name):\n",
    "    '''Apply an area crossing criterion.\n",
    "    \n",
    "    Larvae in ds selected if they pass through given area.\n",
    "    '''\n",
    "    # particles are selected if they pass through given area.\n",
    "    particle_out =  ((((lon_2 -lon_1) * (ds.lat - lat_1) - \n",
    "                     (ds.lon - lon_1) * (lat_2 - lat_1))\n",
    "                     > 0.0) *\n",
    "                    (ds.time > min_time) *\n",
    "                    (ds.time < max_time))\n",
    "                    \n",
    "#     particle_out = (ds.temp < max_lat)\n",
    "    \n",
    "\n",
    "    # last place in array determines if particle went through area  \n",
    "    is_thru = (particle_out.cumsum(\"obs\") != 0)\n",
    "    \n",
    "#     print(particle_out.max())\n",
    "    \n",
    "    # add data to original ds\n",
    "    ds[criterion_name] = is_thru\n",
    "    \n",
    "    return ds"
   ]
  },
  {
   "cell_type": "code",
   "execution_count": null,
   "metadata": {
    "slideshow": {
     "slide_type": "skip"
    }
   },
   "outputs": [],
   "source": [
    "def mask_tracks_by_source_sink(ds_full):\n",
    "    # comes through Rockall Trough and W Scotland shelf\n",
    "    ds_area = apply_through_area(ds_full,-13.5,-6.5,57.25,57.75,\n",
    "                                 np.datetime64('2010-06-16'),np.datetime64('2016-06-16'),\n",
    "                                 'F_RT_WSS')    \n",
    "    # comes northward west of Rockall Bank\n",
    "    ds_area = apply_through_area(ds_area,-60,-13.5,57.25,57.75,\n",
    "                                 np.datetime64('2010-06-16'),np.datetime64('2016-06-16'),\n",
    "                                 'F_WRB')  \n",
    "    # comes clockwise round Iceland\n",
    "    ds_area = apply_through_area(ds_area,-22,-20,65,70,np.datetime64('2010-06-16'),\n",
    "                                 np.datetime64('2016-06-16'),\n",
    "                                 'F_WIceland')  \n",
    "    # comes from NW\n",
    "    ds_area = apply_through_area(ds_area,-20,-6,68.5,70,\n",
    "                                 np.datetime64('2010-06-16'),np.datetime64('2016-06-16'),\n",
    "                                 'F_GreenSea')  \n",
    "    # goes east\n",
    "    ds_area = apply_left_of_line(ds_area,-17,-13,66,66,\n",
    "                                 np.datetime64('2010-06-15'),np.datetime64('2016-06-15'),\n",
    "                                 'F_West')\n",
    "    # goes northeastward towards Arctic - all particles doing this pass north of Faroe\n",
    "    ds_area = apply_through_area(ds_area,-6.5,-5.5,62.3,64.5,\n",
    "                                 np.datetime64('2016-06-16'),np.datetime64('2020-06-16'),\n",
    "                                 'T_NFaroes')    \n",
    "    # goes west south of Iceland in SPG\n",
    "    ds_area = apply_through_area(ds_area,-23,-22,62.,64.,\n",
    "                                 np.datetime64('2016-06-16'),np.datetime64('2020-06-16'),\n",
    "                                 'T_SIceland')  \n",
    "    # goes to arctic\n",
    "    ds_area = apply_left_of_line(ds_area,0,7,65,62,\n",
    "                                 np.datetime64('2016-06-16'),np.datetime64('2020-06-16'),\n",
    "                                 'T_NorwSea')\n",
    "    # goes to north sea\n",
    "    ds_area = apply_left_of_line(ds_area,5.1,-1.23,62.3,60.3,\n",
    "                                 np.datetime64('2016-06-16'),np.datetime64('2020-06-16'),\n",
    "                                 'T_NSea')\n",
    "    return ds_area"
   ]
  },
  {
   "cell_type": "code",
   "execution_count": null,
   "metadata": {
    "slideshow": {
     "slide_type": "skip"
    }
   },
   "outputs": [],
   "source": [
    "def transports():\n",
    "    NEwardsParticleTransport = (sectionAreaEW*dsb.isel(obs=0).vvel*lat2metres +\n",
    "                            sectionAreaNS*dsb.isel(obs=0).uvel*lon2metres)/nParticles\n",
    "    print('Total transport through F-S channel.....................',\n",
    "          '{: .3f}'.format(NEwardsParticleTransport.sum().data/1.0e06),'  Sv')\n",
    "    print('...from NW..............................................',\n",
    "          '{: .3f}'.format(NEwardsParticleTransport.where(ds_area.isel(obs=-1).F_NFaroes).sum().data/1.0e06),'  Sv')\n",
    "    print('...excluding from NW....................................',\n",
    "          '{: .3f}'.format(NEwardsParticleTransport.where(ds_area.isel(obs=-1).F_NFaroes == False).sum().data/1.0e06),'  Sv')\n",
    "    print('.............of which............ from Rockall Trough...',\n",
    "          '{: .3f}'.format(NEwardsParticleTransport.where(ds_area.isel(obs=-1).F_NFaroes == False).where(ds_area.isel(obs=-1).F_RT_WSS).sum().data/1.0e06),'  Sv')\n",
    "    print('.............of which............ from West of Rockall..',\n",
    "          '{: .3f}'.format(NEwardsParticleTransport.where(ds_area.isel(obs=-1).F_NFaroes == False).where(ds_area.isel(obs=-1).F_RT_WSS == False).where(ds_area.isel(obs=-1).F_WRB).sum().data/1.0e06),'  Sv')\n",
    "    return"
   ]
  },
  {
   "cell_type": "markdown",
   "metadata": {
    "slideshow": {
     "slide_type": "slide"
    }
   },
   "source": [
    "## Load data"
   ]
  },
  {
   "cell_type": "markdown",
   "metadata": {
    "slideshow": {
     "slide_type": "skip"
    }
   },
   "source": [
    "### Forward tracks then backward tracks"
   ]
  },
  {
   "cell_type": "code",
   "execution_count": null,
   "metadata": {
    "slideshow": {
     "slide_type": "fragment"
    }
   },
   "outputs": [],
   "source": [
    "ds = xr.open_dataset(project_path / path_data_tracks / filename)\n",
    "dsb = xr.open_dataset(project_path / path_data_tracks / filenameb)\n",
    "ds_full = xr.concat([dsb,ds],dim='obs')\n",
    "\n",
    "display(ds_full)"
   ]
  },
  {
   "cell_type": "markdown",
   "metadata": {
    "slideshow": {
     "slide_type": "skip"
    }
   },
   "source": [
    "### Load model mesh mask"
   ]
  },
  {
   "cell_type": "code",
   "execution_count": null,
   "metadata": {
    "slideshow": {
     "slide_type": "skip"
    }
   },
   "outputs": [],
   "source": [
    "mesh_mask = xr.open_dataset(mesh_mask_file)\n",
    "mesh_mask = mesh_mask.squeeze()\n",
    "mesh_mask = mesh_mask.set_coords([\"nav_lon\", \"nav_lat\", \"nav_lev\"])\n",
    "\n",
    "bathy = mesh_mask.mbathy.rename(\"number of water filled points\")\n",
    "\n",
    "depth = (mesh_mask.e3t_0 * mesh_mask.tmask).sum(\"z\")\n",
    "# display(mesh_mask)"
   ]
  },
  {
   "cell_type": "markdown",
   "metadata": {
    "slideshow": {
     "slide_type": "skip"
    }
   },
   "source": [
    "## Have a quick look"
   ]
  },
  {
   "cell_type": "markdown",
   "metadata": {
    "slideshow": {
     "slide_type": "slide"
    }
   },
   "source": [
    "### Release positions of the particles on section from Faroes to Shetland"
   ]
  },
  {
   "cell_type": "code",
   "execution_count": null,
   "metadata": {
    "slideshow": {
     "slide_type": "fragment"
    }
   },
   "outputs": [],
   "source": [
    "plot_release()"
   ]
  },
  {
   "cell_type": "markdown",
   "metadata": {
    "slideshow": {
     "slide_type": "skip"
    }
   },
   "source": [
    "## Calculate some basic parameters from data for later"
   ]
  },
  {
   "cell_type": "code",
   "execution_count": null,
   "metadata": {
    "slideshow": {
     "slide_type": "skip"
    }
   },
   "outputs": [],
   "source": [
    "nParticles = ds.sizes['traj']"
   ]
  },
  {
   "cell_type": "code",
   "execution_count": null,
   "metadata": {
    "slideshow": {
     "slide_type": "skip"
    }
   },
   "outputs": [],
   "source": [
    "#centre time colourscale on release *DOESN'T WORK ON WINDOWS*\n",
    "tvmin = dsb.time.min(skipna=True).data # oldest time\n",
    "tvcentre = dsb.time.max(skipna=True).data # oldest time\n",
    "\n",
    "tvmax = tvcentre + (tvcentre - tvmin)"
   ]
  },
  {
   "cell_type": "markdown",
   "metadata": {
    "slideshow": {
     "slide_type": "slide"
    }
   },
   "source": [
    "### Plot trajectories"
   ]
  },
  {
   "cell_type": "code",
   "execution_count": null,
   "metadata": {
    "slideshow": {
     "slide_type": "skip"
    }
   },
   "outputs": [],
   "source": [
    "lon =    ds_full.where(ds_full.time > np.datetime64('2010-06-15')).lon.data.flatten()\n",
    "lat =    ds_full.where(ds_full.time > np.datetime64('2010-06-15')).lat.data.flatten()\n",
    "time =   ds_full.where(ds_full.time > np.datetime64('2010-06-15')).time.data.flatten()\n",
    " "
   ]
  },
  {
   "cell_type": "code",
   "execution_count": null,
   "metadata": {
    "slideshow": {
     "slide_type": "subslide"
    }
   },
   "outputs": [],
   "source": [
    "plot_tracks(lon,lat,time,'all tracks')"
   ]
  },
  {
   "cell_type": "markdown",
   "metadata": {
    "slideshow": {
     "slide_type": "slide"
    }
   },
   "source": [
    "### Find subsets of trajectories passing through different areas, either upstream or downstream\n",
    "\n",
    "This just tests whether particles were ever in an area, much easier than testing line crossings."
   ]
  },
  {
   "cell_type": "code",
   "execution_count": null,
   "metadata": {
    "slideshow": {
     "slide_type": "skip"
    }
   },
   "outputs": [],
   "source": [
    "ds_area = mask_tracks_by_source_sink(ds_full)"
   ]
  },
  {
   "cell_type": "markdown",
   "metadata": {
    "slideshow": {
     "slide_type": "slide"
    }
   },
   "source": [
    "## Plot tracks for some cases"
   ]
  },
  {
   "cell_type": "markdown",
   "metadata": {
    "slideshow": {
     "slide_type": "slide"
    }
   },
   "source": [
    "### Tracks reaching FSC from NW"
   ]
  },
  {
   "cell_type": "code",
   "execution_count": null,
   "metadata": {
    "slideshow": {
     "slide_type": "skip"
    }
   },
   "outputs": [],
   "source": [
    "lon =   ds_area.where(ds_area.isel(obs=-1).F_West == False).lon.data.flatten()\n",
    "lat =   ds_area.where(ds_area.isel(obs=-1).F_West == False).lat.data.flatten()\n",
    "time =  ds_area.where(ds_area.isel(obs=-1).F_West == False).time.data.flatten()"
   ]
  },
  {
   "cell_type": "code",
   "execution_count": null,
   "metadata": {
    "slideshow": {
     "slide_type": "subslide"
    }
   },
   "outputs": [],
   "source": [
    "plot_tracks(lon,lat,time,'trajectories from NW')"
   ]
  },
  {
   "cell_type": "code",
   "execution_count": null,
   "metadata": {
    "slideshow": {
     "slide_type": "skip"
    }
   },
   "outputs": [],
   "source": [
    "lon =   ds_area.where(ds_area.isel(obs=-1).F_West == False).where(ds_area.isel(obs=-1).T_NFaroes).lon.data.flatten()\n",
    "lat =   ds_area.where(ds_area.isel(obs=-1).F_West == False).where(ds_area.isel(obs=-1).T_NFaroes).lat.data.flatten()\n",
    "time =  ds_area.where(ds_area.isel(obs=-1).F_West == False).where(ds_area.isel(obs=-1).T_NFaroes).time.data.flatten()"
   ]
  },
  {
   "cell_type": "code",
   "execution_count": null,
   "metadata": {
    "slideshow": {
     "slide_type": "subslide"
    }
   },
   "outputs": [],
   "source": [
    "plot_tracks(lon,lat,time,'upstream trajectories from NW')"
   ]
  },
  {
   "cell_type": "code",
   "execution_count": null,
   "metadata": {
    "slideshow": {
     "slide_type": "skip"
    }
   },
   "outputs": [],
   "source": [
    "lon =   ds_area.where(ds_area.isel(obs=-1).F_West == False).where(ds_area.isel(obs=-1).T_NFaroes).where(ds_area.isel(obs=-1).T_NorwSea).lon.data.flatten()\n",
    "lat =   ds_area.where(ds_area.isel(obs=-1).F_West == False).where(ds_area.isel(obs=-1).T_NFaroes).where(ds_area.isel(obs=-1).T_NorwSea).lat.data.flatten()\n",
    "time =  ds_area.where(ds_area.isel(obs=-1).F_West == False).where(ds_area.isel(obs=-1).T_NFaroes).where(ds_area.isel(obs=-1).T_NorwSea).time.data.flatten()"
   ]
  },
  {
   "cell_type": "code",
   "execution_count": null,
   "metadata": {
    "slideshow": {
     "slide_type": "subslide"
    }
   },
   "outputs": [],
   "source": [
    "plot_tracks(lon,lat,time,'trajectories from NW, downstream')"
   ]
  },
  {
   "cell_type": "markdown",
   "metadata": {
    "slideshow": {
     "slide_type": "slide"
    }
   },
   "source": [
    "### Tracks reaching FSC from south"
   ]
  },
  {
   "cell_type": "code",
   "execution_count": null,
   "metadata": {
    "slideshow": {
     "slide_type": "skip"
    }
   },
   "outputs": [],
   "source": [
    "lon =    ds_area.where(ds_area.isel(obs=-1).F_NFaroes == False).lon.data.flatten()\n",
    "lat =    ds_area.where(ds_area.isel(obs=-1).F_NFaroes == False).lat.data.flatten()\n",
    "time =  ds_area.where(ds_area.isel(obs=-1).F_NFaroes == False).time.data.flatten()"
   ]
  },
  {
   "cell_type": "code",
   "execution_count": null,
   "metadata": {
    "slideshow": {
     "slide_type": "subslide"
    }
   },
   "outputs": [],
   "source": [
    "plot_tracks(lon,lat,time,'trajectories south to north through F-S Channel')"
   ]
  },
  {
   "cell_type": "markdown",
   "metadata": {
    "slideshow": {
     "slide_type": "slide"
    }
   },
   "source": [
    "### Tracks reaching FSC from south through Rockall Trough"
   ]
  },
  {
   "cell_type": "code",
   "execution_count": null,
   "metadata": {
    "slideshow": {
     "slide_type": "skip"
    }
   },
   "outputs": [],
   "source": [
    "lon =    ds_area.where(ds_area.isel(obs=-1).F_NFaroes == False).where(ds_area.isel(obs=-1).F_RT_WSS).lon.data.flatten()\n",
    "lat =    ds_area.where(ds_area.isel(obs=-1).F_NFaroes == False).where(ds_area.isel(obs=-1).F_RT_WSS).lat.data.flatten()\n",
    "time =    ds_area.where(ds_area.isel(obs=-1).F_NFaroes == False).where(ds_area.isel(obs=-1).F_RT_WSS).time.data.flatten()"
   ]
  },
  {
   "cell_type": "code",
   "execution_count": null,
   "metadata": {
    "slideshow": {
     "slide_type": "subslide"
    }
   },
   "outputs": [],
   "source": [
    "plot_tracks(lon,lat,time,'trajectories from Rockall Trough and Scottish Shelf and south to north through F-S Channel')"
   ]
  },
  {
   "cell_type": "code",
   "execution_count": null,
   "metadata": {
    "slideshow": {
     "slide_type": "skip"
    }
   },
   "outputs": [],
   "source": [
    "lon =    (ds_area.where(ds_area.isel(obs=-1).F_NFaroes == False)\n",
    "                .where(ds_area.isel(obs=-1).F_RT_WSS)\n",
    "                .where(ds_area.isel(obs=-1).T_NorwSea).lon.data.flatten())\n",
    "lat =    (ds_area.where(ds_area.isel(obs=-1).F_NFaroes == False)\n",
    "                .where(ds_area.isel(obs=-1).F_RT_WSS)\n",
    "                .where(ds_area.isel(obs=-1).T_NorwSea).lat.data.flatten())\n",
    "time =   (ds_area.where(ds_area.isel(obs=-1).F_NFaroes == False)\n",
    "                .where(ds_area.isel(obs=-1).F_RT_WSS)\n",
    "                .where(ds_area.isel(obs=-1).T_NorwSea).time.data.flatten())"
   ]
  },
  {
   "cell_type": "code",
   "execution_count": null,
   "metadata": {
    "slideshow": {
     "slide_type": "subslide"
    }
   },
   "outputs": [],
   "source": [
    "plot_tracks(lon,lat,time,'trajectories from Rockall Trough and Scottish Shelf and to Norwegian Sea')"
   ]
  },
  {
   "cell_type": "code",
   "execution_count": null,
   "metadata": {
    "slideshow": {
     "slide_type": "skip"
    }
   },
   "outputs": [],
   "source": [
    "lon =    (ds_area.where(ds_area.isel(obs=-1).F_NFaroes == False)\n",
    "                .where(ds_area.isel(obs=-1).F_RT_WSS)\n",
    "                .where(ds_area.isel(obs=-1).T_NSea)\n",
    "                .where(ds_area.isel(obs=-1).T_NorwSea == False).lon.data.flatten())\n",
    "lat =    (ds_area.where(ds_area.isel(obs=-1).F_NFaroes == False)\n",
    "                .where(ds_area.isel(obs=-1).F_RT_WSS)\n",
    "                .where(ds_area.isel(obs=-1).T_NSea)\n",
    "                .where(ds_area.isel(obs=-1).T_NorwSea == False).lat.data.flatten())\n",
    "time =   (ds_area.where(ds_area.isel(obs=-1).F_NFaroes == False)\n",
    "                .where(ds_area.isel(obs=-1).F_RT_WSS)\n",
    "                .where(ds_area.isel(obs=-1).T_NSea)\n",
    "                .where(ds_area.isel(obs=-1).T_NorwSea == False).time.data.flatten())"
   ]
  },
  {
   "cell_type": "code",
   "execution_count": null,
   "metadata": {
    "slideshow": {
     "slide_type": "subslide"
    }
   },
   "outputs": [],
   "source": [
    "plot_tracks(lon,lat,time,'trajectories from Rockall Trough and Scottish Shelf and to North Sea')"
   ]
  },
  {
   "cell_type": "markdown",
   "metadata": {
    "slideshow": {
     "slide_type": "slide"
    }
   },
   "source": [
    "### Tracks reaching FSC from south from west of Rockall"
   ]
  },
  {
   "cell_type": "code",
   "execution_count": null,
   "metadata": {
    "slideshow": {
     "slide_type": "skip"
    }
   },
   "outputs": [],
   "source": [
    "lon =    (ds_area.where(ds_area.isel(obs=-1).F_NFaroes == False)\n",
    "                .where(ds_area.isel(obs=-1).F_RT_WSS == False)\n",
    "                .where(ds_area.isel(obs=-1).F_WRB).lon.data.flatten())\n",
    "lat =    (ds_area.where(ds_area.isel(obs=-1).F_NFaroes == False)\n",
    "                .where(ds_area.isel(obs=-1).F_RT_WSS == False)\n",
    "                .where(ds_area.isel(obs=-1).F_WRB).lat.data.flatten())\n",
    "time =   (ds_area.where(ds_area.isel(obs=-1).F_NFaroes == False)\n",
    "                .where(ds_area.isel(obs=-1).F_RT_WSS == False)\n",
    "                .where(ds_area.isel(obs=-1).F_WRB).time.data.flatten())"
   ]
  },
  {
   "cell_type": "code",
   "execution_count": null,
   "metadata": {
    "slideshow": {
     "slide_type": "subslide"
    }
   },
   "outputs": [],
   "source": [
    "plot_tracks(lon,lat,time,'trajectories from west of Rockall')"
   ]
  },
  {
   "cell_type": "markdown",
   "metadata": {
    "slideshow": {
     "slide_type": "slide"
    }
   },
   "source": [
    "### Others"
   ]
  },
  {
   "cell_type": "code",
   "execution_count": null,
   "metadata": {
    "slideshow": {
     "slide_type": "skip"
    }
   },
   "outputs": [],
   "source": [
    "lon =    ds_area.where(ds_area.isel(obs=-1).F_WIceland).where(ds_area.isel(obs=-1).T_SIceland).lon.data.flatten()\n",
    "lat =    ds_area.where(ds_area.isel(obs=-1).F_WIceland).where(ds_area.isel(obs=-1).T_SIceland).lat.data.flatten()\n",
    "time =    ds_area.where(ds_area.isel(obs=-1).F_WIceland).where(ds_area.isel(obs=-1).T_SIceland).time.data.flatten()\n"
   ]
  },
  {
   "cell_type": "code",
   "execution_count": null,
   "metadata": {
    "slideshow": {
     "slide_type": "subslide"
    }
   },
   "outputs": [],
   "source": [
    "plot_tracks(lon,lat,time,'trajectories from W Iceland and return S Iceland')\n"
   ]
  },
  {
   "cell_type": "code",
   "execution_count": null,
   "metadata": {
    "slideshow": {
     "slide_type": "skip"
    }
   },
   "outputs": [],
   "source": [
    "lon =    ds_area.where(ds_area.isel(obs=-1).F_GreenSea).lon.data.flatten()\n",
    "lat =    ds_area.where(ds_area.isel(obs=-1).F_GreenSea).lat.data.flatten()\n",
    "time =    ds_area.where(ds_area.isel(obs=-1).F_GreenSea).time.data.flatten()\n"
   ]
  },
  {
   "cell_type": "code",
   "execution_count": null,
   "metadata": {
    "slideshow": {
     "slide_type": "subslide"
    }
   },
   "outputs": [],
   "source": [
    "plot_tracks(lon,lat,time,'trajectories from Greenland Sea')\n"
   ]
  },
  {
   "cell_type": "markdown",
   "metadata": {
    "slideshow": {
     "slide_type": "slide"
    }
   },
   "source": [
    "## Plot IFF section coloured by source"
   ]
  },
  {
   "cell_type": "code",
   "execution_count": null,
   "metadata": {
    "slideshow": {
     "slide_type": "subslide"
    }
   },
   "outputs": [],
   "source": [
    "plot_section_from_NW()"
   ]
  },
  {
   "cell_type": "code",
   "execution_count": null,
   "metadata": {
    "slideshow": {
     "slide_type": "subslide"
    }
   },
   "outputs": [],
   "source": [
    "plot_section_not_from_NW()"
   ]
  },
  {
   "cell_type": "markdown",
   "metadata": {
    "slideshow": {
     "slide_type": "slide"
    }
   },
   "source": [
    "## Estimate transports through FSC"
   ]
  },
  {
   "cell_type": "code",
   "execution_count": null,
   "metadata": {
    "slideshow": {
     "slide_type": "fragment"
    }
   },
   "outputs": [],
   "source": [
    "transports()"
   ]
  }
 ],
 "metadata": {
  "celltoolbar": "Slideshow",
  "kernelspec": {
   "display_name": "Python 3",
   "language": "python",
   "name": "python3"
  },
  "language_info": {
   "codemirror_mode": {
    "name": "ipython",
    "version": 3
   },
   "file_extension": ".py",
   "mimetype": "text/x-python",
   "name": "python",
   "nbconvert_exporter": "python",
   "pygments_lexer": "ipython3",
   "version": "3.7.4"
  }
 },
 "nbformat": 4,
 "nbformat_minor": 4
}
