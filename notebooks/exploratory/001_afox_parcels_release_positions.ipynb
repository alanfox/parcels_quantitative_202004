{
 "cells": [
  {
   "cell_type": "markdown",
   "metadata": {},
   "source": [
    "# Plot bathymetry to select release section\n",
    "\n",
    "Here, we'll have a look at the model topography to decide where best to release particles for a Lagrangian simulation of transports through the Greenland/Iceland/Shetland region. Easiest method is to get approx lat/lon from Google Maps, say, then check here for model topography in the region."
   ]
  },
  {
   "cell_type": "markdown",
   "metadata": {},
   "source": [
    "## Technical preamble"
   ]
  },
  {
   "cell_type": "code",
   "execution_count": null,
   "metadata": {},
   "outputs": [],
   "source": [
    "import cmocean\n",
    "import numpy as np\n",
    "from pathlib import Path\n",
    "import matplotlib.pyplot as plt\n",
    "import xarray as xr"
   ]
  },
  {
   "cell_type": "markdown",
   "metadata": {},
   "source": [
    "## Parameters"
   ]
  },
  {
   "cell_type": "code",
   "execution_count": null,
   "metadata": {},
   "outputs": [],
   "source": [
    "# parameters\n",
    "project_path = \"C:/Users/sa05af/OneDrive - SAMS/Projects/parcels_quantitative_202004/\"\n",
    "data_path = Path(\"data/external/iAtlantic/\")\n",
    "experiment_name = \"VIKING20X.L46-KKG36107B\"\n",
    "\n"
   ]
  },
  {
   "cell_type": "markdown",
   "metadata": {},
   "source": [
    "## Some helper functions"
   ]
  },
  {
   "cell_type": "code",
   "execution_count": null,
   "metadata": {},
   "outputs": [],
   "source": [
    "def find_i_j(lon, lat, LON, LAT):\n",
    "    '''  get indices of (lon, lat) point on NEMO grid (LON,LAT)\n",
    "         lon, lat: Point to get the indice\n",
    "         LON, LAT: NEMO nav_lon, nav_lat '''\n",
    "    a = abs(LAT - lat) + abs(LON - lon)\n",
    "    j, i = np.unravel_index(a.argmin(), a.shape)\n",
    "    return (i, j)\n",
    "\n",
    "def find_k(depth, DEPTH):\n",
    "    '''  get indices of (depth) point on NEMO grid (K)\n",
    "         depth: Point to get the indice\n",
    "         DEPTH: NEMO  gdept_1d\n",
    "         may not be perfect - finds index of closest T point\n",
    "         but close enough for this'''\n",
    "    a = abs(DEPTH - depth)\n",
    "    k = np.unravel_index(a.argmin(), a.shape)\n",
    "    return k\n",
    "\n"
   ]
  },
  {
   "cell_type": "markdown",
   "metadata": {},
   "source": [
    "## Find and load data"
   ]
  },
  {
   "cell_type": "code",
   "execution_count": null,
   "metadata": {},
   "outputs": [],
   "source": [
    "mesh_mask_file = project_path / data_path / \"mask\" / experiment_name / \"1_mesh_mask.nc\"\n",
    "print(mesh_mask_file)\n",
    "print(project_path / data_path)"
   ]
  },
  {
   "cell_type": "code",
   "execution_count": null,
   "metadata": {},
   "outputs": [],
   "source": [
    "mesh_mask = xr.open_dataset(mesh_mask_file)\n",
    "mesh_mask = mesh_mask.squeeze()\n",
    "mesh_mask = mesh_mask.set_coords([\"nav_lon\", \"nav_lat\", \"nav_lev\"])\n",
    "\n",
    "bathy = mesh_mask.mbathy.rename(\"number of water filled points\")\n",
    "\n",
    "depth = (mesh_mask.e3t_0 * mesh_mask.tmask).sum(axis=0)\n",
    "depth = depth.rename(\"bottom depth (partial cell) [m]\")\n"
   ]
  },
  {
   "cell_type": "markdown",
   "metadata": {},
   "source": [
    "## Plot for a larger region"
   ]
  },
  {
   "cell_type": "code",
   "execution_count": null,
   "metadata": {},
   "outputs": [],
   "source": [
    "y_min = 2200\n",
    "y_max = 2300\n",
    "x_min = 1750\n",
    "x_max = 1900\n",
    "\n",
    "fig, ax = plt.subplots(2, 1, figsize=(8, 12))\n",
    "\n",
    "depth.isel(y=slice(y_min, y_max), x=slice(x_min, x_max)).plot.contourf(\n",
    "    x=\"nav_lon\", y=\"nav_lat\",\n",
    "    cmap=cmocean.cm.deep,\n",
    "    ax=ax[0],  levels=np.arange(0, 1500, 100)\n",
    ");\n",
    "ax[0].set_title('VIKING20X')\n",
    "\n",
    "bathy.isel(y=slice(y_min, y_max), x=slice(x_min, x_max)).plot.contourf(\n",
    "    x=\"nav_lon\", y=\"nav_lat\",\n",
    "    cmap=cmocean.cm.deep,\n",
    "    ax=ax[1],  levels=np.arange(-0.5, 30.5, 1)\n",
    ")\n",
    "ax[1].set_title('VIKING20X')\n",
    "\n",
    "for _ax in ax:\n",
    "    _ax.plot(-7,62.2 , \"rx\", markersize=8, mew=3)\n",
    "    _ax.plot(-1.3,60.33 , \"rx\", markersize=8, mew=3)\n",
    "    \n",
    "fig.tight_layout();"
   ]
  },
  {
   "cell_type": "markdown",
   "metadata": {},
   "source": [
    "## Check that these are land points.  Use `find_i_j` function, included here."
   ]
  },
  {
   "cell_type": "code",
   "execution_count": null,
   "metadata": {},
   "outputs": [],
   "source": [
    "ije = find_i_j(-1.3,60.33,mesh_mask[\"nav_lon\"],mesh_mask[\"nav_lat\"])\n",
    "ijw = find_i_j(-7,62.2,mesh_mask[\"nav_lon\"],mesh_mask[\"nav_lat\"])\n",
    "\n",
    "print(ijw, bathy.data[ijw])\n",
    "print(ije, bathy.data[ije])\n"
   ]
  },
  {
   "cell_type": "markdown",
   "metadata": {},
   "source": [
    "### These numbers are transfered manually into the run script (runs at GEOMAR)."
   ]
  },
  {
   "cell_type": "code",
   "execution_count": null,
   "metadata": {},
   "outputs": [],
   "source": []
  }
 ],
 "metadata": {
  "kernelspec": {
   "display_name": "Python 3",
   "language": "python",
   "name": "python3"
  },
  "language_info": {
   "codemirror_mode": {
    "name": "ipython",
    "version": 3
   },
   "file_extension": ".py",
   "mimetype": "text/x-python",
   "name": "python",
   "nbconvert_exporter": "python",
   "pygments_lexer": "ipython3",
   "version": "3.7.4"
  }
 },
 "nbformat": 4,
 "nbformat_minor": 4
}
