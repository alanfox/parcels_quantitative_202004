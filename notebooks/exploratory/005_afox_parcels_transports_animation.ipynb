{
 "cells": [
  {
   "cell_type": "markdown",
   "metadata": {
    "slideshow": {
     "slide_type": "slide"
    }
   },
   "source": [
    "# Trying to make an animation of Lagrangian particles\n",
    "\n",
    "## Part of a project to quantify transports across the Greenland-Scotland section by source and destination\n",
    "\n",
    "- Lagrangian particle tracking in VIKING20X model\n",
    "\n",
    "- animation with matplotlib"
   ]
  },
  {
   "cell_type": "markdown",
   "metadata": {
    "slideshow": {
     "slide_type": "skip"
    }
   },
   "source": [
    "## Technical preamble"
   ]
  },
  {
   "cell_type": "code",
   "execution_count": null,
   "metadata": {
    "slideshow": {
     "slide_type": "skip"
    }
   },
   "outputs": [],
   "source": [
    "%matplotlib inline"
   ]
  },
  {
   "cell_type": "code",
   "execution_count": null,
   "metadata": {
    "slideshow": {
     "slide_type": "skip"
    }
   },
   "outputs": [],
   "source": [
    "\n",
    "\n",
    "from pathlib import Path\n",
    "import numpy as np\n",
    "import xarray as xr\n",
    "from datetime import datetime, timedelta\n",
    "import seaborn as sns\n",
    "import cmocean as co\n",
    "import matplotlib.pyplot as plt\n",
    "from matplotlib.animation import FuncAnimation\n",
    "from IPython.display import HTML\n",
    "\n",
    "np.warnings.filterwarnings('ignore')\n"
   ]
  },
  {
   "cell_type": "markdown",
   "metadata": {
    "slideshow": {
     "slide_type": "skip"
    }
   },
   "source": [
    "## Parameters"
   ]
  },
  {
   "cell_type": "code",
   "execution_count": null,
   "metadata": {
    "slideshow": {
     "slide_type": "skip"
    }
   },
   "outputs": [],
   "source": [
    "# release time\n",
    "\n",
    "trelease = np.datetime64('2015-12-16T12:00')\n",
    "\n",
    "# Project path\n",
    "project_path = Path.cwd() / '..' / '..' \n",
    "project_path = project_path.resolve()\n",
    "\n",
    "# project_path = Path(\"C:/Users/sa05af/OneDrive - SAMS/Projects/parcels_quantitative_202004/\")\n",
    "\n",
    "# select section FS, IF, or GI\n",
    "\n",
    "section = 'FS'\n",
    "\n",
    "if section == 'FS':\n",
    "    \n",
    "    # Faroe-Shetland\n",
    "    path_data_tracks = Path('data/processed/tracks/FaroeShetland/') \n",
    "    filename = 'tracks_parcels_FS_forwards_201512.nc'\n",
    "    filenameb = 'tracks_parcels_FS_backwards_201512.nc'\n",
    "    path_animation = Path('reports/animations/')\n",
    "    filename_animation = '005_afox_parcels_transports_animation_FS_201512.mp4'\n",
    "\n",
    "    #velocity conversions on FS channel (61N)\n",
    "\n",
    "    lat2metres = 60.0*1852.0\n",
    "    lon2metres = 60.0*1852.0*np.cos(np.radians(61.0))\n",
    "\n",
    "    sealandratio = 5591.0/20000.0\n",
    "    sectionAreaEW = 5.7 * 1500.0 * sealandratio * lon2metres  # very approx. mean depth x length between slopes.\n",
    "    sectionAreaNS = 1.87 * 1500.0 * sealandratio * lat2metres\n",
    "\n",
    "    \n",
    "elif section == 'IF':\n",
    "    \n",
    "    # Iceland-Faroe\n",
    "    path_data_tracks = Path('data/processed/tracks/IcelandFaroe/') \n",
    "    filename = 'tracks_parcels_IFR_forwards_201512.nc'\n",
    "    filenameb = 'tracks_parcels_IFR_backwards_201512.nc'\n",
    "    path_animation = Path('reports/animations/')\n",
    "    filename_animation = '005_afox_parcels_transports_animation_IF_201512.mp4'\n",
    "\n",
    "    #velocity conversions on IFR (63.5N)\n",
    "\n",
    "    lat2metres = 60.0*1852.0\n",
    "    lon2metres = 60.0*1852.0*np.cos(np.radians(63.5))\n",
    "\n",
    "    sealandratio = 9308.0/20000.0\n",
    "    sectionAreaEW = 7.0 * 700.0 * sealandratio * lon2metres  # very approx. mean depth x length between slopes.\n",
    "    sectionAreaNS = 2.8 * 700.0 * sealandratio * lat2metres\n",
    "    \n",
    "else:\n",
    "\n",
    "    # Greenland-Iceland\n",
    "    path_data_tracks = Path('data/processed/tracks/GreenlandIceland/') \n",
    "    filename = 'tracks_parcels_GI_forwards_201512.nc'\n",
    "    filenameb = 'tracks_parcels_GI_backwards_201512.nc'\n",
    "    path_animation = Path('reports/animations/')\n",
    "    filename_animation = '005_afox_parcels_transports_animation_GI_201512.mp4'\n",
    "\n",
    "    #velocity conversions on GI (67.3N)\n",
    "    lat2metres = 60.0*1852.0\n",
    "    lon2metres = 60.0*1852.0*np.cos(np.radians(67.3))\n",
    "\n",
    "    sealandratio = 2420.0/10000.0\n",
    "    sectionAreaEW = 5.73 * 1500.0 * sealandratio * lon2metres  # very approx. mean depth x length between slopes.\n",
    "    sectionAreaNS = 2.94 * 1500.0 * sealandratio * lat2metres\n",
    "\n",
    "# model mask file\n",
    "data_path = Path(\"data/external/iAtlantic/\")\n",
    "experiment_name = \"VIKING20X.L46-KKG36107B\"\n",
    "mesh_mask_file = project_path / data_path / \"mask\" / experiment_name / \"1_mesh_mask.nc\"\n"
   ]
  },
  {
   "cell_type": "markdown",
   "metadata": {},
   "source": [
    "## Helper functions"
   ]
  },
  {
   "cell_type": "code",
   "execution_count": null,
   "metadata": {},
   "outputs": [],
   "source": [
    "def apply_through_area(ds, min_lon, max_lon, min_lat, max_lat, min_time, max_time, criterion_name):\n",
    "    '''Apply an area crossing criterion.\n",
    "    \n",
    "    Larvae in ds selected if they pass through given area.\n",
    "    '''\n",
    "    # particles are selected if they pass through given area.\n",
    "    particle_out =  (\n",
    "                    (ds.lon > min_lon) * \n",
    "                    (ds.lon < max_lon) *\n",
    "                    (ds.lat > min_lat) * \n",
    "                    (ds.lat < max_lat) *\n",
    "                    (ds.time > min_time) *\n",
    "                    (ds.time < max_time)\n",
    "                    )\n",
    "                    \n",
    "#     particle_out = (ds.temp < max_lat)\n",
    "    \n",
    "\n",
    "    # last place in array determines if particle went through area  \n",
    "    is_thru = (particle_out.cumsum(\"obs\") != 0)\n",
    "    \n",
    "#     print(particle_out.max())\n",
    "    \n",
    "    # add data to original ds\n",
    "    ds[criterion_name] = is_thru\n",
    "    \n",
    "    return ds"
   ]
  },
  {
   "cell_type": "code",
   "execution_count": null,
   "metadata": {},
   "outputs": [],
   "source": [
    "def apply_left_of_line(ds, lon_1, lon_2, lat_1, lat_2, min_time, max_time, criterion_name):\n",
    "    '''Apply an area crossing criterion.\n",
    "    \n",
    "    Larvae in ds selected if they pass through given area.\n",
    "    '''\n",
    "    # particles are selected if they pass through given area.\n",
    "    particle_out =  ((((lon_2 -lon_1) * (ds.lat - lat_1) - \n",
    "                     (ds.lon - lon_1) * (lat_2 - lat_1))\n",
    "                     > 0.0) *\n",
    "                    (ds.time > min_time) *\n",
    "                    (ds.time < max_time))\n",
    "                    \n",
    "#     particle_out = (ds.temp < max_lat)\n",
    "    \n",
    "\n",
    "    # last place in array determines if particle went through area  \n",
    "    is_thru = (particle_out.cumsum(\"obs\") != 0)\n",
    "    \n",
    "#     print(particle_out.max())\n",
    "    \n",
    "    # add data to original ds\n",
    "    ds[criterion_name] = is_thru\n",
    "    \n",
    "    return ds"
   ]
  },
  {
   "cell_type": "code",
   "execution_count": null,
   "metadata": {},
   "outputs": [],
   "source": [
    "def mask_tracks_by_source_sink(ds_full,trelease):\n",
    "    # comes through Rockall Trough and W Scotland shelf\n",
    "    ds_area = apply_through_area(ds_full,-13.5,-6.5,57.25,57.75,\n",
    "                                 np.datetime64('2010-06-15'),trelease,\n",
    "                                 'F_RT_WSS')    \n",
    "    # comes northward west of Rockall Bank\n",
    "    ds_area = apply_through_area(ds_area,-60,-13.5,57.25,57.75,\n",
    "                                 np.datetime64('2010-06-15'),trelease,\n",
    "                                 'F_WRB')  \n",
    "    # comes clockwise round Iceland\n",
    "    ds_area = apply_through_area(ds_area,-22,-20,65,70,\n",
    "                                 np.datetime64('2010-06-15'),trelease,\n",
    "                                 'F_WIceland')  \n",
    "    # comes from NW\n",
    "    ds_area = apply_through_area(ds_area,-20,-6,68.5,70,\n",
    "                                 np.datetime64('2010-06-15'),trelease,\n",
    "                                 'F_GreenSea')  \n",
    "    # goes northeastward towards Arctic - all particles doing this pass north of Faroe\n",
    "    ds_area = apply_through_area(ds_area,-6.5,-5.5,62.3,64.5,\n",
    "                                 np.datetime64('2010-06-15'),trelease,\n",
    "                                 'F_NFaroes')    \n",
    "    # goes west south of Iceland in SPG\n",
    "    ds_area = apply_through_area(ds_area,-23,-22,62.,64.,\n",
    "                                 trelease,np.datetime64('2020-06-15'),\n",
    "                                 'T_SIceland')  \n",
    "    # goes to arctic\n",
    "    ds_area = apply_left_of_line(ds_area,0,7,65,62,\n",
    "                                 trelease,np.datetime64('2020-06-15'),\n",
    "                                 'T_NorwSea')\n",
    "    # goes to north sea\n",
    "    ds_area = apply_left_of_line(ds_area,5.1,-1.23,62.3,60.3,\n",
    "                                 trelease,np.datetime64('2020-06-15'),\n",
    "                                 'T_NSea')\n",
    "    return ds_area"
   ]
  },
  {
   "cell_type": "code",
   "execution_count": null,
   "metadata": {},
   "outputs": [],
   "source": [
    "def transports():\n",
    "    transport = (sectionAreaEW*dsb.isel(obs=0).vvel*lat2metres +\n",
    "                            sectionAreaNS*dsb.isel(obs=0).uvel*lon2metres)/nParticles\n",
    "    speed = np.sqrt((dsb.isel(obs=0).vvel*lat2metres)**2 + (dsb.isel(obs=0).uvel*lon2metres)**2)\n",
    "    return transport,speed"
   ]
  },
  {
   "cell_type": "markdown",
   "metadata": {
    "slideshow": {
     "slide_type": "slide"
    }
   },
   "source": [
    "## Load data"
   ]
  },
  {
   "cell_type": "markdown",
   "metadata": {
    "slideshow": {
     "slide_type": "skip"
    }
   },
   "source": [
    "### Forward tracks then backward tracks"
   ]
  },
  {
   "cell_type": "code",
   "execution_count": null,
   "metadata": {
    "slideshow": {
     "slide_type": "fragment"
    }
   },
   "outputs": [],
   "source": [
    "ds = xr.open_dataset(project_path / path_data_tracks / filename)\n",
    "ds.temp.attrs['standard_name'] = 'temperature'\n",
    "ds.temp.attrs['units'] = 'degree_C'\n",
    "dsb = xr.open_dataset(project_path / path_data_tracks / filenameb)\n",
    "dsb.temp.attrs['standard_name'] = 'temperature'\n",
    "dsb.temp.attrs['units'] = 'degree_C'\n",
    "\n",
    "ds_full = xr.concat([dsb,ds],dim='obs')\n",
    "\n",
    "display(ds_full)\n"
   ]
  },
  {
   "cell_type": "markdown",
   "metadata": {
    "slideshow": {
     "slide_type": "skip"
    }
   },
   "source": [
    "### Load model mesh mask"
   ]
  },
  {
   "cell_type": "code",
   "execution_count": null,
   "metadata": {
    "slideshow": {
     "slide_type": "skip"
    }
   },
   "outputs": [],
   "source": [
    "mesh_mask = xr.open_dataset(mesh_mask_file)\n",
    "mesh_mask = mesh_mask.squeeze()\n",
    "mesh_mask = mesh_mask.set_coords([\"nav_lon\", \"nav_lat\", \"nav_lev\"])\n",
    "\n",
    "bathy = mesh_mask.mbathy.rename(\"number of water filled points\")\n",
    "\n",
    "depth = (mesh_mask.e3t_0 * mesh_mask.tmask).sum(\"z\")\n",
    "# display(mesh_mask)"
   ]
  },
  {
   "cell_type": "markdown",
   "metadata": {
    "slideshow": {
     "slide_type": "skip"
    }
   },
   "source": [
    "## Calculate some basic parameters from data for later"
   ]
  },
  {
   "cell_type": "code",
   "execution_count": null,
   "metadata": {
    "slideshow": {
     "slide_type": "skip"
    }
   },
   "outputs": [],
   "source": [
    "nParticles = ds.sizes['traj']\n",
    "nobsb = dsb.sizes['obs']\n",
    "\n",
    "# calculate initial transports\n",
    "\n",
    "particle_transport,speed0 = transports()\n",
    "sizes = np.abs(particle_transport)/400.0\n"
   ]
  },
  {
   "cell_type": "markdown",
   "metadata": {},
   "source": [
    "### Find subsets of trajectories passing through different areas, either upstream or downstream\n",
    "\n",
    "This just tests whether particles were ever in an area, much easier than testing line crossings."
   ]
  },
  {
   "cell_type": "code",
   "execution_count": null,
   "metadata": {},
   "outputs": [],
   "source": [
    "ds_area = mask_tracks_by_source_sink(ds_full,trelease)"
   ]
  },
  {
   "cell_type": "markdown",
   "metadata": {
    "slideshow": {
     "slide_type": "slide"
    }
   },
   "source": [
    "### Animate trajectories"
   ]
  },
  {
   "cell_type": "code",
   "execution_count": null,
   "metadata": {
    "slideshow": {
     "slide_type": "skip"
    }
   },
   "outputs": [],
   "source": [
    "fig,ax = plt.subplots(figsize = (15,9))\n",
    "\n",
    "# subset to plot\n",
    "\n",
    "# ds_anim = (ds_area.where(ds_area.isel(obs=-1).F_NFaroes == False)\n",
    "#                  .where(ds_area.isel(obs=-1).T_NorwSea)\n",
    "#                  .where(ds_area.isel(obs=-1).F_RT_WSS))\n",
    "\n",
    "ds_anim = ds_area\n",
    "\n",
    "# plot depth contours and land boundary from model bathymetry background\n",
    "\n",
    "depth.isel(y=slice(1700, 2499), x=slice(1000, 2404)).plot.contour(\n",
    "    x=\"nav_lon\", y=\"nav_lat\", colors = 'grey', levels = [200,800,1500,2000,2500,3500],zorder = 1\n",
    ");\n",
    "depth.isel(y=slice(1700, 2499), x=slice(1000, 2404)).plot.contour(\n",
    "    x=\"nav_lon\", y=\"nav_lat\", colors = 'k', levels = [1]\n",
    ");\n",
    "plt.ylim(45,70)\n",
    "plt.xlim(-50,10)\n",
    "\n",
    "scat = ds_anim.isel(obs=nobsb-1).plot.scatter('lon','lat',hue='temp',\n",
    "                                     ax=ax,s=sizes,linewidth = 0.2,edgecolor = 'k',\n",
    "                                     cmap = co.cm.thermal,vmin = -1.0, vmax = 14,zorder=10)\n",
    "title = ax.set_title(dsb.isel(obs=-1).time.min(skipna = True).data)\n",
    "\n",
    "\n",
    "def animate(i):\n",
    "    if i < nobsb:\n",
    "        scat.set_offsets(np.c_[ds_anim.isel(obs=nobsb-1-i).lon.data,\n",
    "                               ds_anim.isel(obs=nobsb-1-i).lat.data])\n",
    "        scat.set_array(ds_anim.isel(obs=nobsb-1-i).temp.data)\n",
    "        title = ax.set_title(ds_anim.isel(obs=nobsb-1-i).time.min(skipna = True).data)\n",
    "    else:\n",
    "        scat.set_offsets(np.c_[ds_anim.isel(obs=i).lon.data,\n",
    "                               ds_anim.isel(obs=i).lat.data])\n",
    "        scat.set_array(ds_anim.isel(obs=i).temp.data)\n",
    "        title = ax.set_title(ds_anim.isel(obs=i).time.min(skipna = True).data)\n",
    "  \n",
    "    return scat,title\n",
    "\n",
    "anim = FuncAnimation(\n",
    "    fig, animate,frames = ds_full.sizes['obs'],interval = 10,blit = True)"
   ]
  },
  {
   "cell_type": "markdown",
   "metadata": {
    "slideshow": {
     "slide_type": "skip"
    }
   },
   "source": [
    "#### inline animation"
   ]
  },
  {
   "cell_type": "code",
   "execution_count": null,
   "metadata": {
    "slideshow": {
     "slide_type": "slide"
    }
   },
   "outputs": [],
   "source": [
    "HTML(anim.to_html5_video())"
   ]
  },
  {
   "cell_type": "code",
   "execution_count": null,
   "metadata": {
    "slideshow": {
     "slide_type": "skip"
    }
   },
   "outputs": [],
   "source": [
    "# to save to a file\n",
    "anim.save(project_path / path_animation / filename_animation)"
   ]
  },
  {
   "cell_type": "code",
   "execution_count": null,
   "metadata": {},
   "outputs": [],
   "source": []
  }
 ],
 "metadata": {
  "celltoolbar": "Slideshow",
  "kernelspec": {
   "display_name": "Python 3",
   "language": "python",
   "name": "python3"
  },
  "language_info": {
   "codemirror_mode": {
    "name": "ipython",
    "version": 3
   },
   "file_extension": ".py",
   "mimetype": "text/x-python",
   "name": "python",
   "nbconvert_exporter": "python",
   "pygments_lexer": "ipython3",
   "version": "3.7.6"
  }
 },
 "nbformat": 4,
 "nbformat_minor": 4
}
