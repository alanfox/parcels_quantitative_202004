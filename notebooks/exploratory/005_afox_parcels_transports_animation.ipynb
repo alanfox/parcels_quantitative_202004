{
 "cells": [
  {
   "cell_type": "markdown",
   "metadata": {
    "slideshow": {
     "slide_type": "slide"
    }
   },
   "source": [
    "# Trying to make an animation of Lagrangian particles\n",
    "\n",
    "## Part of a project to quantify transports across the Greenland-Scotland section by source and destination\n",
    "\n",
    "- Lagrangian particle tracking in VIKING20X model\n",
    "\n",
    "- animation with matplotlib"
   ]
  },
  {
   "cell_type": "markdown",
   "metadata": {
    "slideshow": {
     "slide_type": "skip"
    }
   },
   "source": [
    "## Technical preamble"
   ]
  },
  {
   "cell_type": "code",
   "execution_count": null,
   "metadata": {
    "slideshow": {
     "slide_type": "skip"
    }
   },
   "outputs": [],
   "source": [
    "%matplotlib inline"
   ]
  },
  {
   "cell_type": "code",
   "execution_count": null,
   "metadata": {
    "slideshow": {
     "slide_type": "skip"
    }
   },
   "outputs": [],
   "source": [
    "\n",
    "\n",
    "from pathlib import Path\n",
    "import numpy as np\n",
    "import xarray as xr\n",
    "from datetime import datetime, timedelta\n",
    "import seaborn as sns\n",
    "import cmocean as co\n",
    "import matplotlib.pyplot as plt\n",
    "from matplotlib.animation import FuncAnimation\n",
    "from IPython.display import HTML\n",
    "\n",
    "np.warnings.filterwarnings('ignore')\n"
   ]
  },
  {
   "cell_type": "markdown",
   "metadata": {
    "slideshow": {
     "slide_type": "skip"
    }
   },
   "source": [
    "## Parameters"
   ]
  },
  {
   "cell_type": "code",
   "execution_count": null,
   "metadata": {
    "slideshow": {
     "slide_type": "skip"
    }
   },
   "outputs": [],
   "source": [
    "# Project path\n",
    "project_path = Path.cwd() / '..' / '..' \n",
    "project_path = project_path.resolve()\n",
    "\n",
    "# project_path = Path(\"C:/Users/sa05af/OneDrive - SAMS/Projects/parcels_quantitative_202004/\")\n",
    "\n",
    "# Parcels track data file\n",
    "path_data_tracks = Path('data/processed/tracks/IcelandFaroe/') \n",
    "filename = 'Parcels_IFFForwards_1m_June2016_2000.nc'\n",
    "filenameb = 'Parcels_IFFBackwards_1m_June2016_2000.nc'\n",
    "\n",
    "# model mask file\n",
    "data_path = Path(\"data/external/iAtlantic/\")\n",
    "experiment_name = \"VIKING20X.L46-KKG36107B\"\n",
    "mesh_mask_file = project_path / data_path / \"mask\" / experiment_name / \"1_mesh_mask.nc\"\n"
   ]
  },
  {
   "cell_type": "markdown",
   "metadata": {
    "slideshow": {
     "slide_type": "slide"
    }
   },
   "source": [
    "## Load data"
   ]
  },
  {
   "cell_type": "markdown",
   "metadata": {
    "slideshow": {
     "slide_type": "skip"
    }
   },
   "source": [
    "### Forward tracks then backward tracks"
   ]
  },
  {
   "cell_type": "code",
   "execution_count": null,
   "metadata": {
    "slideshow": {
     "slide_type": "fragment"
    }
   },
   "outputs": [],
   "source": [
    "ds = xr.open_dataset(project_path / path_data_tracks / filename)\n",
    "dsb = xr.open_dataset(project_path / path_data_tracks / filenameb)\n",
    "ds_full = xr.concat([dsb,ds],dim='obs')\n"
   ]
  },
  {
   "cell_type": "markdown",
   "metadata": {
    "slideshow": {
     "slide_type": "skip"
    }
   },
   "source": [
    "### Load model mesh mask"
   ]
  },
  {
   "cell_type": "code",
   "execution_count": null,
   "metadata": {
    "slideshow": {
     "slide_type": "skip"
    }
   },
   "outputs": [],
   "source": [
    "mesh_mask = xr.open_dataset(mesh_mask_file)\n",
    "mesh_mask = mesh_mask.squeeze()\n",
    "mesh_mask = mesh_mask.set_coords([\"nav_lon\", \"nav_lat\", \"nav_lev\"])\n",
    "\n",
    "bathy = mesh_mask.mbathy.rename(\"number of water filled points\")\n",
    "\n",
    "depth = (mesh_mask.e3t_0 * mesh_mask.tmask).sum(\"z\")\n",
    "# display(mesh_mask)"
   ]
  },
  {
   "cell_type": "markdown",
   "metadata": {
    "slideshow": {
     "slide_type": "skip"
    }
   },
   "source": [
    "## Calculate some basic parameters from data for later"
   ]
  },
  {
   "cell_type": "code",
   "execution_count": null,
   "metadata": {
    "slideshow": {
     "slide_type": "skip"
    }
   },
   "outputs": [],
   "source": [
    "nParticles = ds.sizes['traj']\n",
    "nobsb = dsb.sizes['obs']\n"
   ]
  },
  {
   "cell_type": "markdown",
   "metadata": {
    "slideshow": {
     "slide_type": "slide"
    }
   },
   "source": [
    "### Animate trajectories"
   ]
  },
  {
   "cell_type": "code",
   "execution_count": null,
   "metadata": {},
   "outputs": [],
   "source": [
    "fig,ax = plt.subplots(figsize = (8,6))\n",
    "\n",
    "# plot depth contours and land boundary from model bathymetry background\n",
    "\n",
    "depth.isel(y=slice(1700, 2499), x=slice(1300, 2404)).plot.contour(\n",
    "    x=\"nav_lon\", y=\"nav_lat\", colors = 'grey', levels = [200,800,1500,2000,2500,3500],zorder = 1\n",
    ");\n",
    "depth.isel(y=slice(1700, 2499), x=slice(1300, 2404)).plot.contour(\n",
    "    x=\"nav_lon\", y=\"nav_lat\", colors = 'k', levels = [1]\n",
    ");\n",
    "plt.ylim(45,70)\n",
    "plt.xlim(-30,10)\n",
    "\n",
    "scat = dsb.isel(obs=-1).plot.scatter('lon','lat',hue='z',ax=ax,s=10,zorder=10)\n",
    "title = ax.set_title(dsb.isel(obs=-1).time.data[0])\n",
    "\n",
    "\n",
    "def animate(i):\n",
    "    if i < nobsb:\n",
    "        scat.set_offsets(np.c_[dsb.isel(obs=nobsb-1-i).lon.data,dsb.isel(obs=nobsb-1-i).lat.data])\n",
    "        scat.set_array(dsb.isel(obs=nobsb-1-i).z.data)\n",
    "        title = ax.set_title(dsb.isel(obs=nobsb-1-i).time.data[0])\n",
    "    else:\n",
    "        scat.set_offsets(np.c_[ds.isel(obs=i-nobsb).lon.data,ds.isel(obs=i-nobsb).lat.data])\n",
    "        scat.set_array(ds.isel(obs=i-nobsb).z.data)\n",
    "        title = ax.set_title(ds.isel(obs=i-nobsb).time.data[0])\n",
    "  \n",
    "    return scat,title\n",
    "\n",
    "anim = FuncAnimation(\n",
    "    fig, animate,frames = ds_full.sizes['obs'],interval = 100,blit = True)"
   ]
  },
  {
   "cell_type": "code",
   "execution_count": null,
   "metadata": {},
   "outputs": [],
   "source": [
    "# <insert animation setup code here>\n",
    "# to animate on screen (also contained in downloaded html file)\n",
    "HTML(anim.to_html5_video())\n",
    "\n",
    "# to save to a file\n",
    "#anim.save('test.mp4')"
   ]
  },
  {
   "cell_type": "code",
   "execution_count": null,
   "metadata": {},
   "outputs": [],
   "source": []
  }
 ],
 "metadata": {
  "celltoolbar": "Slideshow",
  "kernelspec": {
   "display_name": "Python 3",
   "language": "python",
   "name": "python3"
  },
  "language_info": {
   "codemirror_mode": {
    "name": "ipython",
    "version": 3
   },
   "file_extension": ".py",
   "mimetype": "text/x-python",
   "name": "python",
   "nbconvert_exporter": "python",
   "pygments_lexer": "ipython3",
   "version": "3.7.6"
  }
 },
 "nbformat": 4,
 "nbformat_minor": 4
}
