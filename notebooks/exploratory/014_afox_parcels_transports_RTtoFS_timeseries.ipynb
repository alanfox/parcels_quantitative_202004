{
 "cells": [
  {
   "cell_type": "markdown",
   "metadata": {
    "slideshow": {
     "slide_type": "slide"
    }
   },
   "source": [
    "# Quantify transports between Rockall Trough and Faroe Shetland Channel from either end.\n",
    "\n",
    "- Lagrangian particle tracking in VIKING20X model\n",
    "- Particles tracked backwards for 2 years from FS Channel and forward for 2 years from RT\n",
    "- Advection only\n",
    "- Transport calculations based on the idea of particle track representing a streamtube with constant along-tube transport everywhere\n",
    "- Store T and S to examine along-track T-S properties"
   ]
  },
  {
   "cell_type": "markdown",
   "metadata": {
    "slideshow": {
     "slide_type": "subslide"
    }
   },
   "source": [
    "This is one in a series of notebooks exploring the tracking output. Here we\n",
    "- load lagrangian trajectory data that has been written by OceanParcels from particle tracking in Viking20x model (currently using monthly mean fields for speed)\n",
    "    - particles tracked from a section across RT and FS\n",
    "    - random release points along section\n",
    "    - tracked forward from 6 RT for 2 years\n",
    "    - tracked backwards from FS for 2 years\n",
    "    - focus on 2014\n",
    "- use this to plot timeseries of transport through the source sections\n",
    "\n",
    "Transports associated with different pathways are estimated by assuming that each particle crossing FS Channel has an associated volume transport, which it maintains throughout its life, given by the \n",
    "                velocity across the section * total cross-sectional area / number of particles\n",
    "So like a streamtube...    \n",
    "\n",
    "I suspect that most of the volume transport is coming through quite quickly following the eastern boundary, but may be obscured in track plots and animations by all the eddying motions. Trying to check this with total transport and transport with longitude time series across the section."
   ]
  },
  {
   "cell_type": "markdown",
   "metadata": {
    "slideshow": {
     "slide_type": "skip"
    }
   },
   "source": [
    "## Technical preamble"
   ]
  },
  {
   "cell_type": "code",
   "execution_count": null,
   "metadata": {
    "slideshow": {
     "slide_type": "skip"
    }
   },
   "outputs": [],
   "source": [
    "%matplotlib inline\n",
    "\n",
    "import matplotlib.colors as colors\n",
    "import numpy as np\n",
    "from pathlib import Path\n",
    "import matplotlib.pyplot as plt\n",
    "import xarray as xr\n",
    "from datetime import datetime, timedelta\n",
    "import seaborn as sns\n",
    "from matplotlib.colors import ListedColormap\n",
    "import cmocean as co\n",
    "\n",
    "sns.set_palette(\"colorblind\")"
   ]
  },
  {
   "cell_type": "markdown",
   "metadata": {
    "slideshow": {
     "slide_type": "skip"
    }
   },
   "source": [
    "## Parameters"
   ]
  },
  {
   "cell_type": "code",
   "execution_count": null,
   "metadata": {
    "slideshow": {
     "slide_type": "skip"
    }
   },
   "outputs": [],
   "source": [
    "# Project path\n",
    "project_path = Path.cwd() \n",
    "project_path = project_path.resolve()\n",
    "\n",
    "# Parcels track data file\n",
    "path_data_tracks = Path('data_output') \n",
    "fname_FS = f'tracks_FS_backward_2014*D730*.nc'\n",
    "files_FS = list(sorted((project_path / path_data_tracks).glob(fname_FS)))\n",
    "\n",
    "fname_RT = f'tracks_RT_forwards_2014*D730*.nc'\n",
    "files_RT = list(sorted((project_path / path_data_tracks).glob(fname_RT)))\n",
    "\n",
    "\n",
    "# model mask file\n",
    "data_path = Path(\"/data/iAtlantic/\")\n",
    "experiment_name = \"VIKING20X.L46-KKG36107B\"\n",
    "mesh_mask_file = data_path / \"mask\" / experiment_name / \"1_mesh_mask.nc\""
   ]
  },
  {
   "cell_type": "code",
   "execution_count": null,
   "metadata": {
    "slideshow": {
     "slide_type": "skip"
    }
   },
   "outputs": [],
   "source": [
    "#velocity conversions in FS Channel\n",
    "\n",
    "lat2metres_FS = 60.0*1852.0\n",
    "lon2metres_FS = 60.0*1852.0*np.cos(np.radians(61.25))\n",
    "\n",
    "sealandratio_FS = 5591.0/20000.0\n",
    "sectionAreaEW_FS = 5.7 * 1500.0 * sealandratio_FS * lon2metres_FS  # very approx. mean depth x length between slopes.\n",
    "sectionAreaNS_FS = 1.87 * 1500.0 * sealandratio_FS * lat2metres_FS\n",
    "\n",
    "#velocity conversions in Rockall Trough\n",
    "\n",
    "lat2metres_RT = 60.0*1852.0\n",
    "lon2metres_RT = 60.0*1852.0*np.cos(np.radians(57.5))\n",
    "\n",
    "sealandratio_RT = 6007.0/20000.0\n",
    "sectionAreaEW_RT = 8.0 * 2500.0 * sealandratio_RT * lon2metres_RT  # very approx. mean depth x length between slopes.\n",
    "sectionAreaNS_RT = 0\n"
   ]
  },
  {
   "cell_type": "code",
   "execution_count": null,
   "metadata": {},
   "outputs": [],
   "source": [
    "def plot_tracks(x,y,z,title):\n",
    "    plt.figure(figsize = (12,9))\n",
    "\n",
    "    # plot tracks as scatter plots\n",
    "\n",
    "    plt.scatter(\n",
    "        x\n",
    "        ,y\n",
    "        ,3\n",
    "        ,z\n",
    "#        ,vmin = tvmin, vmax = tvmax\n",
    "        ,cmap = co.cm.delta\n",
    "    #    ,alpha=0.3\n",
    "    )\n",
    "    plt.colorbar(label = \"time [stupid units. range 4 years, all cross IFR at 2 years]\");\n",
    "\n",
    "    # plot depth contours and land boundary from model bathymetry\n",
    "    depth.isel(y=slice(1700, 2499), x=slice(1300, 2404)).plot.contour(\n",
    "        x=\"nav_lon\", y=\"nav_lat\", colors = 'grey', levels = [200,800,1500,2000,2500,3500]\n",
    "    );\n",
    "    depth.isel(y=slice(1700, 2499), x=slice(1300, 2404)).plot.contour(\n",
    "        x=\"nav_lon\", y=\"nav_lat\", colors = 'k', levels = [1]\n",
    "    );\n",
    "    # plt.savefig('upstream.png')\n",
    "    plt.ylim(45,70)\n",
    "    plt.xlim(-30,10)\n",
    "    plt.title(title)\n",
    "    plt.show()\n",
    "    return"
   ]
  },
  {
   "cell_type": "code",
   "execution_count": null,
   "metadata": {},
   "outputs": [],
   "source": [
    "def apply_through_area(ds, min_lon, max_lon, min_lat, max_lat, min_time, max_time, criterion_name):\n",
    "    '''Apply an area crossing criterion.\n",
    "    \n",
    "    Larvae in ds selected if they pass through given area.\n",
    "    '''\n",
    "    # particles are selected if they pass through given area.\n",
    "    particle_out =  (\n",
    "                    (ds.lon > min_lon) * \n",
    "                    (ds.lon < max_lon) *\n",
    "                    (ds.lat > min_lat) * \n",
    "                    (ds.lat < max_lat) *\n",
    "                    (ds.time > min_time) *\n",
    "                    (ds.time < max_time)\n",
    "                    )\n",
    "                    \n",
    "#     particle_out = (ds.temp < max_lat)\n",
    "    \n",
    "\n",
    "    # last place in array determines if particle went through area  \n",
    "    is_thru = (particle_out.cumsum(\"obs\") != 0)\n",
    "    \n",
    "#     print(particle_out.max())\n",
    "    \n",
    "    # add data to original ds\n",
    "    ds[criterion_name] = is_thru\n",
    "    \n",
    "    return ds"
   ]
  },
  {
   "cell_type": "code",
   "execution_count": null,
   "metadata": {},
   "outputs": [],
   "source": [
    "def apply_left_of_line(ds, lon_1, lon_2, lat_1, lat_2, min_time, max_time, criterion_name):\n",
    "    '''Apply an area crossing criterion.\n",
    "    \n",
    "    Larvae in ds selected if they pass through given area.\n",
    "    '''\n",
    "    # particles are selected if they pass through given area.\n",
    "    particle_out =  ((((lon_2 -lon_1) * (ds.lat - lat_1) - \n",
    "                     (ds.lon - lon_1) * (lat_2 - lat_1))\n",
    "                     > 0.0) *\n",
    "                    (ds.time > min_time) *\n",
    "                    (ds.time < max_time))\n",
    "                    \n",
    "#     particle_out = (ds.temp < max_lat)\n",
    "    \n",
    "\n",
    "    # last place in array determines if particle went through area  \n",
    "    is_thru = (particle_out.cumsum(\"obs\") != 0)\n",
    "    \n",
    "#     print(particle_out.max())\n",
    "    \n",
    "    # add data to original ds\n",
    "    ds[criterion_name] = is_thru\n",
    "    \n",
    "    return ds"
   ]
  },
  {
   "cell_type": "code",
   "execution_count": null,
   "metadata": {},
   "outputs": [],
   "source": [
    "def mask_tracks_by_source(ds_full):\n",
    "    # comes through Rockall Trough and W Scotland shelf\n",
    "    ds_area = apply_through_area(ds_full,-13.5,-6.5,57.25,57.75,\n",
    "                                 np.datetime64('2010-06-15'),np.datetime64('2020-06-15'),\n",
    "                                 'F_RT_WSS')    \n",
    "    # comes/goes northward west of Rockall Bank\n",
    "    ds_area = apply_through_area(ds_area,-60,-13.5,57.25,57.75,\n",
    "                                 np.datetime64('2010-06-15'),np.datetime64('2020-06-15'),\n",
    "                                 'FT_WRB')  \n",
    "    # comes/goes clockwise round Iceland\n",
    "    ds_area = apply_through_area(ds_area,-22,-20,65,70,np.datetime64('2010-06-15'),\n",
    "                                 np.datetime64('2020-06-15'),\n",
    "                                 'FT_WIceland')  \n",
    "    # comes/goes round Faroe\n",
    "    ds_area = apply_through_area(ds_area,-20,-6,68.5,70,\n",
    "                                 np.datetime64('2010-06-15'),np.datetime64('2020-06-15'),\n",
    "                                 'FT_GreenSea')  \n",
    "    # pass north of Faroe\n",
    "    ds_area = apply_through_area(ds_area,-6.5,-5.5,62.3,64.5,\n",
    "                                 np.datetime64('2010-06-15'),np.datetime64('2016-06-15'),\n",
    "                                 'FT_NFaroes')    \n",
    "    return ds_area"
   ]
  },
  {
   "cell_type": "code",
   "execution_count": null,
   "metadata": {},
   "outputs": [],
   "source": [
    "def mask_tracks_by_destination(ds_full):\n",
    "    # goes to arctic\n",
    "    ds_area = apply_left_of_line(ds_full,-7,-1.3,62.2,60.33,\n",
    "                                 np.datetime64('2010-06-15'),np.datetime64('2020-06-15'),\n",
    "                                 'T_FS')\n",
    "    # comes/goes northward west of Rockall Bank\n",
    "    ds_area = apply_through_area(ds_area,-60,-13.5,57.25,57.75,\n",
    "                                 np.datetime64('2010-06-15'),np.datetime64('2020-06-15'),\n",
    "                                 'FT_WRB')  \n",
    "    # comes/goes clockwise round Iceland\n",
    "    ds_area = apply_through_area(ds_area,-22,-20,65,70,np.datetime64('2010-06-15'),\n",
    "                                 np.datetime64('2020-06-15'),\n",
    "                                 'FT_WIceland')  \n",
    "    # comes/goes round Faroe\n",
    "    ds_area = apply_through_area(ds_area,-20,-6,68.5,70,\n",
    "                                 np.datetime64('2010-06-15'),np.datetime64('2020-06-15'),\n",
    "                                 'FT_GreenSea')  \n",
    "    # pass north of Faroe\n",
    "    ds_area = apply_through_area(ds_area,-6.5,-5.5,62.3,64.5,\n",
    "                                 np.datetime64('2010-06-15'),np.datetime64('2016-06-15'),\n",
    "                                 'FT_NFaroes')    \n",
    "    return ds_area"
   ]
  },
  {
   "cell_type": "markdown",
   "metadata": {
    "slideshow": {
     "slide_type": "slide"
    }
   },
   "source": [
    "## Load data"
   ]
  },
  {
   "cell_type": "markdown",
   "metadata": {
    "slideshow": {
     "slide_type": "skip"
    }
   },
   "source": [
    "### Load model mesh mask"
   ]
  },
  {
   "cell_type": "code",
   "execution_count": null,
   "metadata": {
    "slideshow": {
     "slide_type": "skip"
    }
   },
   "outputs": [],
   "source": [
    "mesh_mask = xr.open_dataset(mesh_mask_file)\n",
    "mesh_mask = mesh_mask.squeeze()\n",
    "mesh_mask = mesh_mask.set_coords([\"nav_lon\", \"nav_lat\", \"nav_lev\"])\n",
    "\n",
    "bathy = mesh_mask.mbathy.rename(\"number of water filled points\")\n",
    "\n",
    "depth = (mesh_mask.e3t_0 * mesh_mask.tmask).sum(\"z\")\n",
    "# display(mesh_mask)"
   ]
  },
  {
   "cell_type": "markdown",
   "metadata": {
    "slideshow": {
     "slide_type": "skip"
    }
   },
   "source": [
    "### Load tracks"
   ]
  },
  {
   "cell_type": "code",
   "execution_count": null,
   "metadata": {
    "slideshow": {
     "slide_type": "fragment"
    }
   },
   "outputs": [],
   "source": [
    "ds_FS = []\n",
    "for i,file in enumerate(files_FS):\n",
    "    ds_FS.append(xr.open_dataset(file))\n",
    "\n",
    "ds_FS_all = xr.concat(ds_FS,dim='traj')  \n",
    "\n",
    "ds_RT = []\n",
    "for i,file in enumerate(files_RT):\n",
    "    ds_RT.append(xr.open_dataset(file))\n",
    "\n",
    "ds_RT_all = xr.concat(ds_RT,dim='traj')  "
   ]
  },
  {
   "cell_type": "code",
   "execution_count": null,
   "metadata": {
    "slideshow": {
     "slide_type": "fragment"
    }
   },
   "outputs": [],
   "source": [
    "display(ds_FS_all)\n",
    "display(ds_RT_all)\n",
    "    "
   ]
  },
  {
   "cell_type": "markdown",
   "metadata": {
    "slideshow": {
     "slide_type": "skip"
    }
   },
   "source": [
    "## Calculate some basic parameters from data for later"
   ]
  },
  {
   "cell_type": "code",
   "execution_count": null,
   "metadata": {
    "slideshow": {
     "slide_type": "skip"
    }
   },
   "outputs": [],
   "source": [
    "nParticles_FS = ds_FS_all.sizes['traj']\n",
    "nParticles_RT = ds_RT_all.sizes['traj']\n"
   ]
  },
  {
   "cell_type": "markdown",
   "metadata": {
    "slideshow": {
     "slide_type": "slide"
    }
   },
   "source": [
    "### Find subsets of trajectories passing through different areas, either upstream or downstream\n",
    "\n",
    "This just tests whether particles were ever in an area, much easier than testing line crossings."
   ]
  },
  {
   "cell_type": "code",
   "execution_count": null,
   "metadata": {
    "slideshow": {
     "slide_type": "skip"
    }
   },
   "outputs": [],
   "source": [
    "ds_FS_all_routes = mask_tracks_by_source(ds_FS_all)\n",
    "ds_RT_all_routes = mask_tracks_by_destination(ds_RT_all)\n"
   ]
  },
  {
   "cell_type": "markdown",
   "metadata": {
    "slideshow": {
     "slide_type": "slide"
    }
   },
   "source": [
    "## Plot tracks and time series for some cases"
   ]
  },
  {
   "cell_type": "markdown",
   "metadata": {
    "slideshow": {
     "slide_type": "slide"
    }
   },
   "source": [
    "### Tracks ending at FSC coming from south through Rockall Trough"
   ]
  },
  {
   "cell_type": "code",
   "execution_count": null,
   "metadata": {
    "slideshow": {
     "slide_type": "skip"
    }
   },
   "outputs": [],
   "source": [
    "ds_slice = ds_FS_all_routes.isel(traj=slice(0,-1,100))\n",
    "lon =    (ds_slice.where(ds_slice.isel(obs=-1).FT_NFaroes == False)\n",
    "                .where(ds_slice.isel(obs=-1).FT_WRB == False)\n",
    "                .where(ds_slice.isel(obs=-1).F_RT_WSS).lon.data.flatten())\n",
    "lat =    (ds_slice.where(ds_slice.isel(obs=-1).FT_NFaroes == False)\n",
    "                .where(ds_slice.isel(obs=-1).FT_WRB == False)\n",
    "                .where(ds_slice.isel(obs=-1).F_RT_WSS).lat.data.flatten())\n",
    "time =   (ds_slice.where(ds_slice.isel(obs=-1).FT_NFaroes == False)\n",
    "                .where(ds_slice.isel(obs=-1).FT_WRB == False)\n",
    "                .where(ds_slice.isel(obs=-1).F_RT_WSS).z.data.flatten())"
   ]
  },
  {
   "cell_type": "code",
   "execution_count": null,
   "metadata": {
    "slideshow": {
     "slide_type": "subslide"
    }
   },
   "outputs": [],
   "source": [
    "plot_tracks(lon,lat,time,'trajectories from Rockall Trough and Scottish Shelf and south to north through F-S Channel')"
   ]
  },
  {
   "cell_type": "markdown",
   "metadata": {
    "slideshow": {
     "slide_type": "slide"
    }
   },
   "source": [
    "### Tracks starting at RT going north through FS Channel"
   ]
  },
  {
   "cell_type": "code",
   "execution_count": null,
   "metadata": {
    "slideshow": {
     "slide_type": "skip"
    }
   },
   "outputs": [],
   "source": [
    "ds_slice = ds_RT_all_routes.isel(traj=slice(0,-1,100))\n",
    "lon =    (ds_slice.where(ds_slice.isel(obs=-1).FT_NFaroes == False)\n",
    "                .where(ds_slice.isel(obs=-1).FT_WRB == False)\n",
    "                .where(ds_slice.isel(obs=-1).T_FS).lon.data.flatten())\n",
    "lat =    (ds_slice.where(ds_slice.isel(obs=-1).FT_NFaroes == False)\n",
    "                .where(ds_slice.isel(obs=-1).FT_WRB == False)\n",
    "                .where(ds_slice.isel(obs=-1).T_FS).lat.data.flatten())\n",
    "time =   (ds_slice.where(ds_slice.isel(obs=-1).FT_NFaroes == False)\n",
    "                .where(ds_slice.isel(obs=-1).FT_WRB == False)\n",
    "                .where(ds_slice.isel(obs=-1).T_FS).z.data.flatten())"
   ]
  },
  {
   "cell_type": "code",
   "execution_count": null,
   "metadata": {
    "slideshow": {
     "slide_type": "subslide"
    }
   },
   "outputs": [],
   "source": [
    "plot_tracks(lon,lat,time,'trajectories from Rockall Trough and Scottish Shelf and south to north through F-S Channel')"
   ]
  },
  {
   "cell_type": "markdown",
   "metadata": {},
   "source": [
    "### Transport time series"
   ]
  },
  {
   "cell_type": "code",
   "execution_count": null,
   "metadata": {},
   "outputs": [],
   "source": [
    "ParticleTransport_FS = (sectionAreaEW_FS*ds_FS_all.isel(obs=0).vvel*lat2metres_FS +\n",
    "                            sectionAreaNS_FS*ds_FS_all.isel(obs=0).uvel*lon2metres_FS)/(nParticles_FS*1.0e06)\n"
   ]
  },
  {
   "cell_type": "code",
   "execution_count": null,
   "metadata": {},
   "outputs": [],
   "source": [
    "y = ParticleTransport_FS*ds_FS_all_routes.F_RT_WSS*(1-ds_FS_all_routes.FT_NFaroes)*(1-ds_FS_all_routes.FT_WRB)"
   ]
  },
  {
   "cell_type": "code",
   "execution_count": null,
   "metadata": {},
   "outputs": [],
   "source": [
    "display(ParticleTransport_FS*ds_FS_all_routes.F_RT_WSS)"
   ]
  },
  {
   "cell_type": "code",
   "execution_count": null,
   "metadata": {},
   "outputs": [],
   "source": [
    "y.name =  'volume_transport'\n",
    "y.attrs[\"units\"]  = 'Sv'\n",
    "\n",
    "fig,ax = plt.subplots(2,figsize = (12,5))\n",
    "\n",
    "fig.suptitle('Time series of volume of water passing $57.5\\degree$N reaching FS Channel on 2016-06-16')\n",
    "ax[0].set_ylabel(y.name + ' ['+y.attrs[\"units\"]+']')\n",
    "ax[0].plot(ds_FS_all_routes.time.min(\"traj\").data[:729],y.sum(\"traj\")[:730].diff(\"obs\"),alpha = 0.3)\n",
    "ax[0].set_prop_cycle(None)\n",
    "ax[0].plot(ds_FS_all_routes.time.min(\"traj\").data[:729],\n",
    "        y.sum(\"traj\")[:730].diff(\"obs\").rolling(obs=14,center = True).mean())\n",
    "\n",
    "\n",
    "ax[1].set_ylabel('cumulative_'+y.name + '\\n after time ['+y.attrs[\"units\"]+']')\n",
    "ax[1].plot(ds_FS_all_routes.time.min(\"traj\").data[:730],y.sum(\"traj\")[:730])\n",
    "\n",
    "plt.show()"
   ]
  },
  {
   "cell_type": "code",
   "execution_count": null,
   "metadata": {},
   "outputs": [],
   "source": []
  },
  {
   "cell_type": "markdown",
   "metadata": {
    "slideshow": {
     "slide_type": "slide"
    }
   },
   "source": [
    "## Estimate transports through FSC"
   ]
  },
  {
   "cell_type": "code",
   "execution_count": null,
   "metadata": {
    "slideshow": {
     "slide_type": "fragment"
    }
   },
   "outputs": [],
   "source": [
    "transports()"
   ]
  }
 ],
 "metadata": {
  "celltoolbar": "Slideshow",
  "kernelspec": {
   "display_name": "Python [conda env:py3_lagrange]",
   "language": "python",
   "name": "conda-env-py3_lagrange-py"
  },
  "language_info": {
   "codemirror_mode": {
    "name": "ipython",
    "version": 3
   },
   "file_extension": ".py",
   "mimetype": "text/x-python",
   "name": "python",
   "nbconvert_exporter": "python",
   "pygments_lexer": "ipython3",
   "version": "3.6.7"
  }
 },
 "nbformat": 4,
 "nbformat_minor": 4
}
