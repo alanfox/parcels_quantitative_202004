{
 "cells": [
  {
   "cell_type": "markdown",
   "metadata": {
    "slideshow": {
     "slide_type": "slide"
    }
   },
   "source": [
    "# OSNAP Parcels Experiments\n"
   ]
  },
  {
   "cell_type": "markdown",
   "metadata": {
    "slideshow": {
     "slide_type": "skip"
    }
   },
   "source": [
    "## Technical preamble"
   ]
  },
  {
   "cell_type": "code",
   "execution_count": null,
   "metadata": {
    "slideshow": {
     "slide_type": "skip"
    }
   },
   "outputs": [],
   "source": [
    "# import matplotlib.colors as colors\n",
    "import numpy as np\n",
    "from pathlib import Path\n",
    "import matplotlib.pyplot as plt\n",
    "import xarray as xr\n",
    "from datetime import datetime, timedelta\n",
    "import seaborn as sns\n",
    "# from matplotlib.colors import ListedColormap\n",
    "import cmocean as co\n",
    "import pandas as pd\n",
    "import matplotlib.dates as mdates\n",
    "import cartopy.crs as ccrs\n",
    "import cartopy\n",
    "import seawater as sw\n",
    "\n",
    "\n",
    "xr.set_options(keep_attrs=True)\n"
   ]
  },
  {
   "cell_type": "code",
   "execution_count": null,
   "metadata": {
    "slideshow": {
     "slide_type": "fragment"
    }
   },
   "outputs": [],
   "source": [
    "## Parameters\n",
    "# Project path\n",
    "project_path = Path.cwd() / '..' / '..' \n",
    "project_path = project_path.resolve()\n",
    "\n",
    "# Parcels track data file\n",
    "path_data_tracks = Path('data/processed/tracks/osnap/') \n",
    "filename_tracks_1 = 'tracks_osnap_backward_201301_N19886_D730_Rnd123.nc'\n",
    "filename_tracks_2 = 'tracks_osnap_backward_201307_N19886_D730_Rnd123.nc'\n",
    "\n",
    "# model mask file\n",
    "data_path = Path(\"data/external/iAtlantic/\")\n",
    "experiment_name = \"VIKING20X.L46-KKG36107B\"\n",
    "mesh_mask_file = project_path / data_path / \"mask\" / experiment_name / \"1_mesh_mask.nc\"\n",
    "\n",
    "#section lonlat file\n",
    "sectionPath = Path('data/external/sections/')\n",
    "sectionFilename = 'osnap_pos_wp.txt'\n",
    "sectionname = 'osnap'\n",
    "gsrsectionFilename = 'gsr_pos_wp.txt'\n",
    "\n",
    "degree2km = 1.852*60.0\n",
    "\n",
    "\n",
    "# some transport values specific to osnap runs\n",
    "# randomly seeded 39995 particles, 19886 were in ocean points (the rest were land)\n",
    "\n",
    "osnap_section_length = 3594572.87839    # m\n",
    "osnap_section_depth = 4000 # m over which particles launched\n",
    "\n",
    "osnap_section_ocean_area = osnap_section_length * osnap_section_depth * 19886.0 / 39995.0\n",
    "\n",
    "particle_section_area = osnap_section_length * osnap_section_depth / 39995.0\n"
   ]
  },
  {
   "cell_type": "markdown",
   "metadata": {
    "slideshow": {
     "slide_type": "skip"
    }
   },
   "source": [
    "## plotting functions"
   ]
  },
  {
   "cell_type": "code",
   "execution_count": null,
   "metadata": {},
   "outputs": [],
   "source": [
    "# range of stations from west to east, stations 0-12. Python indexing.\n",
    "\n",
    "def conditionalplotTracksBetweenLonsCartopy(ds,condition,lonRange,depthRange,cmap=co.cm.tempo_r):\n",
    "    \n",
    "    dsmask = ds.where(ds.isel(obs=0).lon > lonRange[0]).where(ds.isel(obs=0).lon < lonRange[1])\n",
    "    dsmask = dsmask.where(ds.isel(obs=0).z > depthRange[0]).where(ds.isel(obs=0).z < depthRange[1])\n",
    "    \n",
    "    dscond = dsmask.where(condition).dropna('traj', how='all')\n",
    "\n",
    "    central_lon, central_lat = -30, 50\n",
    "    sns.set(style=\"whitegrid\")\n",
    "    fig, ax = plt.subplots(figsize = (16,10),subplot_kw={'projection': ccrs.Orthographic(central_lon, central_lat)})\n",
    "    extent = [-60, 0, 30, 70]\n",
    "    ax.set_extent(extent)\n",
    "    ax.gridlines()\n",
    "    ax.coastlines(resolution='50m')\n",
    "\n",
    "\n",
    "    pcm = ax.scatter(\n",
    "        dscond.lon.data.flatten(),\n",
    "        dscond.lat.data.flatten(),\n",
    "        3,\n",
    "#         (dsmask.time.data.flatten()-ds.time.isel(obs=0,traj=0).data).astype('timedelta64[D]')\n",
    "        mdates.date2num(dscond.time.data.flatten())\n",
    "        ,cmap= cmap\n",
    "        ,zorder=2\n",
    "        ,transform=ccrs.PlateCarree()\n",
    "    #   ,alpha=0.3\n",
    "    )\n",
    "    cb = fig.colorbar(pcm,ax=ax,label = \"date\")\n",
    "    loc = mdates.MonthLocator()\n",
    "    cb.ax.yaxis.set_major_locator(loc)\n",
    "    cb.ax.yaxis.set_major_formatter(mdates.ConciseDateFormatter(loc))\n",
    "\n",
    "\n",
    "    depth.isel(y=slice(1400, 2499), x=slice(0, 2404)).plot.contour(ax=ax,transform=ccrs.PlateCarree(),\n",
    "        x=\"nav_lon\", y=\"nav_lat\", colors = 'grey', levels = [200,800,1500,2000,2500,3500],zorder=1\n",
    "    );\n",
    "#     depth.isel(y=slice(1400, 2499), x=slice(0, 2404)).plot.contour(ax=ax,transform=ccrs.PlateCarree(),\n",
    "#         x=\"nav_lon\", y=\"nav_lat\", colors = 'k', levels = [1],zorder=3\n",
    "#     );\n",
    "\n",
    "    ax.scatter(\n",
    "        ds.lon.isel(obs=0).data.flatten(),\n",
    "        ds.lat.isel(obs=0).data.flatten(),2,zorder=4,\n",
    "        transform=ccrs.PlateCarree()\n",
    "    )\n",
    "    ax.scatter(\n",
    "        dsmask.lon.isel(obs=0).data.flatten(),\n",
    "        dsmask.lat.isel(obs=0).data.flatten(),2,zorder=5,\n",
    "        transform=ccrs.PlateCarree()\n",
    "    )\n",
    "\n",
    "    return\n"
   ]
  },
  {
   "cell_type": "markdown",
   "metadata": {},
   "source": [
    "### Position test function"
   ]
  },
  {
   "cell_type": "code",
   "execution_count": null,
   "metadata": {},
   "outputs": [],
   "source": [
    "def apply_left_of_line(ds, lon_1, lon_2, lat_1, lat_2):\n",
    "    '''Apply an area crossing criterion.\n",
    "    \n",
    "    Larvae in ds selected while they are in a selected area.\n",
    "    '''\n",
    "    # particles are selected if they pass through given area.\n",
    "    position =  ((lon_2 -lon_1) * (ds.lat - lat_1) - \n",
    "                     (ds.lon - lon_1) * (lat_2 - lat_1))\n",
    "                        \n",
    "    return position >= 0.0, position < 0"
   ]
  },
  {
   "cell_type": "markdown",
   "metadata": {
    "slideshow": {
     "slide_type": "slide"
    }
   },
   "source": [
    "## Load data"
   ]
  },
  {
   "cell_type": "code",
   "execution_count": null,
   "metadata": {
    "slideshow": {
     "slide_type": "fragment"
    }
   },
   "outputs": [],
   "source": [
    "ds_1 = xr.open_dataset(project_path / path_data_tracks / filename_tracks_1)\n",
    "ds_2 = xr.open_dataset(project_path / path_data_tracks / filename_tracks_2)\n",
    "\n",
    "display(ds_1)\n",
    "# ds.isel(obs=0).z.max()"
   ]
  },
  {
   "cell_type": "markdown",
   "metadata": {},
   "source": [
    "## Velocity conversions from degrees lat/lon per second to m/s"
   ]
  },
  {
   "cell_type": "code",
   "execution_count": null,
   "metadata": {},
   "outputs": [],
   "source": [
    "ds_1=ds_1.assign({'uvel_ms':ds_1.uvel * degree2km * 1000.0 * np.cos(np.radians(ds_1.lat))})\n",
    "ds_1=ds_1.assign({'vvel_ms':ds_1.vvel * degree2km * 1000.0})\n",
    "ds_2=ds_2.assign({'uvel_ms':ds_2.uvel * degree2km * 1000.0 * np.cos(np.radians(ds_2.lat))})\n",
    "ds_2=ds_2.assign({'vvel_ms':ds_2.vvel * degree2km * 1000.0})\n"
   ]
  },
  {
   "cell_type": "code",
   "execution_count": null,
   "metadata": {
    "slideshow": {
     "slide_type": "skip"
    }
   },
   "outputs": [],
   "source": [
    "mesh_mask = xr.open_dataset(mesh_mask_file)\n",
    "mesh_mask = mesh_mask.squeeze()\n",
    "mesh_mask = mesh_mask.set_coords([\"nav_lon\", \"nav_lat\", \"nav_lev\"])\n",
    "\n",
    "bathy = mesh_mask.mbathy.rename(\"number of water filled points\")\n",
    "\n",
    "depth = (mesh_mask.e3t_0 * mesh_mask.tmask).sum(\"z\")\n",
    "# display(mesh_mask)"
   ]
  },
  {
   "cell_type": "markdown",
   "metadata": {
    "slideshow": {
     "slide_type": "slide"
    }
   },
   "source": [
    "### section position data"
   ]
  },
  {
   "cell_type": "code",
   "execution_count": null,
   "metadata": {
    "slideshow": {
     "slide_type": "skip"
    }
   },
   "outputs": [],
   "source": [
    "lonlat = xr.Dataset(pd.read_csv(project_path / sectionPath / sectionFilename,delim_whitespace=True))\n",
    "lonlat['lon'] *= -1.0\n",
    "\n",
    "lonlat"
   ]
  },
  {
   "cell_type": "code",
   "execution_count": null,
   "metadata": {
    "slideshow": {
     "slide_type": "skip"
    }
   },
   "outputs": [],
   "source": [
    "lonlat.lon.attrs['long_name']='Longitude'\n",
    "lonlat.lat.attrs['long_name']='Latitude'\n",
    "lonlat.lon.attrs['standard_name']='longitude'\n",
    "lonlat.lat.attrs['standard_name']='latitude'\n",
    "lonlat.lon.attrs['units']='degrees_east'\n",
    "lonlat.lat.attrs['units']='degrees_north'\n",
    "\n",
    "lonlat2mean= lonlat.rolling({'dim_0':2}).mean()\n",
    "\n",
    "lonlatdiff = (lonlat.diff('dim_0'))\n",
    "\n",
    "lonlatdiff = lonlatdiff.assign({'y':lonlatdiff['lat']*degree2km})\n",
    "lonlatdiff = lonlatdiff.assign({'x':lonlatdiff['lon']*degree2km*np.cos(np.radians(lonlat2mean.lat.data[1:]))})\n",
    "lonlatdiff=lonlatdiff.assign({'length':np.sqrt(lonlatdiff['x']**2+lonlatdiff['y']**2)})\n",
    "lonlatdiff=lonlatdiff.assign({'costheta':lonlatdiff['x']/lonlatdiff['length']})\n",
    "lonlatdiff=lonlatdiff.assign({'sintheta':lonlatdiff['y']/lonlatdiff['length']})\n",
    "\n",
    "total_length = lonlatdiff.length.sum().data \n",
    "total_osnap_length = lonlatdiff.length[0:12].sum().data;  # exclude section across UK - just there for testing north/south\n",
    "\n",
    "\n",
    "lonlatdiff"
   ]
  },
  {
   "cell_type": "markdown",
   "metadata": {},
   "source": [
    "## Find initial velocities normal to the section"
   ]
  },
  {
   "cell_type": "code",
   "execution_count": null,
   "metadata": {},
   "outputs": [],
   "source": [
    "ds_1_init = ds_1.isel(obs=0)\n",
    "ds_1_init = ds_1_init.assign({'section_index':xr.DataArray(np.searchsorted(lonlat.lon,ds_1_init.lon)-1,dims='traj')})\n",
    "ds_2_init = ds_2.isel(obs=0)\n",
    "ds_2_init = ds_2_init.assign({'section_index':xr.DataArray(np.searchsorted(lonlat.lon,ds_2_init.lon)-1,dims='traj')})\n"
   ]
  },
  {
   "cell_type": "code",
   "execution_count": null,
   "metadata": {},
   "outputs": [],
   "source": [
    "ds_1_init = ds_1_init.assign({'u_normal':ds_1_init.vvel_ms * lonlatdiff.costheta[ds_1_init.section_index].data - ds_1_init.uvel_ms * lonlatdiff.sintheta[ds_1_init.section_index].data})\n",
    "ds_1_init = ds_1_init.assign({'u_along':ds_1_init.vvel_ms * lonlatdiff.sintheta[ds_1_init.section_index].data + ds_1_init.uvel_ms * lonlatdiff.costheta[ds_1_init.section_index].data})\n",
    "ds_2_init = ds_2_init.assign({'u_normal':ds_2_init.vvel_ms * lonlatdiff.costheta[ds_2_init.section_index].data - ds_2_init.uvel_ms * lonlatdiff.sintheta[ds_2_init.section_index].data})\n",
    "ds_2_init = ds_2_init.assign({'u_along':ds_2_init.vvel_ms * lonlatdiff.sintheta[ds_2_init.section_index].data + ds_2_init.uvel_ms * lonlatdiff.costheta[ds_2_init.section_index].data})\n"
   ]
  },
  {
   "cell_type": "markdown",
   "metadata": {},
   "source": [
    "## Find along-section distances of initial points"
   ]
  },
  {
   "cell_type": "code",
   "execution_count": null,
   "metadata": {},
   "outputs": [],
   "source": [
    "length_west = xr.concat((xr.DataArray([0],dims=(\"dim_0\"),coords={\"dim_0\": [0]}),lonlatdiff.length.cumsum()),dim='dim_0')\n",
    "\n",
    "ds_1_init = ds_1_init.assign({'x':xr.DataArray(length_west[ds_1_init.section_index] + lonlatdiff.length[ds_1_init.section_index]*\n",
    "                              (ds_1_init.lon - lonlat.lon[ds_1_init.section_index])/lonlatdiff.lon[ds_1_init.section_index],dims='traj')})\n",
    "ds_2_init = ds_2_init.assign({'x':xr.DataArray(length_west[ds_2_init.section_index] + lonlatdiff.length[ds_2_init.section_index]*\n",
    "                              (ds_2_init.lon - lonlat.lon[ds_2_init.section_index])/lonlatdiff.lon[ds_2_init.section_index],dims='traj')})"
   ]
  },
  {
   "cell_type": "markdown",
   "metadata": {},
   "source": [
    "## Plot section"
   ]
  },
  {
   "cell_type": "code",
   "execution_count": null,
   "metadata": {
    "slideshow": {
     "slide_type": "fragment"
    }
   },
   "outputs": [],
   "source": [
    "sns.set(style=\"whitegrid\")\n",
    "central_lon, central_lat = -30, 55\n",
    "fig, ax = plt.subplots(subplot_kw={'projection': ccrs.Orthographic(central_lon, central_lat)})\n",
    "extent = [-60, 0, 40, 70]\n",
    "ax.set_extent(extent)\n",
    "ax.gridlines()\n",
    "ax.coastlines(resolution='50m')\n",
    "\n",
    "lonlat.plot.scatter(ax=ax,transform=ccrs.PlateCarree(),x='lon',y='lat')\n",
    "lonlat2mean.plot.scatter(ax=ax,transform=ccrs.PlateCarree(),x='lon',y='lat')"
   ]
  },
  {
   "cell_type": "markdown",
   "metadata": {
    "slideshow": {
     "slide_type": "skip"
    }
   },
   "source": [
    "## Have a quick look"
   ]
  },
  {
   "cell_type": "markdown",
   "metadata": {
    "slideshow": {
     "slide_type": "slide"
    }
   },
   "source": [
    "### Release positions of the particles"
   ]
  },
  {
   "cell_type": "code",
   "execution_count": null,
   "metadata": {
    "slideshow": {
     "slide_type": "fragment"
    }
   },
   "outputs": [],
   "source": [
    "sns.set(style=\"darkgrid\")\n",
    "fig,ax = plt.subplots(3,2,figsize = (18,12))\n",
    "\n",
    "pcm = ax[0,0].scatter(ds_1_init.x.data.flatten(),\n",
    "                    ds_1_init.z.data.flatten(),\n",
    "                    2,\n",
    "                    ds_1_init.salt.data.flatten(),\n",
    "                    vmin=34.5,vmax=35.5,\n",
    "                    cmap=co.cm.haline)\n",
    "ax[0,0].set_ylim(0,4000)\n",
    "ax[0,0].invert_yaxis()\n",
    "fig.colorbar(pcm,ax=ax[0,0],label = \"Salinity [PSU]\",extend='both')\n",
    "\n",
    "pcm = ax[1,0].scatter(ds_2_init.x.data.flatten(),\n",
    "                    ds_2_init.z.data.flatten(),\n",
    "                    2,\n",
    "                    ds_2_init.salt.data.flatten(),\n",
    "                    vmin = 34.5, vmax = 35.5,\n",
    "                    cmap=co.cm.haline)\n",
    "ax[1,0].set_ylim(0,4000)\n",
    "ax[1,0].invert_yaxis()\n",
    "fig.colorbar(pcm,ax=ax[1,0],label = \"Salinity [PSU]\",extend='both')\n",
    "\n",
    "pcm = ax[2,0].scatter(ds_1_init.x.data.flatten(),\n",
    "                    ds_1_init.z.data.flatten(),\n",
    "                    2,\n",
    "                    (ds_2_init-ds_1_init).salt.data.flatten(),\n",
    "                    vmin = -0.3, vmax = 0.3,\n",
    "                    cmap=co.cm.delta)\n",
    "ax[2,0].set_ylim(0,4000)\n",
    "ax[2,0].invert_yaxis()\n",
    "fig.colorbar(pcm,ax=ax[2,0],label = \"Salinity difference [PSU]\",extend='both')\n",
    "\n",
    "pcm = ax[0,1].scatter(ds_1_init.x.data.flatten(),\n",
    "                    ds_1_init.z.data.flatten(),\n",
    "                    2,\n",
    "                    ds_1_init.temp.data.flatten(),\n",
    "                    vmin=-1,vmax=11,\n",
    "                    cmap=co.cm.thermal)\n",
    "ax[0,1].set_ylim(0,4000)\n",
    "ax[0,1].invert_yaxis()\n",
    "fig.colorbar(pcm,ax=ax[0,1],label = \"potential temperature [$\\degree$C]\",extend='both')\n",
    "\n",
    "pcm = ax[1,1].scatter(ds_2_init.x.data.flatten(),\n",
    "                    ds_2_init.z.data.flatten(),\n",
    "                    2,\n",
    "                    ds_2_init.temp.data.flatten(),\n",
    "                    vmin=-1,vmax=11,\n",
    "                    cmap=co.cm.thermal)\n",
    "ax[1,1].set_ylim(0,4000)\n",
    "ax[1,1].invert_yaxis()\n",
    "fig.colorbar(pcm,ax=ax[1,1],label = \"potential temperature [$\\degree$C]\",extend='both')\n",
    "\n",
    "pcm = ax[2,1].scatter(ds_1_init.x.data.flatten(),\n",
    "                    ds_1_init.z.data.flatten(),\n",
    "                    2,\n",
    "                    (ds_2_init-ds_1_init).temp.data.flatten(),\n",
    "                    vmin = -3, vmax = 3,\n",
    "                    cmap=co.cm.diff)\n",
    "ax[2,1].set_ylim(0,4000)\n",
    "ax[2,1].invert_yaxis()\n",
    "fig.colorbar(pcm,ax=ax[2,1],label = \"temperature difference [$\\degree$C]\",extend='both')\n",
    "\n",
    "\n",
    "\n"
   ]
  },
  {
   "cell_type": "code",
   "execution_count": null,
   "metadata": {},
   "outputs": [],
   "source": [
    "lonRange=[-30,-20]\n",
    "depthRange=[0,500]"
   ]
  },
  {
   "cell_type": "markdown",
   "metadata": {},
   "source": [
    "### plot tracks conditional"
   ]
  },
  {
   "cell_type": "markdown",
   "metadata": {},
   "source": [
    "#### from Labrador sea"
   ]
  },
  {
   "cell_type": "code",
   "execution_count": null,
   "metadata": {},
   "outputs": [],
   "source": [
    "ds_1_lab_sea_in, ds_1_lab_sea_notin = apply_left_of_line(ds_1,-75,-40,40,65)\n",
    "ds_2_lab_sea_in, ds_2_lab_sea_notin = apply_left_of_line(ds_2,-75,-40,40,65)"
   ]
  },
  {
   "cell_type": "code",
   "execution_count": null,
   "metadata": {},
   "outputs": [],
   "source": [
    "ds_1_60w_in, ds_1_60w_notin = apply_left_of_line(ds_1,-60,-60,40,65)\n",
    "ds_2_60w_in, ds_2_60w_notin = apply_left_of_line(ds_2,-60,-60,40,65)"
   ]
  },
  {
   "cell_type": "code",
   "execution_count": null,
   "metadata": {},
   "outputs": [],
   "source": [
    "\n",
    "conditionalplotTracksBetweenLonsCartopy(ds_1,ds_1_lab_sea_in.max(\"obs\"),lonRange=lonRange,depthRange=depthRange,cmap=co.cm.tempo_r)"
   ]
  },
  {
   "cell_type": "code",
   "execution_count": null,
   "metadata": {},
   "outputs": [],
   "source": [
    "conditionalplotTracksBetweenLonsCartopy(ds_2,ds_2_lab_sea_in.max(\"obs\"),lonRange=lonRange,depthRange=depthRange,cmap=co.cm.tempo_r)"
   ]
  },
  {
   "cell_type": "code",
   "execution_count": null,
   "metadata": {},
   "outputs": [],
   "source": [
    "conditionalplotTracksBetweenLonsCartopy(ds_1,ds_1_lab_sea_in.max(\"obs\")==False,lonRange=lonRange,depthRange=depthRange,cmap=co.cm.tempo_r)"
   ]
  },
  {
   "cell_type": "code",
   "execution_count": null,
   "metadata": {},
   "outputs": [],
   "source": [
    "conditionalplotTracksBetweenLonsCartopy(ds_2,ds_2_lab_sea_in.max(\"obs\")==False,lonRange=lonRange,depthRange=depthRange,cmap=co.cm.tempo_r)"
   ]
  },
  {
   "cell_type": "code",
   "execution_count": null,
   "metadata": {},
   "outputs": [],
   "source": [
    "conditionalplotTracksBetweenLonsCartopy(ds_1,(ds_1_lab_sea_in.max(\"obs\")==False)*ds_1_60w_in.max(\"obs\"),lonRange=lonRange,depthRange=depthRange,cmap=co.cm.tempo_r)"
   ]
  },
  {
   "cell_type": "code",
   "execution_count": null,
   "metadata": {},
   "outputs": [],
   "source": [
    "conditionalplotTracksBetweenLonsCartopy(ds_2,(ds_2_lab_sea_in.max(\"obs\")==False)*ds_2_60w_in.max(\"obs\"),lonRange=lonRange,depthRange=depthRange,cmap=co.cm.tempo_r)"
   ]
  },
  {
   "cell_type": "code",
   "execution_count": null,
   "metadata": {},
   "outputs": [],
   "source": [
    "conditionalplotTracksBetweenLonsCartopy(ds_1,(ds_1_lab_sea_in.max(\"obs\")==False)*(ds_1_60w_in.max(\"obs\")==False),lonRange=lonRange,depthRange=depthRange,cmap=co.cm.tempo_r)"
   ]
  },
  {
   "cell_type": "code",
   "execution_count": null,
   "metadata": {},
   "outputs": [],
   "source": [
    "conditionalplotTracksBetweenLonsCartopy(ds_2,(ds_2_lab_sea_in.max(\"obs\")==False)*(ds_2_60w_in.max(\"obs\")==False),lonRange=lonRange,depthRange=depthRange,cmap=co.cm.tempo_r)"
   ]
  },
  {
   "cell_type": "code",
   "execution_count": null,
   "metadata": {},
   "outputs": [],
   "source": [
    "# there are neater ways to do this with xarray if the datasets are large\n",
    "def get_TS(ds):\n",
    "    S = ds.where(ds.salt != 0.0).salt.data.flatten()\n",
    "    T = ds.where(ds.salt != 0.0).temp.data.flatten()\n",
    "    time = ds.where(ds.salt != 0.0).time.data.flatten()\n",
    "    z = ds.where(ds.salt != 0.0).z.data.flatten()\n",
    "\n",
    "    T_pad = (np.nanmax(T) - np.nanmin(T))/20.0\n",
    "    S_pad = (np.nanmax(S) - np.nanmin(S))/20.0\n",
    "    T_lim = [np.nanmin(T) - T_pad, np.nanmax(T) + T_pad]\n",
    "    S_lim = [np.nanmin(S) - S_pad, np.nanmax(S) + S_pad]\n",
    "    \n",
    "    return S,T,time,z,S_lim,T_lim\n"
   ]
  },
  {
   "cell_type": "code",
   "execution_count": null,
   "metadata": {},
   "outputs": [],
   "source": [
    "def TSplot_colourbytime(S_1,T_1,time_1,S_2,T_2,time_2,S_lim,T_lim):\n",
    "    Tgrid = np.zeros((100,100)) + np.linspace(T_lim[0],T_lim[1],100)\n",
    "    Sgrid = np.zeros((100,100)) + np.linspace(S_lim[0],S_lim[1],100)\n",
    "    sig0grid = sw.pden(Sgrid,Tgrid.T,0,0) - 1000.0\n",
    "\n",
    "    sns.set(style=\"darkgrid\")\n",
    "    fig,ax = plt.subplots(1,2,figsize=(14,9),sharey=True,gridspec_kw={'wspace': 0.1})\n",
    "\n",
    "    cs = ax[0].contour(Sgrid,Tgrid.T,sig0grid,\n",
    "              colors = 'grey', linestyles = 'dashed')\n",
    "    ax[0].clabel(cs, inline=1, fmt='%1.1f', fontsize=10)\n",
    "\n",
    "    cs = ax[1].contour(Sgrid,Tgrid.T,sig0grid,\n",
    "              colors = 'grey', linestyles = 'dashed')\n",
    "    ax[1].clabel(cs, inline=1, fmt='%1.1f', fontsize=10)\n",
    "\n",
    "    cm = ax[0].scatter(S_1, T_1, \n",
    "                    s = 2, \n",
    "                    c = mdates.date2num(time_1),\n",
    "                    cmap = co.cm.tempo_r,\n",
    "                    zorder=10,\n",
    "                    alpha=0.3)\n",
    "\n",
    "    cbar = fig.colorbar(cm,ax=ax[0],orientation='horizontal',pad=0.1)\n",
    "    # set alpha to 1 on colorbar\n",
    "    cbar.set_alpha(1.0)\n",
    "    cbar.draw_all() # don't understand why this is required but alph doesn't change without it\n",
    "    # format the dates on colorbar\n",
    "    loc = mdates.AutoDateLocator()\n",
    "    cbar.ax.xaxis.set_major_locator(loc)\n",
    "    cbar.ax.xaxis.set_major_formatter(mdates.ConciseDateFormatter(loc))\n",
    "    ax[0].set_ylim(T_lim[0],T_lim[1])\n",
    "    ax[0].set_xlim(S_lim[0],S_lim[1])\n",
    "    # label axes\n",
    "    ax[0].set_ylabel('potential temperature [$\\degree$C]')\n",
    "    ax[0].set_xlabel('practical salinity [PSU]')\n",
    "    \n",
    "    cm = ax[1].scatter(S_2, T_2, \n",
    "                    s = 2, \n",
    "                    c = mdates.date2num(time_2),\n",
    "                    cmap = co.cm.tempo_r,\n",
    "                    zorder=10,\n",
    "                    alpha=0.3)\n",
    "\n",
    "    cbar = fig.colorbar(cm,ax=ax[1],orientation='horizontal',pad=0.1)\n",
    "    # set alpha to 1 on colorbar\n",
    "    cbar.set_alpha(1.0)\n",
    "    cbar.draw_all() # don't understand why this is required but alph doesn't change without it\n",
    "    # format the dates on colorbar\n",
    "    loc = mdates.AutoDateLocator()\n",
    "    cbar.ax.xaxis.set_major_locator(loc)\n",
    "    cbar.ax.xaxis.set_major_formatter(mdates.ConciseDateFormatter(loc))\n",
    "    # label axes\n",
    "    ax[1].set_ylim(T_lim[0],T_lim[1])\n",
    "    ax[1].set_xlim(S_lim[0],S_lim[1])\n",
    "    ax[1].set_ylabel('')\n",
    "    ax[1].set_xlabel('practical salinity [PSU]')"
   ]
  },
  {
   "cell_type": "code",
   "execution_count": null,
   "metadata": {},
   "outputs": [],
   "source": [
    "def TSplot(S_1,T_1,z_1,S_2,T_3,z_3,zlabel,S_lim,T_lim):\n",
    "    Tgrid = np.zeros((100,100)) + np.linspace(T_lim[0],T_lim[1],100)\n",
    "    Sgrid = np.zeros((100,100)) + np.linspace(S_lim[0],S_lim[1],100)\n",
    "    sig0grid = sw.pden(Sgrid,Tgrid.T,0,0) - 1000.0\n",
    "\n",
    "    sns.set(style=\"darkgrid\")\n",
    "    fig,ax = plt.subplots(1,2,figsize=(14,9),sharey=True,gridspec_kw={'wspace': 0.1})\n",
    "\n",
    "    cs = ax[0].contour(Sgrid,Tgrid.T,sig0grid,\n",
    "              colors = 'grey', linestyles = 'dashed')\n",
    "    ax[0].clabel(cs, inline=1, fmt='%1.1f', fontsize=10)\n",
    "    cs = ax[1].contour(Sgrid,Tgrid.T,sig0grid,\n",
    "              colors = 'grey', linestyles = 'dashed')\n",
    "    ax[1].clabel(cs, inline=1, fmt='%1.1f', fontsize=10)\n",
    "\n",
    "    cm = ax[0].scatter(S_1, T_1, \n",
    "                    s = 2, \n",
    "                    c = z_1,\n",
    "                    cmap = co.cm.deep,\n",
    "                    zorder=10,\n",
    "                    alpha=0.3)\n",
    "\n",
    "    cbar = fig.colorbar(cm,label = zlabel,ax=ax[0],orientation='horizontal',pad=0.1)\n",
    "    # set alpha to 1 on colorbar\n",
    "    cbar.set_alpha(1.0)\n",
    "    cbar.draw_all() # don't understand why this is required but alph doesn't change without it\n",
    "    # label axes\n",
    "    ax[0].set_ylabel('potential temperature [$\\degree$C]')\n",
    "    ax[0].set_xlabel('practical salinity [PSU]')\n",
    "    ax[0].set_ylim(T_lim[0],T_lim[1])\n",
    "    ax[0].set_xlim(S_lim[0],S_lim[1])\n",
    "    \n",
    "    cm = ax[1].scatter(S_2, T_2, \n",
    "                    s = 2, \n",
    "                    c = z_2,\n",
    "                    cmap = co.cm.deep,\n",
    "                    zorder=10,\n",
    "                    alpha=0.3)\n",
    "\n",
    "    cbar = fig.colorbar(cm,label = zlabel,ax=ax[1],orientation='horizontal',pad=0.1)\n",
    "    # set alpha to 1 on colorbar\n",
    "    cbar.set_alpha(1.0)\n",
    "    cbar.draw_all() # don't understand why this is required but alph doesn't change without it\n",
    "    # label axes\n",
    "    ax[1].set_ylabel('')\n",
    "    ax[1].set_xlabel('practical salinity [PSU]')\n",
    "    ax[1].set_ylim(T_lim[0],T_lim[1])\n",
    "    ax[1].set_xlim(S_lim[0],S_lim[1])\n"
   ]
  },
  {
   "cell_type": "code",
   "execution_count": null,
   "metadata": {},
   "outputs": [],
   "source": [
    "dsmask_1 = ds_1.where(ds_1.isel(obs=0).lon > lonRange[0]).where(ds_1.isel(obs=0).lon < lonRange[1])\n",
    "dsmask_1 = dsmask_1.where(ds_1.isel(obs=0).z > depthRange[0]).where(ds_1.isel(obs=0).z < depthRange[1]).dropna('traj', how='all').isel(obs=slice(1,10,1))\n",
    "S_1,T_1,time_1,z_1,S_lim,T_lim = get_TS(dsmask_1)\n",
    "\n",
    "dsmask_2 = ds_2.where(ds_2.isel(obs=0).lon > lonRange[0]).where(ds_2.isel(obs=0).lon < lonRange[1])\n",
    "dsmask_2 = dsmask_2.where(ds_2.isel(obs=0).z > depthRange[0]).where(ds_2.isel(obs=0).z < depthRange[1]).dropna('traj', how='all').isel(obs=slice(1,10,1))\n",
    "S_2,T_2,time_2,z_2,S_lim,T_lim = get_TS(dsmask_2)\n",
    "\n",
    "S_lim_fix = [32,37]\n",
    "T_lim_fix = [-1,24]"
   ]
  },
  {
   "cell_type": "code",
   "execution_count": null,
   "metadata": {},
   "outputs": [],
   "source": [
    "TSplot_colourbytime(S_1,T_1,time_1,S_2,T_2,time_2,S_lim_fix,T_lim_fix)"
   ]
  },
  {
   "cell_type": "code",
   "execution_count": null,
   "metadata": {},
   "outputs": [],
   "source": [
    "TSplot(S_1,T_1,z_1,S_2,T_2,z_2,'depth [m]',S_lim_fix,T_lim_fix)"
   ]
  },
  {
   "cell_type": "markdown",
   "metadata": {},
   "source": [
    "## Transports"
   ]
  },
  {
   "cell_type": "code",
   "execution_count": null,
   "metadata": {},
   "outputs": [],
   "source": [
    "sns.set(style=\"darkgrid\")\n",
    "fig,ax = plt.subplots(2,figsize = (14,10))\n",
    "cm=ax[0].scatter(ds_1_init.lon,ds_1_init.z,2,ds_1_init.u_normal,cmap=co.cm.balance,vmin=-0.3,vmax=0.3)\n",
    "ax[0].invert_yaxis()\n",
    "fig.colorbar(cm,ax=ax[0],label = \"u_normal\",extend='both')\n",
    "\n",
    "cm=ax[1].scatter(ds_2_init.lon,ds_2_init.z,2,ds_2_init.u_normal,cmap=co.cm.balance,vmin=-0.3,vmax=0.3)\n",
    "ax[1].invert_yaxis()\n",
    "fig.colorbar(cm,ax=ax[1],label = \"u_normal\",extend='both')"
   ]
  },
  {
   "cell_type": "code",
   "execution_count": null,
   "metadata": {},
   "outputs": [],
   "source": [
    "sns.set(style=\"darkgrid\")\n",
    "fig,ax = plt.subplots(2,figsize = (14,10))\n",
    "cm=ax[0].scatter(ds_1_init.lon,ds_1_init.z,50,ds_1_init.u_normal,cmap=co.cm.balance,vmin=-0.3,vmax=0.3)\n",
    "fig.colorbar(cm,ax=ax[0],label = \"u_normal\",extend='both')\n",
    "\n",
    "cm=ax[1].scatter(ds_2_init.lon,ds_2_init.z,50,ds_2_init.u_normal,cmap=co.cm.balance,vmin=-0.3,vmax=0.3)\n",
    "fig.colorbar(cm,ax=ax[1],label = \"u_normal\",extend='both')\n",
    "\n",
    "ax[0].set_xlim(lonRange)\n",
    "ax[0].set_ylim(depthRange)\n",
    "ax[0].invert_yaxis()\n",
    "\n",
    "ax[1].set_xlim(lonRange)\n",
    "ax[1].set_ylim(depthRange)\n",
    "ax[1].invert_yaxis()"
   ]
  },
  {
   "cell_type": "code",
   "execution_count": null,
   "metadata": {},
   "outputs": [],
   "source": [
    "def transports(ds_1_init,ds_2_init):\n",
    "    ds_1_init_mask = ds_1_init.where(ds_1_init.lon > lonRange[0]).where(ds_1_init.lon < lonRange[1])\n",
    "    ds_1_init_mask = ds_1_init_mask.where(ds_1_init.z > depthRange[0]).where(ds_1_init.z < depthRange[1])\n",
    "    ds_2_init_mask = ds_2_init.where(ds_2_init.lon > lonRange[0]).where(ds_2_init.lon < lonRange[1])\n",
    "    ds_2_init_mask = ds_2_init_mask.where(ds_2_init.z > depthRange[0]).where(ds_2_init.z < depthRange[1])\n",
    "\n",
    "    transport_1 = ds_1_init_mask.u_normal.sum(dim='traj')*particle_section_area\n",
    "    transport_2 = ds_2_init_mask.u_normal.sum(dim='traj')*particle_section_area\n",
    "\n",
    "\n",
    "    temperature_transport_1 = (ds_1_init_mask.u_normal * ds_1_init_mask.temp).sum(dim='traj')*particle_section_area\n",
    "    temperature_transport_2 = (ds_2_init_mask.u_normal * ds_2_init_mask.temp).sum(dim='traj')*particle_section_area\n",
    "    salt_transport_1 = (ds_1_init_mask.u_normal * ds_1_init_mask.salt).sum(dim='traj')*particle_section_area\n",
    "    salt_transport_2 = (ds_2_init_mask.u_normal * ds_2_init_mask.salt).sum(dim='traj')*particle_section_area\n",
    "\n",
    "    print(transport_1.data,transport_2.data)\n",
    "    print(temperature_transport_1.data,temperature_transport_2.data)\n",
    "    print(salt_transport_1.data,salt_transport_2.data)\n",
    "    print(temperature_transport_1.data/transport_1.data,temperature_transport_2.data/transport_2.data)\n",
    "    print(salt_transport_1.data/transport_1.data,salt_transport_2.data/transport_2.data)\n",
    "    \n",
    "    return"
   ]
  },
  {
   "cell_type": "code",
   "execution_count": null,
   "metadata": {},
   "outputs": [],
   "source": [
    "transports(ds_1_init,ds_2_init)"
   ]
  },
  {
   "cell_type": "code",
   "execution_count": null,
   "metadata": {},
   "outputs": [],
   "source": [
    "# conda list"
   ]
  },
  {
   "cell_type": "code",
   "execution_count": null,
   "metadata": {},
   "outputs": [],
   "source": [
    "ds_1_lab_sea_in.max(\"obs\")"
   ]
  },
  {
   "cell_type": "code",
   "execution_count": null,
   "metadata": {},
   "outputs": [],
   "source": [
    "def section_scatter_plot(ds_1_init,ds_2_init):\n",
    "    sns.set(style=\"darkgrid\")\n",
    "    fig,ax = plt.subplots(2,figsize = (14,10))\n",
    "    cm=ax[0].scatter(ds_1_init.lon,ds_1_init.z,50,ds_1_init.u_normal,cmap=co.cm.balance,vmin=-0.3,vmax=0.3)\n",
    "    fig.colorbar(cm,ax=ax[0],label = \"u_normal\",extend='both')\n",
    "\n",
    "    cm=ax[1].scatter(ds_2_init.lon,ds_2_init.z,50,ds_2_init.u_normal,cmap=co.cm.balance,vmin=-0.3,vmax=0.3)\n",
    "    fig.colorbar(cm,ax=ax[1],label = \"u_normal\",extend='both')\n",
    "\n",
    "    ax[0].set_xlim(lonRange)\n",
    "    ax[0].set_ylim(depthRange)\n",
    "    ax[0].invert_yaxis()\n",
    "\n",
    "    ax[1].set_xlim(lonRange)\n",
    "    ax[1].set_ylim(depthRange)\n",
    "    ax[1].invert_yaxis()"
   ]
  },
  {
   "cell_type": "code",
   "execution_count": null,
   "metadata": {},
   "outputs": [],
   "source": [
    "section_scatter_plot(ds_1_init.where(ds_1_lab_sea_in.max(\"obs\")),ds_2_init.where(ds_2_lab_sea_in.max(\"obs\")))"
   ]
  },
  {
   "cell_type": "code",
   "execution_count": null,
   "metadata": {},
   "outputs": [],
   "source": [
    "transports(ds_1_init.where(ds_1_lab_sea_in.max(\"obs\")),ds_2_init.where(ds_2_lab_sea_in.max(\"obs\")))"
   ]
  },
  {
   "cell_type": "code",
   "execution_count": null,
   "metadata": {},
   "outputs": [],
   "source": [
    "section_scatter_plot(ds_1_init.where(ds_1_lab_sea_in.max(\"obs\")==False).where(ds_1_60w_in.max(\"obs\")),ds_2_init.where(ds_2_lab_sea_in.max(\"obs\")==False).where(ds_2_60w_in.max(\"obs\")))"
   ]
  },
  {
   "cell_type": "code",
   "execution_count": null,
   "metadata": {},
   "outputs": [],
   "source": []
  },
  {
   "cell_type": "code",
   "execution_count": null,
   "metadata": {},
   "outputs": [],
   "source": [
    "transports(ds_1_init.where(ds_1_lab_sea_in.max(\"obs\")==False).where(ds_1_60w_in.max(\"obs\")),ds_2_init.where(ds_2_lab_sea_in.max(\"obs\")==False).where(ds_2_60w_in.max(\"obs\")))"
   ]
  },
  {
   "cell_type": "code",
   "execution_count": null,
   "metadata": {},
   "outputs": [],
   "source": []
  }
 ],
 "metadata": {
  "kernelspec": {
   "display_name": "py3lagrangeSeawater",
   "language": "python",
   "name": "py3lagrangeseawater"
  },
  "language_info": {
   "codemirror_mode": {
    "name": "ipython",
    "version": 3
   },
   "file_extension": ".py",
   "mimetype": "text/x-python",
   "name": "python",
   "nbconvert_exporter": "python",
   "pygments_lexer": "ipython3",
   "version": "3.8.3"
  }
 },
 "nbformat": 4,
 "nbformat_minor": 4
}
