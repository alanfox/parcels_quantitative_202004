{
 "cells": [
  {
   "cell_type": "markdown",
   "metadata": {
    "slideshow": {
     "slide_type": "slide"
    }
   },
   "source": [
    "# OSNAP line Lagrangian particle tracking investigation of the cold/fresh blob\n"
   ]
  },
  {
   "cell_type": "markdown",
   "metadata": {
    "slideshow": {
     "slide_type": "fragment"
    }
   },
   "source": [
    "### The aim here is an investigation of the source of the cold/fresh blob which appeared in the near-surface Iceland Basin from about 2014. There are a couple of published explanations for the feature: \n",
    "\n",
    "- reduced heat/salt transport across RAPID array over several years propagating northwards (Bryden et al. 2020?) or \n",
    "- increased contribution from Labrador Sea water flowing into subpolar North Atlantic rather than southwards (Holliday et al. 2020?). Driven I think by specific,  more intermittent, weather near Flemish Cap (though I need to read this again...)"
   ]
  },
  {
   "cell_type": "markdown",
   "metadata": {
    "slideshow": {
     "slide_type": "fragment"
    }
   },
   "source": [
    "The technique is to track particles back from the OSNAP line, initially for 2 years. Each particle has an associated transport normal to OSNAP, which I use to estimate the contribution to volumes/heat/salt crossing OSNAP northwards from the two main routes - Gulf Stream and Labrador Sea. And see how that changes over the years from 2006 to 2017."
   ]
  },
  {
   "cell_type": "markdown",
   "metadata": {
    "slideshow": {
     "slide_type": "subslide"
    }
   },
   "source": [
    "The main conclusion is that from about 2012 Labrador Sea becomes a more important source of surface waters to the Iceland Basin, but there is also a reduction in the temperature and salinity of the water from the Gulf Stream. So probably a balance of both. **But I need to run the particles back further - 2 years is not long enough to pinpoint the pathway for most particles.**"
   ]
  },
  {
   "cell_type": "markdown",
   "metadata": {
    "slideshow": {
     "slide_type": "skip"
    }
   },
   "source": [
    "## Technical preamble"
   ]
  },
  {
   "cell_type": "code",
   "execution_count": null,
   "metadata": {
    "slideshow": {
     "slide_type": "skip"
    }
   },
   "outputs": [],
   "source": [
    "# import matplotlib.colors as colors\n",
    "import numpy as np\n",
    "from pathlib import Path\n",
    "import matplotlib.pyplot as plt\n",
    "import xarray as xr\n",
    "from datetime import datetime, timedelta\n",
    "import seaborn as sns\n",
    "# from matplotlib.colors import ListedColormap\n",
    "import cmocean as co\n",
    "import pandas as pd\n",
    "import matplotlib.dates as mdates\n",
    "import cartopy.crs as ccrs\n",
    "import cartopy\n",
    "import seawater as sw\n",
    "\n",
    "from matplotlib import colors as c\n",
    "from matplotlib import ticker\n",
    "from xhistogram.xarray import histogram\n",
    "\n",
    "sns.set(style=\"darkgrid\")\n",
    "\n",
    "xr.set_options(keep_attrs=True)\n",
    "np.warnings.filterwarnings('ignore')\n",
    "\n",
    "sns.set_palette(\"colorblind\")\n",
    "xr.set_options(keep_attrs=True);\n"
   ]
  },
  {
   "cell_type": "markdown",
   "metadata": {
    "slideshow": {
     "slide_type": "skip"
    }
   },
   "source": [
    "### Set up paths and read in Viking20 section data"
   ]
  },
  {
   "cell_type": "code",
   "execution_count": null,
   "metadata": {
    "slideshow": {
     "slide_type": "skip"
    }
   },
   "outputs": [],
   "source": [
    "# Project path\n",
    "project_path = Path.cwd() / '..' / '..' \n",
    "project_path = project_path.resolve()\n",
    "\n",
    "# Section data file\n",
    "path_data_section = Path('data/processed/sections/') \n",
    "fname0 = f'osnapSection2000to09.nc'\n",
    "fname1 = f'osnapSection2010to18.nc'\n"
   ]
  },
  {
   "cell_type": "code",
   "execution_count": null,
   "metadata": {
    "slideshow": {
     "slide_type": "skip"
    }
   },
   "outputs": [],
   "source": [
    "section0 = xr.open_dataset(project_path / path_data_section / fname0)\n",
    "section1 = xr.open_dataset(project_path / path_data_section / fname1)\n",
    "section = xr.concat((section0,section1),dim=\"time_counter\")\n",
    "\n",
    "# add some missing attributes, mostly for automatic axis labels\n",
    "\n",
    "section.vosaline.attrs['long_name']='salinity'\n",
    "section.vosaline.attrs['units']='PSU'\n",
    "section.votemper.attrs['long_name']='potential temperature'\n",
    "section.votemper.attrs['units']='$\\degree C$'\n",
    "section.c.attrs['long_name']='Distance'\n",
    "section.c.attrs['units']='m'\n",
    "section.z.attrs['long_name']='Depth'\n",
    "section.z.attrs['units']='m'\n",
    "section.time_counter.attrs[\"long_name\"] = 'Time'\n",
    "\n",
    "# concat introduces an extra time_counter axis on the variables which didn't have one originally\n",
    "# so get rid of it\n",
    "\n",
    "section['ii'] = section['ii'].isel(time_counter=0).drop('time_counter')\n",
    "section['jj'] = section['jj'].isel(time_counter=0).drop('time_counter')\n",
    "section['dx'] = section['dx'].isel(time_counter=0).drop('time_counter')\n",
    "section['lat'] = section['lat'].isel(time_counter=0).drop('time_counter')\n",
    "section['lon'] = section['lon'].isel(time_counter=0).drop('time_counter')\n",
    "section['dz'] = section['dz'].isel(time_counter=0).drop('time_counter')\n",
    "section['mask'] = section['mask'].isel(time_counter=0).drop('time_counter')\n"
   ]
  },
  {
   "cell_type": "code",
   "execution_count": null,
   "metadata": {
    "slideshow": {
     "slide_type": "skip"
    }
   },
   "outputs": [],
   "source": [
    "def plot_hoffmuller():\n",
    "    fig,ax = plt.subplots(1,2,figsize=(15,13),sharey=True,gridspec_kw={'wspace': 0.1})\n",
    "    plt.tight_layout()\n",
    "    section.votemper.isel(z=15).plot(ax=ax[0],vmin=0,cmap=co.cm.thermal,cbar_kwargs={'orientation':'horizontal','pad':0.1})\n",
    "    section.vosaline.isel(z=15).plot(ax=ax[1],vmin=34.6,cmap=co.cm.haline,cbar_kwargs={'orientation':'horizontal','pad':0.1})\n",
    "\n",
    "    ax[1].set_ylabel('')\n",
    "\n",
    "    ax[0].ticklabel_format(axis='x', style='sci', scilimits=(-3,3))\n",
    "    ax[1].ticklabel_format(axis='x', style='sci', scilimits=(-3,3))\n",
    "\n",
    "    # # Hide x labels and tick labels for top plots and y ticks for right plots.\n",
    "    # for axis in ax.flat:\n",
    "    #     axis.label_outer()\n",
    "    return"
   ]
  },
  {
   "cell_type": "markdown",
   "metadata": {
    "slideshow": {
     "slide_type": "slide"
    }
   },
   "source": [
    "##  Hoffmuller diagram of temperature and salinity on the OSNAP section from Viking20x"
   ]
  },
  {
   "cell_type": "code",
   "execution_count": null,
   "metadata": {
    "slideshow": {
     "slide_type": "subslide"
    }
   },
   "outputs": [],
   "source": [
    "plot_hoffmuller()"
   ]
  },
  {
   "cell_type": "code",
   "execution_count": null,
   "metadata": {
    "slideshow": {
     "slide_type": "skip"
    }
   },
   "outputs": [],
   "source": [
    "def plot_ts_timeseries():\n",
    "    fig,ax = plt.subplots(2,figsize=(15,10),sharex=True,gridspec_kw={'wspace': 0.1})\n",
    "    plt.tight_layout()\n",
    "\n",
    "    section.votemper.isel(z=15).isel(c=635).plot(ax=ax[0],label='Irminger Basin 37.5$\\degree$W')\n",
    "    section.votemper.isel(z=15).isel(c=742).plot(ax=ax[0],label='Irminger Basin 32.6$\\degree$W')\n",
    "    section.votemper.isel(z=15).isel(c=835).plot(ax=ax[0],label='Iceland Basin 28.9$\\degree$W')\n",
    "    section.votemper.isel(z=15).isel(c=970).plot(ax=ax[0],label='Iceland Basin 22.0$\\degree$W')\n",
    "    section.votemper.isel(z=15).isel(c=1050).plot(ax=ax[0],label='Hatton-Rockall Bank 17.6$\\degree$W')\n",
    "    section.votemper.isel(z=15).isel(c=1200).plot(ax=ax[0],label='Rockall Trough 9.8$\\degree$W')\n",
    "    \n",
    "    ax[0].axvline(np.datetime64('2006-01-16T12:00:00'))\n",
    "    ax[0].axvline(np.datetime64('2017-07-16T12:00:00'))\n",
    "\n",
    "    section.vosaline.isel(z=15).isel(c=635).plot(ax=ax[1],label='Irminger Basin 37.5$\\degree$W')\n",
    "    section.vosaline.isel(z=15).isel(c=742).plot(ax=ax[1],label='Irminger Basin 32.6$\\degree$W')\n",
    "    section.vosaline.isel(z=15).isel(c=835).plot(ax=ax[1],label='Iceland Basin 28.9$\\degree$W')\n",
    "    section.vosaline.isel(z=15).isel(c=970).plot(ax=ax[1],label='Iceland Basin 22.0$\\degree$W')\n",
    "    section.vosaline.isel(z=15).isel(c=1050).plot(ax=ax[1],label='Hatton-Rockall Bank 17.6$\\degree$W')\n",
    "    section.vosaline.isel(z=15).isel(c=1200).plot(ax=ax[1],label='Rockall Trough 9.8$\\degree$W')\n",
    "\n",
    "    ax[1].axvline(np.datetime64('2006-01-16T12:00:00'))\n",
    "    ax[1].axvline(np.datetime64('2017-07-16T12:00:00'))\n",
    "\n",
    "    ax[0].set_xlabel('')\n",
    "\n",
    "    ax[0].legend()\n",
    "    ax[1].legend()\n",
    "    return"
   ]
  },
  {
   "cell_type": "markdown",
   "metadata": {
    "slideshow": {
     "slide_type": "slide"
    }
   },
   "source": [
    "## Timeseries of temperature and salinity at points on the OSNAP section. Vertical lines show the earliest and latest particle releases."
   ]
  },
  {
   "cell_type": "code",
   "execution_count": null,
   "metadata": {
    "slideshow": {
     "slide_type": "subslide"
    }
   },
   "outputs": [],
   "source": [
    "plot_ts_timeseries()"
   ]
  },
  {
   "cell_type": "markdown",
   "metadata": {
    "slideshow": {
     "slide_type": "skip"
    }
   },
   "source": [
    "## Set up paths and read in trajectory data"
   ]
  },
  {
   "cell_type": "code",
   "execution_count": null,
   "metadata": {
    "slideshow": {
     "slide_type": "skip"
    }
   },
   "outputs": [],
   "source": [
    "## Parameters\n",
    "# Project path\n",
    "project_path = Path.cwd() / '..' / '..' \n",
    "project_path = project_path.resolve()\n",
    "\n",
    "# Parcels track data file\n",
    "path_data_tracks = Path('data/processed/tracks/osnap/') \n",
    "# filename_tracks = ['tracks_osnap_backward_200607_N19886_D730_Rnd123.nc',\n",
    "#                    'tracks_osnap_backward_200707_N19886_D730_Rnd123.nc',\n",
    "#                    'tracks_osnap_backward_200807_N19886_D730_Rnd123.nc',\n",
    "#                    'tracks_osnap_backward_200907_N19886_D730_Rnd123.nc',\n",
    "#                    'tracks_osnap_backward_201007_N19886_D730_Rnd123.nc',\n",
    "#                    'tracks_osnap_backward_201107_N19886_D730_Rnd123.nc',\n",
    "#                    'tracks_osnap_backward_201207_N19886_D730_Rnd123.nc',\n",
    "#                    'tracks_osnap_backward_201307_N19886_D730_Rnd123.nc',\n",
    "#                    'tracks_osnap_backward_201407_N19886_D730_Rnd123.nc',\n",
    "#                    'tracks_osnap_backward_201507_N19886_D730_Rnd123.nc',\n",
    "#                    'tracks_osnap_backward_201607_N19886_D730_Rnd123.nc',\n",
    "#                    'tracks_osnap_backward_201707_N19886_D730_Rnd123.nc',\n",
    "#                    'tracks_osnap_backward_200601_N19886_D730_Rnd123.nc',\n",
    "#                    'tracks_osnap_backward_200701_N19886_D730_Rnd123.nc',\n",
    "#                    'tracks_osnap_backward_200801_N19886_D730_Rnd123.nc',\n",
    "#                    'tracks_osnap_backward_200901_N19886_D730_Rnd123.nc',\n",
    "#                    'tracks_osnap_backward_201001_N19886_D730_Rnd123.nc',\n",
    "#                    'tracks_osnap_backward_201101_N19886_D730_Rnd123.nc',\n",
    "#                    'tracks_osnap_backward_201201_N19886_D730_Rnd123.nc',\n",
    "#                    'tracks_osnap_backward_201301_N19886_D730_Rnd123.nc',\n",
    "#                    'tracks_osnap_backward_201401_N19886_D730_Rnd123.nc',\n",
    "#                    'tracks_osnap_backward_201501_N19886_D730_Rnd123.nc',\n",
    "#                    'tracks_osnap_backward_201601_N19886_D730_Rnd123.nc',\n",
    "#                    'tracks_osnap_backward_201701_N19886_D730_Rnd123.nc']\n",
    "filename_tracks = [\n",
    "#                    'tracks_osnap_backward_200607_N2931_D1460_Rnd123.nc',\n",
    "#                    'tracks_osnap_backward_200707_N2931_D1460_Rnd123.nc',\n",
    "#                    'tracks_osnap_backward_200807_N2931_D1460_Rnd123.nc',\n",
    "                   'tracks_osnap_backward_200907_N2931_D1460_Rnd123.nc',\n",
    "                   'tracks_osnap_backward_201007_N2931_D1460_Rnd123.nc',\n",
    "                   'tracks_osnap_backward_201107_N2931_D1460_Rnd123.nc',\n",
    "#                    'tracks_osnap_backward_201207_N2931_D1460_Rnd123.nc',\n",
    "#                    'tracks_osnap_backward_201307_N2931_D1460_Rnd123.nc',\n",
    "#                    'tracks_osnap_backward_201407_N2931_D1460_Rnd123.nc',\n",
    "                   'tracks_osnap_backward_201507_N2931_D1460_Rnd123.nc',\n",
    "                   'tracks_osnap_backward_201607_N2931_D1460_Rnd123.nc',\n",
    "                   'tracks_osnap_backward_201707_N2931_D1460_Rnd123.nc',\n",
    "#                    'tracks_osnap_backward_200601_N2931_D1460_Rnd123.nc',\n",
    "#                    'tracks_osnap_backward_200701_N2931_D1460_Rnd123.nc',\n",
    "#                    'tracks_osnap_backward_200801_N2931_D1460_Rnd123.nc',\n",
    "                   'tracks_osnap_backward_200901_N2931_D1460_Rnd123.nc',\n",
    "                   'tracks_osnap_backward_201001_N2931_D1460_Rnd123.nc',\n",
    "                   'tracks_osnap_backward_201101_N2931_D1460_Rnd123.nc',\n",
    "#                    'tracks_osnap_backward_201201_N2931_D1460_Rnd123.nc',\n",
    "#                    'tracks_osnap_backward_201301_N2931_D1460_Rnd123.nc',\n",
    "#                    'tracks_osnap_backward_201401_N2931_D1460_Rnd123.nc',\n",
    "                   'tracks_osnap_backward_201501_N2931_D1460_Rnd123.nc',\n",
    "                   'tracks_osnap_backward_201601_N2931_D1460_Rnd123.nc',\n",
    "                   'tracks_osnap_backward_201701_N2931_D1460_Rnd123.nc'\n",
    "]\n",
    "\n",
    "# model mask file\n",
    "data_path = Path(\"data/external/iAtlantic/\")\n",
    "experiment_name = \"VIKING20X.L46-KKG36107B\"\n",
    "mesh_mask_file = project_path / data_path / \"mask\" / experiment_name / \"1_mesh_mask.nc\"\n",
    "\n",
    "#section lonlat file\n",
    "sectionPath = Path('data/external/sections/')\n",
    "sectionFilename = 'osnap_pos_wp.txt'\n",
    "sectionname = 'osnap'\n",
    "gsrsectionFilename = 'gsr_pos_wp.txt'\n",
    "\n",
    "degree2km = 1.852*60.0\n",
    "\n",
    "\n",
    "# some transport values specific to osnap runs\n",
    "# randomly seeded 39995 particles, 19886 were in ocean points (the rest were land)\n",
    "\n",
    "# osnap_section_length = 3594572.87839    # m\n",
    "# osnap_section_depth = 4000 # m over which particles launched\n",
    "\n",
    "# osnap_section_ocean_area = osnap_section_length * osnap_section_depth * 19886.0 / 39995.0\n",
    "\n",
    "# particle_section_area = osnap_section_length * osnap_section_depth / 39995.0\n",
    "\n",
    "osnap_section_length = 3594572.87839    # m\n",
    "osnap_subsection_length = 1121724.76238   # m\n",
    "osnap_section_depth = 4000 # m over which particles launched\n",
    "osnap_subsection_depth = 500 # m over which particles launched\n",
    "\n",
    "osnap_subsection_ocean_area = osnap_subsection_length * osnap_subsection_depth * 2931.0 / 3119.0\n",
    "\n",
    "particle_section_area = osnap_subsection_length * osnap_subsection_depth / 3119.0\n"
   ]
  },
  {
   "cell_type": "markdown",
   "metadata": {
    "slideshow": {
     "slide_type": "skip"
    }
   },
   "source": [
    "## Load data"
   ]
  },
  {
   "cell_type": "markdown",
   "metadata": {
    "slideshow": {
     "slide_type": "skip"
    }
   },
   "source": [
    "### mesh and masks"
   ]
  },
  {
   "cell_type": "code",
   "execution_count": null,
   "metadata": {
    "slideshow": {
     "slide_type": "skip"
    }
   },
   "outputs": [],
   "source": [
    "mesh_mask = xr.open_dataset(mesh_mask_file)\n",
    "mesh_mask = mesh_mask.squeeze()\n",
    "mesh_mask = mesh_mask.set_coords([\"nav_lon\", \"nav_lat\", \"nav_lev\"])\n",
    "\n",
    "bathy = mesh_mask.mbathy.rename(\"number of water filled points\")\n",
    "\n",
    "depth = (mesh_mask.e3t_0 * mesh_mask.tmask).sum(\"z\")\n",
    "# display(mesh_mask)"
   ]
  },
  {
   "cell_type": "markdown",
   "metadata": {
    "slideshow": {
     "slide_type": "skip"
    }
   },
   "source": [
    "### section position data"
   ]
  },
  {
   "cell_type": "code",
   "execution_count": null,
   "metadata": {
    "slideshow": {
     "slide_type": "skip"
    }
   },
   "outputs": [],
   "source": [
    "lonlat = xr.Dataset(pd.read_csv(project_path / sectionPath / sectionFilename,delim_whitespace=True))\n",
    "lonlat['lon'] *= -1.0"
   ]
  },
  {
   "cell_type": "code",
   "execution_count": null,
   "metadata": {
    "slideshow": {
     "slide_type": "skip"
    }
   },
   "outputs": [],
   "source": [
    "lonlat.lon.attrs['long_name']='Longitude'\n",
    "lonlat.lat.attrs['long_name']='Latitude'\n",
    "lonlat.lon.attrs['standard_name']='longitude'\n",
    "lonlat.lat.attrs['standard_name']='latitude'\n",
    "lonlat.lon.attrs['units']='degrees_east'\n",
    "lonlat.lat.attrs['units']='degrees_north'\n",
    "\n",
    "lonlat2mean= lonlat.rolling({'dim_0':2}).mean()\n",
    "\n",
    "lonlatdiff = (lonlat.diff('dim_0'))\n",
    "\n",
    "lonlatdiff = lonlatdiff.assign({'y':lonlatdiff['lat']*degree2km})\n",
    "lonlatdiff = lonlatdiff.assign({'x':lonlatdiff['lon']*degree2km*np.cos(np.radians(lonlat2mean.lat.data[1:]))})\n",
    "lonlatdiff=lonlatdiff.assign({'length':np.sqrt(lonlatdiff['x']**2+lonlatdiff['y']**2)})\n",
    "lonlatdiff=lonlatdiff.assign({'costheta':lonlatdiff['x']/lonlatdiff['length']})\n",
    "lonlatdiff=lonlatdiff.assign({'sintheta':lonlatdiff['y']/lonlatdiff['length']})\n",
    "\n",
    "total_length = lonlatdiff.length.sum().data \n",
    "total_osnap_length = lonlatdiff.length[0:12].sum().data;  # exclude section across UK - just there for testing north/south\n",
    "\n",
    "length_west = xr.concat((xr.DataArray([0],dims=(\"dim_0\"),coords={\"dim_0\": [0]}),lonlatdiff.length.cumsum()),dim='dim_0')"
   ]
  },
  {
   "cell_type": "markdown",
   "metadata": {
    "slideshow": {
     "slide_type": "skip"
    }
   },
   "source": [
    "### tracks"
   ]
  },
  {
   "cell_type": "code",
   "execution_count": null,
   "metadata": {},
   "outputs": [],
   "source": [
    "lonlatdiff.length.cumsum().data[9] - lonlatdiff.length.cumsum().data[5]"
   ]
  },
  {
   "cell_type": "code",
   "execution_count": null,
   "metadata": {
    "slideshow": {
     "slide_type": "skip"
    }
   },
   "outputs": [],
   "source": [
    "ds=[]\n",
    "for filename in filename_tracks:\n",
    "    ds.append(xr.open_dataset(project_path / path_data_tracks / filename))\n",
    "# ds.isel(obs=0).z.max()"
   ]
  },
  {
   "cell_type": "markdown",
   "metadata": {
    "slideshow": {
     "slide_type": "skip"
    }
   },
   "source": [
    "#### Subset tracks by OSNAP line cross longitude and depth range"
   ]
  },
  {
   "cell_type": "code",
   "execution_count": null,
   "metadata": {
    "slideshow": {
     "slide_type": "skip"
    }
   },
   "outputs": [],
   "source": [
    "lonRange=[-30,-19]\n",
    "depthRange=[0,500]"
   ]
  },
  {
   "cell_type": "code",
   "execution_count": null,
   "metadata": {
    "slideshow": {
     "slide_type": "skip"
    }
   },
   "outputs": [],
   "source": [
    "for i in range(len(ds)):\n",
    "    ds[i] = ds[i].where(ds[i].isel(obs=0).lon > lonRange[0]).where(ds[i].isel(obs=0).lon < lonRange[1])\n",
    "    ds[i] = ds[i].where(ds[i].isel(obs=0).z > depthRange[0]).where(ds[i].isel(obs=0).z < depthRange[1])\n",
    "    ds[i] = ds[i].dropna('traj', how='all')\n",
    "    "
   ]
  },
  {
   "cell_type": "markdown",
   "metadata": {
    "slideshow": {
     "slide_type": "skip"
    }
   },
   "source": [
    "#### Velocity conversions from degrees lat/lon per second to m/s"
   ]
  },
  {
   "cell_type": "code",
   "execution_count": null,
   "metadata": {
    "slideshow": {
     "slide_type": "skip"
    }
   },
   "outputs": [],
   "source": [
    "for i in range(len(ds)):\n",
    "    ds[i]=ds[i].assign({'uvel_ms':ds[i].uvel * degree2km * 1000.0 * np.cos(np.radians(ds[i].lat))})\n",
    "    ds[i]=ds[i].assign({'vvel_ms':ds[i].vvel * degree2km * 1000.0})"
   ]
  },
  {
   "cell_type": "markdown",
   "metadata": {
    "slideshow": {
     "slide_type": "skip"
    }
   },
   "source": [
    "#### Find initial velocities normal to the section"
   ]
  },
  {
   "cell_type": "code",
   "execution_count": null,
   "metadata": {
    "slideshow": {
     "slide_type": "skip"
    }
   },
   "outputs": [],
   "source": [
    "ds_init=[]\n",
    "\n",
    "for dsi in ds:\n",
    "    ds_temp = dsi.isel(obs=0)\n",
    "    ds_temp = ds_temp.assign({'section_index':xr.DataArray(np.searchsorted(lonlat.lon,ds_temp.lon)-1,dims='traj')})\n",
    "    ds_temp = ds_temp.assign({'u_normal':ds_temp.vvel_ms * lonlatdiff.costheta[ds_temp.section_index].data - ds_temp.uvel_ms * lonlatdiff.sintheta[ds_temp.section_index].data})\n",
    "    ds_temp = ds_temp.assign({'u_along':ds_temp.vvel_ms * lonlatdiff.sintheta[ds_temp.section_index].data + ds_temp.uvel_ms * lonlatdiff.costheta[ds_temp.section_index].data})\n",
    "    ds_init.append(ds_temp)"
   ]
  },
  {
   "cell_type": "markdown",
   "metadata": {
    "slideshow": {
     "slide_type": "skip"
    }
   },
   "source": [
    "#### Find along-section distances of initial points"
   ]
  },
  {
   "cell_type": "code",
   "execution_count": null,
   "metadata": {
    "slideshow": {
     "slide_type": "skip"
    }
   },
   "outputs": [],
   "source": [
    "for i in range(len(ds_init)):\n",
    "    ds_init[i] = ds_init[i].assign({'x':xr.DataArray(length_west[ds_init[i].section_index] + lonlatdiff.length[ds_init[i].section_index]*\n",
    "                              (ds_init[i].lon - lonlat.lon[ds_init[i].section_index])/lonlatdiff.lon[ds_init[i].section_index],dims='traj')})"
   ]
  },
  {
   "cell_type": "markdown",
   "metadata": {
    "slideshow": {
     "slide_type": "skip"
    }
   },
   "source": [
    "## Plot section"
   ]
  },
  {
   "cell_type": "code",
   "execution_count": null,
   "metadata": {
    "slideshow": {
     "slide_type": "skip"
    }
   },
   "outputs": [],
   "source": [
    "sns.set(style=\"whitegrid\")\n",
    "central_lon, central_lat = -30, 55\n",
    "fig, ax = plt.subplots(subplot_kw={'projection': ccrs.Orthographic(central_lon, central_lat)})\n",
    "extent = [-60, 0, 40, 70]\n",
    "ax.set_extent(extent)\n",
    "ax.gridlines()\n",
    "ax.coastlines(resolution='50m')\n",
    "\n",
    "lonlat.plot.scatter(ax=ax,transform=ccrs.PlateCarree(),x='lon',y='lat')\n",
    "lonlat2mean.plot.scatter(ax=ax,transform=ccrs.PlateCarree(),x='lon',y='lat');"
   ]
  },
  {
   "cell_type": "markdown",
   "metadata": {},
   "source": [
    "## Find track source regions"
   ]
  },
  {
   "cell_type": "code",
   "execution_count": null,
   "metadata": {
    "slideshow": {
     "slide_type": "skip"
    }
   },
   "outputs": [],
   "source": [
    "def apply_left_of_line(ds, lon_1, lon_2, lat_1, lat_2):\n",
    "    '''Apply an area crossing criterion.\n",
    "    \n",
    "    Larvae in ds selected while they are in a selected area.\n",
    "    '''\n",
    "    # particles are selected if they pass through given area.\n",
    "    position =  ((lon_2 -lon_1) * (ds.lat - lat_1) - \n",
    "                     (ds.lon - lon_1) * (lat_2 - lat_1))\n",
    "                        \n",
    "    return position > 0.0, position < 0"
   ]
  },
  {
   "cell_type": "markdown",
   "metadata": {
    "slideshow": {
     "slide_type": "skip"
    }
   },
   "source": [
    "#### from Labrador sea or from Gulf Stream"
   ]
  },
  {
   "cell_type": "code",
   "execution_count": null,
   "metadata": {
    "slideshow": {
     "slide_type": "skip"
    }
   },
   "outputs": [],
   "source": [
    "ds_lab_sea_in=[]\n",
    "ds_60w_in=[]\n",
    "\n",
    "for i in range(len(ds)):\n",
    "    ds_in1, ds_notin1 = apply_left_of_line(ds[i],-75,-40,40,65)\n",
    "    ds_in2, ds_notin2 = apply_left_of_line(ds[i],-95,-60,52,52)\n",
    "    ds_lab_sea_in.append(ds_in1*ds_in2)\n",
    "\n",
    "    ds_in, ds_notin = apply_left_of_line(ds[i],-60,-100,33,33)\n",
    "    ds_60w_in.append(ds_in)\n"
   ]
  },
  {
   "cell_type": "code",
   "execution_count": null,
   "metadata": {},
   "outputs": [],
   "source": [
    "fig,ax = plt.subplots(figsize=(14,5))\n",
    "\n",
    "for i in range(len(ds)):\n",
    "\n",
    "    test = ds[i].where(ds_lab_sea_in[i].max(\"obs\")).isel(obs=ds_lab_sea_in[i].argmax(dim='obs'),traj=ds_lab_sea_in[i].traj).dropna(dim='traj')\n",
    "    pcm = ax.scatter(x=test.time.data,y=test.temp.data,c=test.salt.data,\n",
    "                            vmin=33,vmax=36,cmap=co.cm.haline)\n",
    "plt.colorbar(pcm,ax=ax,label = \"salinity\");\n"
   ]
  },
  {
   "cell_type": "code",
   "execution_count": null,
   "metadata": {},
   "outputs": [],
   "source": [
    "fig,ax = plt.subplots(figsize=(14,5))\n",
    "\n",
    "for i in range(len(ds)):\n",
    "\n",
    "    test = ds[i].where((ds_lab_sea_in[i].max(\"obs\")==False)).where(ds_60w_in[i].max(\"obs\")).isel(obs=ds_60w_in[i].argmax(dim='obs'),traj=ds_60w_in[i].traj).dropna(dim='traj')\n",
    "    pcm = ax.scatter(x=test.time.data,y=test.temp.data\n",
    "                     ,c=test.salt.data,\n",
    "              vmin=33,vmax=36,cmap=co.cm.haline\n",
    "                    )\n",
    "plt.colorbar(pcm,ax=ax,label = \"salinity\");\n",
    "\n",
    "# cb = plt.colorbar(label = \"date\");\n"
   ]
  },
  {
   "cell_type": "markdown",
   "metadata": {
    "slideshow": {
     "slide_type": "slide"
    }
   },
   "source": [
    "## Transports"
   ]
  },
  {
   "cell_type": "markdown",
   "metadata": {
    "slideshow": {
     "slide_type": "fragment"
    }
   },
   "source": [
    "### Near-surface (0-500 m ) transport northwards across the OSNAP section in the Iceland Basin (30-20 W). Plotted by particle source"
   ]
  },
  {
   "cell_type": "code",
   "execution_count": null,
   "metadata": {
    "slideshow": {
     "slide_type": "skip"
    }
   },
   "outputs": [],
   "source": [
    "def transports(dsinit):\n",
    "    vt = []\n",
    "    ht = []\n",
    "    fwt = []\n",
    "    tav = []\n",
    "    sav = []\n",
    "    ti = []\n",
    "    for ds_1_init in dsinit:\n",
    "\n",
    "        transport_1 = ds_1_init.u_normal.sum(dim='traj')*particle_section_area/1.0e06\n",
    "        temperature_transport_1 = (ds_1_init.u_normal * ds_1_init.temp).sum(dim='traj')*particle_section_area/1.0e06\n",
    "        salt_transport_1 = (ds_1_init.u_normal * ds_1_init.salt).sum(dim='traj')*particle_section_area/1.0e06\n",
    "\n",
    "        vt.append(transport_1.data)\n",
    "        ht.append(temperature_transport_1.data)\n",
    "        fwt.append(salt_transport_1.data)\n",
    "        tav.append(temperature_transport_1.data/transport_1.data)\n",
    "        sav.append(salt_transport_1.data/transport_1.data)\n",
    "        ti.append(ds_1_init.time.mean().data)\n",
    "\n",
    "    ti = np.array(ti)\n",
    "    \n",
    "    x = np.argsort(ti)\n",
    "    ti = ti[x]\n",
    "    vt = np.array(vt)[x]\n",
    "    ht = np.array(ht)[x]\n",
    "    fwt = np.array(fwt)[x]\n",
    "    tav = np.array(tav)[x]\n",
    "    sav = np.array(sav)[x]\n",
    "        \n",
    "    return vt,ht,fwt,tav,sav,ti"
   ]
  },
  {
   "cell_type": "code",
   "execution_count": null,
   "metadata": {
    "slideshow": {
     "slide_type": "skip"
    }
   },
   "outputs": [],
   "source": [
    "vt,ht,fwt,tav,sav,ti = transports(ds_init)"
   ]
  },
  {
   "cell_type": "code",
   "execution_count": null,
   "metadata": {
    "slideshow": {
     "slide_type": "skip"
    }
   },
   "outputs": [],
   "source": [
    "ds_init_labsea=[]\n",
    "for i in range(len(ds_init)):\n",
    "    ds_init_labsea.append(ds_init[i].where(ds_lab_sea_in[i].max(\"obs\")))\n",
    "    \n",
    "vtls,htls,fwtls,tavls,savls,tils = transports(ds_init_labsea)"
   ]
  },
  {
   "cell_type": "code",
   "execution_count": null,
   "metadata": {
    "slideshow": {
     "slide_type": "skip"
    }
   },
   "outputs": [],
   "source": [
    "ds_init_60w=[]\n",
    "for i in range(len(ds_init)):\n",
    "    ds_init_60w.append(ds_init[i].where(ds_60w_in[i].max(\"obs\")))\n",
    "    \n",
    "vtgs,htgs,fwtgs,tavgs,savgs,tigs = transports(ds_init_60w)"
   ]
  },
  {
   "cell_type": "code",
   "execution_count": null,
   "metadata": {
    "slideshow": {
     "slide_type": "skip"
    }
   },
   "outputs": [],
   "source": [
    "def plot_transports_by_source():\n",
    "    sns.set(style=\"darkgrid\")\n",
    "    sns.set_palette(\"colorblind\")\n",
    "    fig,ax = plt.subplots(3,figsize = (8,9),sharex=True)\n",
    "    ax[0].plot(ti,vt,label='total')\n",
    "    ax[0].plot(tils,vtls,label='labrador sea')\n",
    "    ax[0].plot(tigs,vtgs,label='gulf stream')\n",
    "    ax[0].plot(ti,vt-vtls-vtgs,label='other')\n",
    "    ax[0].legend(bbox_to_anchor=(1.0, 1.05))\n",
    "    ax[0].set_ylabel('transport [Sv]')\n",
    "\n",
    "    ax[1].plot(ti,ht,label='total')\n",
    "    ax[1].plot(tils,htls,label='labrador sea')\n",
    "    ax[1].plot(tigs,htgs,label='gulf stream')\n",
    "    ax[1].plot(ti,ht-htls-htgs,label='other')\n",
    "    ax[1].legend(bbox_to_anchor=(1.0, 1.05))\n",
    "    ax[1].set_ylabel('temperature transport [Sv $\\degree$C]')\n",
    "\n",
    "    ax[2].plot(ti,fwt,label='total')\n",
    "    ax[2].plot(tils,fwtls,label='labrador sea')\n",
    "    ax[2].plot(tigs,fwtgs,label='gulf stream')\n",
    "    ax[2].plot(ti,fwt-fwtls-fwtgs,label='other')\n",
    "    ax[2].legend(bbox_to_anchor=(1.0, 1.05))\n",
    "    ax[2].set_ylabel('salt transport [Sv PSU]')"
   ]
  },
  {
   "cell_type": "markdown",
   "metadata": {
    "slideshow": {
     "slide_type": "subslide"
    }
   },
   "source": [
    "Notice the larger difference between volume transports originating from the Gulf Stream and from the Labrador Sea in the period 2006-2011, and smaller difference after 2012."
   ]
  },
  {
   "cell_type": "code",
   "execution_count": null,
   "metadata": {
    "slideshow": {
     "slide_type": "subslide"
    }
   },
   "outputs": [],
   "source": [
    "plot_transports_by_source()"
   ]
  },
  {
   "cell_type": "code",
   "execution_count": null,
   "metadata": {
    "slideshow": {
     "slide_type": "skip"
    }
   },
   "outputs": [],
   "source": [
    "def plot_mean_properties_by_source():\n",
    "    sns.set(style=\"darkgrid\")\n",
    "    sns.set_palette(\"colorblind\")\n",
    "    fig,ax = plt.subplots(2,figsize = (8,5),sharex=True)\n",
    "\n",
    "    ax[0].plot(ti,tav,label='total')\n",
    "    ax[0].plot(tils,tavls,label='labrador sea')\n",
    "    ax[0].plot(tigs,tavgs,label='gulf stream')\n",
    "    ax[0].legend(bbox_to_anchor=(1.0, 1.05))\n",
    "    ax[0].set_ylabel('mean temperature [$\\degree$C]')\n",
    "\n",
    "    ax[1].plot(ti,sav,label='total')\n",
    "    ax[1].plot(tils,savls,label='labrador sea')\n",
    "    ax[1].plot(tigs,savgs,label='gulf stream')\n",
    "    ax[1].legend(bbox_to_anchor=(1.0, 1.05))\n",
    "    ax[1].set_ylabel('mean salinity [PSU]');\n",
    "\n"
   ]
  },
  {
   "cell_type": "markdown",
   "metadata": {
    "slideshow": {
     "slide_type": "subslide"
    }
   },
   "source": [
    "This is the average temperature and salinity when the water crosses the OSNAP section. So it will have been modified from the water properties in the 'source' region."
   ]
  },
  {
   "cell_type": "code",
   "execution_count": null,
   "metadata": {
    "slideshow": {
     "slide_type": "fragment"
    }
   },
   "outputs": [],
   "source": [
    "plot_mean_properties_by_source()"
   ]
  },
  {
   "cell_type": "markdown",
   "metadata": {
    "slideshow": {
     "slide_type": "skip"
    }
   },
   "source": [
    "### heat loss"
   ]
  },
  {
   "cell_type": "code",
   "execution_count": null,
   "metadata": {
    "slideshow": {
     "slide_type": "skip"
    }
   },
   "outputs": [],
   "source": [
    "ds_mask = ds"
   ]
  },
  {
   "cell_type": "code",
   "execution_count": null,
   "metadata": {
    "slideshow": {
     "slide_type": "skip"
    }
   },
   "outputs": [],
   "source": [
    "ds_mask_lab_sea = []\n",
    "for i in range(len(ds_mask)):\n",
    "    ds_mask_lab_sea.append(ds_mask[i].where(ds_lab_sea_in[i].max(\"obs\")).dropna('traj', how='all').ffill(dim='obs'))\n",
    "\n",
    "ds_mask_60w = []\n",
    "for i in range(len(ds_mask)):\n",
    "    ds_mask_60w.append(ds_mask[i].where(ds_lab_sea_in[i].max(\"obs\")==False).where(ds_60w_in[i].max(\"obs\")).dropna('traj', how='all').ffill(dim='obs'))\n",
    "    \n",
    "ds_mask_other = []\n",
    "for i in range(len(ds_mask)):\n",
    "    ds_mask_other.append(ds_mask[i].where(ds_lab_sea_in[i].max(\"obs\")==False).where(ds_60w_in[i].max(\"obs\")==False).dropna('traj', how='all').ffill(dim='obs'))"
   ]
  },
  {
   "cell_type": "code",
   "execution_count": null,
   "metadata": {
    "slideshow": {
     "slide_type": "skip"
    }
   },
   "outputs": [],
   "source": [
    "for i in range(len(ds_mask)):\n",
    "    ds_mask[i]=ds_mask[i].dropna('traj', how='all').ffill(dim='obs')\n"
   ]
  },
  {
   "cell_type": "code",
   "execution_count": null,
   "metadata": {
    "slideshow": {
     "slide_type": "skip"
    }
   },
   "outputs": [],
   "source": [
    "def plot_alongtrack_av_timeseries(dsi,dsmi):\n",
    "    fig,ax = plt.subplots(2,figsize = (13,8),sharex=True)\n",
    "    sns.set(style=\"darkgrid\")\n",
    "    sns.set_palette(\"Paired\")\n",
    "\n",
    "    ax[1].plot(dsi[0].time[0]-dsi[0].time[0][0],dsmi[0].where(dsmi[0].temp!=0.0).temp.mean(dim='traj'),label='2006-07')\n",
    "    ax[1].plot(dsi[1].time[0]-dsi[1].time[0][0],dsmi[1].where(dsmi[1].temp!=0.0).temp.mean(dim='traj'),label='2007-07')\n",
    "    ax[1].plot(dsi[2].time[0]-dsi[2].time[0][0],dsmi[2].where(dsmi[2].temp!=0.0).temp.mean(dim='traj'),label='2008-07')\n",
    "    ax[1].plot(dsi[3].time[0]-dsi[3].time[0][0],dsmi[3].where(dsmi[3].temp!=0.0).temp.mean(dim='traj'),label='2009-07')\n",
    "    ax[1].plot(dsi[4].time[0]-dsi[4].time[0][0],dsmi[4].where(dsmi[4].temp!=0.0).temp.mean(dim='traj'),label='2010-07')\n",
    "    ax[1].plot(dsi[5].time[0]-dsi[5].time[0][0],dsmi[5].where(dsmi[5].temp!=0.0).temp.mean(dim='traj'),label='2011-07')\n",
    "    ax[1].plot(dsi[6].time[0]-dsi[6].time[0][0],dsmi[6].where(dsmi[6].temp!=0.0).temp.mean(dim='traj'),label='2012-07')\n",
    "    ax[1].plot(dsi[7].time[0]-dsi[7].time[0][0],dsmi[7].where(dsmi[7].temp!=0.0).temp.mean(dim='traj'),label='2013-07')\n",
    "    ax[1].plot(dsi[8].time[0]-dsi[8].time[0][0],dsmi[8].where(dsmi[8].temp!=0.0).temp.mean(dim='traj'),label='2014-07')\n",
    "    ax[1].plot(dsi[9].time[0]-dsi[9].time[0][0],dsmi[9].where(dsmi[9].temp!=0.0).temp.mean(dim='traj'),label='2015-07')\n",
    "    ax[1].plot(dsi[10].time[0]-dsi[10].time[0][0],dsmi[10].where(dsmi[10].temp!=0.0).temp.mean(dim='traj'),label='2016-07')\n",
    "    ax[1].plot(dsi[11].time[0]-dsi[11].time[0][0],dsmi[11].where(dsmi[11].temp!=0.0).temp.mean(dim='traj'),label='2017-07')\n",
    "    ax[1].legend(bbox_to_anchor=(1.0, 1.0))\n",
    "    ax[1].set_ylim(2.5,17.5)\n",
    "\n",
    "    ax[0].plot(dsi[12].time[0]-dsi[12].time[0][0],dsmi[12].where(dsmi[12].temp!=0.0).temp.mean(dim='traj'),label='2006-01')\n",
    "    ax[0].plot(dsi[13].time[0]-dsi[13].time[0][0],dsmi[13].where(dsmi[13].temp!=0.0).temp.mean(dim='traj'),label='2007-01')\n",
    "    ax[0].plot(dsi[14].time[0]-dsi[14].time[0][0],dsmi[14].where(dsmi[14].temp!=0.0).temp.mean(dim='traj'),label='2008-01')\n",
    "    ax[0].plot(dsi[15].time[0]-dsi[15].time[0][0],dsmi[15].where(dsmi[15].temp!=0.0).temp.mean(dim='traj'),label='2009-01')\n",
    "    ax[0].plot(dsi[16].time[0]-dsi[16].time[0][0],dsmi[16].where(dsmi[16].temp!=0.0).temp.mean(dim='traj'),label='2010-01')\n",
    "    ax[0].plot(dsi[17].time[0]-dsi[17].time[0][0],dsmi[17].where(dsmi[17].temp!=0.0).temp.mean(dim='traj'),label='2011-01')\n",
    "    ax[0].plot(dsi[18].time[0]-dsi[18].time[0][0],dsmi[18].where(dsmi[18].temp!=0.0).temp.mean(dim='traj'),label='2012-01')\n",
    "    ax[0].plot(dsi[19].time[0]-dsi[19].time[0][0],dsmi[19].where(dsmi[19].temp!=0.0).temp.mean(dim='traj'),label='2013-01')\n",
    "    ax[0].plot(dsi[20].time[0]-dsi[20].time[0][0],dsmi[20].where(dsmi[20].temp!=0.0).temp.mean(dim='traj'),label='2014-01')\n",
    "    ax[0].plot(dsi[21].time[0]-dsi[21].time[0][0],dsmi[21].where(dsmi[21].temp!=0.0).temp.mean(dim='traj'),label='2015-01')\n",
    "    ax[0].plot(dsi[22].time[0]-dsi[22].time[0][0],dsmi[22].where(dsmi[22].temp!=0.0).temp.mean(dim='traj'),label='2016-01')\n",
    "    ax[0].plot(dsi[23].time[0]-dsi[23].time[0][0],dsmi[23].where(dsmi[23].temp!=0.0).temp.mean(dim='traj'),label='2017-01')\n",
    "    ax[0].legend(bbox_to_anchor=(1.0, 1.0));\n",
    "    ax[0].set_ylim(2.5,17.5)\n"
   ]
  },
  {
   "cell_type": "code",
   "execution_count": null,
   "metadata": {
    "slideshow": {
     "slide_type": "skip"
    }
   },
   "outputs": [],
   "source": [
    "def plot_alongtrack_av_timeseries_chrono(dsi,dsmi):\n",
    "    fig,ax = plt.subplots(figsize = (13,8),sharex=True)\n",
    "    sns.set(style=\"darkgrid\")\n",
    "    sns.set_palette(\"Paired\")\n",
    "\n",
    "    ax.plot(dsi[0].time[100],dsmi[0].where(dsmi[0].temp!=0.0).temp.mean(dim='traj'),label='2006')\n",
    "    ax.plot(dsi[1].time[100],dsmi[1].where(dsmi[1].temp!=0.0).temp.mean(dim='traj'),label='2007')\n",
    "    ax.plot(dsi[2].time[100],dsmi[2].where(dsmi[2].temp!=0.0).temp.mean(dim='traj'),label='2008')\n",
    "    ax.plot(dsi[3].time[100],dsmi[3].where(dsmi[3].temp!=0.0).temp.mean(dim='traj'),label='2009')\n",
    "    ax.plot(dsi[4].time[100],dsmi[4].where(dsmi[4].temp!=0.0).temp.mean(dim='traj'),label='2010')\n",
    "    ax.plot(dsi[5].time[100],dsmi[5].where(dsmi[5].temp!=0.0).temp.mean(dim='traj'),label='2011')\n",
    "    ax.plot(dsi[6].time[100],dsmi[6].where(dsmi[6].temp!=0.0).temp.mean(dim='traj'),label='2012')\n",
    "    ax.plot(dsi[7].time[100],dsmi[7].where(dsmi[7].temp!=0.0).temp.mean(dim='traj'),label='2013')\n",
    "    ax.plot(dsi[8].time[100],dsmi[8].where(dsmi[8].temp!=0.0).temp.mean(dim='traj'),label='2014')\n",
    "    ax.plot(dsi[9].time[100],dsmi[9].where(dsmi[9].temp!=0.0).temp.mean(dim='traj'),label='2015')\n",
    "    ax.plot(dsi[10].time[0],dsmi[10].where(dsmi[10].temp!=0.0).temp.mean(dim='traj'),label='2016')\n",
    "    ax.plot(dsi[11].time[0],dsmi[11].where(dsmi[11].temp!=0.0).temp.mean(dim='traj'),label='2017')\n",
    "\n",
    "#     ax.plot(dsi[12].time[0],dsmi[12].where(dsmi[12].temp!=0.0).temp.mean(dim='traj'))\n",
    "#     ax.plot(dsi[13].time[0],dsmi[13].where(dsmi[13].temp!=0.0).temp.mean(dim='traj'))\n",
    "#     ax.plot(dsi[14].time[0],dsmi[14].where(dsmi[14].temp!=0.0).temp.mean(dim='traj'))\n",
    "#     ax.plot(dsi[15].time[0],dsmi[15].where(dsmi[15].temp!=0.0).temp.mean(dim='traj'))\n",
    "#     ax.plot(dsi[16].time[0],dsmi[16].where(dsmi[16].temp!=0.0).temp.mean(dim='traj'))\n",
    "#     ax.plot(dsi[17].time[0],dsmi[17].where(dsmi[17].temp!=0.0).temp.mean(dim='traj'))\n",
    "#     ax.plot(dsi[18].time[0],dsmi[18].where(dsmi[18].temp!=0.0).temp.mean(dim='traj'))\n",
    "#     ax.plot(dsi[19].time[0],dsmi[19].where(dsmi[19].temp!=0.0).temp.mean(dim='traj'))\n",
    "#     ax.plot(dsi[20].time[0],dsmi[20].where(dsmi[20].temp!=0.0).temp.mean(dim='traj'))\n",
    "#     ax.plot(dsi[21].time[0],dsmi[21].where(dsmi[21].temp!=0.0).temp.mean(dim='traj'))\n",
    "#     ax.plot(dsi[22].time[0],dsmi[22].where(dsmi[22].temp!=0.0).temp.mean(dim='traj'))\n",
    "#     ax.plot(dsi[23].time[0],dsmi[23].where(dsmi[23].temp!=0.0).temp.mean(dim='traj'))\n",
    "    ax.legend(bbox_to_anchor=(1.0, 1.0));\n",
    "    ax.set_ylim(2.5,18.5)"
   ]
  },
  {
   "cell_type": "code",
   "execution_count": null,
   "metadata": {
    "slideshow": {
     "slide_type": "skip"
    }
   },
   "outputs": [],
   "source": [
    "def plot_alongtrack_av_timeseries_salt(dsi,dsmi):\n",
    "    fig,ax = plt.subplots(2,figsize = (13,8),sharex=True)\n",
    "    sns.set(style=\"darkgrid\")\n",
    "    sns.set_palette(\"Paired\")\n",
    "\n",
    "    ax[1].plot(dsi[0].time[0]-dsi[0].time[0][0],dsmi[0].where(dsmi[0].salt!=0.0).salt.mean(dim='traj'),label='2006-07')\n",
    "    ax[1].plot(dsi[1].time[0]-dsi[1].time[0][0],dsmi[1].where(dsmi[1].salt!=0.0).salt.mean(dim='traj'),label='2007-07')\n",
    "    ax[1].plot(dsi[2].time[0]-dsi[2].time[0][0],dsmi[2].where(dsmi[2].salt!=0.0).salt.mean(dim='traj'),label='2008-07')\n",
    "    ax[1].plot(dsi[3].time[0]-dsi[3].time[0][0],dsmi[3].where(dsmi[3].salt!=0.0).salt.mean(dim='traj'),label='2009-07')\n",
    "    ax[1].plot(dsi[4].time[0]-dsi[4].time[0][0],dsmi[4].where(dsmi[4].salt!=0.0).salt.mean(dim='traj'),label='2010-07')\n",
    "    ax[1].plot(dsi[5].time[0]-dsi[5].time[0][0],dsmi[5].where(dsmi[5].salt!=0.0).salt.mean(dim='traj'),label='2011-07')\n",
    "    ax[1].plot(dsi[6].time[0]-dsi[6].time[0][0],dsmi[6].where(dsmi[6].salt!=0.0).salt.mean(dim='traj'),label='2012-07')\n",
    "    ax[1].plot(dsi[7].time[0]-dsi[7].time[0][0],dsmi[7].where(dsmi[7].salt!=0.0).salt.mean(dim='traj'),label='2013-07')\n",
    "    ax[1].plot(dsi[8].time[0]-dsi[8].time[0][0],dsmi[8].where(dsmi[8].salt!=0.0).salt.mean(dim='traj'),label='2014-07')\n",
    "    ax[1].plot(dsi[9].time[0]-dsi[9].time[0][0],dsmi[9].where(dsmi[9].salt!=0.0).salt.mean(dim='traj'),label='2015-07')\n",
    "    ax[1].plot(dsi[10].time[0]-dsi[10].time[0][0],dsmi[10].where(dsmi[10].salt!=0.0).salt.mean(dim='traj'),label='2016-07')\n",
    "    ax[1].plot(dsi[11].time[0]-dsi[11].time[0][0],dsmi[11].where(dsmi[11].salt!=0.0).salt.mean(dim='traj'),label='2017-07')\n",
    "    ax[1].legend(bbox_to_anchor=(1.0, 1.0))\n",
    "    ax[1].set_ylim(34.41,36.0)\n",
    "\n",
    "    ax[0].plot(dsi[12].time[0]-dsi[12].time[0][0],dsmi[12].where(dsmi[12].salt!=0.0).salt.mean(dim='traj'),label='2006-01')\n",
    "    ax[0].plot(dsi[13].time[0]-dsi[13].time[0][0],dsmi[13].where(dsmi[13].salt!=0.0).salt.mean(dim='traj'),label='2007-01')\n",
    "    ax[0].plot(dsi[14].time[0]-dsi[14].time[0][0],dsmi[14].where(dsmi[14].salt!=0.0).salt.mean(dim='traj'),label='2008-01')\n",
    "    ax[0].plot(dsi[15].time[0]-dsi[15].time[0][0],dsmi[15].where(dsmi[15].salt!=0.0).salt.mean(dim='traj'),label='2009-01')\n",
    "    ax[0].plot(dsi[16].time[0]-dsi[16].time[0][0],dsmi[16].where(dsmi[16].salt!=0.0).salt.mean(dim='traj'),label='2010-01')\n",
    "    ax[0].plot(dsi[17].time[0]-dsi[17].time[0][0],dsmi[17].where(dsmi[17].salt!=0.0).salt.mean(dim='traj'),label='2011-01')\n",
    "    ax[0].plot(dsi[18].time[0]-dsi[18].time[0][0],dsmi[18].where(dsmi[18].salt!=0.0).salt.mean(dim='traj'),label='2012-01')\n",
    "    ax[0].plot(dsi[19].time[0]-dsi[19].time[0][0],dsmi[19].where(dsmi[19].salt!=0.0).salt.mean(dim='traj'),label='2013-01')\n",
    "    ax[0].plot(dsi[20].time[0]-dsi[20].time[0][0],dsmi[20].where(dsmi[20].salt!=0.0).salt.mean(dim='traj'),label='2014-01')\n",
    "    ax[0].plot(dsi[21].time[0]-dsi[21].time[0][0],dsmi[21].where(dsmi[21].salt!=0.0).salt.mean(dim='traj'),label='2015-01')\n",
    "    ax[0].plot(dsi[22].time[0]-dsi[22].time[0][0],dsmi[22].where(dsmi[22].salt!=0.0).salt.mean(dim='traj'),label='2016-01')\n",
    "    ax[0].plot(dsi[23].time[0]-dsi[23].time[0][0],dsmi[23].where(dsmi[23].salt!=0.0).salt.mean(dim='traj'),label='2017-01')\n",
    "    ax[0].legend(bbox_to_anchor=(1.0, 1.0));\n",
    "    ax[0].set_ylim(34.41,36.15)\n"
   ]
  },
  {
   "cell_type": "code",
   "execution_count": null,
   "metadata": {
    "slideshow": {
     "slide_type": "skip"
    }
   },
   "outputs": [],
   "source": [
    "def plot_alongtrack_av_timeseries_salt_chrono(dsi,dsmi):\n",
    "    fig,ax = plt.subplots(figsize = (13,8),sharex=True)\n",
    "    sns.set(style=\"darkgrid\")\n",
    "    sns.set_palette(\"Paired\")\n",
    "\n",
    "    ax.plot(dsi[0].time[100],dsmi[0].where(dsmi[0].salt!=0.0).salt.mean(dim='traj'),label='2006')\n",
    "    ax.plot(dsi[1].time[100],dsmi[1].where(dsmi[1].salt!=0.0).salt.mean(dim='traj'),label='2007')\n",
    "    ax.plot(dsi[2].time[100],dsmi[2].where(dsmi[2].salt!=0.0).salt.mean(dim='traj'),label='2008')\n",
    "    ax.plot(dsi[3].time[100],dsmi[3].where(dsmi[3].salt!=0.0).salt.mean(dim='traj'),label='2009')\n",
    "    ax.plot(dsi[4].time[100],dsmi[4].where(dsmi[4].salt!=0.0).salt.mean(dim='traj'),label='2010')\n",
    "    ax.plot(dsi[5].time[100],dsmi[5].where(dsmi[5].salt!=0.0).salt.mean(dim='traj'),label='2011')\n",
    "    ax.plot(dsi[6].time[100],dsmi[6].where(dsmi[6].salt!=0.0).salt.mean(dim='traj'),label='2012')\n",
    "    ax.plot(dsi[7].time[100],dsmi[7].where(dsmi[7].salt!=0.0).salt.mean(dim='traj'),label='2013')\n",
    "    ax.plot(dsi[8].time[100],dsmi[8].where(dsmi[8].salt!=0.0).salt.mean(dim='traj'),label='2014')\n",
    "    ax.plot(dsi[9].time[100],dsmi[9].where(dsmi[9].salt!=0.0).salt.mean(dim='traj'),label='2015')\n",
    "    ax.plot(dsi[10].time[0],dsmi[10].where(dsmi[10].salt!=0.0).salt.mean(dim='traj'),label='2016')\n",
    "    ax.plot(dsi[11].time[0],dsmi[11].where(dsmi[11].salt!=0.0).salt.mean(dim='traj'),label='2017')\n",
    "\n",
    "#     ax.plot(dsi[12].time[0],dsmi[12].where(dsmi[12].salt!=0.0).salt.mean(dim='traj'))\n",
    "#     ax.plot(dsi[13].time[0],dsmi[13].where(dsmi[13].salt!=0.0).salt.mean(dim='traj'))\n",
    "#     ax.plot(dsi[14].time[0],dsmi[14].where(dsmi[14].salt!=0.0).salt.mean(dim='traj'))\n",
    "#     ax.plot(dsi[15].time[0],dsmi[15].where(dsmi[15].salt!=0.0).salt.mean(dim='traj'))\n",
    "#     ax.plot(dsi[16].time[0],dsmi[16].where(dsmi[16].salt!=0.0).salt.mean(dim='traj'))\n",
    "#     ax.plot(dsi[17].time[0],dsmi[17].where(dsmi[17].salt!=0.0).salt.mean(dim='traj'))\n",
    "#     ax.plot(dsi[18].time[0],dsmi[18].where(dsmi[18].salt!=0.0).salt.mean(dim='traj'))\n",
    "#     ax.plot(dsi[19].time[0],dsmi[19].where(dsmi[19].salt!=0.0).salt.mean(dim='traj'))\n",
    "#     ax.plot(dsi[20].time[0],dsmi[20].where(dsmi[20].salt!=0.0).salt.mean(dim='traj'))\n",
    "#     ax.plot(dsi[21].time[0],dsmi[21].where(dsmi[21].salt!=0.0).salt.mean(dim='traj'))\n",
    "#     ax.plot(dsi[22].time[0],dsmi[22].where(dsmi[22].salt!=0.0).salt.mean(dim='traj'))\n",
    "#     ax.plot(dsi[23].time[0],dsmi[23].where(dsmi[23].salt!=0.0).salt.mean(dim='traj'))\n",
    "    ax.legend(bbox_to_anchor=(1.0, 1.0))\n",
    "    \n",
    "    ax.set_ylim(34.41,36.15)"
   ]
  },
  {
   "cell_type": "markdown",
   "metadata": {
    "slideshow": {
     "slide_type": "slide"
    }
   },
   "source": [
    "## Mean temperature and salinity alongtrack.\n",
    "\n",
    "Colours correspond to individualreleases. Particles were tracked backwards in time, so the right-hand end of each track section is the time it crossed OSNAP line.\n",
    "\n",
    "The idea is to try to get an idea of how much the water properties have been modified between the source region and OSNAP.\n"
   ]
  },
  {
   "cell_type": "markdown",
   "metadata": {
    "slideshow": {
     "slide_type": "subslide"
    }
   },
   "source": [
    "Mean temperature, all tracks. Mostly just showing the seasonal cycle. Lower temperatures recorded in later years are recorded over the length of the track. This could be changing relative importance of sources, or changing properties at source."
   ]
  },
  {
   "cell_type": "code",
   "execution_count": null,
   "metadata": {
    "slideshow": {
     "slide_type": "fragment"
    }
   },
   "outputs": [],
   "source": [
    "plot_alongtrack_av_timeseries_chrono(ds,ds_mask)"
   ]
  },
  {
   "cell_type": "markdown",
   "metadata": {
    "slideshow": {
     "slide_type": "subslide"
    }
   },
   "source": [
    "Mean temperature along track. Tracks from Labrador Sea."
   ]
  },
  {
   "cell_type": "code",
   "execution_count": null,
   "metadata": {
    "slideshow": {
     "slide_type": "fragment"
    }
   },
   "outputs": [],
   "source": [
    "plot_alongtrack_av_timeseries_chrono(ds,ds_mask_lab_sea)"
   ]
  },
  {
   "cell_type": "markdown",
   "metadata": {
    "slideshow": {
     "slide_type": "subslide"
    }
   },
   "source": [
    "Mean temperature along track. Tracks from Gulf Stream."
   ]
  },
  {
   "cell_type": "code",
   "execution_count": null,
   "metadata": {
    "slideshow": {
     "slide_type": "fragment"
    }
   },
   "outputs": [],
   "source": [
    "plot_alongtrack_av_timeseries_chrono(ds,ds_mask_60w)"
   ]
  },
  {
   "cell_type": "markdown",
   "metadata": {
    "slideshow": {
     "slide_type": "subslide"
    }
   },
   "source": [
    "Mean temperature along track. Other tracks."
   ]
  },
  {
   "cell_type": "code",
   "execution_count": null,
   "metadata": {
    "slideshow": {
     "slide_type": "fragment"
    }
   },
   "outputs": [],
   "source": [
    "plot_alongtrack_av_timeseries_chrono(ds,ds_mask_other)"
   ]
  },
  {
   "cell_type": "markdown",
   "metadata": {
    "slideshow": {
     "slide_type": "subslide"
    }
   },
   "source": [
    "Mean salinity, all tracks. Lower salinities recorded in later years are recorded over the length of the track. This could be changing sources, or changing properties at source."
   ]
  },
  {
   "cell_type": "code",
   "execution_count": null,
   "metadata": {
    "slideshow": {
     "slide_type": "fragment"
    }
   },
   "outputs": [],
   "source": [
    "plot_alongtrack_av_timeseries_salt_chrono(ds,ds_mask)"
   ]
  },
  {
   "cell_type": "markdown",
   "metadata": {
    "slideshow": {
     "slide_type": "subslide"
    }
   },
   "source": [
    "Mean salinity along track. Tracks from Labrador Sea."
   ]
  },
  {
   "cell_type": "code",
   "execution_count": null,
   "metadata": {
    "slideshow": {
     "slide_type": "fragment"
    }
   },
   "outputs": [],
   "source": [
    "plot_alongtrack_av_timeseries_salt_chrono(ds,ds_mask_lab_sea)"
   ]
  },
  {
   "cell_type": "markdown",
   "metadata": {
    "slideshow": {
     "slide_type": "subslide"
    }
   },
   "source": [
    "Mean salinity along track. Tracks from Gulf Stream."
   ]
  },
  {
   "cell_type": "code",
   "execution_count": null,
   "metadata": {
    "slideshow": {
     "slide_type": "fragment"
    }
   },
   "outputs": [],
   "source": [
    "plot_alongtrack_av_timeseries_salt_chrono(ds,ds_mask_60w)"
   ]
  },
  {
   "cell_type": "markdown",
   "metadata": {
    "slideshow": {
     "slide_type": "subslide"
    }
   },
   "source": [
    "Mean salinity along track. Other tracks."
   ]
  },
  {
   "cell_type": "code",
   "execution_count": null,
   "metadata": {
    "slideshow": {
     "slide_type": "fragment"
    }
   },
   "outputs": [],
   "source": [
    "plot_alongtrack_av_timeseries_salt_chrono(ds,ds_mask_other)"
   ]
  },
  {
   "cell_type": "code",
   "execution_count": null,
   "metadata": {
    "slideshow": {
     "slide_type": "skip"
    }
   },
   "outputs": [],
   "source": [
    "# conda list"
   ]
  },
  {
   "cell_type": "code",
   "execution_count": null,
   "metadata": {
    "slideshow": {
     "slide_type": "skip"
    }
   },
   "outputs": [],
   "source": [
    "ds0=ds[0]"
   ]
  },
  {
   "cell_type": "code",
   "execution_count": null,
   "metadata": {
    "slideshow": {
     "slide_type": "skip"
    }
   },
   "outputs": [],
   "source": [
    "ds0"
   ]
  },
  {
   "cell_type": "code",
   "execution_count": null,
   "metadata": {
    "slideshow": {
     "slide_type": "skip"
    }
   },
   "outputs": [],
   "source": [
    "ds_init0 = ds_init[0]"
   ]
  },
  {
   "cell_type": "code",
   "execution_count": null,
   "metadata": {},
   "outputs": [],
   "source": [
    "ds_init0"
   ]
  },
  {
   "cell_type": "code",
   "execution_count": null,
   "metadata": {},
   "outputs": [],
   "source": [
    "ds0.temp*ds_init0.u_normal"
   ]
  },
  {
   "cell_type": "code",
   "execution_count": null,
   "metadata": {},
   "outputs": [],
   "source": []
  }
 ],
 "metadata": {
  "celltoolbar": "Slideshow",
  "kernelspec": {
   "display_name": "py3lagrangeSeawater",
   "language": "python",
   "name": "py3lagrangeseawater"
  },
  "language_info": {
   "codemirror_mode": {
    "name": "ipython",
    "version": 3
   },
   "file_extension": ".py",
   "mimetype": "text/x-python",
   "name": "python",
   "nbconvert_exporter": "python",
   "pygments_lexer": "ipython3",
   "version": "3.8.3"
  }
 },
 "nbformat": 4,
 "nbformat_minor": 4
}
