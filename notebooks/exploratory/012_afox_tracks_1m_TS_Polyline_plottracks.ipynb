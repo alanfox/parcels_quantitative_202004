{
 "cells": [
  {
   "cell_type": "markdown",
   "metadata": {
    "slideshow": {
     "slide_type": "slide"
    }
   },
   "source": [
    "# OSNAP Parcels Experiments\n"
   ]
  },
  {
   "cell_type": "markdown",
   "metadata": {
    "slideshow": {
     "slide_type": "skip"
    }
   },
   "source": [
    "## Technical preamble"
   ]
  },
  {
   "cell_type": "code",
   "execution_count": null,
   "metadata": {
    "slideshow": {
     "slide_type": "skip"
    }
   },
   "outputs": [],
   "source": [
    "# import matplotlib.colors as colors\n",
    "import numpy as np\n",
    "from pathlib import Path\n",
    "import matplotlib.pyplot as plt\n",
    "import xarray as xr\n",
    "from datetime import datetime, timedelta\n",
    "# import seaborn as sns\n",
    "# from matplotlib.colors import ListedColormap\n",
    "import cmocean as co\n",
    "import pandas as pd\n",
    "import matplotlib.dates as mdates\n"
   ]
  },
  {
   "cell_type": "code",
   "execution_count": null,
   "metadata": {
    "slideshow": {
     "slide_type": "fragment"
    }
   },
   "outputs": [],
   "source": [
    "## Parameters\n",
    "# Project path\n",
    "project_path = Path.cwd() / '..' / '..' \n",
    "project_path = project_path.resolve()\n",
    "\n",
    "# Parcels track data file\n",
    "path_data_tracks = Path('data/processed/tracks/osnap/') \n",
    "filename_tracks = 'tracks_osnap_forwards_201701_N19886_D365_Rnd123.nc'\n",
    "\n",
    "# model mask file\n",
    "data_path = Path(\"data/external/iAtlantic/\")\n",
    "experiment_name = \"VIKING20X.L46-KKG36107B\"\n",
    "mesh_mask_file = project_path / data_path / \"mask\" / experiment_name / \"1_mesh_mask.nc\"\n",
    "\n",
    "#section lonlat file\n",
    "sectionPath = Path('data/external/sections/')\n",
    "sectionFilename = 'osnap_pos_wp.txt'\n",
    "sectionname = 'osnap'\n",
    "gsrsectionFilename = 'gsr_pos_wp.txt'\n",
    "\n",
    "degree2km = 1.852*60.0\n",
    "\n",
    "# choose color map, suggest amp for backwards, tempo_r for forwards\n",
    "\n",
    "cmap = co.cm.tempo_r\n",
    "# cmap = co.cm.amp\n"
   ]
  },
  {
   "cell_type": "markdown",
   "metadata": {
    "slideshow": {
     "slide_type": "skip"
    }
   },
   "source": [
    "## plotting functions"
   ]
  },
  {
   "cell_type": "code",
   "execution_count": null,
   "metadata": {
    "slideshow": {
     "slide_type": "skip"
    }
   },
   "outputs": [],
   "source": [
    "# range of stations from west to east, stations 0-12. Python indexing.\n",
    "\n",
    "def plotTracksBetweenStations(ds,stationRange,xlims,ylims,cmap=co.cm.tempo_r):\n",
    "    \n",
    "    dsmask = ds.where(ds.isel(obs=0).lon > lonlat.lon[stationRange[0]]).where(ds.isel(obs=0).lon < lonlat.lon[stationRange[1]])\n",
    "\n",
    "    plt.figure(figsize = (16,8))\n",
    "\n",
    "    # plt.scatter(\n",
    "    #     ds.where(ds.alive == 1).lon.data.flatten(),\n",
    "    #     ds.where(ds.alive == 1).lat.data.flatten(),\n",
    "    #     3,\n",
    "    #     ds.where(ds.alive == 1).temp.data.flatten(),\n",
    "    #     alpha=0.3, vmin = 2, vmax = 7\n",
    "    # )\n",
    "    plt.scatter(\n",
    "        dsmask.lon.data.flatten(),\n",
    "        dsmask.lat.data.flatten(),\n",
    "        3,\n",
    "#         (dsmask.time.data.flatten()-ds.time.isel(obs=0,traj=0).data).astype('timedelta64[D]')\n",
    "        mdates.date2num(dsmask.time.data.flatten())\n",
    "#         dsmask.temp.data.flatten()\n",
    "        ,cmap= cmap\n",
    "        ,zorder=2\n",
    "    #   ,alpha=0.3\n",
    "    )\n",
    "    cb = plt.colorbar(label = \"date\");\n",
    "    loc = mdates.MonthLocator()\n",
    "    cb.ax.yaxis.set_major_locator(loc)\n",
    "    cb.ax.yaxis.set_major_formatter(mdates.ConciseDateFormatter(loc))\n",
    "\n",
    "    # plt.plot(titanic_lon, titanic_lat, 'rx', ms = 8, mew = 2);\n",
    "\n",
    "    depth.isel(y=slice(1400, 2499), x=slice(0, 2404)).plot.contour(\n",
    "        x=\"nav_lon\", y=\"nav_lat\", colors = 'grey', levels = [200,800,1500,2000,2500,3500],zorder=1\n",
    "    );\n",
    "    depth.isel(y=slice(1400, 2499), x=slice(0, 2404)).plot.contour(\n",
    "        x=\"nav_lon\", y=\"nav_lat\", colors = 'k', levels = [1],zorder=3\n",
    "    );\n",
    "\n",
    "    plt.scatter(\n",
    "        ds.lon.isel(obs=0).data.flatten(),\n",
    "        ds.lat.isel(obs=0).data.flatten(),2,zorder=4\n",
    "    )\n",
    "    plt.scatter(\n",
    "        dsmask.lon.isel(obs=0).data.flatten(),\n",
    "        dsmask.lat.isel(obs=0).data.flatten(),2,zorder=5\n",
    "    )\n",
    "\n",
    "    # plt.savefig('upstream.png')\n",
    "    plt.ylim(ylims[0],ylims[1])\n",
    "    plt.xlim(xlims[0],xlims[1])\n",
    "    # plt.ylim(62,65)\n",
    "    # plt.xlim(-10,-2.5)\n"
   ]
  },
  {
   "cell_type": "markdown",
   "metadata": {
    "slideshow": {
     "slide_type": "slide"
    }
   },
   "source": [
    "## Load data"
   ]
  },
  {
   "cell_type": "code",
   "execution_count": null,
   "metadata": {
    "slideshow": {
     "slide_type": "fragment"
    }
   },
   "outputs": [],
   "source": [
    "ds = xr.open_dataset(project_path / path_data_tracks / filename_tracks)\n",
    "\n",
    "display(ds)\n",
    "# ds.isel(obs=0).z.max()"
   ]
  },
  {
   "cell_type": "code",
   "execution_count": null,
   "metadata": {
    "slideshow": {
     "slide_type": "skip"
    }
   },
   "outputs": [],
   "source": [
    "ds.isel(obs=0).time\n"
   ]
  },
  {
   "cell_type": "code",
   "execution_count": null,
   "metadata": {
    "slideshow": {
     "slide_type": "skip"
    }
   },
   "outputs": [],
   "source": [
    "mesh_mask = xr.open_dataset(mesh_mask_file)\n",
    "mesh_mask = mesh_mask.squeeze()\n",
    "mesh_mask = mesh_mask.set_coords([\"nav_lon\", \"nav_lat\", \"nav_lev\"])\n",
    "\n",
    "bathy = mesh_mask.mbathy.rename(\"number of water filled points\")\n",
    "\n",
    "depth = (mesh_mask.e3t_0 * mesh_mask.tmask).sum(\"z\")\n",
    "# display(mesh_mask)"
   ]
  },
  {
   "cell_type": "markdown",
   "metadata": {
    "slideshow": {
     "slide_type": "slide"
    }
   },
   "source": [
    "### section position data"
   ]
  },
  {
   "cell_type": "code",
   "execution_count": null,
   "metadata": {
    "slideshow": {
     "slide_type": "skip"
    }
   },
   "outputs": [],
   "source": [
    "lonlat = xr.Dataset(pd.read_csv(project_path / sectionPath / sectionFilename,delim_whitespace=True))\n",
    "lonlat['lon'] *= -1.0\n",
    "\n",
    "lonlat"
   ]
  },
  {
   "cell_type": "code",
   "execution_count": null,
   "metadata": {
    "slideshow": {
     "slide_type": "skip"
    }
   },
   "outputs": [],
   "source": [
    "lonlat.lon.attrs['long_name']='Longitude'\n",
    "lonlat.lat.attrs['long_name']='Latitude'\n",
    "lonlat.lon.attrs['standard_name']='longitude'\n",
    "lonlat.lat.attrs['standard_name']='latitude'\n",
    "lonlat.lon.attrs['units']='degrees_east'\n",
    "lonlat.lat.attrs['units']='degrees_north'\n",
    "\n",
    "lonlat2mean= lonlat.rolling({'dim_0':2}).mean()\n",
    "\n",
    "lonlatdiff = abs(lonlat.diff('dim_0'))\n",
    "lonlatdiff['lat'] = lonlatdiff['lat']*degree2km\n",
    "lonlatdiff['lon'] = lonlatdiff['lon']*degree2km*np.cos(np.radians(lonlat2mean.lat.data[1:]))\n",
    "lonlatdiff=lonlatdiff.assign({'length':np.sqrt(lonlatdiff['lon']**2+lonlatdiff['lat']**2)})\n",
    "\n",
    "total_length = lonlatdiff.length.sum().data"
   ]
  },
  {
   "cell_type": "code",
   "execution_count": null,
   "metadata": {
    "slideshow": {
     "slide_type": "fragment"
    }
   },
   "outputs": [],
   "source": [
    "lonlat.plot.scatter(x='lon',y='lat')\n",
    "lonlat2mean.plot.scatter(x='lon',y='lat')"
   ]
  },
  {
   "cell_type": "markdown",
   "metadata": {
    "slideshow": {
     "slide_type": "skip"
    }
   },
   "source": [
    "## Have a quick look"
   ]
  },
  {
   "cell_type": "markdown",
   "metadata": {
    "slideshow": {
     "slide_type": "slide"
    }
   },
   "source": [
    "### Release positions of the particles"
   ]
  },
  {
   "cell_type": "code",
   "execution_count": null,
   "metadata": {
    "slideshow": {
     "slide_type": "fragment"
    }
   },
   "outputs": [],
   "source": [
    "plt.figure(figsize = (9,4))\n",
    "plt.scatter(ds.isel(obs=0).lon.data.flatten(),ds.isel(obs=0).z.data.flatten(),s = 2)\n",
    "plt.ylim(4000,0)"
   ]
  },
  {
   "cell_type": "markdown",
   "metadata": {
    "slideshow": {
     "slide_type": "slide"
    }
   },
   "source": [
    "### Trajectories of all particles"
   ]
  },
  {
   "cell_type": "code",
   "execution_count": null,
   "metadata": {
    "slideshow": {
     "slide_type": "fragment"
    }
   },
   "outputs": [],
   "source": [
    "plotTracksBetweenStations(ds,stationRange=[0,12],xlims=[-75,15],ylims=[36,70],cmap=cmap)"
   ]
  },
  {
   "cell_type": "markdown",
   "metadata": {
    "slideshow": {
     "slide_type": "slide"
    }
   },
   "source": [
    "## plot subsections"
   ]
  },
  {
   "cell_type": "code",
   "execution_count": null,
   "metadata": {
    "slideshow": {
     "slide_type": "fragment"
    }
   },
   "outputs": [],
   "source": [
    "plotTracksBetweenStations(ds,stationRange=[0,1],xlims=[-75,15],ylims=[36,70],cmap=cmap)"
   ]
  },
  {
   "cell_type": "code",
   "execution_count": null,
   "metadata": {
    "slideshow": {
     "slide_type": "subslide"
    }
   },
   "outputs": [],
   "source": [
    "plotTracksBetweenStations(ds,stationRange=[1,2],xlims=[-75,15],ylims=[36,70],cmap=cmap)"
   ]
  },
  {
   "cell_type": "code",
   "execution_count": null,
   "metadata": {
    "slideshow": {
     "slide_type": "subslide"
    }
   },
   "outputs": [],
   "source": [
    "plotTracksBetweenStations(ds,stationRange=[2,3],xlims=[-75,15],ylims=[36,70],cmap=cmap)"
   ]
  },
  {
   "cell_type": "code",
   "execution_count": null,
   "metadata": {
    "slideshow": {
     "slide_type": "subslide"
    }
   },
   "outputs": [],
   "source": [
    "plotTracksBetweenStations(ds,stationRange=[3,4],xlims=[-75,15],ylims=[36,70],cmap=cmap)"
   ]
  },
  {
   "cell_type": "code",
   "execution_count": null,
   "metadata": {
    "slideshow": {
     "slide_type": "subslide"
    }
   },
   "outputs": [],
   "source": [
    "plotTracksBetweenStations(ds,stationRange=[4,5],xlims=[-75,15],ylims=[36,70],cmap=cmap)"
   ]
  },
  {
   "cell_type": "code",
   "execution_count": null,
   "metadata": {
    "slideshow": {
     "slide_type": "subslide"
    }
   },
   "outputs": [],
   "source": [
    "plotTracksBetweenStations(ds,stationRange=[5,6],xlims=[-75,15],ylims=[36,70],cmap=cmap)"
   ]
  },
  {
   "cell_type": "code",
   "execution_count": null,
   "metadata": {
    "slideshow": {
     "slide_type": "subslide"
    }
   },
   "outputs": [],
   "source": [
    "plotTracksBetweenStations(ds,stationRange=[6,7],xlims=[-75,15],ylims=[36,70],cmap=cmap)"
   ]
  },
  {
   "cell_type": "code",
   "execution_count": null,
   "metadata": {
    "slideshow": {
     "slide_type": "subslide"
    }
   },
   "outputs": [],
   "source": [
    "plotTracksBetweenStations(ds,stationRange=[7,8],xlims=[-75,15],ylims=[36,70],cmap=cmap)"
   ]
  },
  {
   "cell_type": "code",
   "execution_count": null,
   "metadata": {
    "slideshow": {
     "slide_type": "subslide"
    }
   },
   "outputs": [],
   "source": [
    "plotTracksBetweenStations(ds,stationRange=[8,9],xlims=[-75,15],ylims=[36,70],cmap=cmap)"
   ]
  },
  {
   "cell_type": "code",
   "execution_count": null,
   "metadata": {
    "slideshow": {
     "slide_type": "subslide"
    }
   },
   "outputs": [],
   "source": [
    "plotTracksBetweenStations(ds,stationRange=[9,10],xlims=[-75,15],ylims=[36,70],cmap=cmap)"
   ]
  },
  {
   "cell_type": "code",
   "execution_count": null,
   "metadata": {
    "slideshow": {
     "slide_type": "subslide"
    }
   },
   "outputs": [],
   "source": [
    "plotTracksBetweenStations(ds,stationRange=[10,11],xlims=[-75,15],ylims=[36,70],cmap=cmap)"
   ]
  },
  {
   "cell_type": "code",
   "execution_count": null,
   "metadata": {
    "slideshow": {
     "slide_type": "subslide"
    }
   },
   "outputs": [],
   "source": [
    "# ds1 = ds.where(ds.time > np.datetime64('2016-07-16'))\n",
    "plotTracksBetweenStations(ds,stationRange=[11,12],xlims=[-75,15],ylims=[36,70],cmap=cmap)"
   ]
  },
  {
   "cell_type": "code",
   "execution_count": null,
   "metadata": {},
   "outputs": [],
   "source": [
    "# conda list"
   ]
  },
  {
   "cell_type": "code",
   "execution_count": null,
   "metadata": {},
   "outputs": [],
   "source": []
  }
 ],
 "metadata": {
  "kernelspec": {
   "display_name": "py3lagrangeSeawater",
   "language": "python",
   "name": "py3lagrangeseawater"
  },
  "language_info": {
   "codemirror_mode": {
    "name": "ipython",
    "version": 3
   },
   "file_extension": ".py",
   "mimetype": "text/x-python",
   "name": "python",
   "nbconvert_exporter": "python",
   "pygments_lexer": "ipython3",
   "version": "3.8.3"
  }
 },
 "nbformat": 4,
 "nbformat_minor": 4
}
