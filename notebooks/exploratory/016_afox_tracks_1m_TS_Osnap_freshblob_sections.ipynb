{
 "cells": [
  {
   "cell_type": "markdown",
   "metadata": {
    "slideshow": {
     "slide_type": "slide"
    }
   },
   "source": [
    "# OSNAP line Lagrangian particle tracking investigation of the cold/fresh blob\n"
   ]
  },
  {
   "cell_type": "markdown",
   "metadata": {
    "slideshow": {
     "slide_type": "fragment"
    }
   },
   "source": [
    "### The aim here is an investigation of the source of the cold/fresh blob which appeared in the near-surface Iceland Basin from about 2014. There are a couple of published explanations for the feature: \n",
    "\n",
    "- reduced heat/salt transport across RAPID array over several years propagating northwards (Bryden et al. 2020?) or \n",
    "- increased contribution from Labrador Sea water flowing into subpolar North Atlantic rather than southwards (Holliday et al. 2020?). Driven I think by specific,  more intermittent, weather near Flemish Cap (though I need to read this again...)"
   ]
  },
  {
   "cell_type": "markdown",
   "metadata": {
    "slideshow": {
     "slide_type": "fragment"
    }
   },
   "source": [
    "The technique is to track particles back from the OSNAP line, initially for 2 years. Each particle has an associated transport normal to OSNAP, which I use to estimate the contribution to volumes/heat/salt crossing OSNAP northwards from the two main routes - Gulf Stream and Labrador Sea. And see how that changes over the years from 2006 to 2017."
   ]
  },
  {
   "cell_type": "markdown",
   "metadata": {
    "slideshow": {
     "slide_type": "fragment"
    }
   },
   "source": [
    "The main conclusion is that from about 2012 Labrador Sea becomes a more important source of surface waters to the Iceland Basin, but there is also a reduction in the temperature and salinity of the water from the Gulf Stream. So probably a balance of both. **But I need to run the particles back further - 2 years is not long enough to pinpoint the pathway for most particles.**"
   ]
  },
  {
   "cell_type": "markdown",
   "metadata": {
    "slideshow": {
     "slide_type": "skip"
    }
   },
   "source": [
    "## Technical preamble"
   ]
  },
  {
   "cell_type": "code",
   "execution_count": null,
   "metadata": {
    "slideshow": {
     "slide_type": "skip"
    }
   },
   "outputs": [],
   "source": [
    "# import matplotlib.colors as colors\n",
    "import numpy as np\n",
    "from pathlib import Path\n",
    "import matplotlib.pyplot as plt\n",
    "import xarray as xr\n",
    "from datetime import datetime, timedelta\n",
    "import seaborn as sns\n",
    "# from matplotlib.colors import ListedColormap\n",
    "import cmocean as co\n",
    "import pandas as pd\n",
    "import matplotlib.dates as mdates\n",
    "import cartopy.crs as ccrs\n",
    "import cartopy\n",
    "import seawater as sw\n",
    "\n",
    "from matplotlib import colors as c\n",
    "from matplotlib import ticker\n",
    "from xhistogram.xarray import histogram\n",
    "\n",
    "sns.set(style=\"darkgrid\")\n",
    "\n",
    "xr.set_options(keep_attrs=True)\n",
    "np.warnings.filterwarnings('ignore')\n",
    "\n",
    "sns.set_palette(\"colorblind\")\n",
    "xr.set_options(keep_attrs=True);\n"
   ]
  },
  {
   "cell_type": "markdown",
   "metadata": {
    "slideshow": {
     "slide_type": "skip"
    }
   },
   "source": [
    "### Set up paths and read in Viking20 section data"
   ]
  },
  {
   "cell_type": "code",
   "execution_count": null,
   "metadata": {
    "slideshow": {
     "slide_type": "skip"
    }
   },
   "outputs": [],
   "source": [
    "# Project path\n",
    "project_path = Path.cwd() / '..' / '..' \n",
    "project_path = project_path.resolve()\n",
    "\n",
    "# Section data file\n",
    "path_data_section = Path('data/processed/sections/') \n",
    "fname0 = f'osnapSection2000to09.nc'\n",
    "fname1 = f'osnapSection2010to18.nc'\n"
   ]
  },
  {
   "cell_type": "code",
   "execution_count": null,
   "metadata": {
    "slideshow": {
     "slide_type": "skip"
    }
   },
   "outputs": [],
   "source": [
    "section0 = xr.open_dataset(project_path / path_data_section / fname0)\n",
    "section1 = xr.open_dataset(project_path / path_data_section / fname1)\n",
    "section = xr.concat((section0,section1),dim=\"time_counter\")\n",
    "\n",
    "# add some missing attributes, mostly for automatic axis labels\n",
    "\n",
    "section.vosaline.attrs['long_name']='salinity'\n",
    "section.vosaline.attrs['units']='PSU'\n",
    "section.votemper.attrs['long_name']='potential temperature'\n",
    "section.votemper.attrs['units']='$\\degree C$'\n",
    "section.c.attrs['long_name']='Distance'\n",
    "section.c.attrs['units']='m'\n",
    "section.z.attrs['long_name']='Depth'\n",
    "section.z.attrs['units']='m'\n",
    "section.time_counter.attrs[\"long_name\"] = 'Time'\n",
    "\n",
    "# concat introduces an extra time_counter axis on the variables which didn't have one originally\n",
    "# so get rid of it\n",
    "\n",
    "section['ii'] = section['ii'].isel(time_counter=0).drop('time_counter')\n",
    "section['jj'] = section['jj'].isel(time_counter=0).drop('time_counter')\n",
    "section['dx'] = section['dx'].isel(time_counter=0).drop('time_counter')\n",
    "section['lat'] = section['lat'].isel(time_counter=0).drop('time_counter')\n",
    "section['lon'] = section['lon'].isel(time_counter=0).drop('time_counter')\n",
    "section['dz'] = section['dz'].isel(time_counter=0).drop('time_counter')\n",
    "section['mask'] = section['mask'].isel(time_counter=0).drop('time_counter')\n"
   ]
  },
  {
   "cell_type": "code",
   "execution_count": null,
   "metadata": {
    "slideshow": {
     "slide_type": "skip"
    }
   },
   "outputs": [],
   "source": [
    "def plot_hoffmuller():\n",
    "    fig,ax = plt.subplots(1,2,figsize=(15,13),sharey=True,gridspec_kw={'wspace': 0.1})\n",
    "    plt.tight_layout()\n",
    "    section.votemper.isel(z=15).plot(ax=ax[0],vmin=0,cmap=co.cm.thermal,cbar_kwargs={'orientation':'horizontal','pad':0.1})\n",
    "    section.vosaline.isel(z=15).plot(ax=ax[1],vmin=34.6,cmap=co.cm.haline,cbar_kwargs={'orientation':'horizontal','pad':0.1})\n",
    "\n",
    "    ax[1].set_ylabel('')\n",
    "\n",
    "    ax[0].ticklabel_format(axis='x', style='sci', scilimits=(-3,3))\n",
    "    ax[1].ticklabel_format(axis='x', style='sci', scilimits=(-3,3))\n",
    "\n",
    "    # # Hide x labels and tick labels for top plots and y ticks for right plots.\n",
    "    # for axis in ax.flat:\n",
    "    #     axis.label_outer()\n",
    "    return"
   ]
  },
  {
   "cell_type": "markdown",
   "metadata": {
    "slideshow": {
     "slide_type": "slide"
    }
   },
   "source": [
    "##  Hoffmuller diagram of temperature and salinity on the OSNAP section from Viking20x"
   ]
  },
  {
   "cell_type": "code",
   "execution_count": null,
   "metadata": {
    "jupyter": {
     "source_hidden": true
    },
    "slideshow": {
     "slide_type": "fragment"
    }
   },
   "outputs": [],
   "source": [
    "plot_hoffmuller()"
   ]
  },
  {
   "cell_type": "code",
   "execution_count": null,
   "metadata": {
    "slideshow": {
     "slide_type": "skip"
    }
   },
   "outputs": [],
   "source": [
    "def plot_ts_timeseries():\n",
    "    fig,ax = plt.subplots(2,figsize=(15,10),sharex=True,gridspec_kw={'wspace': 0.1})\n",
    "    plt.tight_layout()\n",
    "\n",
    "    section.votemper.isel(z=15).isel(c=635).plot(ax=ax[0],label='Irminger Basin 37.5$\\degree$W')\n",
    "    section.votemper.isel(z=15).isel(c=742).plot(ax=ax[0],label='Irminger Basin 32.6$\\degree$W')\n",
    "    section.votemper.isel(z=15).isel(c=835).plot(ax=ax[0],label='Iceland Basin 28.9$\\degree$W')\n",
    "    section.votemper.isel(z=15).isel(c=970).plot(ax=ax[0],label='Iceland Basin 22.0$\\degree$W')\n",
    "    section.votemper.isel(z=15).isel(c=1050).plot(ax=ax[0],label='Hatton-Rockall Bank 17.6$\\degree$W')\n",
    "    section.votemper.isel(z=15).isel(c=1200).plot(ax=ax[0],label='Rockall Trough 9.8$\\degree$W')\n",
    "    \n",
    "    ax[0].axvline(np.datetime64('2006-01-16T12:00:00'))\n",
    "    ax[0].axvline(np.datetime64('2017-07-16T12:00:00'))\n",
    "\n",
    "    section.vosaline.isel(z=15).isel(c=635).plot(ax=ax[1],label='Irminger Basin 37.5$\\degree$W')\n",
    "    section.vosaline.isel(z=15).isel(c=742).plot(ax=ax[1],label='Irminger Basin 32.6$\\degree$W')\n",
    "    section.vosaline.isel(z=15).isel(c=835).plot(ax=ax[1],label='Iceland Basin 28.9$\\degree$W')\n",
    "    section.vosaline.isel(z=15).isel(c=970).plot(ax=ax[1],label='Iceland Basin 22.0$\\degree$W')\n",
    "    section.vosaline.isel(z=15).isel(c=1050).plot(ax=ax[1],label='Hatton-Rockall Bank 17.6$\\degree$W')\n",
    "    section.vosaline.isel(z=15).isel(c=1200).plot(ax=ax[1],label='Rockall Trough 9.8$\\degree$W')\n",
    "\n",
    "    ax[1].axvline(np.datetime64('2006-01-16T12:00:00'))\n",
    "    ax[1].axvline(np.datetime64('2017-07-16T12:00:00'))\n",
    "\n",
    "    ax[0].set_xlabel('')\n",
    "\n",
    "    ax[0].legend()\n",
    "    ax[1].legend()\n",
    "    return"
   ]
  },
  {
   "cell_type": "markdown",
   "metadata": {
    "slideshow": {
     "slide_type": "slide"
    }
   },
   "source": [
    "## Timeseries of temperature and salinity at points on the OSNAP section. Vertical lines show the earliest and latest particle releases."
   ]
  },
  {
   "cell_type": "code",
   "execution_count": null,
   "metadata": {
    "slideshow": {
     "slide_type": "fragment"
    }
   },
   "outputs": [],
   "source": [
    "plot_ts_timeseries()"
   ]
  },
  {
   "cell_type": "markdown",
   "metadata": {
    "slideshow": {
     "slide_type": "skip"
    }
   },
   "source": [
    "## Set up paths and read in trajectory data"
   ]
  },
  {
   "cell_type": "code",
   "execution_count": null,
   "metadata": {
    "slideshow": {
     "slide_type": "skip"
    }
   },
   "outputs": [],
   "source": [
    "## Parameters\n",
    "# Project path\n",
    "project_path = Path.cwd() / '..' / '..' \n",
    "project_path = project_path.resolve()\n",
    "\n",
    "# Parcels track data file\n",
    "path_data_tracks = Path('data/processed/tracks/osnap/') \n",
    "filename_tracks = ['tracks_osnap_backward_200607_N19886_D730_Rnd123.nc',\n",
    "                   'tracks_osnap_backward_200707_N19886_D730_Rnd123.nc',\n",
    "                   'tracks_osnap_backward_200807_N19886_D730_Rnd123.nc',\n",
    "                   'tracks_osnap_backward_200907_N19886_D730_Rnd123.nc',\n",
    "                   'tracks_osnap_backward_201007_N19886_D730_Rnd123.nc',\n",
    "                   'tracks_osnap_backward_201107_N19886_D730_Rnd123.nc',\n",
    "                   'tracks_osnap_backward_201207_N19886_D730_Rnd123.nc',\n",
    "                   'tracks_osnap_backward_201307_N19886_D730_Rnd123.nc',\n",
    "                   'tracks_osnap_backward_201407_N19886_D730_Rnd123.nc',\n",
    "                   'tracks_osnap_backward_201507_N19886_D730_Rnd123.nc',\n",
    "                   'tracks_osnap_backward_201607_N19886_D730_Rnd123.nc',\n",
    "                   'tracks_osnap_backward_201707_N19886_D730_Rnd123.nc',\n",
    "                   'tracks_osnap_backward_200601_N19886_D730_Rnd123.nc',\n",
    "                   'tracks_osnap_backward_200701_N19886_D730_Rnd123.nc',\n",
    "                   'tracks_osnap_backward_200801_N19886_D730_Rnd123.nc',\n",
    "                   'tracks_osnap_backward_200901_N19886_D730_Rnd123.nc',\n",
    "                   'tracks_osnap_backward_201001_N19886_D730_Rnd123.nc',\n",
    "                   'tracks_osnap_backward_201101_N19886_D730_Rnd123.nc',\n",
    "                   'tracks_osnap_backward_201201_N19886_D730_Rnd123.nc',\n",
    "                   'tracks_osnap_backward_201301_N19886_D730_Rnd123.nc',\n",
    "                   'tracks_osnap_backward_201401_N19886_D730_Rnd123.nc',\n",
    "                   'tracks_osnap_backward_201501_N19886_D730_Rnd123.nc',\n",
    "                   'tracks_osnap_backward_201601_N19886_D730_Rnd123.nc',\n",
    "                   'tracks_osnap_backward_201701_N19886_D730_Rnd123.nc']\n",
    "\n",
    "# model mask file\n",
    "data_path = Path(\"data/external/iAtlantic/\")\n",
    "experiment_name = \"VIKING20X.L46-KKG36107B\"\n",
    "mesh_mask_file = project_path / data_path / \"mask\" / experiment_name / \"1_mesh_mask.nc\"\n",
    "\n",
    "#section lonlat file\n",
    "sectionPath = Path('data/external/sections/')\n",
    "sectionFilename = 'osnap_pos_wp.txt'\n",
    "sectionname = 'osnap'\n",
    "gsrsectionFilename = 'gsr_pos_wp.txt'\n",
    "\n",
    "degree2km = 1.852*60.0\n",
    "\n",
    "\n",
    "# some transport values specific to osnap runs\n",
    "# randomly seeded 39995 particles, 19886 were in ocean points (the rest were land)\n",
    "\n",
    "osnap_section_length = 3594572.87839    # m\n",
    "osnap_section_depth = 4000 # m over which particles launched\n",
    "\n",
    "osnap_section_ocean_area = osnap_section_length * osnap_section_depth * 19886.0 / 39995.0\n",
    "\n",
    "particle_section_area = osnap_section_length * osnap_section_depth / 39995.0\n"
   ]
  },
  {
   "cell_type": "markdown",
   "metadata": {
    "slideshow": {
     "slide_type": "skip"
    }
   },
   "source": [
    "## Load data"
   ]
  },
  {
   "cell_type": "markdown",
   "metadata": {
    "slideshow": {
     "slide_type": "skip"
    }
   },
   "source": [
    "### mesh and masks"
   ]
  },
  {
   "cell_type": "code",
   "execution_count": null,
   "metadata": {
    "slideshow": {
     "slide_type": "skip"
    }
   },
   "outputs": [],
   "source": [
    "mesh_mask = xr.open_dataset(mesh_mask_file)\n",
    "mesh_mask = mesh_mask.squeeze()\n",
    "mesh_mask = mesh_mask.set_coords([\"nav_lon\", \"nav_lat\", \"nav_lev\"])\n",
    "\n",
    "bathy = mesh_mask.mbathy.rename(\"number of water filled points\")\n",
    "\n",
    "depth = (mesh_mask.e3t_0 * mesh_mask.tmask).sum(\"z\")\n",
    "# display(mesh_mask)"
   ]
  },
  {
   "cell_type": "markdown",
   "metadata": {
    "slideshow": {
     "slide_type": "skip"
    }
   },
   "source": [
    "### section position data"
   ]
  },
  {
   "cell_type": "code",
   "execution_count": null,
   "metadata": {
    "slideshow": {
     "slide_type": "skip"
    }
   },
   "outputs": [],
   "source": [
    "lonlat = xr.Dataset(pd.read_csv(project_path / sectionPath / sectionFilename,delim_whitespace=True))\n",
    "lonlat['lon'] *= -1.0"
   ]
  },
  {
   "cell_type": "code",
   "execution_count": null,
   "metadata": {
    "slideshow": {
     "slide_type": "skip"
    }
   },
   "outputs": [],
   "source": [
    "lonlat.lon.attrs['long_name']='Longitude'\n",
    "lonlat.lat.attrs['long_name']='Latitude'\n",
    "lonlat.lon.attrs['standard_name']='longitude'\n",
    "lonlat.lat.attrs['standard_name']='latitude'\n",
    "lonlat.lon.attrs['units']='degrees_east'\n",
    "lonlat.lat.attrs['units']='degrees_north'\n",
    "\n",
    "lonlat2mean= lonlat.rolling({'dim_0':2}).mean()\n",
    "\n",
    "lonlatdiff = (lonlat.diff('dim_0'))\n",
    "\n",
    "lonlatdiff = lonlatdiff.assign({'y':lonlatdiff['lat']*degree2km})\n",
    "lonlatdiff = lonlatdiff.assign({'x':lonlatdiff['lon']*degree2km*np.cos(np.radians(lonlat2mean.lat.data[1:]))})\n",
    "lonlatdiff=lonlatdiff.assign({'length':np.sqrt(lonlatdiff['x']**2+lonlatdiff['y']**2)})\n",
    "lonlatdiff=lonlatdiff.assign({'costheta':lonlatdiff['x']/lonlatdiff['length']})\n",
    "lonlatdiff=lonlatdiff.assign({'sintheta':lonlatdiff['y']/lonlatdiff['length']})\n",
    "\n",
    "total_length = lonlatdiff.length.sum().data \n",
    "total_osnap_length = lonlatdiff.length[0:12].sum().data;  # exclude section across UK - just there for testing north/south\n",
    "\n",
    "length_west = xr.concat((xr.DataArray([0],dims=(\"dim_0\"),coords={\"dim_0\": [0]}),lonlatdiff.length.cumsum()),dim='dim_0')"
   ]
  },
  {
   "cell_type": "markdown",
   "metadata": {
    "slideshow": {
     "slide_type": "skip"
    }
   },
   "source": [
    "### tracks"
   ]
  },
  {
   "cell_type": "code",
   "execution_count": null,
   "metadata": {
    "slideshow": {
     "slide_type": "skip"
    }
   },
   "outputs": [],
   "source": [
    "ds=[]\n",
    "for filename in filename_tracks:\n",
    "    ds.append(xr.open_dataset(project_path / path_data_tracks / filename))\n",
    "# ds.isel(obs=0).z.max()"
   ]
  },
  {
   "cell_type": "markdown",
   "metadata": {
    "slideshow": {
     "slide_type": "skip"
    }
   },
   "source": [
    "#### Velocity conversions from degrees lat/lon per second to m/s"
   ]
  },
  {
   "cell_type": "code",
   "execution_count": null,
   "metadata": {
    "slideshow": {
     "slide_type": "skip"
    }
   },
   "outputs": [],
   "source": [
    "for i in range(len(ds)):\n",
    "    ds[i]=ds[i].assign({'uvel_ms':ds[i].uvel * degree2km * 1000.0 * np.cos(np.radians(ds[i].lat))})\n",
    "    ds[i]=ds[i].assign({'vvel_ms':ds[i].vvel * degree2km * 1000.0})"
   ]
  },
  {
   "cell_type": "markdown",
   "metadata": {
    "slideshow": {
     "slide_type": "skip"
    }
   },
   "source": [
    "#### Find initial velocities normal to the section"
   ]
  },
  {
   "cell_type": "code",
   "execution_count": null,
   "metadata": {
    "slideshow": {
     "slide_type": "skip"
    }
   },
   "outputs": [],
   "source": [
    "ds_init=[]\n",
    "\n",
    "for dsi in ds:\n",
    "    ds_temp = dsi.isel(obs=0)\n",
    "    ds_temp = ds_temp.assign({'section_index':xr.DataArray(np.searchsorted(lonlat.lon,ds_temp.lon)-1,dims='traj')})\n",
    "    ds_temp = ds_temp.assign({'u_normal':ds_temp.vvel_ms * lonlatdiff.costheta[ds_temp.section_index].data - ds_temp.uvel_ms * lonlatdiff.sintheta[ds_temp.section_index].data})\n",
    "    ds_temp = ds_temp.assign({'u_along':ds_temp.vvel_ms * lonlatdiff.sintheta[ds_temp.section_index].data + ds_temp.uvel_ms * lonlatdiff.costheta[ds_temp.section_index].data})\n",
    "    ds_init.append(ds_temp)"
   ]
  },
  {
   "cell_type": "markdown",
   "metadata": {
    "slideshow": {
     "slide_type": "skip"
    }
   },
   "source": [
    "#### Find along-section distances of initial points"
   ]
  },
  {
   "cell_type": "code",
   "execution_count": null,
   "metadata": {
    "slideshow": {
     "slide_type": "skip"
    }
   },
   "outputs": [],
   "source": [
    "for i in range(len(ds_init)):\n",
    "    ds_init[i] = ds_init[i].assign({'x':xr.DataArray(length_west[ds_init[i].section_index] + lonlatdiff.length[ds_init[i].section_index]*\n",
    "                              (ds_init[i].lon - lonlat.lon[ds_init[i].section_index])/lonlatdiff.lon[ds_init[i].section_index],dims='traj')})"
   ]
  },
  {
   "cell_type": "markdown",
   "metadata": {
    "slideshow": {
     "slide_type": "skip"
    }
   },
   "source": [
    "## Plot section"
   ]
  },
  {
   "cell_type": "code",
   "execution_count": null,
   "metadata": {
    "slideshow": {
     "slide_type": "skip"
    }
   },
   "outputs": [],
   "source": [
    "sns.set(style=\"whitegrid\")\n",
    "central_lon, central_lat = -30, 55\n",
    "fig, ax = plt.subplots(subplot_kw={'projection': ccrs.Orthographic(central_lon, central_lat)})\n",
    "extent = [-60, 0, 40, 70]\n",
    "ax.set_extent(extent)\n",
    "ax.gridlines()\n",
    "ax.coastlines(resolution='50m')\n",
    "\n",
    "lonlat.plot.scatter(ax=ax,transform=ccrs.PlateCarree(),x='lon',y='lat')\n",
    "lonlat2mean.plot.scatter(ax=ax,transform=ccrs.PlateCarree(),x='lon',y='lat');"
   ]
  },
  {
   "cell_type": "markdown",
   "metadata": {
    "slideshow": {
     "slide_type": "skip"
    }
   },
   "source": [
    "## Have a quick look"
   ]
  },
  {
   "cell_type": "markdown",
   "metadata": {
    "slideshow": {
     "slide_type": "skip"
    }
   },
   "source": [
    "### Release positions of the particles"
   ]
  },
  {
   "cell_type": "code",
   "execution_count": null,
   "metadata": {
    "slideshow": {
     "slide_type": "skip"
    }
   },
   "outputs": [],
   "source": [
    "def plot_ts_sections(ds_1_init,ds_2_init):\n",
    "    sns.set(style=\"darkgrid\")\n",
    "    fig,ax = plt.subplots(3,2,figsize = (18,12),sharex=True,sharey=True,gridspec_kw={'wspace': 0.0,'hspace': 0.1})\n",
    "    \n",
    "    pcm = ax[0,0].scatter(ds_1_init.x.data.flatten(),\n",
    "                        ds_1_init.z.data.flatten(),\n",
    "                        2,\n",
    "                        ds_1_init.salt.data.flatten(),\n",
    "                        vmin=34.5,vmax=35.5,\n",
    "                        cmap=co.cm.haline)\n",
    "    ax[0,0].set_ylim(0,4000)\n",
    "    ax[0,0].invert_yaxis()\n",
    "    ax[0,0].set_ylabel('depth [m]')\n",
    "    ax[0,0].set_title(ds_1_init.time[0].data.astype(str))\n",
    "\n",
    "    fig.colorbar(pcm,ax=ax[0,0],label = \"Salinity [PSU]\",extend='both')\n",
    "\n",
    "    pcm = ax[1,0].scatter(ds_2_init.x.data.flatten(),\n",
    "                        ds_2_init.z.data.flatten(),\n",
    "                        2,\n",
    "                        ds_2_init.salt.data.flatten(),\n",
    "                        vmin = 34.5, vmax = 35.5,\n",
    "                        cmap=co.cm.haline)\n",
    "    ax[1,0].set_ylim(0,4000)\n",
    "    ax[1,0].invert_yaxis()\n",
    "    ax[1,0].set_ylabel('depth [m]')\n",
    "    ax[1,0].set_title(ds_2_init.time[0].data.astype(str))\n",
    "    fig.colorbar(pcm,ax=ax[1,0],label = \"Salinity [PSU]\",extend='both')\n",
    "\n",
    "    pcm = ax[2,0].scatter(ds_1_init.x.data.flatten(),\n",
    "                        ds_1_init.z.data.flatten(),\n",
    "                        2,\n",
    "                        (ds_2_init-ds_1_init).salt.data.flatten(),\n",
    "                        vmin = -0.3, vmax = 0.3,\n",
    "                        cmap=co.cm.delta)\n",
    "    ax[2,0].set_ylim(0,4000)\n",
    "    ax[2,0].invert_yaxis()\n",
    "    ax[2,0].set_xlabel('distance [km]')\n",
    "    ax[2,0].set_ylabel('depth [m]')\n",
    "    ax[2,0].set_title('difference')\n",
    "    fig.colorbar(pcm,ax=ax[2,0],label = \"Salinity difference [PSU]\",extend='both')\n",
    "\n",
    "    pcm = ax[0,1].scatter(ds_1_init.x.data.flatten(),\n",
    "                        ds_1_init.z.data.flatten(),\n",
    "                        2,\n",
    "                        ds_1_init.temp.data.flatten(),\n",
    "                        vmin=-1,vmax=11,\n",
    "                        cmap=co.cm.thermal)\n",
    "    ax[0,1].set_ylim(0,4000)\n",
    "    ax[0,1].invert_yaxis()\n",
    "    ax[0,1].set_title(ds_1_init.time[0].data.astype(str))\n",
    "    fig.colorbar(pcm,ax=ax[0,1],label = \"potential temperature [$\\degree$C]\",extend='both')\n",
    "\n",
    "    pcm = ax[1,1].scatter(ds_2_init.x.data.flatten(),\n",
    "                        ds_2_init.z.data.flatten(),\n",
    "                        2,\n",
    "                        ds_2_init.temp.data.flatten(),\n",
    "                        vmin=-1,vmax=11,\n",
    "                        cmap=co.cm.thermal)\n",
    "    ax[1,1].set_ylim(0,4000)\n",
    "    ax[1,1].invert_yaxis()\n",
    "    ax[1,1].set_title(ds_2_init.time[0].data.astype(str))\n",
    "    fig.colorbar(pcm,ax=ax[1,1],label = \"potential temperature [$\\degree$C]\",extend='both')\n",
    "\n",
    "    pcm = ax[2,1].scatter(ds_1_init.x.data.flatten(),\n",
    "                        ds_1_init.z.data.flatten(),\n",
    "                        2,\n",
    "                        (ds_2_init-ds_1_init).temp.data.flatten(),\n",
    "                        vmin = -3, vmax = 3,\n",
    "                        cmap=co.cm.diff)\n",
    "    ax[2,1].set_ylim(0,4000)\n",
    "    ax[2,1].invert_yaxis()\n",
    "    ax[2,1].set_xlabel('distance [km]')\n",
    "    ax[2,1].set_title('difference')\n",
    "    fig.colorbar(pcm,ax=ax[2,1],label = \"temperature difference [$\\degree$C]\",extend='both')\n",
    "\n"
   ]
  },
  {
   "cell_type": "markdown",
   "metadata": {
    "slideshow": {
     "slide_type": "slide"
    }
   },
   "source": [
    "## July particle releases, temperature and salinity at release. Compared with 2006 base."
   ]
  },
  {
   "cell_type": "markdown",
   "metadata": {
    "slideshow": {
     "slide_type": "subslide"
    }
   },
   "source": [
    "### July 2007 vs. July 2006"
   ]
  },
  {
   "cell_type": "code",
   "execution_count": null,
   "metadata": {
    "slideshow": {
     "slide_type": "skip"
    }
   },
   "outputs": [],
   "source": [
    "plot_ts_sections(ds_init[0],ds_init[1])"
   ]
  },
  {
   "cell_type": "markdown",
   "metadata": {
    "slideshow": {
     "slide_type": "skip"
    }
   },
   "source": [
    "### July 2008 vs. July 2006"
   ]
  },
  {
   "cell_type": "code",
   "execution_count": null,
   "metadata": {
    "slideshow": {
     "slide_type": "skip"
    }
   },
   "outputs": [],
   "source": [
    "plot_ts_sections(ds_init[0],ds_init[2])"
   ]
  },
  {
   "cell_type": "markdown",
   "metadata": {
    "slideshow": {
     "slide_type": "skip"
    }
   },
   "source": [
    "### July 2009 vs. July 2006"
   ]
  },
  {
   "cell_type": "code",
   "execution_count": null,
   "metadata": {
    "slideshow": {
     "slide_type": "skip"
    }
   },
   "outputs": [],
   "source": [
    "plot_ts_sections(ds_init[0],ds_init[3])"
   ]
  },
  {
   "cell_type": "markdown",
   "metadata": {
    "slideshow": {
     "slide_type": "skip"
    }
   },
   "source": [
    "### July 2010 vs. July 2006"
   ]
  },
  {
   "cell_type": "code",
   "execution_count": null,
   "metadata": {},
   "outputs": [],
   "source": [
    "plot_ts_sections(ds_init[0],ds_init[4])"
   ]
  },
  {
   "cell_type": "markdown",
   "metadata": {},
   "source": [
    "### July 2011 vs. July 2006"
   ]
  },
  {
   "cell_type": "code",
   "execution_count": null,
   "metadata": {},
   "outputs": [],
   "source": [
    "plot_ts_sections(ds_init[0],ds_init[5])"
   ]
  },
  {
   "cell_type": "markdown",
   "metadata": {},
   "source": [
    "### July 2012 vs. July 2006"
   ]
  },
  {
   "cell_type": "code",
   "execution_count": null,
   "metadata": {},
   "outputs": [],
   "source": [
    "plot_ts_sections(ds_init[0],ds_init[6])"
   ]
  },
  {
   "cell_type": "markdown",
   "metadata": {},
   "source": [
    "### July 2013 vs. July 2006"
   ]
  },
  {
   "cell_type": "code",
   "execution_count": null,
   "metadata": {},
   "outputs": [],
   "source": [
    "plot_ts_sections(ds_init[0],ds_init[7])"
   ]
  },
  {
   "cell_type": "markdown",
   "metadata": {},
   "source": [
    "### July 2014 vs. July 2006"
   ]
  },
  {
   "cell_type": "code",
   "execution_count": null,
   "metadata": {},
   "outputs": [],
   "source": [
    "plot_ts_sections(ds_init[0],ds_init[8])"
   ]
  },
  {
   "cell_type": "markdown",
   "metadata": {},
   "source": [
    "### July 2015 vs. July 2006"
   ]
  },
  {
   "cell_type": "code",
   "execution_count": null,
   "metadata": {},
   "outputs": [],
   "source": [
    "plot_ts_sections(ds_init[0],ds_init[9])"
   ]
  },
  {
   "cell_type": "markdown",
   "metadata": {},
   "source": [
    "### July 2016 vs. July 2006"
   ]
  },
  {
   "cell_type": "code",
   "execution_count": null,
   "metadata": {},
   "outputs": [],
   "source": [
    "plot_ts_sections(ds_init[0],ds_init[10])"
   ]
  },
  {
   "cell_type": "markdown",
   "metadata": {},
   "source": [
    "### July 2017 vs. July 2006"
   ]
  },
  {
   "cell_type": "code",
   "execution_count": null,
   "metadata": {},
   "outputs": [],
   "source": [
    "plot_ts_sections(ds_init[0],ds_init[11])"
   ]
  },
  {
   "cell_type": "markdown",
   "metadata": {},
   "source": [
    "## January particle releases, temperature and salinity at release. Compared with 2006 base."
   ]
  },
  {
   "cell_type": "markdown",
   "metadata": {},
   "source": [
    "### January 2007 vs. January 2006"
   ]
  },
  {
   "cell_type": "code",
   "execution_count": null,
   "metadata": {},
   "outputs": [],
   "source": [
    "plot_ts_sections(ds_init[12],ds_init[13])"
   ]
  },
  {
   "cell_type": "markdown",
   "metadata": {},
   "source": [
    "### January 2008 vs. January 2006"
   ]
  },
  {
   "cell_type": "code",
   "execution_count": null,
   "metadata": {},
   "outputs": [],
   "source": [
    "plot_ts_sections(ds_init[12],ds_init[14])"
   ]
  },
  {
   "cell_type": "markdown",
   "metadata": {},
   "source": [
    "### January 2009 vs. January 2006"
   ]
  },
  {
   "cell_type": "code",
   "execution_count": null,
   "metadata": {},
   "outputs": [],
   "source": [
    "plot_ts_sections(ds_init[12],ds_init[15])"
   ]
  },
  {
   "cell_type": "markdown",
   "metadata": {},
   "source": [
    "### January 2010 vs. January 2006"
   ]
  },
  {
   "cell_type": "code",
   "execution_count": null,
   "metadata": {},
   "outputs": [],
   "source": [
    "plot_ts_sections(ds_init[12],ds_init[16])"
   ]
  },
  {
   "cell_type": "markdown",
   "metadata": {},
   "source": [
    "### January 2011 vs. January 2006"
   ]
  },
  {
   "cell_type": "code",
   "execution_count": null,
   "metadata": {},
   "outputs": [],
   "source": [
    "plot_ts_sections(ds_init[12],ds_init[17])"
   ]
  },
  {
   "cell_type": "markdown",
   "metadata": {},
   "source": [
    "### January 2012 vs. January 2006"
   ]
  },
  {
   "cell_type": "code",
   "execution_count": null,
   "metadata": {},
   "outputs": [],
   "source": [
    "plot_ts_sections(ds_init[12],ds_init[18])"
   ]
  },
  {
   "cell_type": "markdown",
   "metadata": {},
   "source": [
    "### January 2013 vs. January 2006"
   ]
  },
  {
   "cell_type": "code",
   "execution_count": null,
   "metadata": {},
   "outputs": [],
   "source": [
    "plot_ts_sections(ds_init[12],ds_init[19])"
   ]
  },
  {
   "cell_type": "markdown",
   "metadata": {},
   "source": [
    "### January 2014 vs. January 2006"
   ]
  },
  {
   "cell_type": "code",
   "execution_count": null,
   "metadata": {},
   "outputs": [],
   "source": [
    "plot_ts_sections(ds_init[12],ds_init[20])"
   ]
  },
  {
   "cell_type": "markdown",
   "metadata": {},
   "source": [
    "### January 2015 vs. January 2006"
   ]
  },
  {
   "cell_type": "code",
   "execution_count": null,
   "metadata": {},
   "outputs": [],
   "source": [
    "plot_ts_sections(ds_init[12],ds_init[21])"
   ]
  },
  {
   "cell_type": "markdown",
   "metadata": {},
   "source": [
    "### January 2016 vs. January 2006"
   ]
  },
  {
   "cell_type": "code",
   "execution_count": null,
   "metadata": {},
   "outputs": [],
   "source": [
    "plot_ts_sections(ds_init[12],ds_init[22])"
   ]
  },
  {
   "cell_type": "markdown",
   "metadata": {},
   "source": [
    "### January 2017 vs. January 2006"
   ]
  },
  {
   "cell_type": "code",
   "execution_count": null,
   "metadata": {},
   "outputs": [],
   "source": [
    "plot_ts_sections(ds_init[12],ds_init[23])"
   ]
  },
  {
   "cell_type": "markdown",
   "metadata": {},
   "source": [
    "## plot tracks by source region"
   ]
  },
  {
   "cell_type": "code",
   "execution_count": null,
   "metadata": {},
   "outputs": [],
   "source": [
    "# range of stations from west to east, stations 0-12. Python indexing.\n",
    "\n",
    "def conditionalplotTracksBetweenLonsCartopy(ds,condition,lonRange,depthRange,cmap=co.cm.tempo_r):\n",
    "    \n",
    "    dsmask = ds.where(ds.isel(obs=0).lon > lonRange[0]).where(ds.isel(obs=0).lon < lonRange[1])\n",
    "    dsmask = dsmask.where(ds.isel(obs=0).z > depthRange[0]).where(ds.isel(obs=0).z < depthRange[1])\n",
    "    \n",
    "    dscond = dsmask.where(condition).dropna('traj', how='all')\n",
    "\n",
    "    central_lon, central_lat = -30, 50\n",
    "    sns.set(style=\"whitegrid\")\n",
    "    fig, ax = plt.subplots(figsize = (16,10),subplot_kw={'projection': ccrs.Orthographic(central_lon, central_lat)})\n",
    "    extent = [-60, 0, 30, 70]\n",
    "    ax.set_extent(extent)\n",
    "    ax.gridlines()\n",
    "    ax.coastlines(resolution='50m')\n",
    "\n",
    "\n",
    "    pcm = ax.scatter(\n",
    "        dscond.lon.data.flatten(),\n",
    "        dscond.lat.data.flatten(),\n",
    "        3,\n",
    "#         (dsmask.time.data.flatten()-ds.time.isel(obs=0,traj=0).data).astype('timedelta64[D]')\n",
    "        mdates.date2num(dscond.time.data.flatten())\n",
    "        ,cmap= cmap\n",
    "        ,zorder=2\n",
    "        ,transform=ccrs.PlateCarree()\n",
    "    #   ,alpha=0.3\n",
    "    )\n",
    "    cb = fig.colorbar(pcm,ax=ax,label = \"date\")\n",
    "    loc = mdates.MonthLocator()\n",
    "    cb.ax.yaxis.set_major_locator(loc)\n",
    "    cb.ax.yaxis.set_major_formatter(mdates.ConciseDateFormatter(loc))\n",
    "\n",
    "\n",
    "    depth.isel(y=slice(1400, 2499), x=slice(0, 2404)).plot.contour(ax=ax,transform=ccrs.PlateCarree(),\n",
    "        x=\"nav_lon\", y=\"nav_lat\", colors = 'grey', levels = [200,800,1500,2000,2500,3500],zorder=1\n",
    "    );\n",
    "#     depth.isel(y=slice(1400, 2499), x=slice(0, 2404)).plot.contour(ax=ax,transform=ccrs.PlateCarree(),\n",
    "#         x=\"nav_lon\", y=\"nav_lat\", colors = 'k', levels = [1],zorder=3\n",
    "#     );\n",
    "\n",
    "    ax.scatter(\n",
    "        ds.lon.isel(obs=0).data.flatten(),\n",
    "        ds.lat.isel(obs=0).data.flatten(),2,zorder=4,\n",
    "        transform=ccrs.PlateCarree()\n",
    "    )\n",
    "    ax.scatter(\n",
    "        dsmask.lon.isel(obs=0).data.flatten(),\n",
    "        dsmask.lat.isel(obs=0).data.flatten(),2,zorder=5,\n",
    "        transform=ccrs.PlateCarree()\n",
    "    )\n",
    "\n",
    "    return\n"
   ]
  },
  {
   "cell_type": "code",
   "execution_count": null,
   "metadata": {},
   "outputs": [],
   "source": [
    "def apply_left_of_line(ds, lon_1, lon_2, lat_1, lat_2):\n",
    "    '''Apply an area crossing criterion.\n",
    "    \n",
    "    Larvae in ds selected while they are in a selected area.\n",
    "    '''\n",
    "    # particles are selected if they pass through given area.\n",
    "    position =  ((lon_2 -lon_1) * (ds.lat - lat_1) - \n",
    "                     (ds.lon - lon_1) * (lat_2 - lat_1))\n",
    "                        \n",
    "    return position >= 0.0, position < 0"
   ]
  },
  {
   "cell_type": "markdown",
   "metadata": {},
   "source": [
    "#### OSNAP line cross longitude and depth range"
   ]
  },
  {
   "cell_type": "code",
   "execution_count": null,
   "metadata": {},
   "outputs": [],
   "source": [
    "lonRange=[-30,-20]\n",
    "depthRange=[0,500]"
   ]
  },
  {
   "cell_type": "markdown",
   "metadata": {},
   "source": [
    "#### from Labrador sea or from Gulf Stream"
   ]
  },
  {
   "cell_type": "code",
   "execution_count": null,
   "metadata": {},
   "outputs": [],
   "source": [
    "ds_lab_sea_in=[]\n",
    "ds_lab_sea_notin=[]\n",
    "ds_60w_in=[]\n",
    "ds_60w_notin=[]\n",
    "\n",
    "for i in range(len(ds)):\n",
    "    ds_in, ds_notin = apply_left_of_line(ds[i],-75,-40,40,65)\n",
    "    ds_lab_sea_in.append(ds_in)\n",
    "    ds_lab_sea_notin.append(ds_notin)\n",
    "    ds_in, ds_notin = apply_left_of_line(ds[i],-60,-60,40,65)\n",
    "    ds_60w_in.append(ds_in)\n",
    "    ds_60w_notin.append(ds_notin)"
   ]
  },
  {
   "cell_type": "markdown",
   "metadata": {},
   "source": [
    "##### from Labrador Sea"
   ]
  },
  {
   "cell_type": "code",
   "execution_count": null,
   "metadata": {},
   "outputs": [],
   "source": [
    "\n",
    "conditionalplotTracksBetweenLonsCartopy(ds[0],ds_lab_sea_in[0].max(\"obs\"),lonRange=lonRange,depthRange=depthRange,cmap=co.cm.tempo_r)"
   ]
  },
  {
   "cell_type": "code",
   "execution_count": null,
   "metadata": {},
   "outputs": [],
   "source": [
    "\n",
    "conditionalplotTracksBetweenLonsCartopy(ds[1],ds_lab_sea_in[1].max(\"obs\"),lonRange=lonRange,depthRange=depthRange,cmap=co.cm.tempo_r)"
   ]
  },
  {
   "cell_type": "code",
   "execution_count": null,
   "metadata": {},
   "outputs": [],
   "source": [
    "\n",
    "conditionalplotTracksBetweenLonsCartopy(ds[2],ds_lab_sea_in[2].max(\"obs\"),lonRange=lonRange,depthRange=depthRange,cmap=co.cm.tempo_r)"
   ]
  },
  {
   "cell_type": "code",
   "execution_count": null,
   "metadata": {},
   "outputs": [],
   "source": [
    "\n",
    "conditionalplotTracksBetweenLonsCartopy(ds[3],ds_lab_sea_in[3].max(\"obs\"),lonRange=lonRange,depthRange=depthRange,cmap=co.cm.tempo_r)"
   ]
  },
  {
   "cell_type": "code",
   "execution_count": null,
   "metadata": {},
   "outputs": [],
   "source": [
    "\n",
    "conditionalplotTracksBetweenLonsCartopy(ds[4],ds_lab_sea_in[4].max(\"obs\"),lonRange=lonRange,depthRange=depthRange,cmap=co.cm.tempo_r)"
   ]
  },
  {
   "cell_type": "code",
   "execution_count": null,
   "metadata": {},
   "outputs": [],
   "source": [
    "\n",
    "conditionalplotTracksBetweenLonsCartopy(ds[5],ds_lab_sea_in[5].max(\"obs\"),lonRange=lonRange,depthRange=depthRange,cmap=co.cm.tempo_r)"
   ]
  },
  {
   "cell_type": "code",
   "execution_count": null,
   "metadata": {},
   "outputs": [],
   "source": [
    "\n",
    "conditionalplotTracksBetweenLonsCartopy(ds[6],ds_lab_sea_in[6].max(\"obs\"),lonRange=lonRange,depthRange=depthRange,cmap=co.cm.tempo_r)"
   ]
  },
  {
   "cell_type": "code",
   "execution_count": null,
   "metadata": {},
   "outputs": [],
   "source": [
    "\n",
    "conditionalplotTracksBetweenLonsCartopy(ds[7],ds_lab_sea_in[7].max(\"obs\"),lonRange=lonRange,depthRange=depthRange,cmap=co.cm.tempo_r)"
   ]
  },
  {
   "cell_type": "code",
   "execution_count": null,
   "metadata": {},
   "outputs": [],
   "source": [
    "\n",
    "conditionalplotTracksBetweenLonsCartopy(ds[8],ds_lab_sea_in[8].max(\"obs\"),lonRange=lonRange,depthRange=depthRange,cmap=co.cm.tempo_r)"
   ]
  },
  {
   "cell_type": "code",
   "execution_count": null,
   "metadata": {},
   "outputs": [],
   "source": [
    "\n",
    "conditionalplotTracksBetweenLonsCartopy(ds[9],ds_lab_sea_in[9].max(\"obs\"),lonRange=lonRange,depthRange=depthRange,cmap=co.cm.tempo_r)"
   ]
  },
  {
   "cell_type": "code",
   "execution_count": null,
   "metadata": {},
   "outputs": [],
   "source": [
    "\n",
    "conditionalplotTracksBetweenLonsCartopy(ds[10],ds_lab_sea_in[10].max(\"obs\"),lonRange=lonRange,depthRange=depthRange,cmap=co.cm.tempo_r)"
   ]
  },
  {
   "cell_type": "code",
   "execution_count": null,
   "metadata": {},
   "outputs": [],
   "source": [
    "\n",
    "conditionalplotTracksBetweenLonsCartopy(ds[11],ds_lab_sea_in[11].max(\"obs\"),lonRange=lonRange,depthRange=depthRange,cmap=co.cm.tempo_r)"
   ]
  },
  {
   "cell_type": "code",
   "execution_count": null,
   "metadata": {},
   "outputs": [],
   "source": [
    "\n",
    "conditionalplotTracksBetweenLonsCartopy(ds[12],ds_lab_sea_in[12].max(\"obs\"),lonRange=lonRange,depthRange=depthRange,cmap=co.cm.tempo_r)"
   ]
  },
  {
   "cell_type": "code",
   "execution_count": null,
   "metadata": {},
   "outputs": [],
   "source": [
    "\n",
    "conditionalplotTracksBetweenLonsCartopy(ds[13],ds_lab_sea_in[13].max(\"obs\"),lonRange=lonRange,depthRange=depthRange,cmap=co.cm.tempo_r)"
   ]
  },
  {
   "cell_type": "code",
   "execution_count": null,
   "metadata": {},
   "outputs": [],
   "source": [
    "\n",
    "conditionalplotTracksBetweenLonsCartopy(ds[14],ds_lab_sea_in[14].max(\"obs\"),lonRange=lonRange,depthRange=depthRange,cmap=co.cm.tempo_r)"
   ]
  },
  {
   "cell_type": "code",
   "execution_count": null,
   "metadata": {},
   "outputs": [],
   "source": [
    "\n",
    "conditionalplotTracksBetweenLonsCartopy(ds[15],ds_lab_sea_in[15].max(\"obs\"),lonRange=lonRange,depthRange=depthRange,cmap=co.cm.tempo_r)"
   ]
  },
  {
   "cell_type": "code",
   "execution_count": null,
   "metadata": {},
   "outputs": [],
   "source": [
    "\n",
    "conditionalplotTracksBetweenLonsCartopy(ds[16],ds_lab_sea_in[16].max(\"obs\"),lonRange=lonRange,depthRange=depthRange,cmap=co.cm.tempo_r)"
   ]
  },
  {
   "cell_type": "code",
   "execution_count": null,
   "metadata": {},
   "outputs": [],
   "source": [
    "\n",
    "conditionalplotTracksBetweenLonsCartopy(ds[17],ds_lab_sea_in[17].max(\"obs\"),lonRange=lonRange,depthRange=depthRange,cmap=co.cm.tempo_r)"
   ]
  },
  {
   "cell_type": "code",
   "execution_count": null,
   "metadata": {},
   "outputs": [],
   "source": [
    "\n",
    "conditionalplotTracksBetweenLonsCartopy(ds[18],ds_lab_sea_in[18].max(\"obs\"),lonRange=lonRange,depthRange=depthRange,cmap=co.cm.tempo_r)"
   ]
  },
  {
   "cell_type": "code",
   "execution_count": null,
   "metadata": {},
   "outputs": [],
   "source": [
    "\n",
    "conditionalplotTracksBetweenLonsCartopy(ds[19],ds_lab_sea_in[19].max(\"obs\"),lonRange=lonRange,depthRange=depthRange,cmap=co.cm.tempo_r)"
   ]
  },
  {
   "cell_type": "code",
   "execution_count": null,
   "metadata": {},
   "outputs": [],
   "source": [
    "\n",
    "conditionalplotTracksBetweenLonsCartopy(ds[20],ds_lab_sea_in[20].max(\"obs\"),lonRange=lonRange,depthRange=depthRange,cmap=co.cm.tempo_r)"
   ]
  },
  {
   "cell_type": "code",
   "execution_count": null,
   "metadata": {},
   "outputs": [],
   "source": [
    "\n",
    "conditionalplotTracksBetweenLonsCartopy(ds[21],ds_lab_sea_in[21].max(\"obs\"),lonRange=lonRange,depthRange=depthRange,cmap=co.cm.tempo_r)"
   ]
  },
  {
   "cell_type": "code",
   "execution_count": null,
   "metadata": {},
   "outputs": [],
   "source": [
    "\n",
    "conditionalplotTracksBetweenLonsCartopy(ds[22],ds_lab_sea_in[22].max(\"obs\"),lonRange=lonRange,depthRange=depthRange,cmap=co.cm.tempo_r)"
   ]
  },
  {
   "cell_type": "code",
   "execution_count": null,
   "metadata": {},
   "outputs": [],
   "source": [
    "\n",
    "conditionalplotTracksBetweenLonsCartopy(ds[23],ds_lab_sea_in[23].max(\"obs\"),lonRange=lonRange,depthRange=depthRange,cmap=co.cm.tempo_r)"
   ]
  },
  {
   "cell_type": "markdown",
   "metadata": {},
   "source": [
    "##### from Gulf Stream"
   ]
  },
  {
   "cell_type": "code",
   "execution_count": null,
   "metadata": {},
   "outputs": [],
   "source": [
    "conditionalplotTracksBetweenLonsCartopy(ds[0],(ds_lab_sea_in[0].max(\"obs\")==False)*ds_60w_in[0].max(\"obs\"),lonRange=lonRange,depthRange=depthRange,cmap=co.cm.tempo_r)"
   ]
  },
  {
   "cell_type": "code",
   "execution_count": null,
   "metadata": {},
   "outputs": [],
   "source": [
    "conditionalplotTracksBetweenLonsCartopy(ds[1],(ds_lab_sea_in[1].max(\"obs\")==False)*ds_60w_in[1].max(\"obs\"),lonRange=lonRange,depthRange=depthRange,cmap=co.cm.tempo_r)"
   ]
  },
  {
   "cell_type": "code",
   "execution_count": null,
   "metadata": {},
   "outputs": [],
   "source": [
    "conditionalplotTracksBetweenLonsCartopy(ds[2],(ds_lab_sea_in[2].max(\"obs\")==False)*ds_60w_in[2].max(\"obs\"),lonRange=lonRange,depthRange=depthRange,cmap=co.cm.tempo_r)"
   ]
  },
  {
   "cell_type": "code",
   "execution_count": null,
   "metadata": {},
   "outputs": [],
   "source": [
    "conditionalplotTracksBetweenLonsCartopy(ds[3],(ds_lab_sea_in[3].max(\"obs\")==False)*ds_60w_in[3].max(\"obs\"),lonRange=lonRange,depthRange=depthRange,cmap=co.cm.tempo_r)"
   ]
  },
  {
   "cell_type": "code",
   "execution_count": null,
   "metadata": {},
   "outputs": [],
   "source": [
    "conditionalplotTracksBetweenLonsCartopy(ds[4],(ds_lab_sea_in[4].max(\"obs\")==False)*ds_60w_in[4].max(\"obs\"),lonRange=lonRange,depthRange=depthRange,cmap=co.cm.tempo_r)"
   ]
  },
  {
   "cell_type": "code",
   "execution_count": null,
   "metadata": {},
   "outputs": [],
   "source": [
    "conditionalplotTracksBetweenLonsCartopy(ds[5],(ds_lab_sea_in[5].max(\"obs\")==False)*ds_60w_in[5].max(\"obs\"),lonRange=lonRange,depthRange=depthRange,cmap=co.cm.tempo_r)"
   ]
  },
  {
   "cell_type": "code",
   "execution_count": null,
   "metadata": {},
   "outputs": [],
   "source": [
    "conditionalplotTracksBetweenLonsCartopy(ds[6],(ds_lab_sea_in[6].max(\"obs\")==False)*ds_60w_in[6].max(\"obs\"),lonRange=lonRange,depthRange=depthRange,cmap=co.cm.tempo_r)"
   ]
  },
  {
   "cell_type": "code",
   "execution_count": null,
   "metadata": {},
   "outputs": [],
   "source": [
    "conditionalplotTracksBetweenLonsCartopy(ds[7],(ds_lab_sea_in[7].max(\"obs\")==False)*ds_60w_in[7].max(\"obs\"),lonRange=lonRange,depthRange=depthRange,cmap=co.cm.tempo_r)"
   ]
  },
  {
   "cell_type": "code",
   "execution_count": null,
   "metadata": {},
   "outputs": [],
   "source": [
    "conditionalplotTracksBetweenLonsCartopy(ds[8],(ds_lab_sea_in[8].max(\"obs\")==False)*ds_60w_in[8].max(\"obs\"),lonRange=lonRange,depthRange=depthRange,cmap=co.cm.tempo_r)"
   ]
  },
  {
   "cell_type": "code",
   "execution_count": null,
   "metadata": {},
   "outputs": [],
   "source": [
    "conditionalplotTracksBetweenLonsCartopy(ds[9],(ds_lab_sea_in[9].max(\"obs\")==False)*ds_60w_in[9].max(\"obs\"),lonRange=lonRange,depthRange=depthRange,cmap=co.cm.tempo_r)"
   ]
  },
  {
   "cell_type": "code",
   "execution_count": null,
   "metadata": {},
   "outputs": [],
   "source": [
    "conditionalplotTracksBetweenLonsCartopy(ds[10],(ds_lab_sea_in[10].max(\"obs\")==False)*ds_60w_in[10].max(\"obs\"),lonRange=lonRange,depthRange=depthRange,cmap=co.cm.tempo_r)"
   ]
  },
  {
   "cell_type": "code",
   "execution_count": null,
   "metadata": {},
   "outputs": [],
   "source": [
    "conditionalplotTracksBetweenLonsCartopy(ds[11],(ds_lab_sea_in[11].max(\"obs\")==False)*ds_60w_in[11].max(\"obs\"),lonRange=lonRange,depthRange=depthRange,cmap=co.cm.tempo_r)"
   ]
  },
  {
   "cell_type": "code",
   "execution_count": null,
   "metadata": {},
   "outputs": [],
   "source": [
    "conditionalplotTracksBetweenLonsCartopy(ds[12],(ds_lab_sea_in[12].max(\"obs\")==False)*ds_60w_in[12].max(\"obs\"),lonRange=lonRange,depthRange=depthRange,cmap=co.cm.tempo_r)"
   ]
  },
  {
   "cell_type": "code",
   "execution_count": null,
   "metadata": {},
   "outputs": [],
   "source": [
    "conditionalplotTracksBetweenLonsCartopy(ds[13],(ds_lab_sea_in[13].max(\"obs\")==False)*ds_60w_in[13].max(\"obs\"),lonRange=lonRange,depthRange=depthRange,cmap=co.cm.tempo_r)"
   ]
  },
  {
   "cell_type": "code",
   "execution_count": null,
   "metadata": {},
   "outputs": [],
   "source": [
    "conditionalplotTracksBetweenLonsCartopy(ds[14],(ds_lab_sea_in[14].max(\"obs\")==False)*ds_60w_in[14].max(\"obs\"),lonRange=lonRange,depthRange=depthRange,cmap=co.cm.tempo_r)"
   ]
  },
  {
   "cell_type": "code",
   "execution_count": null,
   "metadata": {},
   "outputs": [],
   "source": [
    "conditionalplotTracksBetweenLonsCartopy(ds[15],(ds_lab_sea_in[15].max(\"obs\")==False)*ds_60w_in[15].max(\"obs\"),lonRange=lonRange,depthRange=depthRange,cmap=co.cm.tempo_r)"
   ]
  },
  {
   "cell_type": "code",
   "execution_count": null,
   "metadata": {},
   "outputs": [],
   "source": [
    "conditionalplotTracksBetweenLonsCartopy(ds[16],(ds_lab_sea_in[16].max(\"obs\")==False)*ds_60w_in[16].max(\"obs\"),lonRange=lonRange,depthRange=depthRange,cmap=co.cm.tempo_r)"
   ]
  },
  {
   "cell_type": "code",
   "execution_count": null,
   "metadata": {},
   "outputs": [],
   "source": [
    "conditionalplotTracksBetweenLonsCartopy(ds[17],(ds_lab_sea_in[17].max(\"obs\")==False)*ds_60w_in[17].max(\"obs\"),lonRange=lonRange,depthRange=depthRange,cmap=co.cm.tempo_r)"
   ]
  },
  {
   "cell_type": "code",
   "execution_count": null,
   "metadata": {},
   "outputs": [],
   "source": [
    "conditionalplotTracksBetweenLonsCartopy(ds[18],(ds_lab_sea_in[18].max(\"obs\")==False)*ds_60w_in[18].max(\"obs\"),lonRange=lonRange,depthRange=depthRange,cmap=co.cm.tempo_r)"
   ]
  },
  {
   "cell_type": "code",
   "execution_count": null,
   "metadata": {},
   "outputs": [],
   "source": [
    "conditionalplotTracksBetweenLonsCartopy(ds[19],(ds_lab_sea_in[19].max(\"obs\")==False)*ds_60w_in[19].max(\"obs\"),lonRange=lonRange,depthRange=depthRange,cmap=co.cm.tempo_r)"
   ]
  },
  {
   "cell_type": "code",
   "execution_count": null,
   "metadata": {},
   "outputs": [],
   "source": [
    "conditionalplotTracksBetweenLonsCartopy(ds[20],(ds_lab_sea_in[20].max(\"obs\")==False)*ds_60w_in[20].max(\"obs\"),lonRange=lonRange,depthRange=depthRange,cmap=co.cm.tempo_r)"
   ]
  },
  {
   "cell_type": "code",
   "execution_count": null,
   "metadata": {},
   "outputs": [],
   "source": [
    "conditionalplotTracksBetweenLonsCartopy(ds[21],(ds_lab_sea_in[21].max(\"obs\")==False)*ds_60w_in[21].max(\"obs\"),lonRange=lonRange,depthRange=depthRange,cmap=co.cm.tempo_r)"
   ]
  },
  {
   "cell_type": "code",
   "execution_count": null,
   "metadata": {},
   "outputs": [],
   "source": [
    "conditionalplotTracksBetweenLonsCartopy(ds[22],(ds_lab_sea_in[22].max(\"obs\")==False)*ds_60w_in[22].max(\"obs\"),lonRange=lonRange,depthRange=depthRange,cmap=co.cm.tempo_r)"
   ]
  },
  {
   "cell_type": "code",
   "execution_count": null,
   "metadata": {},
   "outputs": [],
   "source": [
    "conditionalplotTracksBetweenLonsCartopy(ds[23],(ds_lab_sea_in[23].max(\"obs\")==False)*ds_60w_in[23].max(\"obs\"),lonRange=lonRange,depthRange=depthRange,cmap=co.cm.tempo_r)"
   ]
  },
  {
   "cell_type": "markdown",
   "metadata": {},
   "source": [
    "##### the rest"
   ]
  },
  {
   "cell_type": "code",
   "execution_count": null,
   "metadata": {},
   "outputs": [],
   "source": [
    "conditionalplotTracksBetweenLonsCartopy(ds[0],(ds_lab_sea_in[0].max(\"obs\")==False)*(ds_60w_in[0].max(\"obs\")==False),lonRange=lonRange,depthRange=depthRange,cmap=co.cm.tempo_r)"
   ]
  },
  {
   "cell_type": "code",
   "execution_count": null,
   "metadata": {
    "slideshow": {
     "slide_type": "skip"
    }
   },
   "outputs": [],
   "source": [
    "conditionalplotTracksBetweenLonsCartopy(ds[1],(ds_lab_sea_in[1].max(\"obs\")==False)*(ds_60w_in[1].max(\"obs\")==False),lonRange=lonRange,depthRange=depthRange,cmap=co.cm.tempo_r)"
   ]
  },
  {
   "cell_type": "code",
   "execution_count": null,
   "metadata": {
    "slideshow": {
     "slide_type": "skip"
    }
   },
   "outputs": [],
   "source": [
    "conditionalplotTracksBetweenLonsCartopy(ds[2],(ds_lab_sea_in[2].max(\"obs\")==False)*(ds_60w_in[2].max(\"obs\")==False),lonRange=lonRange,depthRange=depthRange,cmap=co.cm.tempo_r)"
   ]
  },
  {
   "cell_type": "code",
   "execution_count": null,
   "metadata": {
    "slideshow": {
     "slide_type": "skip"
    }
   },
   "outputs": [],
   "source": [
    "conditionalplotTracksBetweenLonsCartopy(ds[3],(ds_lab_sea_in[3].max(\"obs\")==False)*(ds_60w_in[3].max(\"obs\")==False),lonRange=lonRange,depthRange=depthRange,cmap=co.cm.tempo_r)"
   ]
  },
  {
   "cell_type": "code",
   "execution_count": null,
   "metadata": {
    "slideshow": {
     "slide_type": "skip"
    }
   },
   "outputs": [],
   "source": [
    "conditionalplotTracksBetweenLonsCartopy(ds[4],(ds_lab_sea_in[4].max(\"obs\")==False)*(ds_60w_in[4].max(\"obs\")==False),lonRange=lonRange,depthRange=depthRange,cmap=co.cm.tempo_r)"
   ]
  },
  {
   "cell_type": "code",
   "execution_count": null,
   "metadata": {
    "slideshow": {
     "slide_type": "skip"
    }
   },
   "outputs": [],
   "source": [
    "conditionalplotTracksBetweenLonsCartopy(ds[5],(ds_lab_sea_in[5].max(\"obs\")==False)*(ds_60w_in[5].max(\"obs\")==False),lonRange=lonRange,depthRange=depthRange,cmap=co.cm.tempo_r)"
   ]
  },
  {
   "cell_type": "code",
   "execution_count": null,
   "metadata": {
    "slideshow": {
     "slide_type": "skip"
    }
   },
   "outputs": [],
   "source": [
    "conditionalplotTracksBetweenLonsCartopy(ds[6],(ds_lab_sea_in[6].max(\"obs\")==False)*(ds_60w_in[6].max(\"obs\")==False),lonRange=lonRange,depthRange=depthRange,cmap=co.cm.tempo_r)"
   ]
  },
  {
   "cell_type": "code",
   "execution_count": null,
   "metadata": {
    "slideshow": {
     "slide_type": "skip"
    }
   },
   "outputs": [],
   "source": [
    "conditionalplotTracksBetweenLonsCartopy(ds[7],(ds_lab_sea_in[7].max(\"obs\")==False)*(ds_60w_in[7].max(\"obs\")==False),lonRange=lonRange,depthRange=depthRange,cmap=co.cm.tempo_r)"
   ]
  },
  {
   "cell_type": "code",
   "execution_count": null,
   "metadata": {
    "slideshow": {
     "slide_type": "skip"
    }
   },
   "outputs": [],
   "source": [
    "conditionalplotTracksBetweenLonsCartopy(ds[8],(ds_lab_sea_in[8].max(\"obs\")==False)*(ds_60w_in[8].max(\"obs\")==False),lonRange=lonRange,depthRange=depthRange,cmap=co.cm.tempo_r)"
   ]
  },
  {
   "cell_type": "code",
   "execution_count": null,
   "metadata": {
    "slideshow": {
     "slide_type": "skip"
    }
   },
   "outputs": [],
   "source": [
    "conditionalplotTracksBetweenLonsCartopy(ds[9],(ds_lab_sea_in[9].max(\"obs\")==False)*(ds_60w_in[9].max(\"obs\")==False),lonRange=lonRange,depthRange=depthRange,cmap=co.cm.tempo_r)"
   ]
  },
  {
   "cell_type": "code",
   "execution_count": null,
   "metadata": {
    "slideshow": {
     "slide_type": "skip"
    }
   },
   "outputs": [],
   "source": [
    "conditionalplotTracksBetweenLonsCartopy(ds[10],(ds_lab_sea_in[10].max(\"obs\")==False)*(ds_60w_in[10].max(\"obs\")==False),lonRange=lonRange,depthRange=depthRange,cmap=co.cm.tempo_r)"
   ]
  },
  {
   "cell_type": "code",
   "execution_count": null,
   "metadata": {
    "slideshow": {
     "slide_type": "skip"
    }
   },
   "outputs": [],
   "source": [
    "conditionalplotTracksBetweenLonsCartopy(ds[11],(ds_lab_sea_in[11].max(\"obs\")==False)*(ds_60w_in[11].max(\"obs\")==False),lonRange=lonRange,depthRange=depthRange,cmap=co.cm.tempo_r)"
   ]
  },
  {
   "cell_type": "code",
   "execution_count": null,
   "metadata": {
    "slideshow": {
     "slide_type": "skip"
    }
   },
   "outputs": [],
   "source": [
    "conditionalplotTracksBetweenLonsCartopy(ds[12],(ds_lab_sea_in[12].max(\"obs\")==False)*(ds_60w_in[12].max(\"obs\")==False),lonRange=lonRange,depthRange=depthRange,cmap=co.cm.tempo_r)"
   ]
  },
  {
   "cell_type": "code",
   "execution_count": null,
   "metadata": {
    "slideshow": {
     "slide_type": "skip"
    }
   },
   "outputs": [],
   "source": [
    "conditionalplotTracksBetweenLonsCartopy(ds[13],(ds_lab_sea_in[13].max(\"obs\")==False)*(ds_60w_in[13].max(\"obs\")==False),lonRange=lonRange,depthRange=depthRange,cmap=co.cm.tempo_r)"
   ]
  },
  {
   "cell_type": "code",
   "execution_count": null,
   "metadata": {
    "slideshow": {
     "slide_type": "skip"
    }
   },
   "outputs": [],
   "source": [
    "conditionalplotTracksBetweenLonsCartopy(ds[14],(ds_lab_sea_in[14].max(\"obs\")==False)*(ds_60w_in[14].max(\"obs\")==False),lonRange=lonRange,depthRange=depthRange,cmap=co.cm.tempo_r)"
   ]
  },
  {
   "cell_type": "code",
   "execution_count": null,
   "metadata": {
    "slideshow": {
     "slide_type": "skip"
    }
   },
   "outputs": [],
   "source": [
    "conditionalplotTracksBetweenLonsCartopy(ds[15],(ds_lab_sea_in[15].max(\"obs\")==False)*(ds_60w_in[15].max(\"obs\")==False),lonRange=lonRange,depthRange=depthRange,cmap=co.cm.tempo_r)"
   ]
  },
  {
   "cell_type": "code",
   "execution_count": null,
   "metadata": {
    "slideshow": {
     "slide_type": "skip"
    }
   },
   "outputs": [],
   "source": [
    "conditionalplotTracksBetweenLonsCartopy(ds[16],(ds_lab_sea_in[16].max(\"obs\")==False)*(ds_60w_in[16].max(\"obs\")==False),lonRange=lonRange,depthRange=depthRange,cmap=co.cm.tempo_r)"
   ]
  },
  {
   "cell_type": "code",
   "execution_count": null,
   "metadata": {
    "slideshow": {
     "slide_type": "skip"
    }
   },
   "outputs": [],
   "source": [
    "conditionalplotTracksBetweenLonsCartopy(ds[17],(ds_lab_sea_in[17].max(\"obs\")==False)*(ds_60w_in[17].max(\"obs\")==False),lonRange=lonRange,depthRange=depthRange,cmap=co.cm.tempo_r)"
   ]
  },
  {
   "cell_type": "code",
   "execution_count": null,
   "metadata": {
    "slideshow": {
     "slide_type": "skip"
    }
   },
   "outputs": [],
   "source": [
    "conditionalplotTracksBetweenLonsCartopy(ds[18],(ds_lab_sea_in[18].max(\"obs\")==False)*(ds_60w_in[18].max(\"obs\")==False),lonRange=lonRange,depthRange=depthRange,cmap=co.cm.tempo_r)"
   ]
  },
  {
   "cell_type": "code",
   "execution_count": null,
   "metadata": {
    "slideshow": {
     "slide_type": "skip"
    }
   },
   "outputs": [],
   "source": [
    "conditionalplotTracksBetweenLonsCartopy(ds[19],(ds_lab_sea_in[19].max(\"obs\")==False)*(ds_60w_in[19].max(\"obs\")==False),lonRange=lonRange,depthRange=depthRange,cmap=co.cm.tempo_r)"
   ]
  },
  {
   "cell_type": "code",
   "execution_count": null,
   "metadata": {
    "slideshow": {
     "slide_type": "skip"
    }
   },
   "outputs": [],
   "source": [
    "conditionalplotTracksBetweenLonsCartopy(ds[20],(ds_lab_sea_in[20].max(\"obs\")==False)*(ds_60w_in[20].max(\"obs\")==False),lonRange=lonRange,depthRange=depthRange,cmap=co.cm.tempo_r)"
   ]
  },
  {
   "cell_type": "code",
   "execution_count": null,
   "metadata": {
    "slideshow": {
     "slide_type": "skip"
    }
   },
   "outputs": [],
   "source": [
    "conditionalplotTracksBetweenLonsCartopy(ds[21],(ds_lab_sea_in[21].max(\"obs\")==False)*(ds_60w_in[21].max(\"obs\")==False),lonRange=lonRange,depthRange=depthRange,cmap=co.cm.tempo_r)"
   ]
  },
  {
   "cell_type": "code",
   "execution_count": null,
   "metadata": {
    "slideshow": {
     "slide_type": "skip"
    }
   },
   "outputs": [],
   "source": [
    "conditionalplotTracksBetweenLonsCartopy(ds[22],(ds_lab_sea_in[22].max(\"obs\")==False)*(ds_60w_in[22].max(\"obs\")==False),lonRange=lonRange,depthRange=depthRange,cmap=co.cm.tempo_r)"
   ]
  },
  {
   "cell_type": "code",
   "execution_count": null,
   "metadata": {
    "slideshow": {
     "slide_type": "skip"
    }
   },
   "outputs": [],
   "source": [
    "conditionalplotTracksBetweenLonsCartopy(ds[23],(ds_lab_sea_in[23].max(\"obs\")==False)*(ds_60w_in[23].max(\"obs\")==False),lonRange=lonRange,depthRange=depthRange,cmap=co.cm.tempo_r)"
   ]
  },
  {
   "cell_type": "code",
   "execution_count": null,
   "metadata": {
    "slideshow": {
     "slide_type": "skip"
    }
   },
   "outputs": [],
   "source": [
    "# conda list"
   ]
  },
  {
   "cell_type": "code",
   "execution_count": null,
   "metadata": {
    "slideshow": {
     "slide_type": "skip"
    }
   },
   "outputs": [],
   "source": []
  }
 ],
 "metadata": {
  "celltoolbar": "Slideshow",
  "kernelspec": {
   "display_name": "py3lagrangeSeawater",
   "language": "python",
   "name": "py3lagrangeseawater"
  },
  "language_info": {
   "codemirror_mode": {
    "name": "ipython",
    "version": 3
   },
   "file_extension": ".py",
   "mimetype": "text/x-python",
   "name": "python",
   "nbconvert_exporter": "python",
   "pygments_lexer": "ipython3",
   "version": "3.8.3"
  }
 },
 "nbformat": 4,
 "nbformat_minor": 4
}
